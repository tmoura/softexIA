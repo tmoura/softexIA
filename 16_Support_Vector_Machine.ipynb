{
  "nbformat": 4,
  "nbformat_minor": 0,
  "metadata": {
    "colab": {
      "provenance": [],
      "authorship_tag": "ABX9TyNqnvyrt1WzCWGlSVHniM/G",
      "include_colab_link": true
    },
    "kernelspec": {
      "name": "python3",
      "display_name": "Python 3"
    },
    "language_info": {
      "name": "python"
    }
  },
  "cells": [
    {
      "cell_type": "markdown",
      "metadata": {
        "id": "view-in-github",
        "colab_type": "text"
      },
      "source": [
        "<a href=\"https://colab.research.google.com/github/tmoura/softexIA/blob/main/16_Support_Vector_Machine.ipynb\" target=\"_parent\"><img src=\"https://colab.research.google.com/assets/colab-badge.svg\" alt=\"Open In Colab\"/></a>"
      ]
    },
    {
      "cell_type": "code",
      "execution_count": null,
      "metadata": {
        "id": "o5qIJwFvH6H9"
      },
      "outputs": [],
      "source": [
        "from sklearn.datasets import load_iris\n",
        "\n",
        "data = load_iris()\n",
        "data.target[[10,25,50]]\n",
        "\n",
        "list(data.target_names)"
      ]
    },
    {
      "cell_type": "code",
      "source": [
        "X,y = load_iris(return_X_y = True, as_frame= True)\n",
        "\n",
        "X = X.loc[y.isin([0,1]),['petal length (cm)','petal width (cm)']]\n",
        "y = y[y.isin([0,1])]"
      ],
      "metadata": {
        "id": "VV4RkwrUI6Rz"
      },
      "execution_count": 15,
      "outputs": []
    },
    {
      "cell_type": "code",
      "source": [
        "from sklearn.model_selection import train_test_split\n",
        "\n",
        "X_train, X_test, y_train, y_test = train_test_split(X,y, test_size=0.33, random_state = 42)"
      ],
      "metadata": {
        "id": "gbPSQWzNJmz_"
      },
      "execution_count": 17,
      "outputs": []
    },
    {
      "cell_type": "code",
      "source": [
        "import matplotlib.pyplot as plt\n",
        "import numpy as np\n",
        "\n",
        "fig, ax = plt.subplots()\n",
        "\n",
        "ax.scatter(X_train['petal length (cm)'],X_train['petal width (cm)'], c=y_train, s=60)\n",
        "\n",
        "plt.show()"
      ],
      "metadata": {
        "id": "kINy2rbLJ_tk"
      },
      "execution_count": null,
      "outputs": []
    },
    {
      "cell_type": "code",
      "source": [
        "from sklearn.svm import SVC\n",
        "\n",
        "model = SVC(kernel='linear')\n",
        "model = model.fit(X_train, y_train)\n",
        "\n",
        "model.coef_"
      ],
      "metadata": {
        "colab": {
          "base_uri": "https://localhost:8080/"
        },
        "id": "CDc_KrjPKpMM",
        "outputId": "515bc645-c79f-47e7-cadf-9038ffa09c6d"
      },
      "execution_count": 19,
      "outputs": [
        {
          "output_type": "execute_result",
          "data": {
            "text/plain": [
              "array([[1.1769056 , 0.78337144]])"
            ]
          },
          "metadata": {},
          "execution_count": 19
        }
      ]
    },
    {
      "cell_type": "code",
      "source": [
        "w1 = model.coef_[0][0]\n",
        "w2 = model.coef_[0][1]\n",
        "w0 = model.intercept_[0]"
      ],
      "metadata": {
        "id": "XDqkpN5SLLG8"
      },
      "execution_count": 20,
      "outputs": []
    },
    {
      "cell_type": "code",
      "source": [
        "fig,ax = plt.subplots()\n",
        "\n",
        "ax.scatter(X_train['petal length (cm)'],X_train['petal width (cm)'],c=y_train, s=60)\n",
        "\n",
        "x = np.linspace(1,5,100)\n",
        "y = (-w1*x-w0)/w2\n",
        "\n",
        "ax.plot(x,y,'r')\n",
        "\n",
        "ax.set(ylim=(0,1.7))\n",
        "\n",
        "plt.show()"
      ],
      "metadata": {
        "id": "WT4ywpcJLwdV"
      },
      "execution_count": null,
      "outputs": []
    },
    {
      "cell_type": "code",
      "source": [
        "fig,ax = plt.subplots()\n",
        "\n",
        "ax.scatter(X_train['petal length (cm)'],X_train['petal width (cm)'],c=y_train, s=60)\n",
        "\n",
        "x = np.linspace(1,5,100)\n",
        "y = (-w1*x-w0)/w2\n",
        "ax.plot(x,y,'r')\n",
        "\n",
        "y2 = (1-w1*x-w0)/w2\n",
        "ax.plot(x,y2,'--r')\n",
        "\n",
        "y3 = (-1-w1*x-w0)/w2\n",
        "ax.plot(x,y3,'--r')\n",
        "\n",
        "ax.scatter(model.support_vectors_[:,0],model.support_vectors_[:,1],c='r')\n",
        "\n",
        "ax.set(ylim=(0,1.7))\n",
        "\n",
        "plt.show()"
      ],
      "metadata": {
        "id": "q-uQFKZfNcNH"
      },
      "execution_count": null,
      "outputs": []
    },
    {
      "cell_type": "markdown",
      "source": [
        "### Usando a base toda"
      ],
      "metadata": {
        "id": "oromRtITOx_I"
      }
    },
    {
      "cell_type": "code",
      "source": [
        "from sklearn.model_selection import train_test_split\n",
        "from sklearn import metrics\n",
        "import pandas as pd\n",
        "from sklearn.svm import SVC\n",
        "from sklearn.preprocessing import MinMaxScaler\n",
        "import numpy as np\n",
        "\n",
        "url = \"https://raw.githubusercontent.com/tmoura/machinelearning/master/iris.data\"\n",
        "\n",
        "# Carregar base de dados\n",
        "dataset = pd.read_csv(url, header=None)\n",
        "\n",
        "columns = len(dataset.columns)\n",
        "\n",
        "y = dataset[0] # extrai a primeira coluna, que é o label\n",
        "X = dataset.loc[:,1:columns-1]\n",
        "\n",
        "## Mormalização dos atributos\n",
        "df = X.values\n",
        "min_max_scaler = MinMaxScaler()\n",
        "x_scaled = min_max_scaler.fit_transform(df)\n",
        "X = pd.DataFrame(x_scaled)"
      ],
      "metadata": {
        "id": "rOLeECvPO06G"
      },
      "execution_count": 26,
      "outputs": []
    },
    {
      "cell_type": "code",
      "source": [
        "X_train, X_test, y_train, y_test = train_test_split(X, y, test_size=0.2, stratify=y, random_state=16) # 80% treino e 20% teste\n",
        "\n",
        "model = SVC()\n",
        "model = model.fit(X_train, y_train)"
      ],
      "metadata": {
        "id": "YbQuCTHTO-7k"
      },
      "execution_count": 49,
      "outputs": []
    },
    {
      "cell_type": "code",
      "source": [
        "result = model.predict(X_test)\n",
        "acc = metrics.accuracy_score(result, y_test)\n",
        "show = round(acc * 100)\n",
        "print(\"{}%\".format(show))\n",
        "\n",
        "print(list(result))\n",
        "print(list(y_test))"
      ],
      "metadata": {
        "id": "AUAjL_OQPKv0"
      },
      "execution_count": null,
      "outputs": []
    }
  ]
}
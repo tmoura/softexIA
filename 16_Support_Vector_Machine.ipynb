{
  "nbformat": 4,
  "nbformat_minor": 0,
  "metadata": {
    "colab": {
      "provenance": [],
      "authorship_tag": "ABX9TyMS2B3JEY79UH3q9QIOGfe2",
      "include_colab_link": true
    },
    "kernelspec": {
      "name": "python3",
      "display_name": "Python 3"
    },
    "language_info": {
      "name": "python"
    }
  },
  "cells": [
    {
      "cell_type": "markdown",
      "metadata": {
        "id": "view-in-github",
        "colab_type": "text"
      },
      "source": [
        "<a href=\"https://colab.research.google.com/github/tmoura/softexIA/blob/main/16_Support_Vector_Machine.ipynb\" target=\"_parent\"><img src=\"https://colab.research.google.com/assets/colab-badge.svg\" alt=\"Open In Colab\"/></a>"
      ]
    },
    {
      "cell_type": "code",
      "execution_count": 53,
      "metadata": {
        "id": "o5qIJwFvH6H9"
      },
      "outputs": [],
      "source": [
        "import pandas as pd\n",
        "\n",
        "url = \"https://raw.githubusercontent.com/tmoura/machinelearning/master/irisPerceptron.data\"\n",
        "\n",
        "# Carregar base de dados\n",
        "dataset = pd.read_csv(url, header=None)\n",
        "\n",
        "columns = len(dataset.columns)\n",
        "\n",
        "y = dataset[0] # extrai a primeira coluna, que é o label\n",
        "X = dataset.loc[:,1:columns-1]\n",
        "\n",
        "X.drop([1,2], axis=1, inplace=True)"
      ]
    },
    {
      "cell_type": "code",
      "source": [
        "from sklearn.model_selection import train_test_split\n",
        "\n",
        "X_train, X_test, y_train, y_test = train_test_split(X,y, test_size=0.2, random_state = 42)"
      ],
      "metadata": {
        "id": "gbPSQWzNJmz_"
      },
      "execution_count": 54,
      "outputs": []
    },
    {
      "cell_type": "code",
      "source": [
        "import matplotlib.pyplot as plt\n",
        "import numpy as np\n",
        "\n",
        "fig, ax = plt.subplots()\n",
        "\n",
        "ax.scatter(X_train[3],X_train[4], c=y_train)\n",
        "\n",
        "plt.show()"
      ],
      "metadata": {
        "id": "kINy2rbLJ_tk"
      },
      "execution_count": null,
      "outputs": []
    },
    {
      "cell_type": "code",
      "source": [
        "from sklearn.svm import SVC\n",
        "\n",
        "model = SVC(kernel='linear')\n",
        "model = model.fit(X_train, y_train)\n",
        "\n",
        "model.coef_"
      ],
      "metadata": {
        "colab": {
          "base_uri": "https://localhost:8080/"
        },
        "id": "CDc_KrjPKpMM",
        "outputId": "917875f8-eb3f-4f11-f857-5c085905e5fc"
      },
      "execution_count": 56,
      "outputs": [
        {
          "output_type": "execute_result",
          "data": {
            "text/plain": [
              "array([[1.20689652, 0.51724137]])"
            ]
          },
          "metadata": {},
          "execution_count": 56
        }
      ]
    },
    {
      "cell_type": "code",
      "source": [
        "w1 = model.coef_[0][0]\n",
        "w2 = model.coef_[0][1]\n",
        "b = model.intercept_[0]"
      ],
      "metadata": {
        "id": "XDqkpN5SLLG8"
      },
      "execution_count": 71,
      "outputs": []
    },
    {
      "cell_type": "code",
      "source": [
        "# Equação da reta: y = ax = b\n",
        "# Considerando os 2 coeficientes, temos:\n",
        "#\n",
        "# w1*X_train[3] + w2 * X_train[4] + b = 0\n",
        "#\n",
        "# Para plotar temos no gráfico:\n",
        "#\n",
        "# x = X_train[3] e y = X_train[4]\n",
        "#\n",
        "# Assim:\n",
        "#\n",
        "# w1*x + w2*y + b = 0\n",
        "# w2*y = -w1*x - b\n",
        "# y = (-w1*x - b)/w2\n",
        "\n",
        "fig,ax = plt.subplots()\n",
        "\n",
        "ax.scatter(X_train[3],X_train[4],c=y_train)\n",
        "\n",
        "x = np.linspace(1,5,100)\n",
        "y = (-w1*x-b)/w2\n",
        "\n",
        "ax.plot(x,y,'r')\n",
        "\n",
        "ax.set(ylim=(0,1.7))\n",
        "\n",
        "plt.show()"
      ],
      "metadata": {
        "id": "WT4ywpcJLwdV"
      },
      "execution_count": null,
      "outputs": []
    },
    {
      "cell_type": "code",
      "source": [
        "fig,ax = plt.subplots()\n",
        "\n",
        "ax.scatter(X_train[3],X_train[4],c=y_train)\n",
        "\n",
        "x = np.linspace(1,5,100)\n",
        "y = (-w1*x-b)/w2\n",
        "ax.plot(x,y,'r')\n",
        "\n",
        "y2 = (-w1*x-b + 1)/w2\n",
        "ax.plot(x,y2,'--r')\n",
        "\n",
        "y3 = (-w1*x-b - 1)/w2\n",
        "ax.plot(x,y3,'--r')\n",
        "\n",
        "ax.scatter(model.support_vectors_[:,0],model.support_vectors_[:,1],c='r')\n",
        "\n",
        "ax.set(ylim=(0,1.7))\n",
        "\n",
        "plt.show()"
      ],
      "metadata": {
        "id": "q-uQFKZfNcNH"
      },
      "execution_count": null,
      "outputs": []
    },
    {
      "cell_type": "markdown",
      "source": [
        "### Usando a base toda"
      ],
      "metadata": {
        "id": "oromRtITOx_I"
      }
    },
    {
      "cell_type": "code",
      "source": [
        "from sklearn.model_selection import train_test_split\n",
        "from sklearn import metrics\n",
        "import pandas as pd\n",
        "from sklearn.svm import SVC\n",
        "from sklearn.preprocessing import MinMaxScaler\n",
        "import numpy as np\n",
        "\n",
        "url = \"https://raw.githubusercontent.com/tmoura/machinelearning/master/iris.data\"\n",
        "\n",
        "# Carregar base de dados\n",
        "dataset = pd.read_csv(url, header=None)\n",
        "\n",
        "columns = len(dataset.columns)\n",
        "\n",
        "y = dataset[0] # extrai a primeira coluna, que é o label\n",
        "X = dataset.loc[:,1:columns-1]\n",
        "\n",
        "## Mormalização dos atributos\n",
        "df = X.values\n",
        "min_max_scaler = MinMaxScaler()\n",
        "x_scaled = min_max_scaler.fit_transform(df)\n",
        "X = pd.DataFrame(x_scaled)"
      ],
      "metadata": {
        "id": "rOLeECvPO06G"
      },
      "execution_count": null,
      "outputs": []
    },
    {
      "cell_type": "code",
      "source": [
        "X_train, X_test, y_train, y_test = train_test_split(X, y, test_size=0.2, stratify=y, random_state=16) # 80% treino e 20% teste\n",
        "\n",
        "model = SVC()\n",
        "model = model.fit(X_train, y_train)"
      ],
      "metadata": {
        "id": "YbQuCTHTO-7k"
      },
      "execution_count": null,
      "outputs": []
    },
    {
      "cell_type": "code",
      "source": [
        "result = model.predict(X_test)\n",
        "acc = metrics.accuracy_score(result, y_test)\n",
        "show = round(acc * 100)\n",
        "print(\"{}%\".format(show))\n",
        "\n",
        "print(list(result))\n",
        "print(list(y_test))"
      ],
      "metadata": {
        "id": "AUAjL_OQPKv0"
      },
      "execution_count": null,
      "outputs": []
    }
  ]
}
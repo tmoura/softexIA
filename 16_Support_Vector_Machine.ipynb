{
  "nbformat": 4,
  "nbformat_minor": 0,
  "metadata": {
    "colab": {
      "provenance": [],
      "authorship_tag": "ABX9TyNeBO3og/YVQAMqco3KxbzS",
      "include_colab_link": true
    },
    "kernelspec": {
      "name": "python3",
      "display_name": "Python 3"
    },
    "language_info": {
      "name": "python"
    }
  },
  "cells": [
    {
      "cell_type": "markdown",
      "metadata": {
        "id": "view-in-github",
        "colab_type": "text"
      },
      "source": [
        "<a href=\"https://colab.research.google.com/github/tmoura/softexIA/blob/main/16_Support_Vector_Machine.ipynb\" target=\"_parent\"><img src=\"https://colab.research.google.com/assets/colab-badge.svg\" alt=\"Open In Colab\"/></a>"
      ]
    },
    {
      "cell_type": "code",
      "execution_count": null,
      "metadata": {
        "id": "o5qIJwFvH6H9"
      },
      "outputs": [],
      "source": [
        "from sklearn.datasets import load_iris\n",
        "\n",
        "data = load_iris()\n",
        "data.target[[10,25,50]]\n",
        "\n",
        "list(data.target_names)"
      ]
    },
    {
      "cell_type": "code",
      "source": [
        "X,y = load_iris(return_X_y = True, as_frame= True)\n",
        "\n",
        "X = X.loc[y.isin([0,1]),['petal length (cm)','petal width (cm)']]\n",
        "y = y[y.isin([0,1])]"
      ],
      "metadata": {
        "id": "VV4RkwrUI6Rz"
      },
      "execution_count": 4,
      "outputs": []
    },
    {
      "cell_type": "code",
      "source": [
        "from sklearn.model_selection import train_test_split\n",
        "\n",
        "X_train, X_test, y_train, y_test = train_test_split(X,y, test_size=0.2, random_state = None)"
      ],
      "metadata": {
        "id": "gbPSQWzNJmz_"
      },
      "execution_count": 5,
      "outputs": []
    },
    {
      "cell_type": "code",
      "source": [
        "import matplotlib.pyplot as plt\n",
        "import numpy as np\n",
        "\n",
        "fig, ax = plt.subplots()\n",
        "\n",
        "ax.scatter(X_train['petal length (cm)'],X_train['petal width (cm)'], c=y_train, s=60)\n",
        "\n",
        "plt.show()"
      ],
      "metadata": {
        "id": "kINy2rbLJ_tk"
      },
      "execution_count": null,
      "outputs": []
    },
    {
      "cell_type": "code",
      "source": [
        "from sklearn.svm import SVC\n",
        "\n",
        "model = SVC(kernel='linear')\n",
        "model = model.fit(X_train, y_train)\n",
        "\n",
        "model.coef_"
      ],
      "metadata": {
        "colab": {
          "base_uri": "https://localhost:8080/"
        },
        "id": "CDc_KrjPKpMM",
        "outputId": "a2cc7269-467b-47b0-f3cc-25700021c984"
      },
      "execution_count": 9,
      "outputs": [
        {
          "output_type": "execute_result",
          "data": {
            "text/plain": [
              "array([[1.1769056 , 0.78337144]])"
            ]
          },
          "metadata": {},
          "execution_count": 9
        }
      ]
    },
    {
      "cell_type": "code",
      "source": [
        "w1 = model.coef_[0][0]\n",
        "w2 = model.coef_[0][1]\n",
        "w0 = model.intercept_[0]"
      ],
      "metadata": {
        "id": "XDqkpN5SLLG8"
      },
      "execution_count": 10,
      "outputs": []
    },
    {
      "cell_type": "code",
      "source": [],
      "metadata": {
        "id": "WT4ywpcJLwdV"
      },
      "execution_count": null,
      "outputs": []
    }
  ]
}
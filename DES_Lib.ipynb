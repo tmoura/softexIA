{
  "nbformat": 4,
  "nbformat_minor": 0,
  "metadata": {
    "colab": {
      "provenance": [],
      "authorship_tag": "ABX9TyOlWgmn+XUdtys8IGImAszY",
      "include_colab_link": true
    },
    "kernelspec": {
      "name": "python3",
      "display_name": "Python 3"
    },
    "language_info": {
      "name": "python"
    }
  },
  "cells": [
    {
      "cell_type": "markdown",
      "metadata": {
        "id": "view-in-github",
        "colab_type": "text"
      },
      "source": [
        "<a href=\"https://colab.research.google.com/github/tmoura/softexIA/blob/main/DES_Lib.ipynb\" target=\"_parent\"><img src=\"https://colab.research.google.com/assets/colab-badge.svg\" alt=\"Open In Colab\"/></a>"
      ]
    },
    {
      "cell_type": "code",
      "execution_count": null,
      "metadata": {
        "id": "gyZJR6oA5Of4"
      },
      "outputs": [],
      "source": [
        "pip install deslib"
      ]
    },
    {
      "cell_type": "code",
      "source": [
        "import numpy as np\n",
        "from sklearn.datasets import make_classification\n",
        "from sklearn.model_selection import train_test_split\n",
        "from deslib.des import METADES\n",
        "from deslib.des import KNORAE\n",
        "\n",
        "\n",
        "# Setting up the random state to have consistent results\n",
        "rng = np.random.RandomState(42)\n",
        "\n",
        "# Generate a classification dataset\n",
        "X, y = make_classification(n_samples=1000, random_state=rng)\n",
        "# split the data into training and test data\n",
        "X_train, X_test, y_train, y_test = train_test_split(X, y, test_size=0.33,\n",
        "                                                    random_state=rng)\n",
        "\n",
        "# Split the data into training and DSEL for DS techniques\n",
        "X_train, X_dsel, y_train, y_dsel = train_test_split(X_train, y_train,\n",
        "                                                    test_size=0.5,\n",
        "                                                    random_state=rng)\n",
        "\n",
        "# Initialize the DS techniques. DS methods can be initialized without\n",
        "# specifying a single input parameter. In this example, we just pass the random\n",
        "# state in order to always have the same result.\n",
        "kne = KNORAE(random_state=rng)\n",
        "meta = METADES(random_state=rng)\n",
        "\n",
        "# Fitting the des techniques\n",
        "kne.fit(X_dsel, y_dsel)\n",
        "meta.fit(X_dsel, y_dsel)\n",
        "\n",
        "# Calculate classification accuracy of each technique\n",
        "print('Evaluating DS techniques:')\n",
        "print('Classification accuracy KNORA-Eliminate: ',\n",
        "      kne.score(X_test, y_test))\n",
        "print('Classification accuracy META-DES: ', meta.score(X_test, y_test))"
      ],
      "metadata": {
        "id": "X0zmS0B45atJ"
      },
      "execution_count": null,
      "outputs": []
    }
  ]
}
{
  "nbformat": 4,
  "nbformat_minor": 0,
  "metadata": {
    "colab": {
      "provenance": [],
      "authorship_tag": "ABX9TyOfKG1B0UVydxfDfc388nuJ",
      "include_colab_link": true
    },
    "kernelspec": {
      "name": "python3",
      "display_name": "Python 3"
    },
    "language_info": {
      "name": "python"
    }
  },
  "cells": [
    {
      "cell_type": "markdown",
      "metadata": {
        "id": "view-in-github",
        "colab_type": "text"
      },
      "source": [
        "<a href=\"https://colab.research.google.com/github/tmoura/softexIA/blob/main/DES_Lib.ipynb\" target=\"_parent\"><img src=\"https://colab.research.google.com/assets/colab-badge.svg\" alt=\"Open In Colab\"/></a>"
      ]
    },
    {
      "cell_type": "code",
      "execution_count": null,
      "metadata": {
        "id": "gyZJR6oA5Of4",
        "colab": {
          "base_uri": "https://localhost:8080/"
        },
        "outputId": "f0e8c879-5446-481f-af01-b57f6b335a65"
      },
      "outputs": [
        {
          "output_type": "stream",
          "name": "stdout",
          "text": [
            "Requirement already satisfied: deslib in /usr/local/lib/python3.10/dist-packages (0.3.6)\n",
            "Requirement already satisfied: scikit-learn>=0.21.0 in /usr/local/lib/python3.10/dist-packages (from deslib) (1.2.2)\n",
            "Requirement already satisfied: numpy>=1.17.0 in /usr/local/lib/python3.10/dist-packages (from deslib) (1.25.2)\n",
            "Requirement already satisfied: scipy>=1.4.0 in /usr/local/lib/python3.10/dist-packages (from deslib) (1.11.4)\n",
            "Requirement already satisfied: joblib>=1.1.1 in /usr/local/lib/python3.10/dist-packages (from scikit-learn>=0.21.0->deslib) (1.3.2)\n",
            "Requirement already satisfied: threadpoolctl>=2.0.0 in /usr/local/lib/python3.10/dist-packages (from scikit-learn>=0.21.0->deslib) (3.4.0)\n"
          ]
        }
      ],
      "source": [
        "!pip install deslib"
      ]
    },
    {
      "cell_type": "code",
      "source": [
        "import numpy as np\n",
        "from sklearn.model_selection import train_test_split\n",
        "from deslib.dcs import OLA\n",
        "from deslib.dcs import LCA\n",
        "from deslib.dcs import MCB\n",
        "from deslib.des import KNORAE\n",
        "from deslib.des import KNORAU\n",
        "from sklearn.ensemble import RandomForestClassifier\n",
        "from sklearn.datasets import load_breast_cancer\n",
        "import pandas as pd\n",
        "\n",
        "data = load_breast_cancer()\n",
        "\n",
        "df = pd.DataFrame(data.data, columns=data.feature_names)\n",
        "\n",
        "df['target'] = data.target\n",
        "\n",
        "y = df['target']\n",
        "X = df.drop(['target'], axis=1)\n",
        "\n",
        "X_train, X_test, y_train, y_test = train_test_split(X, y, test_size=0.20, random_state=None)\n",
        "\n",
        "rf = RandomForestClassifier(n_estimators=20)\n",
        "rf.fit(X_train, y_train)\n",
        "\n",
        "X_train, X_dsel, y_train, y_dsel = train_test_split(X_train, y_train, test_size=0.5,random_state=None)\n",
        "\n",
        "kne = KNORAE(rf, k=5)\n",
        "mcb = MCB(rf, k=5)\n",
        "lca = LCA(rf, k=5)\n",
        "ola = OLA(rf, k=5)\n",
        "knu = KNORAU(rf, k=5)\n",
        "\n",
        "# Fitting the des techniques\n",
        "kne.fit(X_dsel, y_dsel)\n",
        "mcb.fit(X_dsel, y_dsel)\n",
        "lca.fit(X_dsel, y_dsel)\n",
        "ola.fit(X_dsel, y_dsel)\n",
        "knu.fit(X_dsel, y_dsel)\n",
        "\n",
        "# Calculate classification accuracy of each technique\n",
        "print('Resultados:')\n",
        "print('KNORA-Eliminate: ',kne.score(X_test, y_test))\n",
        "print('KNORA-Union: ',knu.score(X_test, y_test))\n",
        "print('MCB: ',mcb.score(X_test, y_test))\n",
        "print('OLA: ',ola.score(X_test, y_test))\n",
        "print('LCA: ',lca.score(X_test, y_test))\n",
        "print('Random Forest: ',rf.score(X_test, y_test))"
      ],
      "metadata": {
        "id": "X0zmS0B45atJ"
      },
      "execution_count": null,
      "outputs": []
    },
    {
      "cell_type": "markdown",
      "source": [
        "# Dynamic Selction using Regression datasets"
      ],
      "metadata": {
        "id": "oKfefFY6JKLp"
      }
    },
    {
      "cell_type": "code",
      "source": [
        "!pip install DESReg"
      ],
      "metadata": {
        "id": "8Mqy81_SJJDP",
        "outputId": "868ce6e6-0f18-4485-de7e-99f25921dedb",
        "colab": {
          "base_uri": "https://localhost:8080/"
        }
      },
      "execution_count": 1,
      "outputs": [
        {
          "output_type": "stream",
          "name": "stdout",
          "text": [
            "Collecting DESReg\n",
            "  Downloading DESReg-0.1.1-py3-none-any.whl (11 kB)\n",
            "Requirement already satisfied: scikit-learn>=1.2.1 in /usr/local/lib/python3.10/dist-packages (from DESReg) (1.2.2)\n",
            "Requirement already satisfied: numpy>=1.21.5 in /usr/local/lib/python3.10/dist-packages (from DESReg) (1.25.2)\n",
            "Requirement already satisfied: scipy>=1.5.2 in /usr/local/lib/python3.10/dist-packages (from DESReg) (1.11.4)\n",
            "Requirement already satisfied: joblib>=1.1.1 in /usr/local/lib/python3.10/dist-packages (from scikit-learn>=1.2.1->DESReg) (1.4.2)\n",
            "Requirement already satisfied: threadpoolctl>=2.0.0 in /usr/local/lib/python3.10/dist-packages (from scikit-learn>=1.2.1->DESReg) (3.5.0)\n",
            "Installing collected packages: DESReg\n",
            "Successfully installed DESReg-0.1.1\n"
          ]
        }
      ]
    },
    {
      "cell_type": "code",
      "source": [
        "import numpy as np\n",
        "import pandas as pd\n",
        "from sklearn.model_selection import train_test_split\n",
        "from desReg.dataset import load_Student_Mark\n",
        "from sklearn.ensemble import RandomForestRegressor\n",
        "from sklearn.metrics import mean_squared_error\n",
        "\n",
        "data = load_Student_Mark()\n",
        "X = data.iloc[:,:-1].to_numpy()\n",
        "y = np.ravel(data.iloc[:, -1:])\n",
        "X_train , X_test , y_train , y_test = train_test_split(X, y, test_size = 0.2)\n",
        "\n",
        "rf = RandomForestRegressor(n_estimators=20)\n",
        "rf.fit(X_train, y_train)\n",
        "\n",
        "predictions = rf.predict(X_test)\n",
        "print(\"MSE:\", mean_squared_error(y_test, predictions))\n",
        "\n",
        "X_train, X_dsel, y_train, y_dsel = train_test_split(X_train, y_train, test_size=0.5,random_state=None)"
      ],
      "metadata": {
        "id": "6vl5K_EEJcjP",
        "outputId": "4551f46a-2930-4264-cd5c-bd7303a40f69",
        "colab": {
          "base_uri": "https://localhost:8080/"
        }
      },
      "execution_count": 6,
      "outputs": [
        {
          "output_type": "stream",
          "name": "stdout",
          "text": [
            "MSE: 1.118898407624995\n"
          ]
        }
      ]
    }
  ]
}
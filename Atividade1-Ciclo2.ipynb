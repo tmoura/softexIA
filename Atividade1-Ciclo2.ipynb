{
  "nbformat": 4,
  "nbformat_minor": 0,
  "metadata": {
    "colab": {
      "provenance": [],
      "include_colab_link": true
    },
    "kernelspec": {
      "name": "python3",
      "display_name": "Python 3"
    },
    "language_info": {
      "name": "python"
    }
  },
  "cells": [
    {
      "cell_type": "markdown",
      "metadata": {
        "id": "view-in-github",
        "colab_type": "text"
      },
      "source": [
        "<a href=\"https://colab.research.google.com/github/tmoura/softexIA/blob/main/Atividade1-Ciclo2.ipynb\" target=\"_parent\"><img src=\"https://colab.research.google.com/assets/colab-badge.svg\" alt=\"Open In Colab\"/></a>"
      ]
    },
    {
      "cell_type": "code",
      "source": [
        "## Exercício 1 - Dataset Digits do sklearn\n",
        "\n",
        "# Acesso: https://scikit-learn.org/stable/modules/generated/sklearn.datasets.load_digits.html#sklearn.datasets.load_digits\n",
        "\n",
        "# 1) Importar o pacote \"sklearn.datasets\" e o \"load_digits\"\n",
        "# 2) Carregar o dataset através do método: load_digits()\n",
        "# 3) Observe as keys do dataset usando o método \"keys\"\n",
        "# 4) A chave \"data\" são as features e a chave \"target\" é o y. Separe os dados em 2 variáveis diferentes\n",
        "# 5) Verificar a dimensionalidade das features através da variável shape\n",
        "# 6) Separe o conjunto de dados em treinamento e teste usando o método: \"train_test_split\"\n",
        "\n",
        "# 7) Treinar o K-Means, sendo o K seja igual ao número de classes do dataset\n",
        " #(Lembre-se que o predict do K-Means irá retornar o cluster que o dado pertence mas não necessariamente esse número do cluster é a classe correta. Não esqueça de fazer o mapeamento do \"cluster x classe\",\n",
        " # conforme feito no link: https://colab.research.google.com/github/tmoura/machinelearning/blob/master/KMeans.ipynb)\n",
        "# 8) Mostrar a taxa de acerto do K-Means\n",
        "# 9) Calcular a curva do cotovelo para verificar qual o número ideal de clusters para esse dataset\n",
        "# 10) Calcular o Coeficiente de Silhouette para o K-Means treinado em (7)\n",
        "# 11) É possível melhorar o Coeficiente de Silhouette? Altere o K-Means para conseguir um valor melhor do Coeficiente de Silhouette."
      ],
      "metadata": {
        "id": "G5nYixuvuERf"
      },
      "execution_count": null,
      "outputs": []
    },
    {
      "cell_type": "code",
      "source": [
        "## Exercício 2 - Dataset Digits do sklearn\n",
        "\n",
        "# Acesso: https://scikit-learn.org/stable/modules/generated/sklearn.datasets.load_digits.html#sklearn.datasets.load_digits\n",
        "\n",
        "# 1) Importar o pacote \"sklearn.datasets\" e o \"load_digits\"\n",
        "# 2) Carregar o dataset através do método: load_digits()\n",
        "# 3) Observe as keys do dataset usando o método \"keys\"\n",
        "# 4) A chave \"data\" são as features e a chave \"target\" é o y. Separe os dados em 2 variáveis diferentes\n",
        "# 5) Verificar a dimensionalidade das features através da variável shape\n",
        "# 6) Separe o conjunto de dados em treinamento e teste usando o método: \"train_test_split\"\n",
        "\n",
        "# 7) Treinar o K-Means, sendo o K seja igual ao número de classes do dataset\n",
        " #(Lembre-se que o predict do K-Means irá retornar o cluster que o dado pertence mas não necessariamente esse número do cluster é a classe correta. Não esqueça de fazer o mapeamento do \"cluster x classe\",\n",
        " # conforme feito no link: https://colab.research.google.com/github/tmoura/machinelearning/blob/master/KMeans.ipynb)\n",
        "# 8) Mostrar a taxa de acerto do K-Means\n",
        "# 9) Calcular a curva do cotovelo para verificar qual o número ideal de clusters para esse dataset\n",
        "# 10) Calcular o Coeficiente de Silhouette para o K-Means treinado em (7)\n",
        "# 11) É possível melhorar o Coeficiente de Silhouette? Altere o K-Means para conseguir um valor melhor do coeficiente"
      ],
      "metadata": {
        "id": "7-C8fqfLw5X-"
      },
      "execution_count": null,
      "outputs": []
    },
    {
      "cell_type": "code",
      "metadata": {
        "id": "lQ5-M9xVCprq"
      },
      "source": [
        "import numpy as np\n",
        "\n",
        "from sklearn.cluster import DBSCAN\n",
        "from sklearn import metrics\n",
        "from sklearn.datasets import make_blobs"
      ],
      "execution_count": null,
      "outputs": []
    },
    {
      "cell_type": "markdown",
      "source": [
        "### Gerando artificialmente um dataset para Clustering"
      ],
      "metadata": {
        "id": "LhIEoPlRNLWu"
      }
    },
    {
      "cell_type": "code",
      "metadata": {
        "id": "FP9Y-H8UDcAX"
      },
      "source": [
        "# dataset gerado automaticamente com 2 features\n",
        "\n",
        "X, y = make_blobs(n_samples=750, centers=3, cluster_std=0.5, random_state=0)"
      ],
      "execution_count": null,
      "outputs": []
    },
    {
      "cell_type": "markdown",
      "source": [
        "### Treinamento do DBScan"
      ],
      "metadata": {
        "id": "3rrL_85zQXMm"
      }
    },
    {
      "cell_type": "code",
      "metadata": {
        "id": "R4JsN9A4DdJa"
      },
      "source": [
        "# Instância do DBSCAN e aprendizado\n",
        "db = DBSCAN(eps=0.3, min_samples=10).fit(X)\n",
        "core_samples_mask = np.zeros_like(db.labels_, dtype=bool) # Cria matriz de valores False\n",
        "core_samples_mask[db.core_sample_indices_] = True # db.core_sample_indices_ são os índices dos dados que pretencem a algum cluster\n",
        "labels = db.labels_ # Clusters ao qual pertencem os dados"
      ],
      "execution_count": null,
      "outputs": []
    },
    {
      "cell_type": "code",
      "source": [
        "# labels (rótulos de grupos)\n",
        "np.unique(labels)"
      ],
      "metadata": {
        "id": "7eFtGLJVqbpE"
      },
      "execution_count": null,
      "outputs": []
    },
    {
      "cell_type": "code",
      "metadata": {
        "id": "3T4XhHRHHFbU"
      },
      "source": [
        "# Número de clusters\n",
        "n_clusters_ = len(set(labels)) - (1 if -1 in labels else 0)\n",
        "n_noise_ = list(labels).count(-1)\n",
        "\n",
        "print(\"Número estimado de clusters: %d\" % n_clusters_)\n",
        "print(\"Número estimado de outliers ou ruídos: %d\" % n_noise_) # dados que não pertencem a nunhum cluster\n",
        "print(\"Índice Silhouette: %0.3f\" % metrics.silhouette_score(X, labels)) # retorna a média do índice de silhouette para todos os exemplos\n"
      ],
      "execution_count": null,
      "outputs": []
    },
    {
      "cell_type": "code",
      "metadata": {
        "id": "XMpImmhqDeB-"
      },
      "source": [
        "# Plotando resultados\n",
        "import matplotlib.pyplot as plt\n",
        "\n",
        "# a cor preta será usada para identificar os ruídos\n",
        "unique_labels = set(labels)\n",
        "colors = [plt.cm.Spectral(each) for each in np.linspace(0, 1, len(unique_labels))]\n",
        "\n",
        "for k, col in zip(unique_labels, colors):\n",
        "    if k == -1:\n",
        "        # preto para outliers\n",
        "        col = [0, 0, 0, 1]\n",
        "\n",
        "    class_member_mask = labels == k\n",
        "\n",
        "    xy = X[class_member_mask & core_samples_mask]\n",
        "    plt.plot(\n",
        "        xy[:, 0],\n",
        "        xy[:, 1],\n",
        "        \"o\",\n",
        "        markerfacecolor=tuple(col),\n",
        "        markeredgecolor=\"k\",\n",
        "        markersize=14,\n",
        "    )\n",
        "\n",
        "    xy = X[class_member_mask & ~core_samples_mask]\n",
        "    plt.plot(\n",
        "        xy[:, 0],\n",
        "        xy[:, 1],\n",
        "        \"o\",\n",
        "        markerfacecolor=tuple(col),\n",
        "        markeredgecolor=\"k\",\n",
        "        markersize=6,\n",
        "    )\n",
        "\n",
        "plt.title(\"Número estimado de clusters: %d\" % n_clusters_)\n",
        "plt.show()"
      ],
      "execution_count": null,
      "outputs": []
    }
  ]
}
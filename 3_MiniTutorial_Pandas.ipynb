{
  "nbformat": 4,
  "nbformat_minor": 0,
  "metadata": {
    "colab": {
      "provenance": [],
      "authorship_tag": "ABX9TyOSSx9uvpYHOTnhtkjaMqYC",
      "include_colab_link": true
    },
    "kernelspec": {
      "name": "python3",
      "display_name": "Python 3"
    },
    "language_info": {
      "name": "python"
    }
  },
  "cells": [
    {
      "cell_type": "markdown",
      "metadata": {
        "id": "view-in-github",
        "colab_type": "text"
      },
      "source": [
        "<a href=\"https://colab.research.google.com/github/tmoura/softexIA/blob/main/3_MiniTutorial_Pandas.ipynb\" target=\"_parent\"><img src=\"https://colab.research.google.com/assets/colab-badge.svg\" alt=\"Open In Colab\"/></a>"
      ]
    },
    {
      "cell_type": "markdown",
      "source": [
        "### Minicurso de Pandas"
      ],
      "metadata": {
        "id": "KZGRd7_OAum7"
      }
    },
    {
      "cell_type": "markdown",
      "source": [
        "Carregamento dos Dados"
      ],
      "metadata": {
        "id": "TpYy9-RIA02L"
      }
    },
    {
      "cell_type": "code",
      "execution_count": 3,
      "metadata": {
        "id": "mti2SqVbAtzN"
      },
      "outputs": [],
      "source": [
        "import pandas as pd\n",
        "\n",
        "url = \"https://archive.ics.uci.edu/ml/machine-learning-databases/iris/iris.data\"\n",
        "\n",
        "url = \"https://raw.githubusercontent.com/tmoura/machinelearning/master/iris.data\"\n",
        "\n",
        "#url = \"/content/sample_data/transfusion.data\"\n",
        "\n",
        "df = pd.read_csv(url, header=None) # Carregar dataset\n",
        "\n",
        "columns = len(df.columns)\n",
        "\n",
        "y = df[0] # extrai a primeira coluna, que é o label\n",
        "X = df.loc[:,1:columns-1]"
      ]
    },
    {
      "cell_type": "markdown",
      "source": [
        "Criando um DataFrame"
      ],
      "metadata": {
        "id": "ccUfbHmWRBZy"
      }
    },
    {
      "cell_type": "code",
      "source": [
        "data = {\n",
        "'País': ['Bélgica', 'Índia', 'Brasil'],\n",
        "'Capital': ['Bruxelas', 'Nova Delhi', 'Brasília'],\n",
        "'População': [123465, 456789, 987654]\n",
        "}\n",
        "\n",
        "df = pd.DataFrame(data, columns=['País','Capital','População'])\n",
        "\n",
        "df"
      ],
      "metadata": {
        "id": "P_rUdTjXRDwS",
        "outputId": "43424836-2d0e-4f59-9c58-afeb523e4404",
        "colab": {
          "base_uri": "https://localhost:8080/",
          "height": 143
        }
      },
      "execution_count": 41,
      "outputs": [
        {
          "output_type": "execute_result",
          "data": {
            "text/plain": [
              "      País     Capital  População\n",
              "0  Bélgica    Bruxelas     123465\n",
              "1    Índia  Nova Delhi     456789\n",
              "2   Brasil    Brasília     987654"
            ],
            "text/html": [
              "\n",
              "  <div id=\"df-d817a023-0897-4701-89ba-894c55eabeed\">\n",
              "    <div class=\"colab-df-container\">\n",
              "      <div>\n",
              "<style scoped>\n",
              "    .dataframe tbody tr th:only-of-type {\n",
              "        vertical-align: middle;\n",
              "    }\n",
              "\n",
              "    .dataframe tbody tr th {\n",
              "        vertical-align: top;\n",
              "    }\n",
              "\n",
              "    .dataframe thead th {\n",
              "        text-align: right;\n",
              "    }\n",
              "</style>\n",
              "<table border=\"1\" class=\"dataframe\">\n",
              "  <thead>\n",
              "    <tr style=\"text-align: right;\">\n",
              "      <th></th>\n",
              "      <th>País</th>\n",
              "      <th>Capital</th>\n",
              "      <th>População</th>\n",
              "    </tr>\n",
              "  </thead>\n",
              "  <tbody>\n",
              "    <tr>\n",
              "      <th>0</th>\n",
              "      <td>Bélgica</td>\n",
              "      <td>Bruxelas</td>\n",
              "      <td>123465</td>\n",
              "    </tr>\n",
              "    <tr>\n",
              "      <th>1</th>\n",
              "      <td>Índia</td>\n",
              "      <td>Nova Delhi</td>\n",
              "      <td>456789</td>\n",
              "    </tr>\n",
              "    <tr>\n",
              "      <th>2</th>\n",
              "      <td>Brasil</td>\n",
              "      <td>Brasília</td>\n",
              "      <td>987654</td>\n",
              "    </tr>\n",
              "  </tbody>\n",
              "</table>\n",
              "</div>\n",
              "      <button class=\"colab-df-convert\" onclick=\"convertToInteractive('df-d817a023-0897-4701-89ba-894c55eabeed')\"\n",
              "              title=\"Convert this dataframe to an interactive table.\"\n",
              "              style=\"display:none;\">\n",
              "        \n",
              "  <svg xmlns=\"http://www.w3.org/2000/svg\" height=\"24px\"viewBox=\"0 0 24 24\"\n",
              "       width=\"24px\">\n",
              "    <path d=\"M0 0h24v24H0V0z\" fill=\"none\"/>\n",
              "    <path d=\"M18.56 5.44l.94 2.06.94-2.06 2.06-.94-2.06-.94-.94-2.06-.94 2.06-2.06.94zm-11 1L8.5 8.5l.94-2.06 2.06-.94-2.06-.94L8.5 2.5l-.94 2.06-2.06.94zm10 10l.94 2.06.94-2.06 2.06-.94-2.06-.94-.94-2.06-.94 2.06-2.06.94z\"/><path d=\"M17.41 7.96l-1.37-1.37c-.4-.4-.92-.59-1.43-.59-.52 0-1.04.2-1.43.59L10.3 9.45l-7.72 7.72c-.78.78-.78 2.05 0 2.83L4 21.41c.39.39.9.59 1.41.59.51 0 1.02-.2 1.41-.59l7.78-7.78 2.81-2.81c.8-.78.8-2.07 0-2.86zM5.41 20L4 18.59l7.72-7.72 1.47 1.35L5.41 20z\"/>\n",
              "  </svg>\n",
              "      </button>\n",
              "      \n",
              "  <style>\n",
              "    .colab-df-container {\n",
              "      display:flex;\n",
              "      flex-wrap:wrap;\n",
              "      gap: 12px;\n",
              "    }\n",
              "\n",
              "    .colab-df-convert {\n",
              "      background-color: #E8F0FE;\n",
              "      border: none;\n",
              "      border-radius: 50%;\n",
              "      cursor: pointer;\n",
              "      display: none;\n",
              "      fill: #1967D2;\n",
              "      height: 32px;\n",
              "      padding: 0 0 0 0;\n",
              "      width: 32px;\n",
              "    }\n",
              "\n",
              "    .colab-df-convert:hover {\n",
              "      background-color: #E2EBFA;\n",
              "      box-shadow: 0px 1px 2px rgba(60, 64, 67, 0.3), 0px 1px 3px 1px rgba(60, 64, 67, 0.15);\n",
              "      fill: #174EA6;\n",
              "    }\n",
              "\n",
              "    [theme=dark] .colab-df-convert {\n",
              "      background-color: #3B4455;\n",
              "      fill: #D2E3FC;\n",
              "    }\n",
              "\n",
              "    [theme=dark] .colab-df-convert:hover {\n",
              "      background-color: #434B5C;\n",
              "      box-shadow: 0px 1px 3px 1px rgba(0, 0, 0, 0.15);\n",
              "      filter: drop-shadow(0px 1px 2px rgba(0, 0, 0, 0.3));\n",
              "      fill: #FFFFFF;\n",
              "    }\n",
              "  </style>\n",
              "\n",
              "      <script>\n",
              "        const buttonEl =\n",
              "          document.querySelector('#df-d817a023-0897-4701-89ba-894c55eabeed button.colab-df-convert');\n",
              "        buttonEl.style.display =\n",
              "          google.colab.kernel.accessAllowed ? 'block' : 'none';\n",
              "\n",
              "        async function convertToInteractive(key) {\n",
              "          const element = document.querySelector('#df-d817a023-0897-4701-89ba-894c55eabeed');\n",
              "          const dataTable =\n",
              "            await google.colab.kernel.invokeFunction('convertToInteractive',\n",
              "                                                     [key], {});\n",
              "          if (!dataTable) return;\n",
              "\n",
              "          const docLinkHtml = 'Like what you see? Visit the ' +\n",
              "            '<a target=\"_blank\" href=https://colab.research.google.com/notebooks/data_table.ipynb>data table notebook</a>'\n",
              "            + ' to learn more about interactive tables.';\n",
              "          element.innerHTML = '';\n",
              "          dataTable['output_type'] = 'display_data';\n",
              "          await google.colab.output.renderOutput(dataTable, element);\n",
              "          const docLink = document.createElement('div');\n",
              "          docLink.innerHTML = docLinkHtml;\n",
              "          element.appendChild(docLink);\n",
              "        }\n",
              "      </script>\n",
              "    </div>\n",
              "  </div>\n",
              "  "
            ]
          },
          "metadata": {},
          "execution_count": 41
        }
      ]
    },
    {
      "cell_type": "markdown",
      "source": [
        "Copiar DataFrame"
      ],
      "metadata": {
        "id": "t5pl6qeB_dIi"
      }
    },
    {
      "cell_type": "code",
      "source": [
        "df2 = df.copy()\n",
        "\n",
        "df2['Capital'] = 'teste'\n",
        "\n",
        "display(df2)\n",
        "\n",
        "display(df)"
      ],
      "metadata": {
        "id": "m7pNDROD_f2I"
      },
      "execution_count": null,
      "outputs": []
    },
    {
      "cell_type": "markdown",
      "source": [
        "Informações sobre o dataset"
      ],
      "metadata": {
        "id": "KELfXw8Bb0mG"
      }
    },
    {
      "cell_type": "code",
      "source": [
        "df.info()"
      ],
      "metadata": {
        "id": "TrqoTa_rb4Hm"
      },
      "execution_count": null,
      "outputs": []
    },
    {
      "cell_type": "markdown",
      "source": [
        "Descrição do dataset"
      ],
      "metadata": {
        "id": "c_hcl9svcaPz"
      }
    },
    {
      "cell_type": "code",
      "source": [
        "#df = df.drop('População',axis=1)\n",
        "df.describe()"
      ],
      "metadata": {
        "id": "QtoraMsXcch5"
      },
      "execution_count": null,
      "outputs": []
    },
    {
      "cell_type": "markdown",
      "source": [
        "Dimensão do dataset"
      ],
      "metadata": {
        "id": "t5KUFyHicfEp"
      }
    },
    {
      "cell_type": "code",
      "source": [
        "df.shape"
      ],
      "metadata": {
        "id": "IbBLiogOchRX",
        "outputId": "4763c92b-c893-4182-a52f-f022f6701f8c",
        "colab": {
          "base_uri": "https://localhost:8080/"
        }
      },
      "execution_count": 23,
      "outputs": [
        {
          "output_type": "execute_result",
          "data": {
            "text/plain": [
              "(3, 3)"
            ]
          },
          "metadata": {},
          "execution_count": 23
        }
      ]
    },
    {
      "cell_type": "markdown",
      "source": [
        "Pegar apenas algumas linhas do DF"
      ],
      "metadata": {
        "id": "RBeOBy3uO6S3"
      }
    },
    {
      "cell_type": "code",
      "source": [
        "df.head(2) # mostra apenas as 2 primeiras linhas\n",
        "#df.head()  # mostra apenas as 5 primeiras linhas"
      ],
      "metadata": {
        "id": "oyMexsPoO-JZ"
      },
      "execution_count": null,
      "outputs": []
    },
    {
      "cell_type": "markdown",
      "source": [
        "Ordenando os dados do DF"
      ],
      "metadata": {
        "id": "ttXG_1mR6qnB"
      }
    },
    {
      "cell_type": "code",
      "source": [
        "df = df.sort_values('Capital')\n",
        "#df.sort_values('Capital',inplace=True)\n",
        "\n",
        "display(df)\n",
        "\n",
        "#Ordenando em ordem decrescente\n",
        "df = df.sort_values('Capital',ascending=False)\n",
        "\n",
        "display(df)"
      ],
      "metadata": {
        "id": "aecJT-AC6tLb"
      },
      "execution_count": null,
      "outputs": []
    },
    {
      "cell_type": "markdown",
      "source": [
        "Descrição dos ÍNDICES e COLUNAS"
      ],
      "metadata": {
        "id": "KyhK4F1bkA-f"
      }
    },
    {
      "cell_type": "code",
      "source": [
        "display(df.index)\n",
        "\n",
        "display(df.columns)"
      ],
      "metadata": {
        "id": "FOcq7-oFkFjF"
      },
      "execution_count": null,
      "outputs": []
    },
    {
      "cell_type": "markdown",
      "source": [
        "Uso do \"loc\" e \"iloc\"\n",
        "\n",
        "loc é usado para selecionarmos linhas e colunas usando o label\n",
        "\n",
        "iloc é usado para cessar as linhas e colunas pelo índice"
      ],
      "metadata": {
        "id": "XpZPV3anNK3L"
      }
    },
    {
      "cell_type": "code",
      "source": [
        "\n",
        "print(df.columns.values, '\\n')\n",
        "\n",
        "print(df.loc[:,'Capital'], '\\n') # qualquer linha, coluna Capital\n",
        "print(df.loc[1,'Capital'], '\\n') # linha 1, coluna 'Capital'\n",
        "\n",
        "print(df.iloc[:,1], '\\n') # qualquer linha, coluna 1\n",
        "print(df.iloc[1,1], '\\n') # linha 1, coluna 1"
      ],
      "metadata": {
        "id": "MpfJYQGaNbTP"
      },
      "execution_count": null,
      "outputs": []
    },
    {
      "cell_type": "markdown",
      "source": [
        "Removendo linhas/colunas"
      ],
      "metadata": {
        "id": "spPiJI0kiv9X"
      }
    },
    {
      "cell_type": "code",
      "source": [
        "#df.drop('Capital') #ERRO\n",
        "df.drop('Capital',axis=1) # Apaga a coluna 'Capital' inteira\n",
        "\n",
        "df.drop(1) # Apaga a linha 1 inteira\n",
        "\n",
        "#display(df)"
      ],
      "metadata": {
        "id": "O8fMtH4oOKrM"
      },
      "execution_count": null,
      "outputs": []
    },
    {
      "cell_type": "markdown",
      "source": [
        "Nova Coluna em um DataFrame"
      ],
      "metadata": {
        "id": "k-eGyfkdIIoc"
      }
    },
    {
      "cell_type": "code",
      "source": [
        "df['Nova Coluna'] = 0\n",
        "\n",
        "df"
      ],
      "metadata": {
        "id": "V3qG2NrXIL73"
      },
      "execution_count": null,
      "outputs": []
    },
    {
      "cell_type": "markdown",
      "source": [
        "Nova Linha em um DataFrame"
      ],
      "metadata": {
        "id": "pqqNdodjvj9O"
      }
    },
    {
      "cell_type": "code",
      "source": [
        "cols =  ['País', 'Capital', 'População']\n",
        "\n",
        "new_line = ['Argentina','Buenos Aires',153700]\n",
        "new_line = pd.DataFrame([new_line], columns=cols)\n",
        "\n",
        "df = pd.concat([df,new_line],ignore_index = True)\n",
        "\n",
        "df"
      ],
      "metadata": {
        "id": "PGCD1XN6vm8e"
      },
      "execution_count": null,
      "outputs": []
    },
    {
      "cell_type": "markdown",
      "source": [
        "Resumo dos Dados"
      ],
      "metadata": {
        "id": "n6WnAlqCzQK1"
      }
    },
    {
      "cell_type": "code",
      "source": [
        "#Soma dos valores de um DataFrame\n",
        "print(df.sum(),'\\n')\n",
        "\n",
        "#Menor valor de um DataFrame\n",
        "print(df.min(),'\\n')\n",
        "\n",
        "#Maior valor\n",
        "print(df.max(),'\\n')\n",
        "\n",
        "#Média dos valores\n",
        "print(df.mean(),'\\n')\n",
        "\n",
        "#Mediana dos valores\n",
        "print(df.median(),'\\n')"
      ],
      "metadata": {
        "id": "VmI9rv5JzRoY"
      },
      "execution_count": null,
      "outputs": []
    },
    {
      "cell_type": "markdown",
      "source": [
        "Filtragem do DataFrame"
      ],
      "metadata": {
        "id": "A4GzGzDm0Di_"
      }
    },
    {
      "cell_type": "code",
      "source": [
        "df[df['População'] % 2 == 0]"
      ],
      "metadata": {
        "id": "mCAL-1Ep0Fgv"
      },
      "execution_count": null,
      "outputs": []
    },
    {
      "cell_type": "markdown",
      "source": [
        "### Funções Importantes - Scikit Learning"
      ],
      "metadata": {
        "id": "nRsfjpMStW0c"
      }
    },
    {
      "cell_type": "markdown",
      "source": [
        "Normalização de uma Coluna"
      ],
      "metadata": {
        "id": "7ngkEKOVtq_3"
      }
    },
    {
      "cell_type": "code",
      "source": [
        "import pandas as pd\n",
        "\n",
        "data = {\n",
        "'País': ['Bélgica', 'Índia', 'Brasil'],\n",
        "'Capital': ['Bruxelas', 'Nova Delhi', 'Brasília'],\n",
        "'População': [123465, 456789, 987654]\n",
        "}\n",
        "\n",
        "df = pd.DataFrame(data, columns=['País','Capital','População'])\n",
        "\n",
        "# Normalização: Deixar os valores entre 0 e 1\n",
        "\n",
        "from sklearn.preprocessing import MinMaxScaler\n",
        "import numpy as np\n",
        "\n",
        "# O uso de -1 indica que vc não sabe o tamanho da dimensão. A matrix vai se ajustar automaticamente\n",
        "df['População'] = MinMaxScaler().fit_transform(np.array(df['População']).reshape(-1,1))\n",
        "\n",
        "df"
      ],
      "metadata": {
        "id": "9DVPFczUtwyh"
      },
      "execution_count": null,
      "outputs": []
    },
    {
      "cell_type": "markdown",
      "source": [
        "De categórico para numérico"
      ],
      "metadata": {
        "id": "6gW5EwE-yFSz"
      }
    },
    {
      "cell_type": "code",
      "source": [
        "from sklearn.preprocessing import LabelBinarizer\n",
        "\n",
        "teste = LabelBinarizer().fit_transform(df['Capital'])\n",
        "\n",
        "new_df = pd.DataFrame(teste)\n",
        "\n",
        "df_final = pd.concat([df,new_df],axis=1) # concatena na coluna com axis=1, default axis=0\n",
        "\n",
        "df_final = df_final.drop('Capital',axis=1)\n",
        "\n",
        "df_final"
      ],
      "metadata": {
        "id": "hw5yiDXQyJCA"
      },
      "execution_count": null,
      "outputs": []
    },
    {
      "cell_type": "markdown",
      "source": [
        "Transformar de DataFrame ou Series para LIST PYTHON"
      ],
      "metadata": {
        "id": "4jijU7ir95Js"
      }
    },
    {
      "cell_type": "code",
      "source": [
        "df.values.tolist()"
      ],
      "metadata": {
        "id": "LZavMtCp99Vs",
        "outputId": "149d8645-df31-4178-f605-4213e58de938",
        "colab": {
          "base_uri": "https://localhost:8080/"
        }
      },
      "execution_count": 46,
      "outputs": [
        {
          "output_type": "execute_result",
          "data": {
            "text/plain": [
              "[['Bélgica', 'Bruxelas', 0.0],\n",
              " ['Índia', 'Nova Delhi', 0.38570729319628],\n",
              " ['Brasil', 'Brasília', 1.0]]"
            ]
          },
          "metadata": {},
          "execution_count": 46
        }
      ]
    },
    {
      "cell_type": "markdown",
      "source": [
        "### NumPy"
      ],
      "metadata": {
        "id": "OPGRYMI_72Sw"
      }
    },
    {
      "cell_type": "markdown",
      "source": [
        "ARRAY: Transformar um DataFrame ou Serie em Array"
      ],
      "metadata": {
        "id": "21yyGB209nkq"
      }
    },
    {
      "cell_type": "code",
      "source": [
        "import numpy as np\n",
        "\n",
        "pop = df['População']\n",
        "\n",
        "pop_array = np.array(pop)\n",
        "\n",
        "pop_array[0]"
      ],
      "metadata": {
        "id": "LC47gRr776Fd"
      },
      "execution_count": null,
      "outputs": []
    },
    {
      "cell_type": "markdown",
      "source": [
        "ARRAY de Zeros"
      ],
      "metadata": {
        "id": "6POP9e_G-PxP"
      }
    },
    {
      "cell_type": "code",
      "source": [
        "import numpy as np\n",
        "\n",
        "matrix_zeros = np.zeros((4,3))\n",
        "\n",
        "matrix_zeros"
      ],
      "metadata": {
        "id": "R3tpK-Eu-RpX"
      },
      "execution_count": null,
      "outputs": []
    },
    {
      "cell_type": "markdown",
      "source": [
        "ARRAY de 1"
      ],
      "metadata": {
        "id": "7JQAjDca-nOs"
      }
    },
    {
      "cell_type": "code",
      "source": [
        "import numpy as np\n",
        "\n",
        "matrix_ones = np.ones((4,3))\n",
        "\n",
        "matrix_ones"
      ],
      "metadata": {
        "id": "LVMw37G6-qCk"
      },
      "execution_count": null,
      "outputs": []
    },
    {
      "cell_type": "markdown",
      "source": [
        "Ordenação"
      ],
      "metadata": {
        "id": "K2yxGzJb_Bar"
      }
    },
    {
      "cell_type": "code",
      "source": [
        "import numpy as np\n",
        "\n",
        "arr = np.array([3,1,0,9,4,7])\n",
        "\n",
        "np.sort(arr)"
      ],
      "metadata": {
        "id": "ZWgnNAj5_C69"
      },
      "execution_count": null,
      "outputs": []
    }
  ]
}
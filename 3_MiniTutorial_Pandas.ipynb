{
  "nbformat": 4,
  "nbformat_minor": 0,
  "metadata": {
    "colab": {
      "provenance": [],
      "authorship_tag": "ABX9TyMCBWRzIYxUo+uKCGSqavMf",
      "include_colab_link": true
    },
    "kernelspec": {
      "name": "python3",
      "display_name": "Python 3"
    },
    "language_info": {
      "name": "python"
    }
  },
  "cells": [
    {
      "cell_type": "markdown",
      "metadata": {
        "id": "view-in-github",
        "colab_type": "text"
      },
      "source": [
        "<a href=\"https://colab.research.google.com/github/tmoura/softexIA/blob/main/3_MiniTutorial_Pandas.ipynb\" target=\"_parent\"><img src=\"https://colab.research.google.com/assets/colab-badge.svg\" alt=\"Open In Colab\"/></a>"
      ]
    },
    {
      "cell_type": "markdown",
      "source": [
        "### Minicurso de Pandas"
      ],
      "metadata": {
        "id": "KZGRd7_OAum7"
      }
    },
    {
      "cell_type": "markdown",
      "source": [
        "Carregamento dos Dados"
      ],
      "metadata": {
        "id": "TpYy9-RIA02L"
      }
    },
    {
      "cell_type": "code",
      "execution_count": 3,
      "metadata": {
        "id": "mti2SqVbAtzN"
      },
      "outputs": [],
      "source": [
        "import pandas as pd\n",
        "\n",
        "url = \"https://archive.ics.uci.edu/ml/machine-learning-databases/iris/iris.data\"\n",
        "\n",
        "url = \"https://raw.githubusercontent.com/tmoura/machinelearning/master/iris.data\"\n",
        "\n",
        "df = pd.read_csv(url, header=None) # Carregar dataset"
      ]
    },
    {
      "cell_type": "markdown",
      "source": [
        "Criando um DataFrame"
      ],
      "metadata": {
        "id": "ccUfbHmWRBZy"
      }
    },
    {
      "cell_type": "code",
      "source": [
        "data = {\n",
        "'País': ['Bélgica', 'Índia', 'Brasil'],\n",
        "'Capital': ['Bruxelas', 'Nova Delhi', 'Brasília'],\n",
        "'População': [123465, 456789, 987654]\n",
        "}\n",
        "\n",
        "df = pd.DataFrame(data, columns=['País','Capital','População'])\n",
        "\n",
        "df"
      ],
      "metadata": {
        "colab": {
          "base_uri": "https://localhost:8080/",
          "height": 143
        },
        "id": "P_rUdTjXRDwS",
        "outputId": "61f6bfd6-7978-46c4-e12a-798411e1d353"
      },
      "execution_count": 32,
      "outputs": [
        {
          "output_type": "execute_result",
          "data": {
            "text/plain": [
              "      País     Capital  População\n",
              "0  Bélgica    Bruxelas     123465\n",
              "1    Índia  Nova Delhi     456789\n",
              "2   Brasil    Brasília     987654"
            ],
            "text/html": [
              "\n",
              "  <div id=\"df-fd9d76f0-de55-44f2-8b41-2aa6ad846587\">\n",
              "    <div class=\"colab-df-container\">\n",
              "      <div>\n",
              "<style scoped>\n",
              "    .dataframe tbody tr th:only-of-type {\n",
              "        vertical-align: middle;\n",
              "    }\n",
              "\n",
              "    .dataframe tbody tr th {\n",
              "        vertical-align: top;\n",
              "    }\n",
              "\n",
              "    .dataframe thead th {\n",
              "        text-align: right;\n",
              "    }\n",
              "</style>\n",
              "<table border=\"1\" class=\"dataframe\">\n",
              "  <thead>\n",
              "    <tr style=\"text-align: right;\">\n",
              "      <th></th>\n",
              "      <th>País</th>\n",
              "      <th>Capital</th>\n",
              "      <th>População</th>\n",
              "    </tr>\n",
              "  </thead>\n",
              "  <tbody>\n",
              "    <tr>\n",
              "      <th>0</th>\n",
              "      <td>Bélgica</td>\n",
              "      <td>Bruxelas</td>\n",
              "      <td>123465</td>\n",
              "    </tr>\n",
              "    <tr>\n",
              "      <th>1</th>\n",
              "      <td>Índia</td>\n",
              "      <td>Nova Delhi</td>\n",
              "      <td>456789</td>\n",
              "    </tr>\n",
              "    <tr>\n",
              "      <th>2</th>\n",
              "      <td>Brasil</td>\n",
              "      <td>Brasília</td>\n",
              "      <td>987654</td>\n",
              "    </tr>\n",
              "  </tbody>\n",
              "</table>\n",
              "</div>\n",
              "      <button class=\"colab-df-convert\" onclick=\"convertToInteractive('df-fd9d76f0-de55-44f2-8b41-2aa6ad846587')\"\n",
              "              title=\"Convert this dataframe to an interactive table.\"\n",
              "              style=\"display:none;\">\n",
              "        \n",
              "  <svg xmlns=\"http://www.w3.org/2000/svg\" height=\"24px\"viewBox=\"0 0 24 24\"\n",
              "       width=\"24px\">\n",
              "    <path d=\"M0 0h24v24H0V0z\" fill=\"none\"/>\n",
              "    <path d=\"M18.56 5.44l.94 2.06.94-2.06 2.06-.94-2.06-.94-.94-2.06-.94 2.06-2.06.94zm-11 1L8.5 8.5l.94-2.06 2.06-.94-2.06-.94L8.5 2.5l-.94 2.06-2.06.94zm10 10l.94 2.06.94-2.06 2.06-.94-2.06-.94-.94-2.06-.94 2.06-2.06.94z\"/><path d=\"M17.41 7.96l-1.37-1.37c-.4-.4-.92-.59-1.43-.59-.52 0-1.04.2-1.43.59L10.3 9.45l-7.72 7.72c-.78.78-.78 2.05 0 2.83L4 21.41c.39.39.9.59 1.41.59.51 0 1.02-.2 1.41-.59l7.78-7.78 2.81-2.81c.8-.78.8-2.07 0-2.86zM5.41 20L4 18.59l7.72-7.72 1.47 1.35L5.41 20z\"/>\n",
              "  </svg>\n",
              "      </button>\n",
              "      \n",
              "  <style>\n",
              "    .colab-df-container {\n",
              "      display:flex;\n",
              "      flex-wrap:wrap;\n",
              "      gap: 12px;\n",
              "    }\n",
              "\n",
              "    .colab-df-convert {\n",
              "      background-color: #E8F0FE;\n",
              "      border: none;\n",
              "      border-radius: 50%;\n",
              "      cursor: pointer;\n",
              "      display: none;\n",
              "      fill: #1967D2;\n",
              "      height: 32px;\n",
              "      padding: 0 0 0 0;\n",
              "      width: 32px;\n",
              "    }\n",
              "\n",
              "    .colab-df-convert:hover {\n",
              "      background-color: #E2EBFA;\n",
              "      box-shadow: 0px 1px 2px rgba(60, 64, 67, 0.3), 0px 1px 3px 1px rgba(60, 64, 67, 0.15);\n",
              "      fill: #174EA6;\n",
              "    }\n",
              "\n",
              "    [theme=dark] .colab-df-convert {\n",
              "      background-color: #3B4455;\n",
              "      fill: #D2E3FC;\n",
              "    }\n",
              "\n",
              "    [theme=dark] .colab-df-convert:hover {\n",
              "      background-color: #434B5C;\n",
              "      box-shadow: 0px 1px 3px 1px rgba(0, 0, 0, 0.15);\n",
              "      filter: drop-shadow(0px 1px 2px rgba(0, 0, 0, 0.3));\n",
              "      fill: #FFFFFF;\n",
              "    }\n",
              "  </style>\n",
              "\n",
              "      <script>\n",
              "        const buttonEl =\n",
              "          document.querySelector('#df-fd9d76f0-de55-44f2-8b41-2aa6ad846587 button.colab-df-convert');\n",
              "        buttonEl.style.display =\n",
              "          google.colab.kernel.accessAllowed ? 'block' : 'none';\n",
              "\n",
              "        async function convertToInteractive(key) {\n",
              "          const element = document.querySelector('#df-fd9d76f0-de55-44f2-8b41-2aa6ad846587');\n",
              "          const dataTable =\n",
              "            await google.colab.kernel.invokeFunction('convertToInteractive',\n",
              "                                                     [key], {});\n",
              "          if (!dataTable) return;\n",
              "\n",
              "          const docLinkHtml = 'Like what you see? Visit the ' +\n",
              "            '<a target=\"_blank\" href=https://colab.research.google.com/notebooks/data_table.ipynb>data table notebook</a>'\n",
              "            + ' to learn more about interactive tables.';\n",
              "          element.innerHTML = '';\n",
              "          dataTable['output_type'] = 'display_data';\n",
              "          await google.colab.output.renderOutput(dataTable, element);\n",
              "          const docLink = document.createElement('div');\n",
              "          docLink.innerHTML = docLinkHtml;\n",
              "          element.appendChild(docLink);\n",
              "        }\n",
              "      </script>\n",
              "    </div>\n",
              "  </div>\n",
              "  "
            ]
          },
          "metadata": {},
          "execution_count": 32
        }
      ]
    },
    {
      "cell_type": "markdown",
      "source": [
        "Informações sobre o dataset"
      ],
      "metadata": {
        "id": "KELfXw8Bb0mG"
      }
    },
    {
      "cell_type": "code",
      "source": [
        "df.info()"
      ],
      "metadata": {
        "id": "TrqoTa_rb4Hm"
      },
      "execution_count": null,
      "outputs": []
    },
    {
      "cell_type": "markdown",
      "source": [
        "Descrição do dataset"
      ],
      "metadata": {
        "id": "c_hcl9svcaPz"
      }
    },
    {
      "cell_type": "code",
      "source": [
        "df.describe()"
      ],
      "metadata": {
        "id": "QtoraMsXcch5"
      },
      "execution_count": null,
      "outputs": []
    },
    {
      "cell_type": "markdown",
      "source": [
        "Dimensão do dataset"
      ],
      "metadata": {
        "id": "t5KUFyHicfEp"
      }
    },
    {
      "cell_type": "code",
      "source": [
        "df.shape"
      ],
      "metadata": {
        "id": "IbBLiogOchRX"
      },
      "execution_count": null,
      "outputs": []
    },
    {
      "cell_type": "markdown",
      "source": [
        "Pegar apenas algumas linhas do DF"
      ],
      "metadata": {
        "id": "RBeOBy3uO6S3"
      }
    },
    {
      "cell_type": "code",
      "source": [
        "df.head(5) # mostra apenas as 5 primeiras linhas\n",
        "df.head()  # mostra apenas as 5 primeiras linhas"
      ],
      "metadata": {
        "id": "oyMexsPoO-JZ"
      },
      "execution_count": null,
      "outputs": []
    },
    {
      "cell_type": "markdown",
      "source": [
        "Descrição dos ÍNDICES e COLUNAS"
      ],
      "metadata": {
        "id": "KyhK4F1bkA-f"
      }
    },
    {
      "cell_type": "code",
      "source": [
        "print(df.index)\n",
        "\n",
        "print(df.columns)"
      ],
      "metadata": {
        "id": "FOcq7-oFkFjF"
      },
      "execution_count": null,
      "outputs": []
    },
    {
      "cell_type": "markdown",
      "source": [
        "Uso do \"loc\" e \"iloc\"\n",
        "\n",
        "loc é usado para selecionarmos linhas e colunas usando o label\n",
        "\n",
        "iloc é usado para cessar as linhas e colunas pelo índice"
      ],
      "metadata": {
        "id": "XpZPV3anNK3L"
      }
    },
    {
      "cell_type": "code",
      "source": [
        "print(df.columns.values, '\\n')\n",
        "\n",
        "print(df.loc[:,'Capital'], '\\n') # qualquer linha, coluna Capital\n",
        "print(df.loc[1,'Capital'], '\\n') # todas as colunas da linha 1, igual a \"df.loc[1,:]\"\n",
        "\n",
        "print(df.iloc[:,1], '\\n') # qualquer linha, coluna 1\n",
        "print(df.iloc[1,1], '\\n') # todas as colunas da linha 1"
      ],
      "metadata": {
        "id": "MpfJYQGaNbTP"
      },
      "execution_count": null,
      "outputs": []
    },
    {
      "cell_type": "markdown",
      "source": [
        "Removendo linhas/colunas"
      ],
      "metadata": {
        "id": "spPiJI0kiv9X"
      }
    },
    {
      "cell_type": "code",
      "source": [
        "#df.drop('Capital') #ERRO\n",
        "df.drop('Capital',axis=1) # Apaga a coluna 'Capital' inteira\n",
        "\n",
        "df.drop(1) # Apaga a linha 1 inteira"
      ],
      "metadata": {
        "id": "O8fMtH4oOKrM"
      },
      "execution_count": null,
      "outputs": []
    }
  ]
}
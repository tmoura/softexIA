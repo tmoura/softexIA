{
  "nbformat": 4,
  "nbformat_minor": 0,
  "metadata": {
    "colab": {
      "provenance": [],
      "authorship_tag": "ABX9TyPbtZujUukl7q3SUfWJE/03",
      "include_colab_link": true
    },
    "kernelspec": {
      "name": "python3",
      "display_name": "Python 3"
    },
    "language_info": {
      "name": "python"
    }
  },
  "cells": [
    {
      "cell_type": "markdown",
      "metadata": {
        "id": "view-in-github",
        "colab_type": "text"
      },
      "source": [
        "<a href=\"https://colab.research.google.com/github/tmoura/softexIA/blob/main/3_MiniTutorial_Pandas.ipynb\" target=\"_parent\"><img src=\"https://colab.research.google.com/assets/colab-badge.svg\" alt=\"Open In Colab\"/></a>"
      ]
    },
    {
      "cell_type": "markdown",
      "source": [
        "### Minicurso de Pandas"
      ],
      "metadata": {
        "id": "KZGRd7_OAum7"
      }
    },
    {
      "cell_type": "markdown",
      "source": [
        "Carregamento dos Dados"
      ],
      "metadata": {
        "id": "TpYy9-RIA02L"
      }
    },
    {
      "cell_type": "code",
      "execution_count": 4,
      "metadata": {
        "id": "mti2SqVbAtzN"
      },
      "outputs": [],
      "source": [
        "import pandas as pd\n",
        "\n",
        "url = \"https://archive.ics.uci.edu/ml/machine-learning-databases/iris/iris.data\"\n",
        "\n",
        "url = \"https://raw.githubusercontent.com/tmoura/machinelearning/master/iris.data\"\n",
        "\n",
        "url = \"/content/sample_data/transfusion.data\"\n",
        "\n",
        "df = pd.read_csv(url, header=None) # Carregar dataset\n",
        "\n",
        "columns = len(df.columns)\n",
        "\n",
        "y = df[0] # extrai a primeira coluna, que é o label\n",
        "X = df.loc[:,1:columns-1]"
      ]
    },
    {
      "cell_type": "markdown",
      "source": [
        "Criando um DataFrame"
      ],
      "metadata": {
        "id": "ccUfbHmWRBZy"
      }
    },
    {
      "cell_type": "code",
      "source": [
        "data = {\n",
        "'País': ['Bélgica', 'Índia', 'Brasil'],\n",
        "'Capital': ['Bruxelas', 'Nova Delhi', 'Brasília'],\n",
        "'População': [123465, 456789, 987654]\n",
        "}\n",
        "\n",
        "df = pd.DataFrame(data, columns=['País','Capital','População'])\n",
        "\n",
        "df"
      ],
      "metadata": {
        "id": "P_rUdTjXRDwS"
      },
      "execution_count": null,
      "outputs": []
    },
    {
      "cell_type": "markdown",
      "source": [
        "Copiar DataFrame"
      ],
      "metadata": {
        "id": "t5pl6qeB_dIi"
      }
    },
    {
      "cell_type": "code",
      "source": [
        "df2 = df.copy()\n",
        "\n",
        "df2['Capital'] = 'teste'\n",
        "\n",
        "display(df2)\n",
        "\n",
        "display(df)"
      ],
      "metadata": {
        "id": "m7pNDROD_f2I"
      },
      "execution_count": null,
      "outputs": []
    },
    {
      "cell_type": "markdown",
      "source": [
        "Informações sobre o dataset"
      ],
      "metadata": {
        "id": "KELfXw8Bb0mG"
      }
    },
    {
      "cell_type": "code",
      "source": [
        "df.info()"
      ],
      "metadata": {
        "id": "TrqoTa_rb4Hm"
      },
      "execution_count": null,
      "outputs": []
    },
    {
      "cell_type": "markdown",
      "source": [
        "Descrição do dataset"
      ],
      "metadata": {
        "id": "c_hcl9svcaPz"
      }
    },
    {
      "cell_type": "code",
      "source": [
        "df.describe()"
      ],
      "metadata": {
        "id": "QtoraMsXcch5"
      },
      "execution_count": null,
      "outputs": []
    },
    {
      "cell_type": "markdown",
      "source": [
        "Dimensão do dataset"
      ],
      "metadata": {
        "id": "t5KUFyHicfEp"
      }
    },
    {
      "cell_type": "code",
      "source": [
        "df.shape"
      ],
      "metadata": {
        "id": "IbBLiogOchRX"
      },
      "execution_count": null,
      "outputs": []
    },
    {
      "cell_type": "markdown",
      "source": [
        "Pegar apenas algumas linhas do DF"
      ],
      "metadata": {
        "id": "RBeOBy3uO6S3"
      }
    },
    {
      "cell_type": "code",
      "source": [
        "df.head(2) # mostra apenas as 2 primeiras linhas\n",
        "#df.head()  # mostra apenas as 5 primeiras linhas"
      ],
      "metadata": {
        "id": "oyMexsPoO-JZ"
      },
      "execution_count": null,
      "outputs": []
    },
    {
      "cell_type": "markdown",
      "source": [
        "Ordenando os dados do DF"
      ],
      "metadata": {
        "id": "ttXG_1mR6qnB"
      }
    },
    {
      "cell_type": "code",
      "source": [
        "df = df.sort_values('Capital')\n",
        "#df.sort_values('Capital',inplace=True)\n",
        "\n",
        "display(df)\n",
        "\n",
        "#Ordenando em ordem decrescente\n",
        "df = df.sort_values('Capital',ascending=False)\n",
        "\n",
        "display(df)"
      ],
      "metadata": {
        "id": "aecJT-AC6tLb"
      },
      "execution_count": null,
      "outputs": []
    },
    {
      "cell_type": "markdown",
      "source": [
        "Descrição dos ÍNDICES e COLUNAS"
      ],
      "metadata": {
        "id": "KyhK4F1bkA-f"
      }
    },
    {
      "cell_type": "code",
      "source": [
        "display(df.index)\n",
        "\n",
        "display(df.columns)"
      ],
      "metadata": {
        "id": "FOcq7-oFkFjF"
      },
      "execution_count": null,
      "outputs": []
    },
    {
      "cell_type": "markdown",
      "source": [
        "Uso do \"loc\" e \"iloc\"\n",
        "\n",
        "loc é usado para selecionarmos linhas e colunas usando o label\n",
        "\n",
        "iloc é usado para cessar as linhas e colunas pelo índice"
      ],
      "metadata": {
        "id": "XpZPV3anNK3L"
      }
    },
    {
      "cell_type": "code",
      "source": [
        "print(df.columns.values, '\\n')\n",
        "\n",
        "print(df.loc[:,'Capital'], '\\n') # qualquer linha, coluna Capital\n",
        "print(df.loc[1,'Capital'], '\\n') # todas as colunas da linha 1, igual a \"df.loc[1,:]\"\n",
        "\n",
        "print(df.iloc[:,1], '\\n') # qualquer linha, coluna 1\n",
        "print(df.iloc[1,1], '\\n') # todas as colunas da linha 1"
      ],
      "metadata": {
        "id": "MpfJYQGaNbTP"
      },
      "execution_count": null,
      "outputs": []
    },
    {
      "cell_type": "markdown",
      "source": [
        "Removendo linhas/colunas"
      ],
      "metadata": {
        "id": "spPiJI0kiv9X"
      }
    },
    {
      "cell_type": "code",
      "source": [
        "#df.drop('Capital') #ERRO\n",
        "df.drop('Capital',axis=1) # Apaga a coluna 'Capital' inteira\n",
        "\n",
        "df.drop(1) # Apaga a linha 1 inteira"
      ],
      "metadata": {
        "id": "O8fMtH4oOKrM"
      },
      "execution_count": null,
      "outputs": []
    },
    {
      "cell_type": "markdown",
      "source": [
        "Nova Coluna em um DataFrame"
      ],
      "metadata": {
        "id": "k-eGyfkdIIoc"
      }
    },
    {
      "cell_type": "code",
      "source": [
        "df['Nova Coluna'] = 0\n",
        "\n",
        "df"
      ],
      "metadata": {
        "id": "V3qG2NrXIL73"
      },
      "execution_count": null,
      "outputs": []
    },
    {
      "cell_type": "markdown",
      "source": [
        "Nova Linha em um DataFrame"
      ],
      "metadata": {
        "id": "pqqNdodjvj9O"
      }
    },
    {
      "cell_type": "code",
      "source": [
        "cols =  ['País', 'Capital', 'População']\n",
        "\n",
        "new_line = ['Argentina','Buenos Aires',153700]\n",
        "new_line = pd.DataFrame([new_line], columns=cols)\n",
        "\n",
        "df = pd.concat([df,new_line],ignore_index = True)\n",
        "\n",
        "df"
      ],
      "metadata": {
        "id": "PGCD1XN6vm8e"
      },
      "execution_count": null,
      "outputs": []
    },
    {
      "cell_type": "markdown",
      "source": [
        "Resumo dos Dados"
      ],
      "metadata": {
        "id": "n6WnAlqCzQK1"
      }
    },
    {
      "cell_type": "code",
      "source": [
        "#Soma dos valores de um DataFrame\n",
        "print(df.sum(),'\\n')\n",
        "\n",
        "#Menor valor de um DataFrame\n",
        "print(df.min(),'\\n')\n",
        "\n",
        "#Maior valor\n",
        "print(df.max(),'\\n')\n",
        "\n",
        "#Média dos valores\n",
        "print(df.mean(),'\\n')\n",
        "\n",
        "#Mediana dos valores\n",
        "print(df.median(),'\\n')"
      ],
      "metadata": {
        "id": "VmI9rv5JzRoY"
      },
      "execution_count": null,
      "outputs": []
    },
    {
      "cell_type": "markdown",
      "source": [
        "Filtragem do DataFrame"
      ],
      "metadata": {
        "id": "A4GzGzDm0Di_"
      }
    },
    {
      "cell_type": "code",
      "source": [
        "df[df['População'] % 2 == 0]"
      ],
      "metadata": {
        "id": "mCAL-1Ep0Fgv"
      },
      "execution_count": null,
      "outputs": []
    },
    {
      "cell_type": "markdown",
      "source": [
        "### Funções Importantes - Scikit Learning"
      ],
      "metadata": {
        "id": "nRsfjpMStW0c"
      }
    },
    {
      "cell_type": "markdown",
      "source": [
        "Normalização de uma Coluna"
      ],
      "metadata": {
        "id": "7ngkEKOVtq_3"
      }
    },
    {
      "cell_type": "code",
      "source": [
        "import pandas as pd\n",
        "\n",
        "data = {\n",
        "'País': ['Bélgica', 'Índia', 'Brasil'],\n",
        "'Capital': ['Bruxelas', 'Nova Delhi', 'Brasília'],\n",
        "'População': [123465, 456789, 987654]\n",
        "}\n",
        "\n",
        "df = pd.DataFrame(data, columns=['País','Capital','População'])\n",
        "\n",
        "# Normalização: Deixar os valores entre 0 e 1\n",
        "\n",
        "from sklearn.preprocessing import MinMaxScaler\n",
        "import numpy as np\n",
        "\n",
        "# O uso de -1 indica que vc não sabe o tamanho da dimensão. A matrix vai se ajustar automaticamente\n",
        "df['População'] = MinMaxScaler().fit_transform(np.array(df['População']).reshape(-1,1))\n",
        "\n",
        "df"
      ],
      "metadata": {
        "id": "9DVPFczUtwyh"
      },
      "execution_count": null,
      "outputs": []
    },
    {
      "cell_type": "markdown",
      "source": [
        "De categórico para numérico"
      ],
      "metadata": {
        "id": "6gW5EwE-yFSz"
      }
    },
    {
      "cell_type": "code",
      "source": [
        "from sklearn.preprocessing import LabelBinarizer\n",
        "\n",
        "teste = LabelBinarizer().fit_transform(df['Capital'])\n",
        "\n",
        "new_df = pd.DataFrame(teste)\n",
        "\n",
        "df_final = pd.concat([df,new_df],axis=1) # concatena na coluna com axis=1, default axis=0\n",
        "\n",
        "df_final = df_final.drop('Capital',axis=1)\n",
        "\n",
        "df_final"
      ],
      "metadata": {
        "id": "hw5yiDXQyJCA"
      },
      "execution_count": null,
      "outputs": []
    },
    {
      "cell_type": "markdown",
      "source": [
        "Transformar de DataFrame ou Series para LIST PYTHON"
      ],
      "metadata": {
        "id": "4jijU7ir95Js"
      }
    },
    {
      "cell_type": "code",
      "source": [
        "df.values.tolist()"
      ],
      "metadata": {
        "id": "LZavMtCp99Vs"
      },
      "execution_count": null,
      "outputs": []
    },
    {
      "cell_type": "markdown",
      "source": [
        "### NumPy"
      ],
      "metadata": {
        "id": "OPGRYMI_72Sw"
      }
    },
    {
      "cell_type": "markdown",
      "source": [
        "ARRAY: Transformar um DataFrame ou Serie em Array"
      ],
      "metadata": {
        "id": "21yyGB209nkq"
      }
    },
    {
      "cell_type": "code",
      "source": [
        "import numpy as np\n",
        "\n",
        "pop = df['População']\n",
        "\n",
        "pop_array = np.array(pop)\n",
        "\n",
        "pop_array[0]"
      ],
      "metadata": {
        "id": "LC47gRr776Fd"
      },
      "execution_count": null,
      "outputs": []
    },
    {
      "cell_type": "markdown",
      "source": [
        "ARRAY de Zeros"
      ],
      "metadata": {
        "id": "6POP9e_G-PxP"
      }
    },
    {
      "cell_type": "code",
      "source": [
        "import numpy as np\n",
        "\n",
        "matrix_zeros = np.zeros((4,3))\n",
        "\n",
        "matrix_zeros"
      ],
      "metadata": {
        "id": "R3tpK-Eu-RpX"
      },
      "execution_count": null,
      "outputs": []
    },
    {
      "cell_type": "markdown",
      "source": [
        "ARRAY de 1"
      ],
      "metadata": {
        "id": "7JQAjDca-nOs"
      }
    },
    {
      "cell_type": "code",
      "source": [
        "import numpy as np\n",
        "\n",
        "matrix_ones = np.ones((4,3))\n",
        "\n",
        "matrix_ones"
      ],
      "metadata": {
        "id": "LVMw37G6-qCk"
      },
      "execution_count": null,
      "outputs": []
    },
    {
      "cell_type": "markdown",
      "source": [
        "Ordenação"
      ],
      "metadata": {
        "id": "K2yxGzJb_Bar"
      }
    },
    {
      "cell_type": "code",
      "source": [
        "import numpy as np\n",
        "\n",
        "arr = np.array([3,1,0,9,4,7])\n",
        "\n",
        "np.sort(arr)"
      ],
      "metadata": {
        "id": "ZWgnNAj5_C69"
      },
      "execution_count": null,
      "outputs": []
    }
  ]
}
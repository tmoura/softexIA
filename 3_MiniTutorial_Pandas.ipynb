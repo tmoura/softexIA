{
  "nbformat": 4,
  "nbformat_minor": 0,
  "metadata": {
    "colab": {
      "provenance": [],
      "authorship_tag": "ABX9TyPgI+BAXEHyofrID2ocvdlP",
      "include_colab_link": true
    },
    "kernelspec": {
      "name": "python3",
      "display_name": "Python 3"
    },
    "language_info": {
      "name": "python"
    }
  },
  "cells": [
    {
      "cell_type": "markdown",
      "metadata": {
        "id": "view-in-github",
        "colab_type": "text"
      },
      "source": [
        "<a href=\"https://colab.research.google.com/github/tmoura/softexIA/blob/main/3_MiniTutorial_Pandas.ipynb\" target=\"_parent\"><img src=\"https://colab.research.google.com/assets/colab-badge.svg\" alt=\"Open In Colab\"/></a>"
      ]
    },
    {
      "cell_type": "markdown",
      "source": [
        "### Minicurso de Pandas"
      ],
      "metadata": {
        "id": "KZGRd7_OAum7"
      }
    },
    {
      "cell_type": "markdown",
      "source": [
        "Carregamento dos Dados"
      ],
      "metadata": {
        "id": "TpYy9-RIA02L"
      }
    },
    {
      "cell_type": "code",
      "execution_count": null,
      "metadata": {
        "id": "mti2SqVbAtzN"
      },
      "outputs": [],
      "source": [
        "import pandas as pd\n",
        "\n",
        "url = \"https://archive.ics.uci.edu/ml/machine-learning-databases/iris/iris.data\"\n",
        "\n",
        "df = pd.read_csv(url, header=None) # Carregar dataset"
      ]
    },
    {
      "cell_type": "markdown",
      "source": [
        "Informações sobre o dataset"
      ],
      "metadata": {
        "id": "KELfXw8Bb0mG"
      }
    },
    {
      "cell_type": "code",
      "source": [
        "df.info()"
      ],
      "metadata": {
        "id": "TrqoTa_rb4Hm"
      },
      "execution_count": null,
      "outputs": []
    },
    {
      "cell_type": "markdown",
      "source": [
        "Descrição do dataset"
      ],
      "metadata": {
        "id": "c_hcl9svcaPz"
      }
    },
    {
      "cell_type": "code",
      "source": [
        "df.describe()"
      ],
      "metadata": {
        "id": "QtoraMsXcch5"
      },
      "execution_count": null,
      "outputs": []
    },
    {
      "cell_type": "markdown",
      "source": [
        "Dimensão do dataset"
      ],
      "metadata": {
        "id": "t5KUFyHicfEp"
      }
    },
    {
      "cell_type": "code",
      "source": [
        "df.shape"
      ],
      "metadata": {
        "id": "IbBLiogOchRX"
      },
      "execution_count": null,
      "outputs": []
    }
  ]
}
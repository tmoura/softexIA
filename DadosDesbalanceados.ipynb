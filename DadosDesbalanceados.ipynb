{
  "nbformat": 4,
  "nbformat_minor": 0,
  "metadata": {
    "colab": {
      "provenance": [],
      "include_colab_link": true
    },
    "kernelspec": {
      "name": "python3",
      "display_name": "Python 3"
    },
    "language_info": {
      "name": "python"
    }
  },
  "cells": [
    {
      "cell_type": "markdown",
      "metadata": {
        "id": "view-in-github",
        "colab_type": "text"
      },
      "source": [
        "<a href=\"https://colab.research.google.com/github/tmoura/softexIA/blob/main/DadosDesbalanceados.ipynb\" target=\"_parent\"><img src=\"https://colab.research.google.com/assets/colab-badge.svg\" alt=\"Open In Colab\"/></a>"
      ]
    },
    {
      "cell_type": "code",
      "metadata": {
        "id": "OYw0kOkS-YSe"
      },
      "source": [
        "import pandas as pd\n",
        "import numpy as np\n",
        "from sklearn.linear_model import LogisticRegression\n",
        "from sklearn.model_selection import train_test_split\n",
        "from sklearn.metrics import accuracy_score, confusion_matrix, classification_report\n",
        "from imblearn.over_sampling import SMOTE\n",
        "from imblearn.under_sampling import NearMiss\n",
        "import seaborn as sns\n",
        "from sklearn.preprocessing import OneHotEncoder\n",
        "from sklearn import preprocessing\n",
        "from sklearn.compose import make_column_transformer"
      ],
      "execution_count": 142,
      "outputs": []
    },
    {
      "cell_type": "code",
      "metadata": {
        "id": "IAH5i4bYAN3I"
      },
      "source": [
        "url = \"https://raw.githubusercontent.com/tmoura/machinelearning/master/datasets/bank-full.csv\"\n",
        "\n",
        "dados = pd.read_csv(url)"
      ],
      "execution_count": 143,
      "outputs": []
    },
    {
      "cell_type": "code",
      "metadata": {
        "id": "E5AHUL-fAuhY"
      },
      "source": [
        "dados.head()"
      ],
      "execution_count": null,
      "outputs": []
    },
    {
      "cell_type": "code",
      "metadata": {
        "id": "8dVtck3TA6N_"
      },
      "source": [
        "dados.info()"
      ],
      "execution_count": null,
      "outputs": []
    },
    {
      "cell_type": "code",
      "metadata": {
        "id": "Go8y-LqvBGyY"
      },
      "source": [
        "# dados[\"default\"] = dados[\"default\"].map({\"no\":0,\"yes\":1})\n",
        "# dados[\"housing\"] = dados[\"housing\"].map({\"no\":0,\"yes\":1})\n",
        "# dados[\"loan\"] = dados[\"loan\"].map({\"no\":0,\"yes\":1})\n",
        "# dados[\"Target\"] = dados[\"Target\"].map({\"no\":0,\"yes\":1})\n",
        "# dados.education = dados.education.map({\"primary\": 0, \"secondary\":1, \"tertiary\":2})\n",
        "# dados.poutcome = dados.poutcome.map({\"unknown\": 0, \"failure\":1, \"other\":2, \"success\":3})\n",
        "# dados.contact = dados.contact.map({\"cellular\": 0, \"unknown\":1, \"telephone\":2})\n",
        "# dados.month = pd.to_datetime(dados.month, format = \"%b\").dt.month\n",
        "\n",
        "column_transformer = make_column_transformer((OneHotEncoder(), ['job','marital','education','default','housing','loan','contact','month','poutcome']), remainder='passthrough')\n",
        "\n",
        "df = column_transformer.fit_transform(dados)\n",
        "\n",
        "columns_names = column_transformer.get_feature_names_out()\n",
        "\n",
        "dados = pd.DataFrame(data=df, columns=columns_names)\n",
        "\n",
        "dados.head()"
      ],
      "execution_count": null,
      "outputs": []
    },
    {
      "cell_type": "code",
      "metadata": {
        "id": "0AjfGV2qCK9s"
      },
      "source": [
        "dados.remainder__Target.value_counts()"
      ],
      "execution_count": null,
      "outputs": []
    },
    {
      "cell_type": "code",
      "metadata": {
        "id": "LPoZd78zDkY_"
      },
      "source": [
        "# Transformação das colunas restantes em numéricas: cada string única é transformada em uma coluna, se o registro existir para aquela coluna ela recebe 1 e zero para as demais colunas.\n",
        "# dados = pd.get_dummies(dados)\n",
        "\n",
        "dados.head()"
      ],
      "execution_count": null,
      "outputs": []
    },
    {
      "cell_type": "code",
      "metadata": {
        "id": "Hyo_lrVCEBH2"
      },
      "source": [
        "ax = sns.countplot(x=\"remainder__Target\", data=dados)"
      ],
      "execution_count": null,
      "outputs": []
    },
    {
      "cell_type": "code",
      "metadata": {
        "id": "ogKJo0jRE97H"
      },
      "source": [
        "X = dados.drop(\"remainder__Target\", axis = 1)"
      ],
      "execution_count": 146,
      "outputs": []
    },
    {
      "cell_type": "code",
      "metadata": {
        "id": "bNmeDA5iFH_x"
      },
      "source": [
        "y = dados.remainder__Target\n",
        "\n",
        "label_encoder = preprocessing.LabelEncoder()\n",
        "y= label_encoder.fit_transform(y)"
      ],
      "execution_count": 147,
      "outputs": []
    },
    {
      "cell_type": "code",
      "metadata": {
        "id": "noYcpaixFwdI"
      },
      "source": [
        "# Separando dados de treino e de teste, usando o padrão de 70-30\n",
        "\n",
        "X_train, X_test, y_train, y_test = train_test_split(X, y, random_state=None, stratify=y)"
      ],
      "execution_count": 148,
      "outputs": []
    },
    {
      "cell_type": "code",
      "metadata": {
        "id": "PyKWV-zAGQuX"
      },
      "source": [
        "# Treinando o algoritmo\n",
        "# Instanciando um algoritmo de classificação\n",
        "lrmodelo = LogisticRegression(max_iter=3000)\n",
        "lrmodelo.fit(X_train, y_train)"
      ],
      "execution_count": null,
      "outputs": []
    },
    {
      "cell_type": "code",
      "metadata": {
        "id": "sFiWfsC4Hf0U"
      },
      "source": [
        "y_pred = lrmodelo.predict(X_test)"
      ],
      "execution_count": 150,
      "outputs": []
    },
    {
      "cell_type": "code",
      "metadata": {
        "id": "gzCMBdvwHh1Z"
      },
      "source": [
        "accuracy_score(y_test, y_pred)"
      ],
      "execution_count": null,
      "outputs": []
    },
    {
      "cell_type": "code",
      "metadata": {
        "id": "6HUg0AcoHrLR"
      },
      "source": [
        "print (pd.crosstab(y_test, y_pred, rownames=['Real'], colnames=['Predito'], margins=True))"
      ],
      "execution_count": null,
      "outputs": []
    },
    {
      "cell_type": "markdown",
      "source": [
        "### Testando o undersampling"
      ],
      "metadata": {
        "id": "SGrAooVFya0d"
      }
    },
    {
      "cell_type": "code",
      "metadata": {
        "id": "4ZFh2ucBH0M3"
      },
      "source": [
        "nr = NearMiss()"
      ],
      "execution_count": 153,
      "outputs": []
    },
    {
      "cell_type": "code",
      "source": [
        "Xnm,ynm = nr.fit_resample(X,y)"
      ],
      "metadata": {
        "id": "HFqL-L9rrqkh"
      },
      "execution_count": 154,
      "outputs": []
    },
    {
      "cell_type": "code",
      "metadata": {
        "id": "c-RMb1maIC4m"
      },
      "source": [
        "ax = sns.countplot(x=ynm)"
      ],
      "execution_count": null,
      "outputs": []
    },
    {
      "cell_type": "code",
      "metadata": {
        "id": "Nhea3ydcIHqN"
      },
      "source": [
        "X_train, X_test, y_train, y_test = train_test_split(Xnm, ynm, random_state = None, stratify=ynm)"
      ],
      "execution_count": 156,
      "outputs": []
    },
    {
      "cell_type": "code",
      "metadata": {
        "id": "nIFJXzjUILxY"
      },
      "source": [
        "lrmodelo2 = LogisticRegression(max_iter=2000)"
      ],
      "execution_count": 157,
      "outputs": []
    },
    {
      "cell_type": "code",
      "metadata": {
        "id": "DCp7IDB2IQOM"
      },
      "source": [
        "# Treinando o algoritmo\n",
        "\n",
        "lrmodelo2.fit(X_train, y_train)"
      ],
      "execution_count": null,
      "outputs": []
    },
    {
      "cell_type": "code",
      "metadata": {
        "id": "Ka8Fe3hoIXsc"
      },
      "source": [
        "y_pred = lrmodelo2.predict(X_test)"
      ],
      "execution_count": 160,
      "outputs": []
    },
    {
      "cell_type": "code",
      "metadata": {
        "id": "M3ealeVxIcca"
      },
      "source": [
        "accuracy_score(y_test, y_pred)"
      ],
      "execution_count": null,
      "outputs": []
    },
    {
      "cell_type": "code",
      "metadata": {
        "id": "VrOHoZcFJejS"
      },
      "source": [
        "print (pd.crosstab(y_test, y_pred, rownames=['Real'], colnames=['Predito'], margins=True))"
      ],
      "execution_count": null,
      "outputs": []
    },
    {
      "cell_type": "markdown",
      "source": [
        "### Testando o SMOTE"
      ],
      "metadata": {
        "id": "j6Qof9LlysoN"
      }
    },
    {
      "cell_type": "code",
      "metadata": {
        "id": "o1zvWtgMJs2F"
      },
      "source": [
        "np.bincount(y)"
      ],
      "execution_count": null,
      "outputs": []
    },
    {
      "cell_type": "code",
      "metadata": {
        "id": "zuzcdccjJxbU"
      },
      "source": [
        "smt = SMOTE()"
      ],
      "execution_count": 164,
      "outputs": []
    },
    {
      "cell_type": "code",
      "metadata": {
        "id": "uKOoQZv1J0HT"
      },
      "source": [
        "X, y = smt.fit_resample(X, y)"
      ],
      "execution_count": 165,
      "outputs": []
    },
    {
      "cell_type": "code",
      "metadata": {
        "id": "CUmn0S0LJ8gd"
      },
      "source": [
        "ax = sns.countplot(x=y)"
      ],
      "execution_count": null,
      "outputs": []
    },
    {
      "cell_type": "code",
      "metadata": {
        "id": "ZtsBp5AcJ_NR"
      },
      "source": [
        "X_train, X_test, y_train, y_test = train_test_split(X, y, random_state = None, stratify=y)"
      ],
      "execution_count": 167,
      "outputs": []
    },
    {
      "cell_type": "code",
      "metadata": {
        "id": "uYBzx8gaKCdp"
      },
      "source": [
        "lrmodelo3 = LogisticRegression(max_iter=2500)"
      ],
      "execution_count": 168,
      "outputs": []
    },
    {
      "cell_type": "code",
      "metadata": {
        "id": "mi2YuHwBKGXD"
      },
      "source": [
        "lrmodelo3.fit(X_train, y_train)"
      ],
      "execution_count": null,
      "outputs": []
    },
    {
      "cell_type": "code",
      "metadata": {
        "id": "z2NY3PH6KKXd"
      },
      "source": [
        "y_pred = lrmodelo3.predict(X_test)"
      ],
      "execution_count": 170,
      "outputs": []
    },
    {
      "cell_type": "code",
      "metadata": {
        "id": "1pqGCS-DKOas"
      },
      "source": [
        "accuracy_score(y_test, y_pred)"
      ],
      "execution_count": null,
      "outputs": []
    }
  ]
}
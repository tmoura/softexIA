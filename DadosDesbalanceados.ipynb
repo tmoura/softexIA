{
  "nbformat": 4,
  "nbformat_minor": 0,
  "metadata": {
    "colab": {
      "provenance": [],
      "include_colab_link": true
    },
    "kernelspec": {
      "name": "python3",
      "display_name": "Python 3"
    },
    "language_info": {
      "name": "python"
    }
  },
  "cells": [
    {
      "cell_type": "markdown",
      "metadata": {
        "id": "view-in-github",
        "colab_type": "text"
      },
      "source": [
        "<a href=\"https://colab.research.google.com/github/tmoura/softexIA/blob/main/DadosDesbalanceados.ipynb\" target=\"_parent\"><img src=\"https://colab.research.google.com/assets/colab-badge.svg\" alt=\"Open In Colab\"/></a>"
      ]
    },
    {
      "cell_type": "code",
      "metadata": {
        "id": "OYw0kOkS-YSe"
      },
      "source": [
        "import pandas as pd\n",
        "import numpy as np\n",
        "from sklearn.linear_model import LogisticRegression\n",
        "from sklearn.model_selection import train_test_split\n",
        "from sklearn.metrics import accuracy_score, confusion_matrix, classification_report\n",
        "from imblearn.over_sampling import SMOTE\n",
        "from imblearn.under_sampling import NearMiss\n",
        "import seaborn as sns"
      ],
      "execution_count": 2,
      "outputs": []
    },
    {
      "cell_type": "code",
      "metadata": {
        "id": "IAH5i4bYAN3I"
      },
      "source": [
        "url = \"https://raw.githubusercontent.com/tmoura/machinelearning/master/datasets/bank-full.csv\"\n",
        "\n",
        "dados = pd.read_csv(url)"
      ],
      "execution_count": 3,
      "outputs": []
    },
    {
      "cell_type": "code",
      "metadata": {
        "id": "E5AHUL-fAuhY"
      },
      "source": [
        "dados.head()"
      ],
      "execution_count": null,
      "outputs": []
    },
    {
      "cell_type": "code",
      "metadata": {
        "id": "8dVtck3TA6N_"
      },
      "source": [
        "dados.info()"
      ],
      "execution_count": null,
      "outputs": []
    },
    {
      "cell_type": "code",
      "metadata": {
        "id": "Go8y-LqvBGyY"
      },
      "source": [
        "dados[\"default\"] = dados[\"default\"].map({\"no\":0,\"yes\":1})\n",
        "dados[\"housing\"] = dados[\"housing\"].map({\"no\":0,\"yes\":1})\n",
        "dados[\"loan\"] = dados[\"loan\"].map({\"no\":0,\"yes\":1})\n",
        "dados[\"Target\"] = dados[\"Target\"].map({\"no\":0,\"yes\":1})\n",
        "dados.education = dados.education.map({\"primary\": 0, \"secondary\":1, \"tertiary\":2})\n",
        "dados.poutcome = dados.poutcome.map({\"unknown\": 0, \"failure\":1, \"other\":2, \"success\":3})\n",
        "dados.contact = dados.contact.map({\"cellular\": 0, \"unknown\":1, \"telephone\":2})\n",
        "dados.month = pd.to_datetime(dados.month, format = \"%b\").dt.month"
      ],
      "execution_count": 5,
      "outputs": []
    },
    {
      "cell_type": "code",
      "metadata": {
        "id": "ZvpgyFK0BumB"
      },
      "source": [
        "dados.isnull().sum()"
      ],
      "execution_count": null,
      "outputs": []
    },
    {
      "cell_type": "code",
      "metadata": {
        "id": "0AjfGV2qCK9s"
      },
      "source": [
        "dados.Target.value_counts()"
      ],
      "execution_count": null,
      "outputs": []
    },
    {
      "cell_type": "code",
      "metadata": {
        "id": "K2n5ILwvCbv0"
      },
      "source": [
        "dados.dropna(inplace = True)"
      ],
      "execution_count": 9,
      "outputs": []
    },
    {
      "cell_type": "code",
      "metadata": {
        "id": "z_Z5Beu3DcKf"
      },
      "source": [
        "dados.Target.value_counts()"
      ],
      "execution_count": null,
      "outputs": []
    },
    {
      "cell_type": "code",
      "metadata": {
        "id": "LPoZd78zDkY_"
      },
      "source": [
        "# Transformação das colunas restantes em numéricas: cada string única é transformada em uma coluna, se o registro existir para aquela coluna ela recebe 1 e zero para as demais colunas.\n",
        "dados = pd.get_dummies(dados)\n",
        "dados.head()"
      ],
      "execution_count": null,
      "outputs": []
    },
    {
      "cell_type": "code",
      "metadata": {
        "id": "Hyo_lrVCEBH2"
      },
      "source": [
        "ax = sns.countplot(x=\"Target\", data=dados)"
      ],
      "execution_count": null,
      "outputs": []
    },
    {
      "cell_type": "code",
      "metadata": {
        "id": "ogKJo0jRE97H"
      },
      "source": [
        "X = dados.drop(\"Target\", axis = 1)"
      ],
      "execution_count": null,
      "outputs": []
    },
    {
      "cell_type": "code",
      "metadata": {
        "id": "bNmeDA5iFH_x"
      },
      "source": [
        "y = dados.Target"
      ],
      "execution_count": 19,
      "outputs": []
    },
    {
      "cell_type": "code",
      "metadata": {
        "id": "noYcpaixFwdI"
      },
      "source": [
        "# Separando dados de treino e de teste, usando o padrão de 70-30\n",
        "\n",
        "X_train, X_test, y_train, y_test = train_test_split(X, y, random_state=None, stratify=y)"
      ],
      "execution_count": 20,
      "outputs": []
    },
    {
      "cell_type": "code",
      "metadata": {
        "id": "PyKWV-zAGQuX"
      },
      "source": [
        "# Treinando o algoritmo\n",
        "# Instanciando um algoritmo de classificação\n",
        "lrmodelo = LogisticRegression(max_iter=3000)\n",
        "lrmodelo.fit(X_train, y_train)"
      ],
      "execution_count": null,
      "outputs": []
    },
    {
      "cell_type": "code",
      "metadata": {
        "id": "sFiWfsC4Hf0U"
      },
      "source": [
        "y_pred = lrmodelo.predict(X_test)"
      ],
      "execution_count": 23,
      "outputs": []
    },
    {
      "cell_type": "code",
      "metadata": {
        "id": "gzCMBdvwHh1Z"
      },
      "source": [
        "accuracy_score(y_test, y_pred)"
      ],
      "execution_count": null,
      "outputs": []
    },
    {
      "cell_type": "code",
      "metadata": {
        "id": "6HUg0AcoHrLR"
      },
      "source": [
        "print (pd.crosstab(y_test, y_pred, rownames=['Real'], colnames=['Predito'], margins=True))"
      ],
      "execution_count": null,
      "outputs": []
    },
    {
      "cell_type": "markdown",
      "source": [
        "### Testando o undersampling"
      ],
      "metadata": {
        "id": "SGrAooVFya0d"
      }
    },
    {
      "cell_type": "code",
      "metadata": {
        "id": "4ZFh2ucBH0M3"
      },
      "source": [
        "nr = NearMiss()"
      ],
      "execution_count": 27,
      "outputs": []
    },
    {
      "cell_type": "code",
      "source": [
        "X,y = nr.fit_resample(X,y)"
      ],
      "metadata": {
        "id": "HFqL-L9rrqkh"
      },
      "execution_count": 28,
      "outputs": []
    },
    {
      "cell_type": "code",
      "metadata": {
        "id": "c-RMb1maIC4m"
      },
      "source": [
        "ax = sns.countplot(x=y)"
      ],
      "execution_count": null,
      "outputs": []
    },
    {
      "cell_type": "code",
      "metadata": {
        "id": "Nhea3ydcIHqN"
      },
      "source": [
        "X_train, X_test, y_train, y_test = train_test_split(X, y, random_state = None, stratify=y)"
      ],
      "execution_count": 32,
      "outputs": []
    },
    {
      "cell_type": "code",
      "metadata": {
        "id": "nIFJXzjUILxY"
      },
      "source": [
        "lrmodelo2 = LogisticRegression(max_iter=2000)"
      ],
      "execution_count": 33,
      "outputs": []
    },
    {
      "cell_type": "code",
      "metadata": {
        "id": "DCp7IDB2IQOM"
      },
      "source": [
        "# Treinando o algoritmo\n",
        "\n",
        "lrmodelo2.fit(X_train, y_train)"
      ],
      "execution_count": null,
      "outputs": []
    },
    {
      "cell_type": "code",
      "metadata": {
        "id": "Ka8Fe3hoIXsc"
      },
      "source": [
        "y_pred = lrmodelo2.predict(X_test)"
      ],
      "execution_count": 35,
      "outputs": []
    },
    {
      "cell_type": "code",
      "metadata": {
        "id": "M3ealeVxIcca"
      },
      "source": [
        "accuracy_score(y_test, y_pred)"
      ],
      "execution_count": null,
      "outputs": []
    },
    {
      "cell_type": "code",
      "metadata": {
        "id": "VrOHoZcFJejS"
      },
      "source": [
        "print (pd.crosstab(y_test, y_pred, rownames=['Real'], colnames=['Predito'], margins=True))"
      ],
      "execution_count": null,
      "outputs": []
    },
    {
      "cell_type": "markdown",
      "source": [
        "### Testando o SMOTE"
      ],
      "metadata": {
        "id": "j6Qof9LlysoN"
      }
    },
    {
      "cell_type": "code",
      "metadata": {
        "id": "UZwhiacDJh0e"
      },
      "source": [
        "X = dados.drop(\"Target\", axis = 1)\n",
        "y = dados.Target"
      ],
      "execution_count": 54,
      "outputs": []
    },
    {
      "cell_type": "code",
      "metadata": {
        "id": "o1zvWtgMJs2F"
      },
      "source": [
        "np.bincount(y)"
      ],
      "execution_count": null,
      "outputs": []
    },
    {
      "cell_type": "code",
      "metadata": {
        "id": "zuzcdccjJxbU"
      },
      "source": [
        "smt = SMOTE()"
      ],
      "execution_count": 56,
      "outputs": []
    },
    {
      "cell_type": "code",
      "metadata": {
        "id": "uKOoQZv1J0HT"
      },
      "source": [
        "X, y = smt.fit_resample(X, y)"
      ],
      "execution_count": 58,
      "outputs": []
    },
    {
      "cell_type": "code",
      "metadata": {
        "id": "CUmn0S0LJ8gd"
      },
      "source": [
        "ax = sns.countplot(x=y)"
      ],
      "execution_count": null,
      "outputs": []
    },
    {
      "cell_type": "code",
      "metadata": {
        "id": "ZtsBp5AcJ_NR"
      },
      "source": [
        "X_train, X_test, y_train, y_test = train_test_split(X, y, random_state = None, stratify=y)"
      ],
      "execution_count": 60,
      "outputs": []
    },
    {
      "cell_type": "code",
      "metadata": {
        "id": "uYBzx8gaKCdp"
      },
      "source": [
        "lrmodelo3 = LogisticRegression(max_iter=2500)"
      ],
      "execution_count": 61,
      "outputs": []
    },
    {
      "cell_type": "code",
      "metadata": {
        "id": "mi2YuHwBKGXD"
      },
      "source": [
        "lrmodelo3.fit(X_train, y_train)"
      ],
      "execution_count": null,
      "outputs": []
    },
    {
      "cell_type": "code",
      "metadata": {
        "id": "z2NY3PH6KKXd"
      },
      "source": [
        "y_pred = lrmodelo3.predict(X_test)"
      ],
      "execution_count": 63,
      "outputs": []
    },
    {
      "cell_type": "code",
      "metadata": {
        "id": "1pqGCS-DKOas"
      },
      "source": [
        "accuracy_score(y_test, y_pred)"
      ],
      "execution_count": null,
      "outputs": []
    }
  ]
}
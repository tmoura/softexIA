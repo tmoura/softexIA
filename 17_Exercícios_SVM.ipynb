{
  "nbformat": 4,
  "nbformat_minor": 0,
  "metadata": {
    "colab": {
      "provenance": [],
      "authorship_tag": "ABX9TyMbDUFqCeHEv7rA+z0gGfKS",
      "include_colab_link": true
    },
    "kernelspec": {
      "name": "python3",
      "display_name": "Python 3"
    },
    "language_info": {
      "name": "python"
    }
  },
  "cells": [
    {
      "cell_type": "markdown",
      "metadata": {
        "id": "view-in-github",
        "colab_type": "text"
      },
      "source": [
        "<a href=\"https://colab.research.google.com/github/tmoura/softexIA/blob/main/17_Exerc%C3%ADcios_SVM.ipynb\" target=\"_parent\"><img src=\"https://colab.research.google.com/assets/colab-badge.svg\" alt=\"Open In Colab\"/></a>"
      ]
    },
    {
      "cell_type": "markdown",
      "source": [
        "### Dataset de Classificação"
      ],
      "metadata": {
        "id": "PnBzARrsK3iX"
      }
    },
    {
      "cell_type": "code",
      "source": [
        "from sklearn.model_selection import train_test_split\n",
        "from sklearn import metrics\n",
        "import pandas as pd\n",
        "from sklearn.preprocessing import OneHotEncoder\n",
        "from sklearn.compose import make_column_transformer\n",
        "from sklearn import preprocessing\n",
        "from sklearn.svm import SVC\n",
        "\n",
        "# 1) Carregar o dataset através do url abaixo:\n",
        "\n",
        "url = \"https://raw.githubusercontent.com/intro-stat-learning/ISLP/main/ISLP/data/OJ.csv\"\n",
        "\n",
        "# 2) Fazer o One-Hot Encoder na coluna: \"Store7\"\n",
        "# 3) O target é a coluna: \"Purchase\", ela é categórica e deve virar numérica via LabelEncoder\n",
        "# 4) Normalizar todas as features\n",
        "# 5) Dividir os dados em treinamento e teste usando o \"train-test-split\"\n",
        "# 6) Treinar um SVC\n",
        "# 7) Variar os parâmetros do SVC até encontrar uma boa combinação:\n",
        "\n",
        "# Parâmetros default:\n",
        "\n",
        "# C=1.0\n",
        "# kernel{‘linear’, ‘poly’, ‘rbf’, ‘sigmoid’, ‘precomputed’} or callable, default=’rbf’\n",
        "# degree=3 (usado com kernel polinomial)\n",
        "\n",
        "# 8) Fazer o predict e mostrar o resultado da taxa de acerto em percentual"
      ],
      "metadata": {
        "id": "euDKHBBkW3hY"
      },
      "execution_count": null,
      "outputs": []
    },
    {
      "cell_type": "markdown",
      "source": [
        "### Dataset de Regressão"
      ],
      "metadata": {
        "id": "hdIDjQYpKPlI"
      }
    },
    {
      "cell_type": "code",
      "source": [
        "from sklearn.model_selection import train_test_split\n",
        "from sklearn.metrics import mean_squared_error\n",
        "import pandas as pd\n",
        "from sklearn.preprocessing import OneHotEncoder\n",
        "from sklearn.compose import make_column_transformer\n",
        "from sklearn import preprocessing\n",
        "from sklearn.svm import SVR\n",
        "\n",
        "# 1) Carregar o dataset através do url abaixo:\n",
        "\n",
        "url = \"https://raw.githubusercontent.com/intro-stat-learning/ISLP/main/ISLP/data/Carseats.csv\"\"\n",
        "\n",
        "# 2) Fazer o One-Hot Encoder nas colunas: 'ShelveLoc','Urban','US'\n",
        "# 3) O target é a coluna: \"Sales\", ela é numérica, não precisa codificar\n",
        "# 4) Normalizar todas as features\n",
        "# 5) Dividir os dados em treinamento e teste usando o \"train-test-split\"\n",
        "# 6) Treinar um SVR\n",
        "# 7) Variar os parâmetros do SVR até encontrar uma boa combinação:\n",
        "\n",
        "# Parâmetros default:\n",
        "\n",
        "# C=1.0\n",
        "# kernel{‘linear’, ‘poly’, ‘rbf’, ‘sigmoid’, ‘precomputed’} or callable, default=’rbf’\n",
        "# epsilon=0.1\n",
        "# degree=3 (usado com kernel polinomial)\n",
        "\n",
        "# 8) Fazer o predict e mostrar o resultado da taxa de de erro usando o \"mean_squared_error\""
      ],
      "metadata": {
        "id": "PsP1XLela3E4"
      },
      "execution_count": null,
      "outputs": []
    }
  ]
}
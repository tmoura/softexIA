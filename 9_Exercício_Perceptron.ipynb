{
  "nbformat": 4,
  "nbformat_minor": 0,
  "metadata": {
    "colab": {
      "provenance": [],
      "authorship_tag": "ABX9TyPRFidk2bZm8HjIvDvAziRT",
      "include_colab_link": true
    },
    "kernelspec": {
      "name": "python3",
      "display_name": "Python 3"
    },
    "language_info": {
      "name": "python"
    }
  },
  "cells": [
    {
      "cell_type": "markdown",
      "metadata": {
        "id": "view-in-github",
        "colab_type": "text"
      },
      "source": [
        "<a href=\"https://colab.research.google.com/github/tmoura/softexIA/blob/main/9_Exerc%C3%ADcio_Perceptron.ipynb\" target=\"_parent\"><img src=\"https://colab.research.google.com/assets/colab-badge.svg\" alt=\"Open In Colab\"/></a>"
      ]
    },
    {
      "cell_type": "markdown",
      "source": [
        "### Perceptron"
      ],
      "metadata": {
        "id": "xjDzeXKjaqDW"
      }
    },
    {
      "cell_type": "code",
      "source": [
        "import numpy as np\n",
        "class Perceptron:\n",
        "\n",
        "  def __init__(self, teta, w, n, epochs):\n",
        "\n",
        "    self.teta = teta\n",
        "    self.w = w\n",
        "    self.n = n\n",
        "    self.epochs = epochs\n",
        "\n",
        "  def train_perceptron(self,train_x,train_y):\n",
        "\n",
        "    for i in range(self.epochs):\n",
        "      for j in range(len(train_x)):\n",
        "\n",
        "        u = sum(np.array(self.w) * np.array(train_x[j])) - self.teta # Função de Ativação\n",
        "\n",
        "        y = 1 if u >= 0 else 0 # Função de Saída\n",
        "\n",
        "        erro = train_y[j] - y\n",
        "\n",
        "        self.w = list(np.array(self.w) + (self.n * np.array(train_x[j]) * erro))\n",
        "\n",
        "        self.teta = self.teta + (self.n * -1 * erro)\n",
        "\n",
        "  def predict_perceptron(self,test_x):\n",
        "\n",
        "    results = []\n",
        "\n",
        "    for i in range(len(test_x)):\n",
        "\n",
        "        u = sum(np.array(self.w) * np.array(test_x[i])) - self.teta\n",
        "\n",
        "        r = 1 if u >= 0 else 0\n",
        "        results.append(r)\n",
        "\n",
        "    return results"
      ],
      "metadata": {
        "id": "ZdAbFOMDams4"
      },
      "execution_count": 130,
      "outputs": []
    },
    {
      "cell_type": "markdown",
      "source": [
        "### Perceptron para resolver o AND e o OR"
      ],
      "metadata": {
        "id": "rJlVbBLwaRcs"
      }
    },
    {
      "cell_type": "code",
      "execution_count": 131,
      "metadata": {
        "id": "_8llK0U5aF6C"
      },
      "outputs": [],
      "source": [
        "############ AND\n",
        "\n",
        "x = np.array([[0, 0], [0, 1], [1, 0], [1, 1]])\n",
        "y = np.array([0, 0, 0, 1])\n",
        "\n",
        "############ OR\n",
        "\n",
        "#y = np.array([0, 1, 1, 1])"
      ]
    },
    {
      "cell_type": "code",
      "source": [
        "## 1) Inicializar os parâmetros do Perceptron (de forma aleatória ou com 0 (zero))\n",
        "## 2) Treinar o AND e depois fazer o predict com a matriz x\n",
        "## 3) Treinar o OR e depois fazer o predict com a matriz x"
      ],
      "metadata": {
        "id": "ULXllsowbaZu"
      },
      "execution_count": null,
      "outputs": []
    },
    {
      "cell_type": "markdown",
      "source": [
        "### Base de Classificação Sintética"
      ],
      "metadata": {
        "id": "pCZqZg8BeoSa"
      }
    },
    {
      "cell_type": "code",
      "source": [
        "## Função para plotar o dataset com o perceptron\n",
        "\n",
        "def plot_linear_classifier(x, y, w, teta):\n",
        "    x1_min, x1_max = x[:,0].min(), x[:,0].max()\n",
        "    x2_min, x2_max = x[:,1].min(), x[:,1].max()\n",
        "\n",
        "    x1, x2 = np.meshgrid(np.linspace(x1_min-1, x1_max+1,100), np.linspace(x2_min-1, x2_max+1, 100))\n",
        "    x_mesh = np.array([x1.ravel(), x2.ravel()]).T\n",
        "\n",
        "    plt.scatter(x[:,0], x[:,1], c=y.ravel(), cmap='bwr')\n",
        "\n",
        "    y_mesh = np.dot(x_mesh, np.array(w).reshape(1, -1).T) + teta\n",
        "    y_mesh = np.where(y_mesh <= 0, 0, 1)\n",
        "\n",
        "    plt.contourf(x1, x2, y_mesh.reshape(x1.shape), cmap='bwr', alpha=0.5)\n",
        "    plt.xlim(x1_min-1, x1_max+1)\n",
        "    plt.ylim(x2_min-1, x2_max+1)"
      ],
      "metadata": {
        "id": "MYzy5jeKfFAj"
      },
      "execution_count": 137,
      "outputs": []
    },
    {
      "cell_type": "code",
      "source": [
        "import matplotlib.pyplot as plt\n",
        "from sklearn.datasets import make_blobs\n",
        "\n",
        "x, y = make_blobs(n_samples=100, n_features=2, centers=2, random_state=1234) # Gerar dataset com 2 clusters\n",
        "\n",
        "## 4) Inicializar os parâmetros do Perceptron (de forma aleatória ou com 0 (zero))\n",
        "## 5) Treinar o Perceptron\n",
        "## 6) Plotar o dataset com os parâmetros do Perceptron usando a função \"plot_linear_classifier\""
      ],
      "metadata": {
        "id": "DQ9XncebewoF"
      },
      "execution_count": null,
      "outputs": []
    },
    {
      "cell_type": "code",
      "source": [
        "from sklearn import metrics\n",
        "\n",
        "## 7) Fazer o predict do Perceptron usando a matriz x\n",
        "## 8) Calcular a acurácia com a função: \"accuracy_score\" e printar o resultado"
      ],
      "metadata": {
        "id": "ruhqoJ_0lDZn"
      },
      "execution_count": null,
      "outputs": []
    },
    {
      "cell_type": "markdown",
      "source": [
        "### Dataset Sintético"
      ],
      "metadata": {
        "id": "EHcAJSG96fME"
      }
    },
    {
      "cell_type": "code",
      "source": [
        "import pandas as pd\n",
        "\n",
        "df = pd.DataFrame(columns=('x1', 'x2'), data=np.random.uniform(size=(600,2)))\n",
        "\n",
        "\n",
        "\n",
        "#### Plotar o Dataset Sintético\n",
        "fig = plt.figure(figsize=(10,10))\n",
        "ax = fig.gca()\n",
        "\n",
        "def testing(inputs):\n",
        "    answer = int(np.sum(inputs) > 1)\n",
        "    return answer\n",
        "\n",
        "df['y'] = df.apply(testing, axis=1)\n",
        "\n",
        "df[df.y==1].plot(kind='scatter', ax=ax, x='x1', y='x2', color='blue')\n",
        "df[df.y==0].plot(kind='scatter', ax=ax, x='x1', y='x2', color='red')\n",
        "plt.grid()\n",
        "plt.title('Dataset')\n",
        "ax.set_xlim(-0.1,1.1)\n",
        "ax.set_ylim(-0.1,1.1)"
      ],
      "metadata": {
        "id": "RMXiSvoM6jTc"
      },
      "execution_count": null,
      "outputs": []
    },
    {
      "cell_type": "code",
      "source": [
        "y = df['y'] # extrai a primeira coluna, que é o label\n",
        "X = df.loc[:, 'x1':'x2']"
      ],
      "metadata": {
        "id": "2GdowvOA7vOU"
      },
      "execution_count": 140,
      "outputs": []
    },
    {
      "cell_type": "code",
      "source": [
        "from sklearn.model_selection import train_test_split\n",
        "\n",
        "## 9) Separar os dados em treinamento e teste\n",
        "## 10) Inicializar o Perceptron com os parâmetros necessários\n",
        "## 11) Converter os conjuntos em list, ex: \"train_x = X_train.values.tolist()\"\n",
        "## 12) Treinar o perceptron"
      ],
      "metadata": {
        "id": "_qH9tSeVBHW0"
      },
      "execution_count": 146,
      "outputs": []
    },
    {
      "cell_type": "code",
      "source": [
        "from sklearn import metrics\n",
        "\n",
        "## 13) Fazer o predict do Perceptron usando a matriz x\n",
        "## 14) Calcular a acurácia com a função: \"accuracy_score\" e printar o resultado"
      ],
      "metadata": {
        "id": "-JCZXEMDCOOs"
      },
      "execution_count": null,
      "outputs": []
    }
  ]
}
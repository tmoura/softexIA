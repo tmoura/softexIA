{
  "nbformat": 4,
  "nbformat_minor": 0,
  "metadata": {
    "colab": {
      "provenance": [],
      "include_colab_link": true
    },
    "kernelspec": {
      "name": "python3",
      "display_name": "Python 3"
    },
    "language_info": {
      "name": "python"
    }
  },
  "cells": [
    {
      "cell_type": "markdown",
      "metadata": {
        "id": "view-in-github",
        "colab_type": "text"
      },
      "source": [
        "<a href=\"https://colab.research.google.com/github/tmoura/softexIA/blob/main/FeatureSelection.ipynb\" target=\"_parent\"><img src=\"https://colab.research.google.com/assets/colab-badge.svg\" alt=\"Open In Colab\"/></a>"
      ]
    },
    {
      "cell_type": "markdown",
      "source": [],
      "metadata": {
        "id": "THZAd6mxdfXN"
      }
    },
    {
      "cell_type": "markdown",
      "source": [
        "### Carregando o dataset Exames"
      ],
      "metadata": {
        "id": "eUwCYCNodlPy"
      }
    },
    {
      "cell_type": "code",
      "metadata": {
        "id": "P4dO_BS1UTW0"
      },
      "source": [
        "import pandas as pd\n",
        "\n",
        "url = \"https://raw.githubusercontent.com/tmoura/machinelearning/master/datasets/exames.csv\"\n",
        "dados = pd.read_csv(url)"
      ],
      "execution_count": 93,
      "outputs": []
    },
    {
      "cell_type": "code",
      "metadata": {
        "id": "IwCE4ES5U-lZ"
      },
      "source": [
        "dados.head(10)"
      ],
      "execution_count": null,
      "outputs": []
    },
    {
      "cell_type": "code",
      "metadata": {
        "id": "ee43tFvUXe2D"
      },
      "source": [
        "dados.shape"
      ],
      "execution_count": null,
      "outputs": []
    },
    {
      "cell_type": "code",
      "metadata": {
        "id": "L-8ZDXOVVCzg"
      },
      "source": [
        "y = dados['diagnostico']\n",
        "\n",
        "y"
      ],
      "execution_count": null,
      "outputs": []
    },
    {
      "cell_type": "code",
      "metadata": {
        "id": "M1wq6EdWfpd4"
      },
      "source": [
        "#verificando se há nulos nas colunas\n",
        "dados.isnull().sum()"
      ],
      "execution_count": null,
      "outputs": []
    },
    {
      "cell_type": "code",
      "metadata": {
        "id": "jvvmC-WiVn-m"
      },
      "source": [
        "X = dados[['exame_1',\t'exame_2',\t'exame_3',\t'exame_4',\t'exame_5',\t'exame_6',\t'exame_7',\t'exame_8',\t'exame_9',\t'exame_10',\t'exame_11', 'exame_12',\t'exame_13',\t'exame_14',\t'exame_15',\t'exame_16',\t'exame_17',\t'exame_18',\t'exame_19',\t'exame_20',\t'exame_21',\t'exame_22',\t'exame_23',\t'exame_24',\t'exame_25',\t'exame_26',\t'exame_27',\t'exame_28',\t'exame_29',\t'exame_30',\t'exame_31',\t'exame_32']]"
      ],
      "execution_count": 95,
      "outputs": []
    },
    {
      "cell_type": "markdown",
      "source": [
        "### Usando o SelectKBest com f_classif\n"
      ],
      "metadata": {
        "id": "7XlDvkumLyAq"
      }
    },
    {
      "cell_type": "code",
      "metadata": {
        "id": "yKfabV5-OSL8"
      },
      "source": [
        "from sklearn.feature_selection import SelectKBest\n",
        "from sklearn.feature_selection import f_classif"
      ],
      "execution_count": 96,
      "outputs": []
    },
    {
      "cell_type": "code",
      "metadata": {
        "id": "Svd2H8g-Wr9Y"
      },
      "source": [
        "# O SelectKBest pode ser usado com várias funções, aqui usamos a f_classif (dados numéricos e variável alvo categórica)\n",
        "\n",
        "f_classifteste = SelectKBest(score_func=f_classif,k=10)"
      ],
      "execution_count": 97,
      "outputs": []
    },
    {
      "cell_type": "code",
      "metadata": {
        "id": "Fwz7MbqPYYLv"
      },
      "source": [
        "modelofeat = f_classifteste.fit(X,y)\n",
        "\n",
        "modelofeat.get_feature_names_out()"
      ],
      "execution_count": null,
      "outputs": []
    },
    {
      "cell_type": "code",
      "source": [
        "modelofeat.scores_\n",
        "\n",
        "#modelofeat.n_features_in_"
      ],
      "metadata": {
        "id": "r1-6zcx36CuQ"
      },
      "execution_count": null,
      "outputs": []
    },
    {
      "cell_type": "code",
      "metadata": {
        "id": "S7laKu5NaMkW"
      },
      "source": [
        "# identificando os nomes das features escolhidas\n",
        "cols = modelofeat.get_support(indices=True)\n",
        "X.iloc[:,cols]"
      ],
      "execution_count": null,
      "outputs": []
    },
    {
      "cell_type": "markdown",
      "source": [
        "### Usando o SelectKBest com qui quadrado"
      ],
      "metadata": {
        "id": "s-FXLHqFL9RH"
      }
    },
    {
      "cell_type": "code",
      "metadata": {
        "id": "YCQkCSugkXAm"
      },
      "source": [
        "# usando o qui-quadrado para testar... qui quadrado é melhor quando as variáveis são categóricas e a alvo também\n",
        "from sklearn.feature_selection import SelectKBest\n",
        "from sklearn.feature_selection import chi2"
      ],
      "execution_count": 105,
      "outputs": []
    },
    {
      "cell_type": "code",
      "metadata": {
        "id": "FrU1I_Omkk_z"
      },
      "source": [
        "testechi = SelectKBest(chi2,k=10)\n",
        "testechifeat = testechi.fit(X,y)"
      ],
      "execution_count": 106,
      "outputs": []
    },
    {
      "cell_type": "code",
      "metadata": {
        "id": "uCFM1oFLkzoD"
      },
      "source": [
        "# mostrando o índice das melhores features apontadas pelo qui quadrado\n",
        "testechifeat.get_support(indices=True)"
      ],
      "execution_count": null,
      "outputs": []
    },
    {
      "cell_type": "code",
      "metadata": {
        "id": "SSq6AVFKcwNY"
      },
      "source": [
        "# identificando os nomes das features escolhidas\n",
        "cols = testechifeat.get_support(indices=True)\n",
        "X.iloc[:,cols]"
      ],
      "execution_count": null,
      "outputs": []
    },
    {
      "cell_type": "markdown",
      "source": [
        "### *Recursive Filter Elimination* (RFE) - método wrapper"
      ],
      "metadata": {
        "id": "HudwUOJpLok7"
      }
    },
    {
      "cell_type": "code",
      "metadata": {
        "id": "hykqDbzLOCWC"
      },
      "source": [
        "from sklearn.linear_model import LogisticRegression\n",
        "from sklearn.feature_selection import RFE"
      ],
      "execution_count": 109,
      "outputs": []
    },
    {
      "cell_type": "code",
      "metadata": {
        "id": "HkDMwf5PRotX"
      },
      "source": [
        "modelo1 = LogisticRegression(max_iter=2000)"
      ],
      "execution_count": 110,
      "outputs": []
    },
    {
      "cell_type": "code",
      "metadata": {
        "id": "gdgeiMm4R_Fe"
      },
      "source": [
        "rfe = RFE(modelo1,n_features_to_select=10)"
      ],
      "execution_count": 112,
      "outputs": []
    },
    {
      "cell_type": "code",
      "metadata": {
        "id": "AhfoPAGHSUyx"
      },
      "source": [
        "fitrfe = rfe.fit(X,y)"
      ],
      "execution_count": 113,
      "outputs": []
    },
    {
      "cell_type": "code",
      "metadata": {
        "id": "xR3zDulNsKpT"
      },
      "source": [
        "cols = fitrfe.get_support(indices=True)\n",
        "X.iloc[:,cols]"
      ],
      "execution_count": null,
      "outputs": []
    },
    {
      "cell_type": "markdown",
      "source": [
        "### Feature Importance com Árvore de Decisão"
      ],
      "metadata": {
        "id": "bfkCoOIcLjPH"
      }
    },
    {
      "cell_type": "code",
      "metadata": {
        "id": "MOeXRKmEODFe"
      },
      "source": [
        "from sklearn.tree import DecisionTreeClassifier\n",
        "import matplotlib.pyplot as plt"
      ],
      "execution_count": 115,
      "outputs": []
    },
    {
      "cell_type": "code",
      "metadata": {
        "id": "5j-FqA5hOkmx"
      },
      "source": [
        "modelo2 = DecisionTreeClassifier()\n",
        "modelo2.fit(X,y)"
      ],
      "execution_count": null,
      "outputs": []
    },
    {
      "cell_type": "code",
      "metadata": {
        "id": "OYGrzPSUOz4t"
      },
      "source": [
        "print(modelo2.feature_importances_)"
      ],
      "execution_count": null,
      "outputs": []
    },
    {
      "cell_type": "code",
      "metadata": {
        "id": "uEboJ2K1PCwd"
      },
      "source": [
        "feat_importances = pd.Series(modelo2.feature_importances_, index = X.columns)\n",
        "feat_importances.nlargest(10).plot(kind='barh')\n",
        "plt.show()"
      ],
      "execution_count": null,
      "outputs": []
    },
    {
      "cell_type": "markdown",
      "source": [
        "### Feature Importance com RandomForest"
      ],
      "metadata": {
        "id": "P9o-GLBddBGP"
      }
    },
    {
      "cell_type": "code",
      "metadata": {
        "id": "aGNYA43KP1lL"
      },
      "source": [
        "# Usando Random Forest\n",
        "from sklearn.ensemble import RandomForestClassifier\n",
        "import matplotlib.pyplot as plt"
      ],
      "execution_count": 121,
      "outputs": []
    },
    {
      "cell_type": "code",
      "metadata": {
        "id": "ncHIJS0xuHq6"
      },
      "source": [
        "modelo3 = RandomForestClassifier(n_estimators=20)\n",
        "modelo3.fit(X,y)"
      ],
      "execution_count": null,
      "outputs": []
    },
    {
      "cell_type": "code",
      "metadata": {
        "id": "jiZkztseuYlh"
      },
      "source": [
        "print(modelo3.feature_importances_)"
      ],
      "execution_count": null,
      "outputs": []
    },
    {
      "cell_type": "code",
      "metadata": {
        "id": "QaPRZdD1ufia"
      },
      "source": [
        "feat_importances = pd.DataFrame(modelo3.feature_importances_, index = X.columns, columns=['importance']).sort_values('importance', ascending = False)\n",
        "\n",
        "feat_importances"
      ],
      "execution_count": null,
      "outputs": []
    },
    {
      "cell_type": "code",
      "metadata": {
        "id": "k0hJSG5Hv4QX"
      },
      "source": [
        "feat_importances.plot(kind='bar')\n",
        "plt.show()"
      ],
      "execution_count": null,
      "outputs": []
    }
  ]
}
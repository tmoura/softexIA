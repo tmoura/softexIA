{
  "nbformat": 4,
  "nbformat_minor": 0,
  "metadata": {
    "colab": {
      "provenance": [],
      "include_colab_link": true
    },
    "kernelspec": {
      "name": "python3",
      "display_name": "Python 3"
    },
    "language_info": {
      "name": "python"
    }
  },
  "cells": [
    {
      "cell_type": "markdown",
      "metadata": {
        "id": "view-in-github",
        "colab_type": "text"
      },
      "source": [
        "<a href=\"https://colab.research.google.com/github/tmoura/softexIA/blob/main/FeatureSelection.ipynb\" target=\"_parent\"><img src=\"https://colab.research.google.com/assets/colab-badge.svg\" alt=\"Open In Colab\"/></a>"
      ]
    },
    {
      "cell_type": "code",
      "metadata": {
        "id": "P4dO_BS1UTW0"
      },
      "source": [
        "import pandas as pd"
      ],
      "execution_count": null,
      "outputs": []
    },
    {
      "cell_type": "code",
      "source": [
        "from google.colab import drive\n",
        "drive.mount('/content/drive')"
      ],
      "metadata": {
        "colab": {
          "base_uri": "https://localhost:8080/"
        },
        "id": "IZ3POyp6R4m5",
        "outputId": "b37549a8-4ed2-4a07-b64b-eeceef5c5bdf"
      },
      "execution_count": null,
      "outputs": [
        {
          "output_type": "stream",
          "name": "stdout",
          "text": [
            "Mounted at /content/drive\n"
          ]
        }
      ]
    },
    {
      "cell_type": "code",
      "source": [
        "dados = pd.read_csv('/content/drive/MyDrive/Datasets/exames.csv')"
      ],
      "metadata": {
        "id": "tpRthrYERkAq"
      },
      "execution_count": null,
      "outputs": []
    },
    {
      "cell_type": "code",
      "metadata": {
        "id": "IwCE4ES5U-lZ"
      },
      "source": [
        "dados.head(10)"
      ],
      "execution_count": null,
      "outputs": []
    },
    {
      "cell_type": "code",
      "metadata": {
        "id": "ee43tFvUXe2D",
        "colab": {
          "base_uri": "https://localhost:8080/"
        },
        "outputId": "e471d1bf-bb86-4ae9-f547-e2ba45265f99"
      },
      "source": [
        "dados.shape"
      ],
      "execution_count": null,
      "outputs": [
        {
          "output_type": "execute_result",
          "data": {
            "text/plain": [
              "(569, 35)"
            ]
          },
          "metadata": {},
          "execution_count": 5
        }
      ]
    },
    {
      "cell_type": "code",
      "metadata": {
        "id": "gQw-WzEoSMt0"
      },
      "source": [
        "dados"
      ],
      "execution_count": null,
      "outputs": []
    },
    {
      "cell_type": "code",
      "metadata": {
        "id": "L-8ZDXOVVCzg"
      },
      "source": [
        "y = dados['diagnostico']\n"
      ],
      "execution_count": null,
      "outputs": []
    },
    {
      "cell_type": "code",
      "metadata": {
        "id": "lApNxchrUJ7N"
      },
      "source": [
        "y"
      ],
      "execution_count": null,
      "outputs": []
    },
    {
      "cell_type": "code",
      "metadata": {
        "id": "M1wq6EdWfpd4"
      },
      "source": [
        "#verificando se há nulos nas colunas\n",
        "dados.isnull().sum()"
      ],
      "execution_count": null,
      "outputs": []
    },
    {
      "cell_type": "code",
      "metadata": {
        "id": "jvvmC-WiVn-m"
      },
      "source": [
        "X = dados[['exame_1',\t'exame_2',\t'exame_3',\t'exame_4',\t'exame_5',\t'exame_6',\t'exame_7',\t'exame_8',\t'exame_9',\t'exame_10',\t'exame_11', 'exame_12',\t'exame_13',\t'exame_14',\t'exame_15',\t'exame_16',\t'exame_17',\t'exame_18',\t'exame_19',\t'exame_20',\t'exame_21',\t'exame_22',\t'exame_23',\t'exame_24',\t'exame_25',\t'exame_26',\t'exame_27',\t'exame_28',\t'exame_29',\t'exame_30',\t'exame_31',\t'exame_32']]"
      ],
      "execution_count": null,
      "outputs": []
    },
    {
      "cell_type": "code",
      "metadata": {
        "id": "CLbJnq2bLv-y"
      },
      "source": [
        "#dados_temp = dados.iloc[:,2:30]\n",
        "#X = dados_temp.drop(['id'],0)\n"
      ],
      "execution_count": null,
      "outputs": []
    },
    {
      "cell_type": "code",
      "metadata": {
        "id": "JCKWNZbJTpRg"
      },
      "source": [
        "X\n"
      ],
      "execution_count": null,
      "outputs": []
    },
    {
      "cell_type": "code",
      "metadata": {
        "id": "yKfabV5-OSL8"
      },
      "source": [
        "from sklearn.feature_selection import SelectKBest\n",
        "from sklearn.feature_selection import f_classif"
      ],
      "execution_count": null,
      "outputs": []
    },
    {
      "cell_type": "code",
      "metadata": {
        "id": "Svd2H8g-Wr9Y"
      },
      "source": [
        "# O SelectKBest pode ser usado com várias funções, aqui usamos a f_classif (dados numéricos e variável alvo categórica)\n",
        "\n",
        "f_classifteste = SelectKBest(score_func=f_classif,k=10)"
      ],
      "execution_count": null,
      "outputs": []
    },
    {
      "cell_type": "code",
      "metadata": {
        "id": "Fwz7MbqPYYLv"
      },
      "source": [
        "modelofeat = f_classifteste.fit(X,y)"
      ],
      "execution_count": null,
      "outputs": []
    },
    {
      "cell_type": "code",
      "metadata": {
        "id": "XFekygG2YiMJ"
      },
      "source": [
        "features = modelofeat.transform(X)"
      ],
      "execution_count": null,
      "outputs": []
    },
    {
      "cell_type": "code",
      "metadata": {
        "id": "NDRXwiRsYnxy",
        "colab": {
          "base_uri": "https://localhost:8080/"
        },
        "outputId": "76dc1d77-e3bd-49e4-c959-3764b92fba98"
      },
      "source": [
        "print(features)"
      ],
      "execution_count": null,
      "outputs": [
        {
          "output_type": "stream",
          "name": "stdout",
          "text": [
            "[[1.799e+01 1.228e+02 1.001e+03 ... 2.019e+03 7.119e-01 2.654e-01]\n",
            " [2.057e+01 1.329e+02 1.326e+03 ... 1.956e+03 2.416e-01 1.860e-01]\n",
            " [1.969e+01 1.300e+02 1.203e+03 ... 1.709e+03 4.504e-01 2.430e-01]\n",
            " ...\n",
            " [1.660e+01 1.083e+02 8.581e+02 ... 1.124e+03 3.403e-01 1.418e-01]\n",
            " [2.060e+01 1.401e+02 1.265e+03 ... 1.821e+03 9.387e-01 2.650e-01]\n",
            " [7.760e+00 4.792e+01 1.810e+02 ... 2.686e+02 0.000e+00 0.000e+00]]\n"
          ]
        }
      ]
    },
    {
      "cell_type": "code",
      "metadata": {
        "id": "S7laKu5NaMkW"
      },
      "source": [
        "# identificando os nomes das features escolhidas\n",
        "cols = modelofeat.get_support(indices=True)\n",
        "X.iloc[:,cols]"
      ],
      "execution_count": null,
      "outputs": []
    },
    {
      "cell_type": "code",
      "metadata": {
        "id": "YCQkCSugkXAm"
      },
      "source": [
        "# usando o qui-quadrado para testar... qui quadrado é melhor quando as variáveis são categóricas e a alvo também\n",
        "\n",
        "from sklearn.feature_selection import SelectKBest\n",
        "from sklearn.feature_selection import chi2\n"
      ],
      "execution_count": null,
      "outputs": []
    },
    {
      "cell_type": "code",
      "metadata": {
        "id": "FrU1I_Omkk_z"
      },
      "source": [
        "testechi = SelectKBest(chi2,k=10)\n",
        "testechifeat = testechi.fit(X,y)"
      ],
      "execution_count": null,
      "outputs": []
    },
    {
      "cell_type": "code",
      "metadata": {
        "id": "uCFM1oFLkzoD",
        "colab": {
          "base_uri": "https://localhost:8080/"
        },
        "outputId": "c6c66fc2-34ec-4cbf-8f7a-90dcf6d96c73"
      },
      "source": [
        "# mostrando o índice das melhores features apontadas pelo qui quadrado\n",
        "testechifeat.get_support(indices=True)"
      ],
      "execution_count": null,
      "outputs": [
        {
          "output_type": "execute_result",
          "data": {
            "text/plain": [
              "array([ 0,  1,  2,  4, 13, 14, 21, 22, 23, 24])"
            ]
          },
          "metadata": {},
          "execution_count": 20
        }
      ]
    },
    {
      "cell_type": "code",
      "metadata": {
        "id": "0j8xCVlalPqf"
      },
      "source": [
        "features1 = testechifeat.transform(X)"
      ],
      "execution_count": null,
      "outputs": []
    },
    {
      "cell_type": "code",
      "metadata": {
        "id": "NOPZvqtPlZeu"
      },
      "source": [
        "print(features1)"
      ],
      "execution_count": null,
      "outputs": []
    },
    {
      "cell_type": "code",
      "metadata": {
        "id": "SSq6AVFKcwNY"
      },
      "source": [
        "# identificando os nomes das features escolhidas\n",
        "cols = testechifeat.get_support(indices=True)\n",
        "X.iloc[:,cols]"
      ],
      "execution_count": null,
      "outputs": []
    },
    {
      "cell_type": "code",
      "metadata": {
        "id": "i5ASTn6TOCE6"
      },
      "source": [
        "# Recursive Filter Elimination (RFE) - método wrapper"
      ],
      "execution_count": null,
      "outputs": []
    },
    {
      "cell_type": "code",
      "metadata": {
        "id": "hykqDbzLOCWC"
      },
      "source": [
        "from sklearn.linear_model import LogisticRegression\n",
        "from sklearn.feature_selection import RFE\n"
      ],
      "execution_count": null,
      "outputs": []
    },
    {
      "cell_type": "code",
      "metadata": {
        "id": "HkDMwf5PRotX"
      },
      "source": [
        "modelo1 = LogisticRegression(max_iter=2000)"
      ],
      "execution_count": null,
      "outputs": []
    },
    {
      "cell_type": "code",
      "metadata": {
        "id": "gdgeiMm4R_Fe"
      },
      "source": [
        "rfe = RFE(modelo1,n_features_to_select=10)"
      ],
      "execution_count": null,
      "outputs": []
    },
    {
      "cell_type": "code",
      "metadata": {
        "id": "AhfoPAGHSUyx"
      },
      "source": [
        "fitrfe = rfe.fit(X,y)"
      ],
      "execution_count": null,
      "outputs": []
    },
    {
      "cell_type": "code",
      "metadata": {
        "id": "UAtzfG1hrnQh",
        "colab": {
          "base_uri": "https://localhost:8080/"
        },
        "outputId": "42b65d83-c3d5-48d7-c405-fff57f9a0bad"
      },
      "source": [
        "print(\"Número de features: {}\".format(fitrfe.n_features_))"
      ],
      "execution_count": null,
      "outputs": [
        {
          "output_type": "stream",
          "name": "stdout",
          "text": [
            "Número de features: 10\n"
          ]
        }
      ]
    },
    {
      "cell_type": "code",
      "metadata": {
        "id": "xR3zDulNsKpT"
      },
      "source": [
        "cols = fitrfe.get_support(indices=True)\n",
        "X.iloc[:,cols]"
      ],
      "execution_count": null,
      "outputs": []
    },
    {
      "cell_type": "code",
      "metadata": {
        "id": "EOX05o-RN_g0"
      },
      "source": [
        "# Feature Importance"
      ],
      "execution_count": null,
      "outputs": []
    },
    {
      "cell_type": "code",
      "metadata": {
        "id": "MOeXRKmEODFe"
      },
      "source": [
        "from sklearn.ensemble import ExtraTreesClassifier\n",
        "import matplotlib.pyplot as plt\n"
      ],
      "execution_count": null,
      "outputs": []
    },
    {
      "cell_type": "code",
      "metadata": {
        "id": "5j-FqA5hOkmx"
      },
      "source": [
        "modelo2 = ExtraTreesClassifier()"
      ],
      "execution_count": null,
      "outputs": []
    },
    {
      "cell_type": "code",
      "metadata": {
        "id": "i-yaBugnOtZm"
      },
      "source": [
        "modelo2.fit(X,y)"
      ],
      "execution_count": null,
      "outputs": []
    },
    {
      "cell_type": "code",
      "metadata": {
        "id": "OYGrzPSUOz4t"
      },
      "source": [
        "print(modelo2.feature_importances_)"
      ],
      "execution_count": null,
      "outputs": []
    },
    {
      "cell_type": "code",
      "metadata": {
        "id": "uEboJ2K1PCwd"
      },
      "source": [
        "feat_importances = pd.Series(modelo2.feature_importances_,index = X.columns)\n",
        "feat_importances.nlargest(10).plot(kind='barh')\n",
        "plt.show()"
      ],
      "execution_count": null,
      "outputs": []
    },
    {
      "cell_type": "code",
      "metadata": {
        "id": "aGNYA43KP1lL"
      },
      "source": [
        "# Usando Random Forest\n",
        "from sklearn.ensemble import RandomForestClassifier\n",
        "import matplotlib.pyplot as plt"
      ],
      "execution_count": null,
      "outputs": []
    },
    {
      "cell_type": "code",
      "metadata": {
        "id": "ncHIJS0xuHq6"
      },
      "source": [
        "modelo3 = RandomForestClassifier(n_estimators=20)"
      ],
      "execution_count": null,
      "outputs": []
    },
    {
      "cell_type": "code",
      "metadata": {
        "id": "-z71KLTyuSKb"
      },
      "source": [
        "modelo3.fit(X,y)"
      ],
      "execution_count": null,
      "outputs": []
    },
    {
      "cell_type": "code",
      "metadata": {
        "id": "jiZkztseuYlh"
      },
      "source": [
        "print(modelo3.feature_importances_)"
      ],
      "execution_count": null,
      "outputs": []
    },
    {
      "cell_type": "code",
      "metadata": {
        "id": "QaPRZdD1ufia"
      },
      "source": [
        "feat_importances = pd.DataFrame(modelo3.feature_importances_,index = X.columns,columns=['importance']).sort_values('importance', ascending = False)\n"
      ],
      "execution_count": null,
      "outputs": []
    },
    {
      "cell_type": "code",
      "metadata": {
        "id": "aU65rLnrwyni"
      },
      "source": [
        "feat_importances"
      ],
      "execution_count": null,
      "outputs": []
    },
    {
      "cell_type": "code",
      "metadata": {
        "id": "k0hJSG5Hv4QX"
      },
      "source": [
        "feat_importances.plot(kind='bar')\n",
        "plt.show()"
      ],
      "execution_count": null,
      "outputs": []
    }
  ]
}
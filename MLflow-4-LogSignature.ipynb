{
  "nbformat": 4,
  "nbformat_minor": 0,
  "metadata": {
    "colab": {
      "provenance": [],
      "authorship_tag": "ABX9TyNQ8JiIQvsvLMtQdhOqnZG8",
      "include_colab_link": true
    },
    "kernelspec": {
      "name": "python3",
      "display_name": "Python 3"
    },
    "language_info": {
      "name": "python"
    }
  },
  "cells": [
    {
      "cell_type": "markdown",
      "metadata": {
        "id": "view-in-github",
        "colab_type": "text"
      },
      "source": [
        "<a href=\"https://colab.research.google.com/github/tmoura/softexIA/blob/main/MLflow-4-LogSignature.ipynb\" target=\"_parent\"><img src=\"https://colab.research.google.com/assets/colab-badge.svg\" alt=\"Open In Colab\"/></a>"
      ]
    },
    {
      "cell_type": "code",
      "execution_count": null,
      "metadata": {
        "id": "C1lnvxoBG0Lk"
      },
      "outputs": [],
      "source": [
        "!pip install mlflow --quiet\n",
        "!pip install pyngrok --quiet"
      ]
    },
    {
      "cell_type": "code",
      "source": [
        "from sklearn import tree\n",
        "from sklearn.neighbors import KNeighborsClassifier\n",
        "from sklearn.model_selection import train_test_split\n",
        "from sklearn import metrics\n",
        "\n",
        "import pandas as pd\n",
        "\n",
        "url = \"https://raw.githubusercontent.com/tmoura/machinelearning/master/datasets/iris.data\"\n",
        "\n",
        "# Carregar base de dados\n",
        "# DataFrame\n",
        "dataset = pd.read_csv(url, header=None)\n",
        "\n",
        "columns = len(dataset.columns)\n",
        "\n",
        "y = dataset[0] # extrai a primeira coluna, que é o label\n",
        "X = dataset.loc[:,1:columns-1]"
      ],
      "metadata": {
        "id": "L3ug1Ev3GGGh"
      },
      "execution_count": 4,
      "outputs": []
    },
    {
      "cell_type": "code",
      "source": [
        "X_train, X_test, y_train, y_test = train_test_split(X, y, test_size=0.2, random_state=None, stratify=y) # 80% treino e 20% teste"
      ],
      "metadata": {
        "id": "MqrVWFk0GWcF"
      },
      "execution_count": 5,
      "outputs": []
    },
    {
      "cell_type": "markdown",
      "source": [
        "# *Log Model Signature*"
      ],
      "metadata": {
        "id": "79an-G31FJ8R"
      }
    },
    {
      "cell_type": "code",
      "source": [
        "import mlflow\n",
        "import mlflow.sklearn\n",
        "from mlflow.models.signature import ModelSignature, infer_signature\n",
        "from mlflow.types.schema import Schema,ColSpec\n",
        "\n",
        "exp1 = mlflow.set_experiment(experiment_name=\"experimento_logsignature\")\n",
        "\n",
        "mlflow.start_run(run_name=\"Run1.1\",experiment_id=exp1.experiment_id)\n",
        "model = tree.DecisionTreeClassifier(criterion=\"entropy\",max_depth=2)\n",
        "model = model.fit(X_train, y_train)\n",
        "\n",
        "result = model.predict(X_test)\n",
        "acc = metrics.accuracy_score(result, y_test)\n",
        "\n",
        "mlflow.sklearn.autolog(\n",
        "    log_input_examples=False,\n",
        "    log_model_signatures=False,\n",
        "    log_models=False)\n",
        "\n",
        "input_data = [\n",
        "    {\"name\":\"SepalLengthCm\", \"type\":\"double\"},\n",
        "    {\"name\":\"SepalWidthCm\", \"type\":\"double\"},\n",
        "    {\"name\":\"PetalLengthCm\", \"type\":\"double\"},\n",
        "    {\"name\":\"PetalWidthCm\", \"type\":\"double\"}\n",
        "]\n",
        "\n",
        "output_data = [{\"name\":\"Species\",\"type\":\"integer\"}]\n",
        "\n",
        "input_schema = Schema([ColSpec(col[\"type\"], col['name']) for col in input_data])\n",
        "output_schema = Schema([ColSpec(col['type'], col['name']) for col in output_data])\n",
        "\n",
        "signature = ModelSignature(inputs=input_schema, outputs=output_schema)\n",
        "\n",
        "#mlflow.sklearn.log_model(model, \"treemodel\", signature=signature, input_example=input_example)\n",
        "mlflow.sklearn.log_model(model, \"treemodel\", signature=signature)\n",
        "\n",
        "mlflow.end_run()\n",
        "\n",
        "get_ipython().system_raw(\"mlflow ui --port 5000 &\") # run tracking UI in the background"
      ],
      "metadata": {
        "id": "f-qklekKHBGW"
      },
      "execution_count": 11,
      "outputs": []
    },
    {
      "cell_type": "markdown",
      "source": [
        "# Uso do NGROK\n",
        "\n",
        "O Ngrok é uma ferramenta que permite criar um túnel seguro para conectar um servidor local a um servidor remoto, tornando possível expor uma aplicação local para a Internet. Essa ferramenta é muito útil para desenvolvedores que precisam testar suas aplicações localmente antes de colocá-las em produção."
      ],
      "metadata": {
        "id": "VxBlqfz-Mn7U"
      }
    },
    {
      "cell_type": "code",
      "source": [
        "from pyngrok import ngrok\n",
        "\n",
        "# Terminate open tunnels if exist\n",
        "ngrok.kill()\n",
        "\n",
        "# Setting the authtoken (optional)\n",
        "# Get your authtoken from https://dashboard.ngrok.com/auth\n",
        "NGROK_AUTH_TOKEN = \"2fbGojiXWPL7flUUKztsxbdTdrP_3DXnMDuQVRd5G5n6Fhr6A\"\n",
        "ngrok.set_auth_token(NGROK_AUTH_TOKEN)\n",
        "\n",
        "# Open an HTTPs tunnel on port 5000 for http://localhost:5000\n",
        "ngrok_tunnel = ngrok.connect(addr=\"5000\", proto=\"http\", bind_tls=True)\n",
        "print(\"Endereço do MLflow:\", ngrok_tunnel.public_url)"
      ],
      "metadata": {
        "id": "DhomQ6ZuMaT8",
        "outputId": "ae67405d-11a8-4b48-ddec-491deecdf907",
        "colab": {
          "base_uri": "https://localhost:8080/"
        }
      },
      "execution_count": 10,
      "outputs": [
        {
          "output_type": "stream",
          "name": "stdout",
          "text": [
            "Endereço do MLflow: https://2c15-35-234-20-191.ngrok-free.app\n"
          ]
        }
      ]
    }
  ]
}
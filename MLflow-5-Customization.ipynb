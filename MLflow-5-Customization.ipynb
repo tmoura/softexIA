{
  "nbformat": 4,
  "nbformat_minor": 0,
  "metadata": {
    "colab": {
      "provenance": [],
      "authorship_tag": "ABX9TyNU7zetBbJbpPL7FDuLhZ1K",
      "include_colab_link": true
    },
    "kernelspec": {
      "name": "python3",
      "display_name": "Python 3"
    },
    "language_info": {
      "name": "python"
    },
    "widgets": {
      "application/vnd.jupyter.widget-state+json": {
        "02b0aa917cfa486da77ac73072b1c721": {
          "model_module": "@jupyter-widgets/controls",
          "model_name": "HBoxModel",
          "model_module_version": "1.5.0",
          "state": {
            "_dom_classes": [],
            "_model_module": "@jupyter-widgets/controls",
            "_model_module_version": "1.5.0",
            "_model_name": "HBoxModel",
            "_view_count": null,
            "_view_module": "@jupyter-widgets/controls",
            "_view_module_version": "1.5.0",
            "_view_name": "HBoxView",
            "box_style": "",
            "children": [
              "IPY_MODEL_0b31bb442fc34099af2f4471cbfd58a2",
              "IPY_MODEL_84ee47a8bf2b4d53a40f96f356a164fa",
              "IPY_MODEL_c7310470651c4db1af5c5821f403dd66"
            ],
            "layout": "IPY_MODEL_f871946ef605417d8ee001e6b66a1f56"
          }
        },
        "0b31bb442fc34099af2f4471cbfd58a2": {
          "model_module": "@jupyter-widgets/controls",
          "model_name": "HTMLModel",
          "model_module_version": "1.5.0",
          "state": {
            "_dom_classes": [],
            "_model_module": "@jupyter-widgets/controls",
            "_model_module_version": "1.5.0",
            "_model_name": "HTMLModel",
            "_view_count": null,
            "_view_module": "@jupyter-widgets/controls",
            "_view_module_version": "1.5.0",
            "_view_name": "HTMLView",
            "description": "",
            "description_tooltip": null,
            "layout": "IPY_MODEL_5348e4de76ca4b928cbb3b5cea1ec8dc",
            "placeholder": "​",
            "style": "IPY_MODEL_e7cff29889bb41e8871a846926349dd0",
            "value": "Downloading artifacts: 100%"
          }
        },
        "84ee47a8bf2b4d53a40f96f356a164fa": {
          "model_module": "@jupyter-widgets/controls",
          "model_name": "FloatProgressModel",
          "model_module_version": "1.5.0",
          "state": {
            "_dom_classes": [],
            "_model_module": "@jupyter-widgets/controls",
            "_model_module_version": "1.5.0",
            "_model_name": "FloatProgressModel",
            "_view_count": null,
            "_view_module": "@jupyter-widgets/controls",
            "_view_module_version": "1.5.0",
            "_view_name": "ProgressView",
            "bar_style": "success",
            "description": "",
            "description_tooltip": null,
            "layout": "IPY_MODEL_34a879c6e50a412fbfd3da399a9fb035",
            "max": 1,
            "min": 0,
            "orientation": "horizontal",
            "style": "IPY_MODEL_54be563081e14dd28e66d77b18601ef7",
            "value": 1
          }
        },
        "c7310470651c4db1af5c5821f403dd66": {
          "model_module": "@jupyter-widgets/controls",
          "model_name": "HTMLModel",
          "model_module_version": "1.5.0",
          "state": {
            "_dom_classes": [],
            "_model_module": "@jupyter-widgets/controls",
            "_model_module_version": "1.5.0",
            "_model_name": "HTMLModel",
            "_view_count": null,
            "_view_module": "@jupyter-widgets/controls",
            "_view_module_version": "1.5.0",
            "_view_name": "HTMLView",
            "description": "",
            "description_tooltip": null,
            "layout": "IPY_MODEL_4983340a41974633a027e32f6770cae2",
            "placeholder": "​",
            "style": "IPY_MODEL_01542fb4e4ff416a9f0538d4e12fbd93",
            "value": " 1/1 [00:00&lt;00:00, 12.79it/s]"
          }
        },
        "f871946ef605417d8ee001e6b66a1f56": {
          "model_module": "@jupyter-widgets/base",
          "model_name": "LayoutModel",
          "model_module_version": "1.2.0",
          "state": {
            "_model_module": "@jupyter-widgets/base",
            "_model_module_version": "1.2.0",
            "_model_name": "LayoutModel",
            "_view_count": null,
            "_view_module": "@jupyter-widgets/base",
            "_view_module_version": "1.2.0",
            "_view_name": "LayoutView",
            "align_content": null,
            "align_items": null,
            "align_self": null,
            "border": null,
            "bottom": null,
            "display": null,
            "flex": null,
            "flex_flow": null,
            "grid_area": null,
            "grid_auto_columns": null,
            "grid_auto_flow": null,
            "grid_auto_rows": null,
            "grid_column": null,
            "grid_gap": null,
            "grid_row": null,
            "grid_template_areas": null,
            "grid_template_columns": null,
            "grid_template_rows": null,
            "height": null,
            "justify_content": null,
            "justify_items": null,
            "left": null,
            "margin": null,
            "max_height": null,
            "max_width": null,
            "min_height": null,
            "min_width": null,
            "object_fit": null,
            "object_position": null,
            "order": null,
            "overflow": null,
            "overflow_x": null,
            "overflow_y": null,
            "padding": null,
            "right": null,
            "top": null,
            "visibility": null,
            "width": null
          }
        },
        "5348e4de76ca4b928cbb3b5cea1ec8dc": {
          "model_module": "@jupyter-widgets/base",
          "model_name": "LayoutModel",
          "model_module_version": "1.2.0",
          "state": {
            "_model_module": "@jupyter-widgets/base",
            "_model_module_version": "1.2.0",
            "_model_name": "LayoutModel",
            "_view_count": null,
            "_view_module": "@jupyter-widgets/base",
            "_view_module_version": "1.2.0",
            "_view_name": "LayoutView",
            "align_content": null,
            "align_items": null,
            "align_self": null,
            "border": null,
            "bottom": null,
            "display": null,
            "flex": null,
            "flex_flow": null,
            "grid_area": null,
            "grid_auto_columns": null,
            "grid_auto_flow": null,
            "grid_auto_rows": null,
            "grid_column": null,
            "grid_gap": null,
            "grid_row": null,
            "grid_template_areas": null,
            "grid_template_columns": null,
            "grid_template_rows": null,
            "height": null,
            "justify_content": null,
            "justify_items": null,
            "left": null,
            "margin": null,
            "max_height": null,
            "max_width": null,
            "min_height": null,
            "min_width": null,
            "object_fit": null,
            "object_position": null,
            "order": null,
            "overflow": null,
            "overflow_x": null,
            "overflow_y": null,
            "padding": null,
            "right": null,
            "top": null,
            "visibility": null,
            "width": null
          }
        },
        "e7cff29889bb41e8871a846926349dd0": {
          "model_module": "@jupyter-widgets/controls",
          "model_name": "DescriptionStyleModel",
          "model_module_version": "1.5.0",
          "state": {
            "_model_module": "@jupyter-widgets/controls",
            "_model_module_version": "1.5.0",
            "_model_name": "DescriptionStyleModel",
            "_view_count": null,
            "_view_module": "@jupyter-widgets/base",
            "_view_module_version": "1.2.0",
            "_view_name": "StyleView",
            "description_width": ""
          }
        },
        "34a879c6e50a412fbfd3da399a9fb035": {
          "model_module": "@jupyter-widgets/base",
          "model_name": "LayoutModel",
          "model_module_version": "1.2.0",
          "state": {
            "_model_module": "@jupyter-widgets/base",
            "_model_module_version": "1.2.0",
            "_model_name": "LayoutModel",
            "_view_count": null,
            "_view_module": "@jupyter-widgets/base",
            "_view_module_version": "1.2.0",
            "_view_name": "LayoutView",
            "align_content": null,
            "align_items": null,
            "align_self": null,
            "border": null,
            "bottom": null,
            "display": null,
            "flex": null,
            "flex_flow": null,
            "grid_area": null,
            "grid_auto_columns": null,
            "grid_auto_flow": null,
            "grid_auto_rows": null,
            "grid_column": null,
            "grid_gap": null,
            "grid_row": null,
            "grid_template_areas": null,
            "grid_template_columns": null,
            "grid_template_rows": null,
            "height": null,
            "justify_content": null,
            "justify_items": null,
            "left": null,
            "margin": null,
            "max_height": null,
            "max_width": null,
            "min_height": null,
            "min_width": null,
            "object_fit": null,
            "object_position": null,
            "order": null,
            "overflow": null,
            "overflow_x": null,
            "overflow_y": null,
            "padding": null,
            "right": null,
            "top": null,
            "visibility": null,
            "width": null
          }
        },
        "54be563081e14dd28e66d77b18601ef7": {
          "model_module": "@jupyter-widgets/controls",
          "model_name": "ProgressStyleModel",
          "model_module_version": "1.5.0",
          "state": {
            "_model_module": "@jupyter-widgets/controls",
            "_model_module_version": "1.5.0",
            "_model_name": "ProgressStyleModel",
            "_view_count": null,
            "_view_module": "@jupyter-widgets/base",
            "_view_module_version": "1.2.0",
            "_view_name": "StyleView",
            "bar_color": null,
            "description_width": ""
          }
        },
        "4983340a41974633a027e32f6770cae2": {
          "model_module": "@jupyter-widgets/base",
          "model_name": "LayoutModel",
          "model_module_version": "1.2.0",
          "state": {
            "_model_module": "@jupyter-widgets/base",
            "_model_module_version": "1.2.0",
            "_model_name": "LayoutModel",
            "_view_count": null,
            "_view_module": "@jupyter-widgets/base",
            "_view_module_version": "1.2.0",
            "_view_name": "LayoutView",
            "align_content": null,
            "align_items": null,
            "align_self": null,
            "border": null,
            "bottom": null,
            "display": null,
            "flex": null,
            "flex_flow": null,
            "grid_area": null,
            "grid_auto_columns": null,
            "grid_auto_flow": null,
            "grid_auto_rows": null,
            "grid_column": null,
            "grid_gap": null,
            "grid_row": null,
            "grid_template_areas": null,
            "grid_template_columns": null,
            "grid_template_rows": null,
            "height": null,
            "justify_content": null,
            "justify_items": null,
            "left": null,
            "margin": null,
            "max_height": null,
            "max_width": null,
            "min_height": null,
            "min_width": null,
            "object_fit": null,
            "object_position": null,
            "order": null,
            "overflow": null,
            "overflow_x": null,
            "overflow_y": null,
            "padding": null,
            "right": null,
            "top": null,
            "visibility": null,
            "width": null
          }
        },
        "01542fb4e4ff416a9f0538d4e12fbd93": {
          "model_module": "@jupyter-widgets/controls",
          "model_name": "DescriptionStyleModel",
          "model_module_version": "1.5.0",
          "state": {
            "_model_module": "@jupyter-widgets/controls",
            "_model_module_version": "1.5.0",
            "_model_name": "DescriptionStyleModel",
            "_view_count": null,
            "_view_module": "@jupyter-widgets/base",
            "_view_module_version": "1.2.0",
            "_view_name": "StyleView",
            "description_width": ""
          }
        }
      }
    }
  },
  "cells": [
    {
      "cell_type": "markdown",
      "metadata": {
        "id": "view-in-github",
        "colab_type": "text"
      },
      "source": [
        "<a href=\"https://colab.research.google.com/github/tmoura/softexIA/blob/main/MLflow-5-Customization.ipynb\" target=\"_parent\"><img src=\"https://colab.research.google.com/assets/colab-badge.svg\" alt=\"Open In Colab\"/></a>"
      ]
    },
    {
      "cell_type": "code",
      "execution_count": null,
      "metadata": {
        "id": "C1lnvxoBG0Lk"
      },
      "outputs": [],
      "source": [
        "!pip install mlflow --quiet\n",
        "!pip install pyngrok --quiet"
      ]
    },
    {
      "cell_type": "code",
      "source": [
        "from sklearn import tree\n",
        "from sklearn.neighbors import KNeighborsClassifier\n",
        "from sklearn.model_selection import train_test_split\n",
        "from sklearn import metrics\n",
        "\n",
        "import pandas as pd\n",
        "\n",
        "url = \"https://raw.githubusercontent.com/tmoura/machinelearning/master/datasets/iris.data\"\n",
        "\n",
        "# Carregar base de dados\n",
        "# DataFrame\n",
        "dataset = pd.read_csv(url, header=None)\n",
        "\n",
        "columns = len(dataset.columns)\n",
        "\n",
        "y = dataset[0] # extrai a primeira coluna, que é o label\n",
        "X = dataset.loc[:,1:columns-1]\n",
        "\n",
        "yNew = y.copy()\n",
        "yNew[yNew == 1] = 0\n",
        "yNew[yNew == 2] = 1\n",
        "yNew[yNew == 3] = 2"
      ],
      "metadata": {
        "id": "L3ug1Ev3GGGh"
      },
      "execution_count": null,
      "outputs": []
    },
    {
      "cell_type": "code",
      "source": [
        "X_train, X_test, y_train, y_test = train_test_split(X, yNew, test_size=0.2, random_state=None, stratify=y) # 80% treino e 20% teste"
      ],
      "metadata": {
        "id": "MqrVWFk0GWcF"
      },
      "execution_count": 19,
      "outputs": []
    },
    {
      "cell_type": "markdown",
      "source": [
        "# *Model Customization*"
      ],
      "metadata": {
        "id": "79an-G31FJ8R"
      }
    },
    {
      "cell_type": "code",
      "source": [
        "import mlflow\n",
        "import mlflow.sklearn\n",
        "\n",
        "# Novos pacotes:\n",
        "import sklearn\n",
        "import joblib\n",
        "import cloudpickle\n",
        "mlflow.end_run()\n",
        "\n",
        "exp1 = mlflow.set_experiment(experiment_name=\"experimento_modelcustomization\")\n",
        "\n",
        "mlflow.start_run(run_name=\"Run1.3\",experiment_id=exp1.experiment_id)\n",
        "model = tree.DecisionTreeClassifier(criterion=\"entropy\",max_depth=2)\n",
        "model = model.fit(X_train, y_train)\n",
        "\n",
        "result = model.predict(X_test)\n",
        "acc = metrics.accuracy_score(result, y_test)\n",
        "\n",
        "mlflow.sklearn.autolog(\n",
        "    log_input_examples=False,\n",
        "    log_model_signatures=False,\n",
        "    log_models=False\n",
        ")\n",
        "\n",
        "#mlflow.sklearn.log_model(model, \"treemodel\", signature=signature)\n",
        "\n",
        "######################\n",
        "#\n",
        "# Model Customization\n",
        "#\n",
        "######################\n",
        "joblib.dump(model, \"sklearn_model.pkl\")\n",
        "\n",
        "artifacts = {\n",
        "    \"sklearn_model\" : \"sklearn_model.pkl\",\n",
        "}\n",
        "\n",
        "class SklearnWrapper(mlflow.pyfunc.PythonModel):\n",
        "    def load_context(self, context):\n",
        "        self.sklearn_model = joblib.load(context.artifacts[\"sklearn_model\"])\n",
        "\n",
        "    def predict(self, context, model_input):\n",
        "        return self.sklearn_model.predict(model_input.values)\n",
        "\n",
        "\n",
        "# Create a Conda environment for the new MLflow Model that contains all necessary dependencies.\n",
        "conda_env = {\n",
        "    \"channels\": [\"defaults\"],\n",
        "    \"dependencies\": [\n",
        "        \"python={}\".format(3.10),\n",
        "        \"pip\",\n",
        "        {\n",
        "            \"pip\": [\n",
        "                \"mlflow=={}\".format(mlflow.__version__),\n",
        "                \"scikit-learn=={}\".format(sklearn.__version__),\n",
        "                \"cloudpickle=={}\".format(cloudpickle.__version__),\n",
        "            ],\n",
        "        },\n",
        "    ],\n",
        "    \"name\": \"sklearn_env\",\n",
        "}\n",
        "\n",
        "mlflow.pyfunc.log_model(\n",
        "    artifact_path=\"sklear_mlflow_pyfunc\",\n",
        "    python_model=SklearnWrapper(),\n",
        "    artifacts=artifacts,\n",
        "    conda_env=conda_env\n",
        ")\n",
        "\n",
        "mlflow.end_run()\n",
        "\n",
        "get_ipython().system_raw(\"mlflow ui --port 5000 &\") # run tracking UI in the background"
      ],
      "metadata": {
        "id": "f-qklekKHBGW"
      },
      "execution_count": null,
      "outputs": []
    },
    {
      "cell_type": "markdown",
      "source": [
        "# *XGBoost Model*"
      ],
      "metadata": {
        "id": "DjLFVVYRqzI_"
      }
    },
    {
      "cell_type": "code",
      "source": [
        "!pip install xgboost\n",
        "\n",
        "import xgboost as xgb"
      ],
      "metadata": {
        "id": "T4_4zDinjoSX"
      },
      "execution_count": null,
      "outputs": []
    },
    {
      "cell_type": "code",
      "source": [
        "import mlflow\n",
        "\n",
        "# Novos pacotes:\n",
        "import joblib\n",
        "import cloudpickle\n",
        "mlflow.end_run()\n",
        "\n",
        "exp1 = mlflow.set_experiment(experiment_name=\"experimento_modelcustomization_xgboost\")\n",
        "\n",
        "mlflow.start_run(run_name=\"Run1.1\",experiment_id=exp1.experiment_id)\n",
        "model = xgb.XGBClassifier()\n",
        "model.fit(X_train, y_train)\n",
        "\n",
        "result = model.predict(X_test)\n",
        "acc = metrics.accuracy_score(result, y_test)\n",
        "\n",
        "mlflow.sklearn.autolog(\n",
        "    log_input_examples=False,\n",
        "    log_model_signatures=False,\n",
        "    log_models=False\n",
        ")\n",
        "\n",
        "######################\n",
        "#\n",
        "# Model Customization\n",
        "#\n",
        "######################\n",
        "joblib.dump(model, \"xgboost_model.pkl\")\n",
        "\n",
        "artifacts = {\n",
        "    \"xgboost_model\" : \"xgboost_model.pkl\",\n",
        "}\n",
        "\n",
        "class XGBoostWrapper(mlflow.pyfunc.PythonModel):\n",
        "    def load_context(self, context):\n",
        "        self.xgboost_model = joblib.load(context.artifacts[\"xgboost_model\"])\n",
        "\n",
        "    def predict(self, context, model_input):\n",
        "        return self.xgboost_model.predict(model_input.values)\n",
        "\n",
        "conda_env = {\n",
        "    \"channels\": [\"defaults\"],\n",
        "    \"dependencies\": [\n",
        "        \"python={}\".format(3.10),\n",
        "        \"pip\",\n",
        "        {\n",
        "            \"pip\": [\n",
        "                \"mlflow=={}\".format(mlflow.__version__),\n",
        "                \"scikit-learn=={}\".format(xgb.__version__),\n",
        "                \"cloudpickle=={}\".format(cloudpickle.__version__),\n",
        "            ],\n",
        "        },\n",
        "    ],\n",
        "    \"name\": \"xgb_env\",\n",
        "}\n",
        "\n",
        "mlflow.pyfunc.log_model(\n",
        "    artifact_path=\"xgboost_mlflow_pyfunc3\",\n",
        "    python_model=XGBoostWrapper(),\n",
        "    artifacts=artifacts,\n",
        "    conda_env=conda_env,\n",
        ")\n",
        "\n",
        "mlflow.end_run()\n",
        "\n",
        "get_ipython().system_raw(\"mlflow ui --port 5000 &\") # run tracking UI in the background"
      ],
      "metadata": {
        "id": "KGJRXRtGjlLa",
        "outputId": "65452218-253e-4b7b-c46f-d03b3ffe598f",
        "colab": {
          "base_uri": "https://localhost:8080/",
          "height": 101,
          "referenced_widgets": [
            "02b0aa917cfa486da77ac73072b1c721",
            "0b31bb442fc34099af2f4471cbfd58a2",
            "84ee47a8bf2b4d53a40f96f356a164fa",
            "c7310470651c4db1af5c5821f403dd66",
            "f871946ef605417d8ee001e6b66a1f56",
            "5348e4de76ca4b928cbb3b5cea1ec8dc",
            "e7cff29889bb41e8871a846926349dd0",
            "34a879c6e50a412fbfd3da399a9fb035",
            "54be563081e14dd28e66d77b18601ef7",
            "4983340a41974633a027e32f6770cae2",
            "01542fb4e4ff416a9f0538d4e12fbd93"
          ]
        }
      },
      "execution_count": 35,
      "outputs": [
        {
          "output_type": "display_data",
          "data": {
            "text/plain": [
              "Downloading artifacts:   0%|          | 0/1 [00:00<?, ?it/s]"
            ],
            "application/vnd.jupyter.widget-view+json": {
              "version_major": 2,
              "version_minor": 0,
              "model_id": "02b0aa917cfa486da77ac73072b1c721"
            }
          },
          "metadata": {}
        },
        {
          "output_type": "stream",
          "name": "stderr",
          "text": [
            "2024/05/02 14:21:30 WARNING mlflow.utils.requirements_utils: Detected one or more mismatches between the model's dependencies and the current Python environment:\n",
            " - scikit-learn (current: 1.2.2, required: scikit-learn==2.0.3)\n",
            "To fix the mismatches, call `mlflow.pyfunc.get_model_dependencies(model_uri)` to fetch the model's environment and install dependencies using the resulting environment file.\n"
          ]
        }
      ]
    },
    {
      "cell_type": "markdown",
      "source": [
        "# *Model Sklearn*"
      ],
      "metadata": {
        "id": "h5pAh4NtAf2C"
      }
    },
    {
      "cell_type": "code",
      "source": [
        "mlflow.end_run()\n",
        "\n",
        "exp1 = mlflow.set_experiment(experiment_name=\"experimento_regularmodel\")\n",
        "\n",
        "mlflow.start_run(run_name=\"Run1.1\",experiment_id=exp1.experiment_id)\n",
        "model = tree.DecisionTreeClassifier()\n",
        "model = model.fit(X_train, y_train)\n",
        "\n",
        "result = model.predict(X_test)\n",
        "acc = metrics.accuracy_score(result, y_test)\n",
        "\n",
        "mlflow.log_param(\"Criterion\", \"entropy\")\n",
        "mlflow.log_param(\"MAX_DEPTH\", 2)\n",
        "mlflow.log_metric(\"Acurácia\", acc)\n",
        "mlflow.sklearn.log_model(model, \"treemodelENTROPY\")\n",
        "\n",
        "##### Informações sobre o experimento\n",
        "\n",
        "print(\"Nome: {}\".format(exp1.name))\n",
        "print(\"ID do experimento: {}\".format(exp1.experiment_id))\n",
        "print(\"Local dos Artefatos: {}\".format(exp1.artifact_location))\n",
        "print(\"Tags: {}\".format(exp1.tags))\n",
        "print(\"Estágio do Ciclo de Vida: {}\".format(exp1.lifecycle_stage))\n",
        "print(\"Tempo de criação: {}\".format(exp1.creation_time))\n",
        "\n",
        "mlflow.end_run()"
      ],
      "metadata": {
        "id": "1wbEg3wGAe-Y"
      },
      "execution_count": null,
      "outputs": []
    },
    {
      "cell_type": "markdown",
      "source": [
        "# *Load Model*"
      ],
      "metadata": {
        "id": "hmI4cEII-oow"
      }
    },
    {
      "cell_type": "code",
      "source": [
        "# LOAD MODEL SkLEARN\n",
        "\n",
        "modelNEW = mlflow.sklearn.load_model(model_uri=\"runs:/094463a8265741528086fbeb5d1f812a/treemodelENTROPY\")\n",
        "\n",
        "result = modelNEW.predict(X_test)\n",
        "acc = metrics.accuracy_score(result, y_test)\n",
        "\n",
        "show = round(acc * 100)\n",
        "\n",
        "print(\"Acurácia de: {}%\".format(show))\n",
        "\n",
        "#####################\n",
        "\n",
        "# LOAD MODEL CUSTOM\n",
        "\n",
        "modelCUSTOM = mlflow.pyfunc.load_model(model_uri=\"runs:/625f06daa3a345318ad51b940a21d9a4/sklear_mlflow_pyfunc\")\n",
        "\n",
        "result = modelCUSTOM.predict(X_test)\n",
        "acc = metrics.accuracy_score(result, y_test)\n",
        "\n",
        "show = round(acc * 100)\n",
        "\n",
        "print(\"Acurácia de: {}%\".format(show))"
      ],
      "metadata": {
        "id": "pWhHBUQr-oIX"
      },
      "execution_count": null,
      "outputs": []
    },
    {
      "cell_type": "markdown",
      "source": [
        "# *Model Evaluate*"
      ],
      "metadata": {
        "id": "KGxnDWrDofgn"
      }
    },
    {
      "cell_type": "code",
      "source": [
        "mlflow.end_run()\n",
        "\n",
        "exp1 = mlflow.set_experiment(experiment_name=\"experimento_modelevaluate\")\n",
        "\n",
        "mlflow.start_run(run_name=\"Run1.1\",experiment_id=exp1.experiment_id)\n",
        "model = tree.DecisionTreeClassifier()\n",
        "model = model.fit(X_train, y_train)\n",
        "\n",
        "result = model.predict(X_test)\n",
        "acc = metrics.accuracy_score(result, y_test)\n",
        "\n",
        "mlflow.log_param(\"Criterion\", \"entropy\")\n",
        "mlflow.log_metric(\"Acurácia\", acc)\n",
        "mlflow.sklearn.log_model(model, \"treemodelENTROPY\")\n",
        "\n",
        "artifacts_uri = mlflow.get_artifact_uri()\n",
        "\n",
        "eval_data = X_test\n",
        "eval_data[\"label\"] = y_test\n",
        "\n",
        "# Evaluate the logged model\n",
        "result = mlflow.evaluate(\n",
        "    artifacts_uri,\n",
        "    eval_data,\n",
        "    targets=\"label\",\n",
        "    model_type=\"classifier\", # model_type=\"regressor\"\n",
        "    evaluators=[\"default\"],\n",
        ")\n",
        "\n",
        "mlflow.end_run()"
      ],
      "metadata": {
        "id": "8u9xNQXPoj4O"
      },
      "execution_count": null,
      "outputs": []
    },
    {
      "cell_type": "markdown",
      "source": [
        "# Uso do NGROK\n",
        "\n",
        "O Ngrok é uma ferramenta que permite criar um túnel seguro para conectar um servidor local a um servidor remoto, tornando possível expor uma aplicação local para a Internet. Essa ferramenta é muito útil para desenvolvedores que precisam testar suas aplicações localmente antes de colocá-las em produção."
      ],
      "metadata": {
        "id": "VxBlqfz-Mn7U"
      }
    },
    {
      "cell_type": "code",
      "source": [
        "from pyngrok import ngrok\n",
        "\n",
        "# Terminate open tunnels if exist\n",
        "ngrok.kill()\n",
        "\n",
        "# Setting the authtoken (optional)\n",
        "# Get your authtoken from https://dashboard.ngrok.com/auth\n",
        "NGROK_AUTH_TOKEN = \"2fbGojiXWPL7flUUKztsxbdTdrP_3DXnMDuQVRd5G5n6Fhr6A\"\n",
        "ngrok.set_auth_token(NGROK_AUTH_TOKEN)\n",
        "\n",
        "# Open an HTTPs tunnel on port 5000 for http://localhost:5000\n",
        "ngrok_tunnel = ngrok.connect(addr=\"5000\", proto=\"http\", bind_tls=True)\n",
        "print(\"Endereço do MLflow:\", ngrok_tunnel.public_url)"
      ],
      "metadata": {
        "id": "DhomQ6ZuMaT8",
        "outputId": "b711e3b1-0ccd-4363-859e-3c0c7f02a239",
        "colab": {
          "base_uri": "https://localhost:8080/"
        }
      },
      "execution_count": 28,
      "outputs": [
        {
          "output_type": "stream",
          "name": "stdout",
          "text": [
            "Endereço do MLflow: https://47fc-34-48-106-85.ngrok-free.app\n"
          ]
        }
      ]
    }
  ]
}
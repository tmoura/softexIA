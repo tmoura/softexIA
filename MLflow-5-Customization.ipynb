{
  "nbformat": 4,
  "nbformat_minor": 0,
  "metadata": {
    "colab": {
      "provenance": [],
      "authorship_tag": "ABX9TyNG2htrzWd3Pm8YibDwcsBa",
      "include_colab_link": true
    },
    "kernelspec": {
      "name": "python3",
      "display_name": "Python 3"
    },
    "language_info": {
      "name": "python"
    }
  },
  "cells": [
    {
      "cell_type": "markdown",
      "metadata": {
        "id": "view-in-github",
        "colab_type": "text"
      },
      "source": [
        "<a href=\"https://colab.research.google.com/github/tmoura/softexIA/blob/main/MLflow-5-Customization.ipynb\" target=\"_parent\"><img src=\"https://colab.research.google.com/assets/colab-badge.svg\" alt=\"Open In Colab\"/></a>"
      ]
    },
    {
      "cell_type": "code",
      "execution_count": null,
      "metadata": {
        "id": "C1lnvxoBG0Lk"
      },
      "outputs": [],
      "source": [
        "!pip install mlflow --quiet\n",
        "!pip install pyngrok --quiet"
      ]
    },
    {
      "cell_type": "code",
      "source": [
        "from sklearn import tree\n",
        "from sklearn.neighbors import KNeighborsClassifier\n",
        "from sklearn.model_selection import train_test_split\n",
        "from sklearn import metrics\n",
        "\n",
        "import pandas as pd\n",
        "\n",
        "url = \"https://raw.githubusercontent.com/tmoura/machinelearning/master/datasets/iris.data\"\n",
        "\n",
        "# Carregar base de dados\n",
        "# DataFrame\n",
        "dataset = pd.read_csv(url, header=None)\n",
        "\n",
        "columns = len(dataset.columns)\n",
        "\n",
        "y = dataset[0] # extrai a primeira coluna, que é o label\n",
        "X = dataset.loc[:,1:columns-1]"
      ],
      "metadata": {
        "id": "L3ug1Ev3GGGh"
      },
      "execution_count": null,
      "outputs": []
    },
    {
      "cell_type": "code",
      "source": [
        "X_train, X_test, y_train, y_test = train_test_split(X, y, test_size=0.2, random_state=None, stratify=y) # 80% treino e 20% teste"
      ],
      "metadata": {
        "id": "MqrVWFk0GWcF"
      },
      "execution_count": null,
      "outputs": []
    },
    {
      "cell_type": "markdown",
      "source": [
        "# *Model Customization*"
      ],
      "metadata": {
        "id": "79an-G31FJ8R"
      }
    },
    {
      "cell_type": "code",
      "source": [
        "import mlflow\n",
        "import mlflow.sklearn\n",
        "\n",
        "# Novos pacotes:\n",
        "import sklearn\n",
        "import joblib\n",
        "import cloudpickle\n",
        "mlflow.end_run()\n",
        "\n",
        "exp1 = mlflow.set_experiment(experiment_name=\"experimento_modelcustomization\")\n",
        "\n",
        "mlflow.start_run(run_name=\"Run1.3\",experiment_id=exp1.experiment_id)\n",
        "model = tree.DecisionTreeClassifier(criterion=\"entropy\",max_depth=2)\n",
        "model = model.fit(X_train, y_train)\n",
        "\n",
        "result = model.predict(X_test)\n",
        "acc = metrics.accuracy_score(result, y_test)\n",
        "\n",
        "mlflow.sklearn.autolog(\n",
        "    log_input_examples=False,\n",
        "    log_model_signatures=False,\n",
        "    log_models=False\n",
        ")\n",
        "\n",
        "#mlflow.sklearn.log_model(model, \"treemodel\", signature=signature)\n",
        "\n",
        "######################\n",
        "#\n",
        "# Model Customization\n",
        "#\n",
        "######################\n",
        "joblib.dump(model, \"sklearn_model.pkl\")\n",
        "\n",
        "artifacts = {\n",
        "    \"sklearn_model\" : \"sklearn_model.pkl\",\n",
        "}\n",
        "\n",
        "class SklearnWrapper(mlflow.pyfunc.PythonModel):\n",
        "    def load_context(self, context):\n",
        "        self.sklearn_model = joblib.load(context.artifacts[\"sklearn_model\"])\n",
        "\n",
        "    def predict(self, context, model_input):\n",
        "        return self.sklearn_model.predict(model_input.values)\n",
        "\n",
        "\n",
        "# Create a Conda environment for the new MLflow Model that contains all necessary dependencies.\n",
        "conda_env = {\n",
        "    \"channels\": [\"defaults\"],\n",
        "    \"dependencies\": [\n",
        "        \"python={}\".format(3.10),\n",
        "        \"pip\",\n",
        "        {\n",
        "            \"pip\": [\n",
        "                \"mlflow=={}\".format(mlflow.__version__),\n",
        "                \"scikit-learn=={}\".format(sklearn.__version__),\n",
        "                \"cloudpickle=={}\".format(cloudpickle.__version__),\n",
        "            ],\n",
        "        },\n",
        "    ],\n",
        "    \"name\": \"sklearn_env\",\n",
        "}\n",
        "\n",
        "mlflow.pyfunc.log_model(\n",
        "    artifact_path=\"sklear_mlflow_pyfunc\",\n",
        "    python_model=SklearnWrapper(),\n",
        "    artifacts=artifacts,\n",
        "    conda_env=conda_env\n",
        ")\n",
        "\n",
        "mlflow.end_run()\n",
        "\n",
        "get_ipython().system_raw(\"mlflow ui --port 5000 &\") # run tracking UI in the background"
      ],
      "metadata": {
        "id": "f-qklekKHBGW"
      },
      "execution_count": null,
      "outputs": []
    },
    {
      "cell_type": "markdown",
      "source": [
        "# *Model Sklearn*"
      ],
      "metadata": {
        "id": "h5pAh4NtAf2C"
      }
    },
    {
      "cell_type": "code",
      "source": [
        "mlflow.end_run()\n",
        "\n",
        "exp1 = mlflow.set_experiment(experiment_name=\"experimento_regularmodel\")\n",
        "\n",
        "mlflow.start_run(run_name=\"Run1.1\",experiment_id=exp1.experiment_id)\n",
        "model = tree.DecisionTreeClassifier()\n",
        "model = model.fit(X_train, y_train)\n",
        "\n",
        "result = model.predict(X_test)\n",
        "acc = metrics.accuracy_score(result, y_test)\n",
        "\n",
        "mlflow.log_param(\"Criterion\", \"entropy\")\n",
        "mlflow.log_param(\"MAX_DEPTH\", 2)\n",
        "mlflow.log_metric(\"Acurácia\", acc)\n",
        "mlflow.sklearn.log_model(model, \"treemodelENTROPY\")\n",
        "\n",
        "##### Informações sobre o experimento\n",
        "\n",
        "print(\"Nome: {}\".format(exp1.name))\n",
        "print(\"ID do experimento: {}\".format(exp1.experiment_id))\n",
        "print(\"Local dos Artefatos: {}\".format(exp1.artifact_location))\n",
        "print(\"Tags: {}\".format(exp1.tags))\n",
        "print(\"Estágio do Ciclo de Vida: {}\".format(exp1.lifecycle_stage))\n",
        "print(\"Tempo de criação: {}\".format(exp1.creation_time))\n",
        "\n",
        "mlflow.end_run()"
      ],
      "metadata": {
        "id": "1wbEg3wGAe-Y"
      },
      "execution_count": null,
      "outputs": []
    },
    {
      "cell_type": "markdown",
      "source": [
        "# *Load Model*"
      ],
      "metadata": {
        "id": "hmI4cEII-oow"
      }
    },
    {
      "cell_type": "code",
      "source": [
        "# LOAD MODEL SkLEARN\n",
        "modelNEW = mlflow.sklearn.load_model(model_uri=\"runs:/094463a8265741528086fbeb5d1f812a/treemodelENTROPY\")\n",
        "\n",
        "result = modelNEW.predict(X_test)\n",
        "acc = metrics.accuracy_score(result, y_test)\n",
        "\n",
        "show = round(acc * 100)\n",
        "\n",
        "print(\"Acurácia de: {}%\".format(show))\n",
        "\n",
        "#####################\n",
        "\n",
        "# LOAD MODEL CUSTOM\n",
        "\n",
        "modelCUSTOM = mlflow.pyfunc.load_model(model_uri=\"runs:/625f06daa3a345318ad51b940a21d9a4/sklear_mlflow_pyfunc\")\n",
        "\n",
        "result = modelCUSTOM.predict(X_test)\n",
        "acc = metrics.accuracy_score(result, y_test)\n",
        "\n",
        "show = round(acc * 100)\n",
        "\n",
        "print(\"Acurácia de: {}%\".format(show))"
      ],
      "metadata": {
        "id": "pWhHBUQr-oIX"
      },
      "execution_count": null,
      "outputs": []
    },
    {
      "cell_type": "markdown",
      "source": [
        "# *Model Evaluate*"
      ],
      "metadata": {
        "id": "KGxnDWrDofgn"
      }
    },
    {
      "cell_type": "code",
      "source": [
        "mlflow.end_run()\n",
        "\n",
        "exp1 = mlflow.set_experiment(experiment_name=\"experimento_modelevaluate\")\n",
        "\n",
        "mlflow.start_run(run_name=\"Run1.1\",experiment_id=exp1.experiment_id)\n",
        "model = tree.DecisionTreeClassifier()\n",
        "model = model.fit(X_train, y_train)\n",
        "\n",
        "result = model.predict(X_test)\n",
        "acc = metrics.accuracy_score(result, y_test)\n",
        "\n",
        "mlflow.log_param(\"Criterion\", \"entropy\")\n",
        "mlflow.log_metric(\"Acurácia\", acc)\n",
        "mlflow.sklearn.log_model(model, \"treemodelENTROPY\")\n",
        "\n",
        "artifacts_uri = mlflow.get_artifact_uri()\n",
        "\n",
        "mlflow.evaluate(\n",
        "    artifacts_uri,\n",
        "    test,\n",
        "    targets=\"quality\",\n",
        "    model_type=\"classifier\", # model_type=\"regressor\"\n",
        "    evaluators=[\"default\"]\n",
        ")\n",
        "\n",
        "mlflow.end_run()"
      ],
      "metadata": {
        "id": "8u9xNQXPoj4O"
      },
      "execution_count": null,
      "outputs": []
    },
    {
      "cell_type": "markdown",
      "source": [
        "# Uso do NGROK\n",
        "\n",
        "O Ngrok é uma ferramenta que permite criar um túnel seguro para conectar um servidor local a um servidor remoto, tornando possível expor uma aplicação local para a Internet. Essa ferramenta é muito útil para desenvolvedores que precisam testar suas aplicações localmente antes de colocá-las em produção."
      ],
      "metadata": {
        "id": "VxBlqfz-Mn7U"
      }
    },
    {
      "cell_type": "code",
      "source": [
        "from pyngrok import ngrok\n",
        "\n",
        "# Terminate open tunnels if exist\n",
        "ngrok.kill()\n",
        "\n",
        "# Setting the authtoken (optional)\n",
        "# Get your authtoken from https://dashboard.ngrok.com/auth\n",
        "NGROK_AUTH_TOKEN = \"2fbGojiXWPL7flUUKztsxbdTdrP_3DXnMDuQVRd5G5n6Fhr6A\"\n",
        "ngrok.set_auth_token(NGROK_AUTH_TOKEN)\n",
        "\n",
        "# Open an HTTPs tunnel on port 5000 for http://localhost:5000\n",
        "ngrok_tunnel = ngrok.connect(addr=\"5000\", proto=\"http\", bind_tls=True)\n",
        "print(\"Endereço do MLflow:\", ngrok_tunnel.public_url)"
      ],
      "metadata": {
        "id": "DhomQ6ZuMaT8",
        "outputId": "7364cf13-b153-4d80-97ed-315c27773c68",
        "colab": {
          "base_uri": "https://localhost:8080/"
        }
      },
      "execution_count": null,
      "outputs": [
        {
          "output_type": "stream",
          "name": "stdout",
          "text": [
            "Endereço do MLflow: https://c6f8-34-147-48-70.ngrok-free.app\n"
          ]
        }
      ]
    }
  ]
}
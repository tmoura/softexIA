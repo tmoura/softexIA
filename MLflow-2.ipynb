{
  "nbformat": 4,
  "nbformat_minor": 0,
  "metadata": {
    "colab": {
      "provenance": [],
      "authorship_tag": "ABX9TyNvW5mL2flOB8T0EZTCvMO5",
      "include_colab_link": true
    },
    "kernelspec": {
      "name": "python3",
      "display_name": "Python 3"
    },
    "language_info": {
      "name": "python"
    }
  },
  "cells": [
    {
      "cell_type": "markdown",
      "metadata": {
        "id": "view-in-github",
        "colab_type": "text"
      },
      "source": [
        "<a href=\"https://colab.research.google.com/github/tmoura/softexIA/blob/main/MLflow-2.ipynb\" target=\"_parent\"><img src=\"https://colab.research.google.com/assets/colab-badge.svg\" alt=\"Open In Colab\"/></a>"
      ]
    },
    {
      "cell_type": "code",
      "execution_count": null,
      "metadata": {
        "id": "C1lnvxoBG0Lk"
      },
      "outputs": [],
      "source": [
        "!pip install mlflow --quiet\n",
        "!pip install pyngrok --quiet"
      ]
    },
    {
      "cell_type": "markdown",
      "source": [
        "# Múltiplos Experimentos com Múltiplas Execuções"
      ],
      "metadata": {
        "id": "79an-G31FJ8R"
      }
    },
    {
      "cell_type": "code",
      "source": [
        "from sklearn import tree\n",
        "from sklearn.neighbors import KNeighborsClassifier\n",
        "from sklearn.model_selection import train_test_split\n",
        "from sklearn import metrics\n",
        "\n",
        "import pandas as pd\n",
        "\n",
        "url = \"https://raw.githubusercontent.com/tmoura/machinelearning/master/datasets/parkinsons.data\"\n",
        "\n",
        "# Carregar base de dados\n",
        "# DataFrame\n",
        "dataset = pd.read_csv(url, header=None)\n",
        "\n",
        "columns = len(dataset.columns)\n",
        "\n",
        "y = dataset[0] # extrai a primeira coluna, que é o label\n",
        "X = dataset.loc[:,1:columns-1]"
      ],
      "metadata": {
        "id": "L3ug1Ev3GGGh"
      },
      "execution_count": 20,
      "outputs": []
    },
    {
      "cell_type": "code",
      "source": [
        "X_train, X_test, y_train, y_test = train_test_split(X, y, test_size=0.2, random_state=None, stratify=y) # 80% treino e 20% teste"
      ],
      "metadata": {
        "id": "MqrVWFk0GWcF"
      },
      "execution_count": 21,
      "outputs": []
    },
    {
      "cell_type": "code",
      "source": [
        "from sklearn.metrics import confusion_matrix\n",
        "import mlflow\n",
        "import mlflow.sklearn\n",
        "\n",
        "    ######## Experimento 1 ########\n",
        "exp1 = mlflow.set_experiment(experiment_name=\"experimento_0\")\n",
        "\n",
        "  ## Run 1 ##\n",
        "mlflow.start_run(run_name=\"Run1.1\",experiment_id=exp1.experiment_id)\n",
        "model = tree.DecisionTreeClassifier(criterion=\"entropy\",max_depth=2)\n",
        "model = model.fit(X_train, y_train)\n",
        "\n",
        "result = model.predict(X_test)\n",
        "acc = metrics.accuracy_score(result, y_test)\n",
        "\n",
        "mlflow.log_param(\"Criterion\", \"entropy\")\n",
        "mlflow.log_param(\"MAX_DEPTH\", 2)\n",
        "mlflow.log_metric(\"Acurácia\", acc)\n",
        "mlflow.sklearn.log_model(model, \"treemodelENTROPY\")\n",
        "mlflow.log_artifact(X)\n",
        "\n",
        "mlflow.end_run()\n",
        "\n",
        "  ## Run 2 ##\n",
        "mlflow.start_run(run_name=\"Run2.1\",experiment_id=exp1.experiment_id)\n",
        "model = tree.DecisionTreeClassifier()\n",
        "model = model.fit(X_train, y_train)\n",
        "\n",
        "result = model.predict(X_test)\n",
        "acc = metrics.accuracy_score(result, y_test)\n",
        "\n",
        "mlflow.log_param(\"Criterion\", \"gini\")\n",
        "mlflow.log_metric(\"Acurácia\", acc)\n",
        "mlflow.sklearn.log_model(model, \"treemodelGINI\")\n",
        "\n",
        "mlflow.end_run()\n",
        "\n",
        "######## Experimento 2 ########\n",
        "exp2 = mlflow.set_experiment(experiment_name=\"experimento_1\")\n",
        "\n",
        "  ## Run 1 ##\n",
        "mlflow.start_run(run_name=\"Run2.1\",experiment_id=exp2.experiment_id)\n",
        "model = KNeighborsClassifier(n_neighbors=5)\n",
        "model = model.fit(X_train, y_train)\n",
        "\n",
        "result = model.predict(X_test)\n",
        "acc = metrics.accuracy_score(result, y_test)\n",
        "\n",
        "mlflow.log_param(\"Vizinhos\", 5)\n",
        "mlflow.log_metric(\"Acurácia\", acc)\n",
        "mlflow.sklearn.log_model(model, \"knn5\")\n",
        "\n",
        "mlflow.end_run()\n",
        "\n",
        "  ## Run 2 ##\n",
        "mlflow.start_run(run_name=\"Run2.2\",experiment_id=exp2.experiment_id)\n",
        "model = KNeighborsClassifier(n_neighbors=7)\n",
        "model = model.fit(X_train, y_train)\n",
        "\n",
        "result = model.predict(X_test)\n",
        "acc = metrics.accuracy_score(result, y_test)\n",
        "\n",
        "mlflow.log_param(\"Vizinhos\", 7)\n",
        "mlflow.log_metric(\"Acurácia\", acc)\n",
        "mlflow.sklearn.log_model(model, \"knn7\")\n",
        "\n",
        "mlflow.end_run()\n",
        "\n",
        "get_ipython().system_raw(\"mlflow ui --port 5000 &\") # run tracking UI in the background"
      ],
      "metadata": {
        "id": "f-qklekKHBGW"
      },
      "execution_count": null,
      "outputs": []
    },
    {
      "cell_type": "markdown",
      "source": [
        "# Uso do NGROK\n",
        "\n",
        "O Ngrok é uma ferramenta que permite criar um túnel seguro para conectar um servidor local a um servidor remoto, tornando possível expor uma aplicação local para a Internet. Essa ferramenta é muito útil para desenvolvedores que precisam testar suas aplicações localmente antes de colocá-las em produção."
      ],
      "metadata": {
        "id": "VxBlqfz-Mn7U"
      }
    },
    {
      "cell_type": "code",
      "source": [
        "from pyngrok import ngrok\n",
        "\n",
        "# Terminate open tunnels if exist\n",
        "ngrok.kill()\n",
        "\n",
        "# Setting the authtoken (optional)\n",
        "# Get your authtoken from https://dashboard.ngrok.com/auth\n",
        "NGROK_AUTH_TOKEN = \"2fTc6xBFGHTFjXcla4jSNCgSzt4_78Y6vhwwzuAdc7WFxhTfu\"\n",
        "ngrok.set_auth_token(NGROK_AUTH_TOKEN)\n",
        "\n",
        "# Open an HTTPs tunnel on port 5000 for http://localhost:5000\n",
        "ngrok_tunnel = ngrok.connect(addr=\"5000\", proto=\"http\", bind_tls=True)\n",
        "print(\"Endereço do MLflow:\", ngrok_tunnel.public_url)"
      ],
      "metadata": {
        "id": "DhomQ6ZuMaT8",
        "outputId": "815f1398-295f-4cd2-df63-7f0d1921419e",
        "colab": {
          "base_uri": "https://localhost:8080/"
        }
      },
      "execution_count": 25,
      "outputs": [
        {
          "output_type": "stream",
          "name": "stdout",
          "text": [
            "Endereço do MLflow: https://a842-34-85-213-147.ngrok-free.app\n"
          ]
        }
      ]
    }
  ]
}
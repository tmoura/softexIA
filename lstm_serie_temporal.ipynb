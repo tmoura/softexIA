{
  "nbformat": 4,
  "nbformat_minor": 0,
  "metadata": {
    "colab": {
      "provenance": [],
      "include_colab_link": true
    },
    "kernelspec": {
      "name": "python3",
      "display_name": "Python 3"
    },
    "language_info": {
      "name": "python"
    }
  },
  "cells": [
    {
      "cell_type": "markdown",
      "metadata": {
        "id": "view-in-github",
        "colab_type": "text"
      },
      "source": [
        "<a href=\"https://colab.research.google.com/github/tmoura/softexIA/blob/main/lstm_serie_temporal.ipynb\" target=\"_parent\"><img src=\"https://colab.research.google.com/assets/colab-badge.svg\" alt=\"Open In Colab\"/></a>"
      ]
    },
    {
      "cell_type": "markdown",
      "source": [
        "# LSTM com série temporal"
      ],
      "metadata": {
        "id": "abomDk5EwsG2"
      }
    },
    {
      "cell_type": "code",
      "execution_count": null,
      "metadata": {
        "id": "6ibSlhNswmQv"
      },
      "outputs": [],
      "source": [
        "import numpy as np\n",
        "import pandas as pd\n",
        "import matplotlib\n",
        "import tensorflow as tf\n",
        "import sklearn"
      ]
    },
    {
      "cell_type": "code",
      "source": [
        "np.__version__, pd.__version__, matplotlib.__version__, tf.__version__, sklearn.__version__"
      ],
      "metadata": {
        "colab": {
          "base_uri": "https://localhost:8080/"
        },
        "id": "qMYE7oxbw0GG",
        "outputId": "5ff4ba05-8940-42e0-e06c-5f5359a727f9"
      },
      "execution_count": null,
      "outputs": [
        {
          "output_type": "execute_result",
          "data": {
            "text/plain": [
              "('1.25.2', '2.0.3', '3.7.1', '2.15.0', '1.2.2')"
            ]
          },
          "metadata": {},
          "execution_count": 2
        }
      ]
    },
    {
      "cell_type": "code",
      "source": [
        "from tensorflow.keras.models import Sequential\n",
        "from tensorflow.keras.layers import Dense, Dropout, LSTM\n",
        "from sklearn.preprocessing import MinMaxScaler\n",
        "import matplotlib.pyplot as plt"
      ],
      "metadata": {
        "id": "B6INdT-_w2dX"
      },
      "execution_count": null,
      "outputs": []
    },
    {
      "cell_type": "code",
      "source": [
        "urlTrain = 'https://raw.githubusercontent.com/tmoura/machinelearning/refs/heads/master/datasets/petr4_treinamento.csv'\n",
        "urlTest =  'https://raw.githubusercontent.com/tmoura/machinelearning/refs/heads/master/datasets/petr4_teste.csv'\n",
        "\n",
        "base = pd.read_csv(urlTrain)\n",
        "base"
      ],
      "metadata": {
        "colab": {
          "base_uri": "https://localhost:8080/",
          "height": 436
        },
        "id": "mb7Ie2JH1KS3",
        "outputId": "e1f9bc7f-db42-4189-bab9-cdaf96c127cd"
      },
      "execution_count": null,
      "outputs": [
        {
          "output_type": "execute_result",
          "data": {
            "text/plain": [
              "            Date       Open       High        Low      Close  Adj Close  \\\n",
              "0     2013-01-02  19.990000  20.209999  19.690001  19.690001  18.086271   \n",
              "1     2013-01-03  19.809999  20.400000  19.700001  20.400000  18.738441   \n",
              "2     2013-01-04  20.330000  20.620001  20.170000  20.430000  18.766001   \n",
              "3     2013-01-07  20.480000  20.670000  19.950001  20.080000  18.444506   \n",
              "4     2013-01-08  20.110001  20.230000  19.459999  19.500000  17.911745   \n",
              "...          ...        ...        ...        ...        ...        ...   \n",
              "1240  2017-12-25  15.750000  15.750000  15.750000  15.750000  15.718563   \n",
              "1241  2017-12-26  15.750000  15.990000  15.690000  15.970000  15.938125   \n",
              "1242  2017-12-27  15.990000  16.139999  15.980000  16.049999  16.017963   \n",
              "1243  2017-12-28  16.100000  16.129999  16.000000  16.100000  16.067865   \n",
              "1244  2017-12-29  16.100000  16.100000  16.100000  16.100000  16.067865   \n",
              "\n",
              "          Volume  \n",
              "0     30182600.0  \n",
              "1     30552600.0  \n",
              "2     36141000.0  \n",
              "3     28069600.0  \n",
              "4     29091300.0  \n",
              "...          ...  \n",
              "1240         0.0  \n",
              "1241  22173100.0  \n",
              "1242  23552200.0  \n",
              "1243  19011500.0  \n",
              "1244         0.0  \n",
              "\n",
              "[1245 rows x 7 columns]"
            ],
            "text/html": [
              "\n",
              "  <div id=\"df-31d5d879-a23a-44d9-9922-910ddae25d4a\" class=\"colab-df-container\">\n",
              "    <div>\n",
              "<style scoped>\n",
              "    .dataframe tbody tr th:only-of-type {\n",
              "        vertical-align: middle;\n",
              "    }\n",
              "\n",
              "    .dataframe tbody tr th {\n",
              "        vertical-align: top;\n",
              "    }\n",
              "\n",
              "    .dataframe thead th {\n",
              "        text-align: right;\n",
              "    }\n",
              "</style>\n",
              "<table border=\"1\" class=\"dataframe\">\n",
              "  <thead>\n",
              "    <tr style=\"text-align: right;\">\n",
              "      <th></th>\n",
              "      <th>Date</th>\n",
              "      <th>Open</th>\n",
              "      <th>High</th>\n",
              "      <th>Low</th>\n",
              "      <th>Close</th>\n",
              "      <th>Adj Close</th>\n",
              "      <th>Volume</th>\n",
              "    </tr>\n",
              "  </thead>\n",
              "  <tbody>\n",
              "    <tr>\n",
              "      <th>0</th>\n",
              "      <td>2013-01-02</td>\n",
              "      <td>19.990000</td>\n",
              "      <td>20.209999</td>\n",
              "      <td>19.690001</td>\n",
              "      <td>19.690001</td>\n",
              "      <td>18.086271</td>\n",
              "      <td>30182600.0</td>\n",
              "    </tr>\n",
              "    <tr>\n",
              "      <th>1</th>\n",
              "      <td>2013-01-03</td>\n",
              "      <td>19.809999</td>\n",
              "      <td>20.400000</td>\n",
              "      <td>19.700001</td>\n",
              "      <td>20.400000</td>\n",
              "      <td>18.738441</td>\n",
              "      <td>30552600.0</td>\n",
              "    </tr>\n",
              "    <tr>\n",
              "      <th>2</th>\n",
              "      <td>2013-01-04</td>\n",
              "      <td>20.330000</td>\n",
              "      <td>20.620001</td>\n",
              "      <td>20.170000</td>\n",
              "      <td>20.430000</td>\n",
              "      <td>18.766001</td>\n",
              "      <td>36141000.0</td>\n",
              "    </tr>\n",
              "    <tr>\n",
              "      <th>3</th>\n",
              "      <td>2013-01-07</td>\n",
              "      <td>20.480000</td>\n",
              "      <td>20.670000</td>\n",
              "      <td>19.950001</td>\n",
              "      <td>20.080000</td>\n",
              "      <td>18.444506</td>\n",
              "      <td>28069600.0</td>\n",
              "    </tr>\n",
              "    <tr>\n",
              "      <th>4</th>\n",
              "      <td>2013-01-08</td>\n",
              "      <td>20.110001</td>\n",
              "      <td>20.230000</td>\n",
              "      <td>19.459999</td>\n",
              "      <td>19.500000</td>\n",
              "      <td>17.911745</td>\n",
              "      <td>29091300.0</td>\n",
              "    </tr>\n",
              "    <tr>\n",
              "      <th>...</th>\n",
              "      <td>...</td>\n",
              "      <td>...</td>\n",
              "      <td>...</td>\n",
              "      <td>...</td>\n",
              "      <td>...</td>\n",
              "      <td>...</td>\n",
              "      <td>...</td>\n",
              "    </tr>\n",
              "    <tr>\n",
              "      <th>1240</th>\n",
              "      <td>2017-12-25</td>\n",
              "      <td>15.750000</td>\n",
              "      <td>15.750000</td>\n",
              "      <td>15.750000</td>\n",
              "      <td>15.750000</td>\n",
              "      <td>15.718563</td>\n",
              "      <td>0.0</td>\n",
              "    </tr>\n",
              "    <tr>\n",
              "      <th>1241</th>\n",
              "      <td>2017-12-26</td>\n",
              "      <td>15.750000</td>\n",
              "      <td>15.990000</td>\n",
              "      <td>15.690000</td>\n",
              "      <td>15.970000</td>\n",
              "      <td>15.938125</td>\n",
              "      <td>22173100.0</td>\n",
              "    </tr>\n",
              "    <tr>\n",
              "      <th>1242</th>\n",
              "      <td>2017-12-27</td>\n",
              "      <td>15.990000</td>\n",
              "      <td>16.139999</td>\n",
              "      <td>15.980000</td>\n",
              "      <td>16.049999</td>\n",
              "      <td>16.017963</td>\n",
              "      <td>23552200.0</td>\n",
              "    </tr>\n",
              "    <tr>\n",
              "      <th>1243</th>\n",
              "      <td>2017-12-28</td>\n",
              "      <td>16.100000</td>\n",
              "      <td>16.129999</td>\n",
              "      <td>16.000000</td>\n",
              "      <td>16.100000</td>\n",
              "      <td>16.067865</td>\n",
              "      <td>19011500.0</td>\n",
              "    </tr>\n",
              "    <tr>\n",
              "      <th>1244</th>\n",
              "      <td>2017-12-29</td>\n",
              "      <td>16.100000</td>\n",
              "      <td>16.100000</td>\n",
              "      <td>16.100000</td>\n",
              "      <td>16.100000</td>\n",
              "      <td>16.067865</td>\n",
              "      <td>0.0</td>\n",
              "    </tr>\n",
              "  </tbody>\n",
              "</table>\n",
              "<p>1245 rows × 7 columns</p>\n",
              "</div>\n",
              "    <div class=\"colab-df-buttons\">\n",
              "\n",
              "  <div class=\"colab-df-container\">\n",
              "    <button class=\"colab-df-convert\" onclick=\"convertToInteractive('df-31d5d879-a23a-44d9-9922-910ddae25d4a')\"\n",
              "            title=\"Convert this dataframe to an interactive table.\"\n",
              "            style=\"display:none;\">\n",
              "\n",
              "  <svg xmlns=\"http://www.w3.org/2000/svg\" height=\"24px\" viewBox=\"0 -960 960 960\">\n",
              "    <path d=\"M120-120v-720h720v720H120Zm60-500h600v-160H180v160Zm220 220h160v-160H400v160Zm0 220h160v-160H400v160ZM180-400h160v-160H180v160Zm440 0h160v-160H620v160ZM180-180h160v-160H180v160Zm440 0h160v-160H620v160Z\"/>\n",
              "  </svg>\n",
              "    </button>\n",
              "\n",
              "  <style>\n",
              "    .colab-df-container {\n",
              "      display:flex;\n",
              "      gap: 12px;\n",
              "    }\n",
              "\n",
              "    .colab-df-convert {\n",
              "      background-color: #E8F0FE;\n",
              "      border: none;\n",
              "      border-radius: 50%;\n",
              "      cursor: pointer;\n",
              "      display: none;\n",
              "      fill: #1967D2;\n",
              "      height: 32px;\n",
              "      padding: 0 0 0 0;\n",
              "      width: 32px;\n",
              "    }\n",
              "\n",
              "    .colab-df-convert:hover {\n",
              "      background-color: #E2EBFA;\n",
              "      box-shadow: 0px 1px 2px rgba(60, 64, 67, 0.3), 0px 1px 3px 1px rgba(60, 64, 67, 0.15);\n",
              "      fill: #174EA6;\n",
              "    }\n",
              "\n",
              "    .colab-df-buttons div {\n",
              "      margin-bottom: 4px;\n",
              "    }\n",
              "\n",
              "    [theme=dark] .colab-df-convert {\n",
              "      background-color: #3B4455;\n",
              "      fill: #D2E3FC;\n",
              "    }\n",
              "\n",
              "    [theme=dark] .colab-df-convert:hover {\n",
              "      background-color: #434B5C;\n",
              "      box-shadow: 0px 1px 3px 1px rgba(0, 0, 0, 0.15);\n",
              "      filter: drop-shadow(0px 1px 2px rgba(0, 0, 0, 0.3));\n",
              "      fill: #FFFFFF;\n",
              "    }\n",
              "  </style>\n",
              "\n",
              "    <script>\n",
              "      const buttonEl =\n",
              "        document.querySelector('#df-31d5d879-a23a-44d9-9922-910ddae25d4a button.colab-df-convert');\n",
              "      buttonEl.style.display =\n",
              "        google.colab.kernel.accessAllowed ? 'block' : 'none';\n",
              "\n",
              "      async function convertToInteractive(key) {\n",
              "        const element = document.querySelector('#df-31d5d879-a23a-44d9-9922-910ddae25d4a');\n",
              "        const dataTable =\n",
              "          await google.colab.kernel.invokeFunction('convertToInteractive',\n",
              "                                                    [key], {});\n",
              "        if (!dataTable) return;\n",
              "\n",
              "        const docLinkHtml = 'Like what you see? Visit the ' +\n",
              "          '<a target=\"_blank\" href=https://colab.research.google.com/notebooks/data_table.ipynb>data table notebook</a>'\n",
              "          + ' to learn more about interactive tables.';\n",
              "        element.innerHTML = '';\n",
              "        dataTable['output_type'] = 'display_data';\n",
              "        await google.colab.output.renderOutput(dataTable, element);\n",
              "        const docLink = document.createElement('div');\n",
              "        docLink.innerHTML = docLinkHtml;\n",
              "        element.appendChild(docLink);\n",
              "      }\n",
              "    </script>\n",
              "  </div>\n",
              "\n",
              "\n",
              "<div id=\"df-7e979319-e7e6-4ed1-af42-5a1b25e2c09f\">\n",
              "  <button class=\"colab-df-quickchart\" onclick=\"quickchart('df-7e979319-e7e6-4ed1-af42-5a1b25e2c09f')\"\n",
              "            title=\"Suggest charts\"\n",
              "            style=\"display:none;\">\n",
              "\n",
              "<svg xmlns=\"http://www.w3.org/2000/svg\" height=\"24px\"viewBox=\"0 0 24 24\"\n",
              "     width=\"24px\">\n",
              "    <g>\n",
              "        <path d=\"M19 3H5c-1.1 0-2 .9-2 2v14c0 1.1.9 2 2 2h14c1.1 0 2-.9 2-2V5c0-1.1-.9-2-2-2zM9 17H7v-7h2v7zm4 0h-2V7h2v10zm4 0h-2v-4h2v4z\"/>\n",
              "    </g>\n",
              "</svg>\n",
              "  </button>\n",
              "\n",
              "<style>\n",
              "  .colab-df-quickchart {\n",
              "      --bg-color: #E8F0FE;\n",
              "      --fill-color: #1967D2;\n",
              "      --hover-bg-color: #E2EBFA;\n",
              "      --hover-fill-color: #174EA6;\n",
              "      --disabled-fill-color: #AAA;\n",
              "      --disabled-bg-color: #DDD;\n",
              "  }\n",
              "\n",
              "  [theme=dark] .colab-df-quickchart {\n",
              "      --bg-color: #3B4455;\n",
              "      --fill-color: #D2E3FC;\n",
              "      --hover-bg-color: #434B5C;\n",
              "      --hover-fill-color: #FFFFFF;\n",
              "      --disabled-bg-color: #3B4455;\n",
              "      --disabled-fill-color: #666;\n",
              "  }\n",
              "\n",
              "  .colab-df-quickchart {\n",
              "    background-color: var(--bg-color);\n",
              "    border: none;\n",
              "    border-radius: 50%;\n",
              "    cursor: pointer;\n",
              "    display: none;\n",
              "    fill: var(--fill-color);\n",
              "    height: 32px;\n",
              "    padding: 0;\n",
              "    width: 32px;\n",
              "  }\n",
              "\n",
              "  .colab-df-quickchart:hover {\n",
              "    background-color: var(--hover-bg-color);\n",
              "    box-shadow: 0 1px 2px rgba(60, 64, 67, 0.3), 0 1px 3px 1px rgba(60, 64, 67, 0.15);\n",
              "    fill: var(--button-hover-fill-color);\n",
              "  }\n",
              "\n",
              "  .colab-df-quickchart-complete:disabled,\n",
              "  .colab-df-quickchart-complete:disabled:hover {\n",
              "    background-color: var(--disabled-bg-color);\n",
              "    fill: var(--disabled-fill-color);\n",
              "    box-shadow: none;\n",
              "  }\n",
              "\n",
              "  .colab-df-spinner {\n",
              "    border: 2px solid var(--fill-color);\n",
              "    border-color: transparent;\n",
              "    border-bottom-color: var(--fill-color);\n",
              "    animation:\n",
              "      spin 1s steps(1) infinite;\n",
              "  }\n",
              "\n",
              "  @keyframes spin {\n",
              "    0% {\n",
              "      border-color: transparent;\n",
              "      border-bottom-color: var(--fill-color);\n",
              "      border-left-color: var(--fill-color);\n",
              "    }\n",
              "    20% {\n",
              "      border-color: transparent;\n",
              "      border-left-color: var(--fill-color);\n",
              "      border-top-color: var(--fill-color);\n",
              "    }\n",
              "    30% {\n",
              "      border-color: transparent;\n",
              "      border-left-color: var(--fill-color);\n",
              "      border-top-color: var(--fill-color);\n",
              "      border-right-color: var(--fill-color);\n",
              "    }\n",
              "    40% {\n",
              "      border-color: transparent;\n",
              "      border-right-color: var(--fill-color);\n",
              "      border-top-color: var(--fill-color);\n",
              "    }\n",
              "    60% {\n",
              "      border-color: transparent;\n",
              "      border-right-color: var(--fill-color);\n",
              "    }\n",
              "    80% {\n",
              "      border-color: transparent;\n",
              "      border-right-color: var(--fill-color);\n",
              "      border-bottom-color: var(--fill-color);\n",
              "    }\n",
              "    90% {\n",
              "      border-color: transparent;\n",
              "      border-bottom-color: var(--fill-color);\n",
              "    }\n",
              "  }\n",
              "</style>\n",
              "\n",
              "  <script>\n",
              "    async function quickchart(key) {\n",
              "      const quickchartButtonEl =\n",
              "        document.querySelector('#' + key + ' button');\n",
              "      quickchartButtonEl.disabled = true;  // To prevent multiple clicks.\n",
              "      quickchartButtonEl.classList.add('colab-df-spinner');\n",
              "      try {\n",
              "        const charts = await google.colab.kernel.invokeFunction(\n",
              "            'suggestCharts', [key], {});\n",
              "      } catch (error) {\n",
              "        console.error('Error during call to suggestCharts:', error);\n",
              "      }\n",
              "      quickchartButtonEl.classList.remove('colab-df-spinner');\n",
              "      quickchartButtonEl.classList.add('colab-df-quickchart-complete');\n",
              "    }\n",
              "    (() => {\n",
              "      let quickchartButtonEl =\n",
              "        document.querySelector('#df-7e979319-e7e6-4ed1-af42-5a1b25e2c09f button');\n",
              "      quickchartButtonEl.style.display =\n",
              "        google.colab.kernel.accessAllowed ? 'block' : 'none';\n",
              "    })();\n",
              "  </script>\n",
              "</div>\n",
              "\n",
              "  <div id=\"id_7e290def-d74b-4fe6-9c05-4df671cfee93\">\n",
              "    <style>\n",
              "      .colab-df-generate {\n",
              "        background-color: #E8F0FE;\n",
              "        border: none;\n",
              "        border-radius: 50%;\n",
              "        cursor: pointer;\n",
              "        display: none;\n",
              "        fill: #1967D2;\n",
              "        height: 32px;\n",
              "        padding: 0 0 0 0;\n",
              "        width: 32px;\n",
              "      }\n",
              "\n",
              "      .colab-df-generate:hover {\n",
              "        background-color: #E2EBFA;\n",
              "        box-shadow: 0px 1px 2px rgba(60, 64, 67, 0.3), 0px 1px 3px 1px rgba(60, 64, 67, 0.15);\n",
              "        fill: #174EA6;\n",
              "      }\n",
              "\n",
              "      [theme=dark] .colab-df-generate {\n",
              "        background-color: #3B4455;\n",
              "        fill: #D2E3FC;\n",
              "      }\n",
              "\n",
              "      [theme=dark] .colab-df-generate:hover {\n",
              "        background-color: #434B5C;\n",
              "        box-shadow: 0px 1px 3px 1px rgba(0, 0, 0, 0.15);\n",
              "        filter: drop-shadow(0px 1px 2px rgba(0, 0, 0, 0.3));\n",
              "        fill: #FFFFFF;\n",
              "      }\n",
              "    </style>\n",
              "    <button class=\"colab-df-generate\" onclick=\"generateWithVariable('base')\"\n",
              "            title=\"Generate code using this dataframe.\"\n",
              "            style=\"display:none;\">\n",
              "\n",
              "  <svg xmlns=\"http://www.w3.org/2000/svg\" height=\"24px\"viewBox=\"0 0 24 24\"\n",
              "       width=\"24px\">\n",
              "    <path d=\"M7,19H8.4L18.45,9,17,7.55,7,17.6ZM5,21V16.75L18.45,3.32a2,2,0,0,1,2.83,0l1.4,1.43a1.91,1.91,0,0,1,.58,1.4,1.91,1.91,0,0,1-.58,1.4L9.25,21ZM18.45,9,17,7.55Zm-12,3A5.31,5.31,0,0,0,4.9,8.1,5.31,5.31,0,0,0,1,6.5,5.31,5.31,0,0,0,4.9,4.9,5.31,5.31,0,0,0,6.5,1,5.31,5.31,0,0,0,8.1,4.9,5.31,5.31,0,0,0,12,6.5,5.46,5.46,0,0,0,6.5,12Z\"/>\n",
              "  </svg>\n",
              "    </button>\n",
              "    <script>\n",
              "      (() => {\n",
              "      const buttonEl =\n",
              "        document.querySelector('#id_7e290def-d74b-4fe6-9c05-4df671cfee93 button.colab-df-generate');\n",
              "      buttonEl.style.display =\n",
              "        google.colab.kernel.accessAllowed ? 'block' : 'none';\n",
              "\n",
              "      buttonEl.onclick = () => {\n",
              "        google.colab.notebook.generateWithVariable('base');\n",
              "      }\n",
              "      })();\n",
              "    </script>\n",
              "  </div>\n",
              "\n",
              "    </div>\n",
              "  </div>\n"
            ],
            "application/vnd.google.colaboratory.intrinsic+json": {
              "type": "dataframe",
              "variable_name": "base",
              "summary": "{\n  \"name\": \"base\",\n  \"rows\": 1245,\n  \"fields\": [\n    {\n      \"column\": \"Date\",\n      \"properties\": {\n        \"dtype\": \"object\",\n        \"num_unique_values\": 1245,\n        \"samples\": [\n          \"2015-12-18\",\n          \"2014-10-13\",\n          \"2017-07-05\"\n        ],\n        \"semantic_type\": \"\",\n        \"description\": \"\"\n      }\n    },\n    {\n      \"column\": \"Open\",\n      \"properties\": {\n        \"dtype\": \"number\",\n        \"std\": 4.148311496386988,\n        \"min\": 4.2,\n        \"max\": 24.84,\n        \"num_unique_values\": 797,\n        \"samples\": [\n          15.55,\n          13.34,\n          17.440001\n        ],\n        \"semantic_type\": \"\",\n        \"description\": \"\"\n      }\n    },\n    {\n      \"column\": \"High\",\n      \"properties\": {\n        \"dtype\": \"number\",\n        \"std\": 4.186652378816131,\n        \"min\": 4.27,\n        \"max\": 24.9,\n        \"num_unique_values\": 835,\n        \"samples\": [\n          8.27,\n          16.120001,\n          20.870001\n        ],\n        \"semantic_type\": \"\",\n        \"description\": \"\"\n      }\n    },\n    {\n      \"column\": \"Low\",\n      \"properties\": {\n        \"dtype\": \"number\",\n        \"std\": 4.108178159249578,\n        \"min\": 4.12,\n        \"max\": 23.66,\n        \"num_unique_values\": 799,\n        \"samples\": [\n          14.29,\n          12.71,\n          19.889999\n        ],\n        \"semantic_type\": \"\",\n        \"description\": \"\"\n      }\n    },\n    {\n      \"column\": \"Close\",\n      \"properties\": {\n        \"dtype\": \"number\",\n        \"std\": 4.14624416749383,\n        \"min\": 4.2,\n        \"max\": 24.559999,\n        \"num_unique_values\": 813,\n        \"samples\": [\n          13.99,\n          4.46,\n          14.43\n        ],\n        \"semantic_type\": \"\",\n        \"description\": \"\"\n      }\n    },\n    {\n      \"column\": \"Adj Close\",\n      \"properties\": {\n        \"dtype\": \"number\",\n        \"std\": 3.8997352537640007,\n        \"min\": 4.191617,\n        \"max\": 24.510979,\n        \"num_unique_values\": 925,\n        \"samples\": [\n          17.465071,\n          12.914171,\n          16.18487\n        ],\n        \"semantic_type\": \"\",\n        \"description\": \"\"\n      }\n    },\n    {\n      \"column\": \"Volume\",\n      \"properties\": {\n        \"dtype\": \"number\",\n        \"std\": 32356307.18635293,\n        \"min\": 0.0,\n        \"max\": 698950612.0,\n        \"num_unique_values\": 1233,\n        \"samples\": [\n          28004000.0,\n          42857200.0,\n          457400.0\n        ],\n        \"semantic_type\": \"\",\n        \"description\": \"\"\n      }\n    }\n  ]\n}"
            }
          },
          "metadata": {},
          "execution_count": 4
        }
      ]
    },
    {
      "cell_type": "code",
      "source": [
        "base.isnull().sum()"
      ],
      "metadata": {
        "colab": {
          "base_uri": "https://localhost:8080/"
        },
        "id": "zqo41u6z1y18",
        "outputId": "b1d66876-39c9-4d3a-af4c-fa834abfe7b6"
      },
      "execution_count": null,
      "outputs": [
        {
          "output_type": "execute_result",
          "data": {
            "text/plain": [
              "Date         0\n",
              "Open         3\n",
              "High         3\n",
              "Low          3\n",
              "Close        3\n",
              "Adj Close    3\n",
              "Volume       3\n",
              "dtype: int64"
            ]
          },
          "metadata": {},
          "execution_count": 5
        }
      ]
    },
    {
      "cell_type": "code",
      "source": [
        "base = base.dropna()"
      ],
      "metadata": {
        "id": "oogp-nC517Dt"
      },
      "execution_count": null,
      "outputs": []
    },
    {
      "cell_type": "code",
      "source": [
        "base.shape"
      ],
      "metadata": {
        "colab": {
          "base_uri": "https://localhost:8080/"
        },
        "id": "VXRrkyEp19ge",
        "outputId": "eb17ffc4-f97c-478e-c0fb-5f02c2c088b3"
      },
      "execution_count": null,
      "outputs": [
        {
          "output_type": "execute_result",
          "data": {
            "text/plain": [
              "(1242, 7)"
            ]
          },
          "metadata": {},
          "execution_count": 7
        }
      ]
    },
    {
      "cell_type": "code",
      "source": [
        "base_treinamento = base.iloc[:, 1:2].values"
      ],
      "metadata": {
        "id": "c16tOTx72Mpy"
      },
      "execution_count": null,
      "outputs": []
    },
    {
      "cell_type": "code",
      "source": [
        "base_treinamento"
      ],
      "metadata": {
        "colab": {
          "base_uri": "https://localhost:8080/"
        },
        "id": "jWwHh6422Zl7",
        "outputId": "83189a91-9101-4023-8d64-1fe818b1d8cd"
      },
      "execution_count": null,
      "outputs": [
        {
          "output_type": "execute_result",
          "data": {
            "text/plain": [
              "array([[19.99    ],\n",
              "       [19.809999],\n",
              "       [20.33    ],\n",
              "       ...,\n",
              "       [15.99    ],\n",
              "       [16.1     ],\n",
              "       [16.1     ]])"
            ]
          },
          "metadata": {},
          "execution_count": 9
        }
      ]
    },
    {
      "cell_type": "code",
      "source": [
        "normalizador = MinMaxScaler(feature_range=(0, 1))\n",
        "base_treinamento_normalizada = normalizador.fit_transform(base_treinamento)\n",
        "base_treinamento_normalizada"
      ],
      "metadata": {
        "colab": {
          "base_uri": "https://localhost:8080/"
        },
        "id": "9XGHGqeJ2hyb",
        "outputId": "a4bd1b75-c4ce-403e-c0b7-ecb2cea62724"
      },
      "execution_count": null,
      "outputs": [
        {
          "output_type": "execute_result",
          "data": {
            "text/plain": [
              "array([[0.76501938],\n",
              "       [0.7562984 ],\n",
              "       [0.78149225],\n",
              "       ...,\n",
              "       [0.57122093],\n",
              "       [0.57655039],\n",
              "       [0.57655039]])"
            ]
          },
          "metadata": {},
          "execution_count": 10
        }
      ]
    },
    {
      "cell_type": "code",
      "source": [
        "base_treinamento_normalizada.shape"
      ],
      "metadata": {
        "colab": {
          "base_uri": "https://localhost:8080/"
        },
        "id": "TzsQkFaO8GIn",
        "outputId": "c9d34dd3-b71f-49c2-e3c1-c3303822992b"
      },
      "execution_count": null,
      "outputs": [
        {
          "output_type": "execute_result",
          "data": {
            "text/plain": [
              "(1242, 1)"
            ]
          },
          "metadata": {},
          "execution_count": 11
        }
      ]
    },
    {
      "cell_type": "code",
      "source": [
        "X = [] # previsores\n",
        "y = [] # preço real\n",
        "for i in range(90, 1242): # 90 preços anteriores\n",
        "  X.append(base_treinamento_normalizada[i - 90:i, 0])\n",
        "  y.append(base_treinamento_normalizada[i, 0])\n",
        "  #print(i, i - 90)\n",
        "X, y = np.array(X), np.array(y)"
      ],
      "metadata": {
        "id": "rYyydmR575tC"
      },
      "execution_count": null,
      "outputs": []
    },
    {
      "cell_type": "code",
      "source": [
        "X.shape"
      ],
      "metadata": {
        "colab": {
          "base_uri": "https://localhost:8080/"
        },
        "id": "1spATQOO95Uj",
        "outputId": "e81544b8-04bd-4a41-8e1f-0689bd7ad4db"
      },
      "execution_count": null,
      "outputs": [
        {
          "output_type": "execute_result",
          "data": {
            "text/plain": [
              "(1152, 90)"
            ]
          },
          "metadata": {},
          "execution_count": 13
        }
      ]
    },
    {
      "cell_type": "code",
      "source": [
        "y.shape"
      ],
      "metadata": {
        "colab": {
          "base_uri": "https://localhost:8080/"
        },
        "id": "HnOj1dT6-A1B",
        "outputId": "e99d12df-89d9-40e7-ecff-6df3157e1327"
      },
      "execution_count": null,
      "outputs": [
        {
          "output_type": "execute_result",
          "data": {
            "text/plain": [
              "(1152,)"
            ]
          },
          "metadata": {},
          "execution_count": 14
        }
      ]
    },
    {
      "cell_type": "code",
      "source": [
        "X[0], y[0]"
      ],
      "metadata": {
        "colab": {
          "base_uri": "https://localhost:8080/"
        },
        "id": "WK55Fltj-LB5",
        "outputId": "fc62126f-64ed-457b-95ac-40b2b9211465"
      },
      "execution_count": null,
      "outputs": [
        {
          "output_type": "execute_result",
          "data": {
            "text/plain": [
              "(array([0.76501938, 0.7562984 , 0.78149225, 0.78875969, 0.77083338,\n",
              "        0.74806197, 0.75436047, 0.75823643, 0.76598837, 0.76598837,\n",
              "        0.76017437, 0.75872098, 0.75581391, 0.74467054, 0.7374031 ,\n",
              "        0.7374031 , 0.73498067, 0.75242248, 0.73401163, 0.71656977,\n",
              "        0.68120155, 0.67538755, 0.67635659, 0.63372098, 0.66521318,\n",
              "        0.65649225, 0.64680228, 0.66618222, 0.65843028, 0.64970935,\n",
              "        0.65116274, 0.66424419, 0.67344961, 0.64292631, 0.64486434,\n",
              "        0.62257747, 0.60949617, 0.60998067, 0.60852713, 0.59593023,\n",
              "        0.61143411, 0.60222863, 0.64922481, 0.68362398, 0.70687989,\n",
              "        0.68265509, 0.70978682, 0.70784879, 0.71608527, 0.73643411,\n",
              "        0.7122093 , 0.7122093 , 0.7194767 , 0.70348832, 0.69525189,\n",
              "        0.70397287, 0.70397287, 0.69767442, 0.68168605, 0.68168605,\n",
              "        0.65310078, 0.66618222, 0.64825581, 0.66182175, 0.64341085,\n",
              "        0.67877902, 0.69137592, 0.66569772, 0.65406982, 0.64292631,\n",
              "        0.64147292, 0.63565891, 0.67587209, 0.68653106, 0.70300383,\n",
              "        0.71996119, 0.73982553, 0.76550388, 0.74854651, 0.75823643,\n",
              "        0.78924419, 0.76598837, 0.78488372, 0.80184109, 0.77761628,\n",
              "        0.77325581, 0.7562984 , 0.74273261, 0.74127907, 0.74224806]),\n",
              " 0.7611434108527131)"
            ]
          },
          "metadata": {},
          "execution_count": 15
        }
      ]
    },
    {
      "cell_type": "code",
      "source": [
        "base[0:90]"
      ],
      "metadata": {
        "colab": {
          "base_uri": "https://localhost:8080/",
          "height": 436
        },
        "id": "KiUOQ0fp_HCx",
        "outputId": "f99ef32b-391a-4ce5-8387-99a4a011da8a"
      },
      "execution_count": null,
      "outputs": [
        {
          "output_type": "execute_result",
          "data": {
            "text/plain": [
              "          Date       Open       High        Low      Close  Adj Close  \\\n",
              "0   2013-01-02  19.990000  20.209999  19.690001  19.690001  18.086271   \n",
              "1   2013-01-03  19.809999  20.400000  19.700001  20.400000  18.738441   \n",
              "2   2013-01-04  20.330000  20.620001  20.170000  20.430000  18.766001   \n",
              "3   2013-01-07  20.480000  20.670000  19.950001  20.080000  18.444506   \n",
              "4   2013-01-08  20.110001  20.230000  19.459999  19.500000  17.911745   \n",
              "..         ...        ...        ...        ...        ...        ...   \n",
              "87  2013-05-10  20.160000  20.389999  19.709999  19.959999  18.681934   \n",
              "88  2013-05-13  19.809999  19.850000  19.379999  19.490000  18.242029   \n",
              "89  2013-05-14  19.530001  19.680000  19.250000  19.549999  18.298189   \n",
              "90  2013-05-15  19.500000  19.639999  19.330000  19.570000  18.316908   \n",
              "91  2013-05-16  19.520000  20.080000  19.459999  19.750000  18.485382   \n",
              "\n",
              "        Volume  \n",
              "0   30182600.0  \n",
              "1   30552600.0  \n",
              "2   36141000.0  \n",
              "3   28069600.0  \n",
              "4   29091300.0  \n",
              "..         ...  \n",
              "87  22031200.0  \n",
              "88  21577600.0  \n",
              "89  30643700.0  \n",
              "90  21869300.0  \n",
              "91  25067200.0  \n",
              "\n",
              "[90 rows x 7 columns]"
            ],
            "text/html": [
              "\n",
              "  <div id=\"df-7a983c7f-6d65-4126-9f54-c406122cea19\" class=\"colab-df-container\">\n",
              "    <div>\n",
              "<style scoped>\n",
              "    .dataframe tbody tr th:only-of-type {\n",
              "        vertical-align: middle;\n",
              "    }\n",
              "\n",
              "    .dataframe tbody tr th {\n",
              "        vertical-align: top;\n",
              "    }\n",
              "\n",
              "    .dataframe thead th {\n",
              "        text-align: right;\n",
              "    }\n",
              "</style>\n",
              "<table border=\"1\" class=\"dataframe\">\n",
              "  <thead>\n",
              "    <tr style=\"text-align: right;\">\n",
              "      <th></th>\n",
              "      <th>Date</th>\n",
              "      <th>Open</th>\n",
              "      <th>High</th>\n",
              "      <th>Low</th>\n",
              "      <th>Close</th>\n",
              "      <th>Adj Close</th>\n",
              "      <th>Volume</th>\n",
              "    </tr>\n",
              "  </thead>\n",
              "  <tbody>\n",
              "    <tr>\n",
              "      <th>0</th>\n",
              "      <td>2013-01-02</td>\n",
              "      <td>19.990000</td>\n",
              "      <td>20.209999</td>\n",
              "      <td>19.690001</td>\n",
              "      <td>19.690001</td>\n",
              "      <td>18.086271</td>\n",
              "      <td>30182600.0</td>\n",
              "    </tr>\n",
              "    <tr>\n",
              "      <th>1</th>\n",
              "      <td>2013-01-03</td>\n",
              "      <td>19.809999</td>\n",
              "      <td>20.400000</td>\n",
              "      <td>19.700001</td>\n",
              "      <td>20.400000</td>\n",
              "      <td>18.738441</td>\n",
              "      <td>30552600.0</td>\n",
              "    </tr>\n",
              "    <tr>\n",
              "      <th>2</th>\n",
              "      <td>2013-01-04</td>\n",
              "      <td>20.330000</td>\n",
              "      <td>20.620001</td>\n",
              "      <td>20.170000</td>\n",
              "      <td>20.430000</td>\n",
              "      <td>18.766001</td>\n",
              "      <td>36141000.0</td>\n",
              "    </tr>\n",
              "    <tr>\n",
              "      <th>3</th>\n",
              "      <td>2013-01-07</td>\n",
              "      <td>20.480000</td>\n",
              "      <td>20.670000</td>\n",
              "      <td>19.950001</td>\n",
              "      <td>20.080000</td>\n",
              "      <td>18.444506</td>\n",
              "      <td>28069600.0</td>\n",
              "    </tr>\n",
              "    <tr>\n",
              "      <th>4</th>\n",
              "      <td>2013-01-08</td>\n",
              "      <td>20.110001</td>\n",
              "      <td>20.230000</td>\n",
              "      <td>19.459999</td>\n",
              "      <td>19.500000</td>\n",
              "      <td>17.911745</td>\n",
              "      <td>29091300.0</td>\n",
              "    </tr>\n",
              "    <tr>\n",
              "      <th>...</th>\n",
              "      <td>...</td>\n",
              "      <td>...</td>\n",
              "      <td>...</td>\n",
              "      <td>...</td>\n",
              "      <td>...</td>\n",
              "      <td>...</td>\n",
              "      <td>...</td>\n",
              "    </tr>\n",
              "    <tr>\n",
              "      <th>87</th>\n",
              "      <td>2013-05-10</td>\n",
              "      <td>20.160000</td>\n",
              "      <td>20.389999</td>\n",
              "      <td>19.709999</td>\n",
              "      <td>19.959999</td>\n",
              "      <td>18.681934</td>\n",
              "      <td>22031200.0</td>\n",
              "    </tr>\n",
              "    <tr>\n",
              "      <th>88</th>\n",
              "      <td>2013-05-13</td>\n",
              "      <td>19.809999</td>\n",
              "      <td>19.850000</td>\n",
              "      <td>19.379999</td>\n",
              "      <td>19.490000</td>\n",
              "      <td>18.242029</td>\n",
              "      <td>21577600.0</td>\n",
              "    </tr>\n",
              "    <tr>\n",
              "      <th>89</th>\n",
              "      <td>2013-05-14</td>\n",
              "      <td>19.530001</td>\n",
              "      <td>19.680000</td>\n",
              "      <td>19.250000</td>\n",
              "      <td>19.549999</td>\n",
              "      <td>18.298189</td>\n",
              "      <td>30643700.0</td>\n",
              "    </tr>\n",
              "    <tr>\n",
              "      <th>90</th>\n",
              "      <td>2013-05-15</td>\n",
              "      <td>19.500000</td>\n",
              "      <td>19.639999</td>\n",
              "      <td>19.330000</td>\n",
              "      <td>19.570000</td>\n",
              "      <td>18.316908</td>\n",
              "      <td>21869300.0</td>\n",
              "    </tr>\n",
              "    <tr>\n",
              "      <th>91</th>\n",
              "      <td>2013-05-16</td>\n",
              "      <td>19.520000</td>\n",
              "      <td>20.080000</td>\n",
              "      <td>19.459999</td>\n",
              "      <td>19.750000</td>\n",
              "      <td>18.485382</td>\n",
              "      <td>25067200.0</td>\n",
              "    </tr>\n",
              "  </tbody>\n",
              "</table>\n",
              "<p>90 rows × 7 columns</p>\n",
              "</div>\n",
              "    <div class=\"colab-df-buttons\">\n",
              "\n",
              "  <div class=\"colab-df-container\">\n",
              "    <button class=\"colab-df-convert\" onclick=\"convertToInteractive('df-7a983c7f-6d65-4126-9f54-c406122cea19')\"\n",
              "            title=\"Convert this dataframe to an interactive table.\"\n",
              "            style=\"display:none;\">\n",
              "\n",
              "  <svg xmlns=\"http://www.w3.org/2000/svg\" height=\"24px\" viewBox=\"0 -960 960 960\">\n",
              "    <path d=\"M120-120v-720h720v720H120Zm60-500h600v-160H180v160Zm220 220h160v-160H400v160Zm0 220h160v-160H400v160ZM180-400h160v-160H180v160Zm440 0h160v-160H620v160ZM180-180h160v-160H180v160Zm440 0h160v-160H620v160Z\"/>\n",
              "  </svg>\n",
              "    </button>\n",
              "\n",
              "  <style>\n",
              "    .colab-df-container {\n",
              "      display:flex;\n",
              "      gap: 12px;\n",
              "    }\n",
              "\n",
              "    .colab-df-convert {\n",
              "      background-color: #E8F0FE;\n",
              "      border: none;\n",
              "      border-radius: 50%;\n",
              "      cursor: pointer;\n",
              "      display: none;\n",
              "      fill: #1967D2;\n",
              "      height: 32px;\n",
              "      padding: 0 0 0 0;\n",
              "      width: 32px;\n",
              "    }\n",
              "\n",
              "    .colab-df-convert:hover {\n",
              "      background-color: #E2EBFA;\n",
              "      box-shadow: 0px 1px 2px rgba(60, 64, 67, 0.3), 0px 1px 3px 1px rgba(60, 64, 67, 0.15);\n",
              "      fill: #174EA6;\n",
              "    }\n",
              "\n",
              "    .colab-df-buttons div {\n",
              "      margin-bottom: 4px;\n",
              "    }\n",
              "\n",
              "    [theme=dark] .colab-df-convert {\n",
              "      background-color: #3B4455;\n",
              "      fill: #D2E3FC;\n",
              "    }\n",
              "\n",
              "    [theme=dark] .colab-df-convert:hover {\n",
              "      background-color: #434B5C;\n",
              "      box-shadow: 0px 1px 3px 1px rgba(0, 0, 0, 0.15);\n",
              "      filter: drop-shadow(0px 1px 2px rgba(0, 0, 0, 0.3));\n",
              "      fill: #FFFFFF;\n",
              "    }\n",
              "  </style>\n",
              "\n",
              "    <script>\n",
              "      const buttonEl =\n",
              "        document.querySelector('#df-7a983c7f-6d65-4126-9f54-c406122cea19 button.colab-df-convert');\n",
              "      buttonEl.style.display =\n",
              "        google.colab.kernel.accessAllowed ? 'block' : 'none';\n",
              "\n",
              "      async function convertToInteractive(key) {\n",
              "        const element = document.querySelector('#df-7a983c7f-6d65-4126-9f54-c406122cea19');\n",
              "        const dataTable =\n",
              "          await google.colab.kernel.invokeFunction('convertToInteractive',\n",
              "                                                    [key], {});\n",
              "        if (!dataTable) return;\n",
              "\n",
              "        const docLinkHtml = 'Like what you see? Visit the ' +\n",
              "          '<a target=\"_blank\" href=https://colab.research.google.com/notebooks/data_table.ipynb>data table notebook</a>'\n",
              "          + ' to learn more about interactive tables.';\n",
              "        element.innerHTML = '';\n",
              "        dataTable['output_type'] = 'display_data';\n",
              "        await google.colab.output.renderOutput(dataTable, element);\n",
              "        const docLink = document.createElement('div');\n",
              "        docLink.innerHTML = docLinkHtml;\n",
              "        element.appendChild(docLink);\n",
              "      }\n",
              "    </script>\n",
              "  </div>\n",
              "\n",
              "\n",
              "<div id=\"df-ad26217f-3905-481a-a584-381d69a3305d\">\n",
              "  <button class=\"colab-df-quickchart\" onclick=\"quickchart('df-ad26217f-3905-481a-a584-381d69a3305d')\"\n",
              "            title=\"Suggest charts\"\n",
              "            style=\"display:none;\">\n",
              "\n",
              "<svg xmlns=\"http://www.w3.org/2000/svg\" height=\"24px\"viewBox=\"0 0 24 24\"\n",
              "     width=\"24px\">\n",
              "    <g>\n",
              "        <path d=\"M19 3H5c-1.1 0-2 .9-2 2v14c0 1.1.9 2 2 2h14c1.1 0 2-.9 2-2V5c0-1.1-.9-2-2-2zM9 17H7v-7h2v7zm4 0h-2V7h2v10zm4 0h-2v-4h2v4z\"/>\n",
              "    </g>\n",
              "</svg>\n",
              "  </button>\n",
              "\n",
              "<style>\n",
              "  .colab-df-quickchart {\n",
              "      --bg-color: #E8F0FE;\n",
              "      --fill-color: #1967D2;\n",
              "      --hover-bg-color: #E2EBFA;\n",
              "      --hover-fill-color: #174EA6;\n",
              "      --disabled-fill-color: #AAA;\n",
              "      --disabled-bg-color: #DDD;\n",
              "  }\n",
              "\n",
              "  [theme=dark] .colab-df-quickchart {\n",
              "      --bg-color: #3B4455;\n",
              "      --fill-color: #D2E3FC;\n",
              "      --hover-bg-color: #434B5C;\n",
              "      --hover-fill-color: #FFFFFF;\n",
              "      --disabled-bg-color: #3B4455;\n",
              "      --disabled-fill-color: #666;\n",
              "  }\n",
              "\n",
              "  .colab-df-quickchart {\n",
              "    background-color: var(--bg-color);\n",
              "    border: none;\n",
              "    border-radius: 50%;\n",
              "    cursor: pointer;\n",
              "    display: none;\n",
              "    fill: var(--fill-color);\n",
              "    height: 32px;\n",
              "    padding: 0;\n",
              "    width: 32px;\n",
              "  }\n",
              "\n",
              "  .colab-df-quickchart:hover {\n",
              "    background-color: var(--hover-bg-color);\n",
              "    box-shadow: 0 1px 2px rgba(60, 64, 67, 0.3), 0 1px 3px 1px rgba(60, 64, 67, 0.15);\n",
              "    fill: var(--button-hover-fill-color);\n",
              "  }\n",
              "\n",
              "  .colab-df-quickchart-complete:disabled,\n",
              "  .colab-df-quickchart-complete:disabled:hover {\n",
              "    background-color: var(--disabled-bg-color);\n",
              "    fill: var(--disabled-fill-color);\n",
              "    box-shadow: none;\n",
              "  }\n",
              "\n",
              "  .colab-df-spinner {\n",
              "    border: 2px solid var(--fill-color);\n",
              "    border-color: transparent;\n",
              "    border-bottom-color: var(--fill-color);\n",
              "    animation:\n",
              "      spin 1s steps(1) infinite;\n",
              "  }\n",
              "\n",
              "  @keyframes spin {\n",
              "    0% {\n",
              "      border-color: transparent;\n",
              "      border-bottom-color: var(--fill-color);\n",
              "      border-left-color: var(--fill-color);\n",
              "    }\n",
              "    20% {\n",
              "      border-color: transparent;\n",
              "      border-left-color: var(--fill-color);\n",
              "      border-top-color: var(--fill-color);\n",
              "    }\n",
              "    30% {\n",
              "      border-color: transparent;\n",
              "      border-left-color: var(--fill-color);\n",
              "      border-top-color: var(--fill-color);\n",
              "      border-right-color: var(--fill-color);\n",
              "    }\n",
              "    40% {\n",
              "      border-color: transparent;\n",
              "      border-right-color: var(--fill-color);\n",
              "      border-top-color: var(--fill-color);\n",
              "    }\n",
              "    60% {\n",
              "      border-color: transparent;\n",
              "      border-right-color: var(--fill-color);\n",
              "    }\n",
              "    80% {\n",
              "      border-color: transparent;\n",
              "      border-right-color: var(--fill-color);\n",
              "      border-bottom-color: var(--fill-color);\n",
              "    }\n",
              "    90% {\n",
              "      border-color: transparent;\n",
              "      border-bottom-color: var(--fill-color);\n",
              "    }\n",
              "  }\n",
              "</style>\n",
              "\n",
              "  <script>\n",
              "    async function quickchart(key) {\n",
              "      const quickchartButtonEl =\n",
              "        document.querySelector('#' + key + ' button');\n",
              "      quickchartButtonEl.disabled = true;  // To prevent multiple clicks.\n",
              "      quickchartButtonEl.classList.add('colab-df-spinner');\n",
              "      try {\n",
              "        const charts = await google.colab.kernel.invokeFunction(\n",
              "            'suggestCharts', [key], {});\n",
              "      } catch (error) {\n",
              "        console.error('Error during call to suggestCharts:', error);\n",
              "      }\n",
              "      quickchartButtonEl.classList.remove('colab-df-spinner');\n",
              "      quickchartButtonEl.classList.add('colab-df-quickchart-complete');\n",
              "    }\n",
              "    (() => {\n",
              "      let quickchartButtonEl =\n",
              "        document.querySelector('#df-ad26217f-3905-481a-a584-381d69a3305d button');\n",
              "      quickchartButtonEl.style.display =\n",
              "        google.colab.kernel.accessAllowed ? 'block' : 'none';\n",
              "    })();\n",
              "  </script>\n",
              "</div>\n",
              "\n",
              "    </div>\n",
              "  </div>\n"
            ],
            "application/vnd.google.colaboratory.intrinsic+json": {
              "type": "dataframe",
              "summary": "{\n  \"name\": \"base[0:90]\",\n  \"rows\": 90,\n  \"fields\": [\n    {\n      \"column\": \"Date\",\n      \"properties\": {\n        \"dtype\": \"object\",\n        \"num_unique_values\": 90,\n        \"samples\": [\n          \"2013-03-04\",\n          \"2013-02-04\",\n          \"2013-03-25\"\n        ],\n        \"semantic_type\": \"\",\n        \"description\": \"\"\n      }\n    },\n    {\n      \"column\": \"Open\",\n      \"properties\": {\n        \"dtype\": \"number\",\n        \"std\": 1.0835957507284264,\n        \"min\": 16.5,\n        \"max\": 20.75,\n        \"num_unique_values\": 80,\n        \"samples\": [\n          18.1,\n          19.99,\n          17.93\n        ],\n        \"semantic_type\": \"\",\n        \"description\": \"\"\n      }\n    },\n    {\n      \"column\": \"High\",\n      \"properties\": {\n        \"dtype\": \"number\",\n        \"std\": 1.0942557927652947,\n        \"min\": 16.76,\n        \"max\": 20.82,\n        \"num_unique_values\": 82,\n        \"samples\": [\n          17.57,\n          20.209999,\n          18.0\n        ],\n        \"semantic_type\": \"\",\n        \"description\": \"\"\n      }\n    },\n    {\n      \"column\": \"Low\",\n      \"properties\": {\n        \"dtype\": \"number\",\n        \"std\": 1.0699125888271521,\n        \"min\": 16.4,\n        \"max\": 20.280001,\n        \"num_unique_values\": 72,\n        \"samples\": [\n          19.459999,\n          19.85,\n          17.379999\n        ],\n        \"semantic_type\": \"\",\n        \"description\": \"\"\n      }\n    },\n    {\n      \"column\": \"Close\",\n      \"properties\": {\n        \"dtype\": \"number\",\n        \"std\": 1.0864354597743728,\n        \"min\": 16.5,\n        \"max\": 20.620001,\n        \"num_unique_values\": 82,\n        \"samples\": [\n          17.620001,\n          19.690001,\n          17.6\n        ],\n        \"semantic_type\": \"\",\n        \"description\": \"\"\n      }\n    },\n    {\n      \"column\": \"Adj Close\",\n      \"properties\": {\n        \"dtype\": \"number\",\n        \"std\": 1.060995052636008,\n        \"min\": 15.156093,\n        \"max\": 19.299677,\n        \"num_unique_values\": 83,\n        \"samples\": [\n          16.18487,\n          18.086271,\n          16.1665\n        ],\n        \"semantic_type\": \"\",\n        \"description\": \"\"\n      }\n    },\n    {\n      \"column\": \"Volume\",\n      \"properties\": {\n        \"dtype\": \"number\",\n        \"std\": 12109158.768023834,\n        \"min\": 13305100.0,\n        \"max\": 77332900.0,\n        \"num_unique_values\": 90,\n        \"samples\": [\n          35543300.0,\n          32294300.0,\n          24340200.0\n        ],\n        \"semantic_type\": \"\",\n        \"description\": \"\"\n      }\n    }\n  ]\n}"
            }
          },
          "metadata": {},
          "execution_count": 16
        }
      ]
    },
    {
      "cell_type": "code",
      "source": [
        "X.shape, X.shape[1]"
      ],
      "metadata": {
        "colab": {
          "base_uri": "https://localhost:8080/"
        },
        "id": "O6qHHGt7s_iv",
        "outputId": "4389b8db-e94b-4be8-9229-09e3bd60aab9"
      },
      "execution_count": null,
      "outputs": [
        {
          "output_type": "execute_result",
          "data": {
            "text/plain": [
              "((1152, 90), 90)"
            ]
          },
          "metadata": {},
          "execution_count": 20
        }
      ]
    },
    {
      "cell_type": "code",
      "source": [
        "regressor = Sequential()\n",
        "\n",
        "regressor.add(LSTM(units = 100, return_sequences=True, input_shape = (X.shape[1], 1)))\n",
        "regressor.add(Dropout(0.3))\n",
        "\n",
        "regressor.add(LSTM(units = 50, return_sequences=True))\n",
        "regressor.add(Dropout(0.3))\n",
        "\n",
        "regressor.add(LSTM(units = 50, return_sequences=True))\n",
        "regressor.add(Dropout(0.3))\n",
        "\n",
        "regressor.add(LSTM(units = 50))\n",
        "regressor.add(Dropout(0.3))\n",
        "\n",
        "regressor.add(Dense(units = 1, activation = 'linear'))\n",
        "\n",
        "regressor.summary()"
      ],
      "metadata": {
        "colab": {
          "base_uri": "https://localhost:8080/"
        },
        "id": "--LPq2AksKSE",
        "outputId": "ce4376ef-4a00-48c7-85dc-da64bbe64c3c"
      },
      "execution_count": null,
      "outputs": [
        {
          "output_type": "stream",
          "name": "stdout",
          "text": [
            "Model: \"sequential\"\n",
            "_________________________________________________________________\n",
            " Layer (type)                Output Shape              Param #   \n",
            "=================================================================\n",
            " lstm (LSTM)                 (None, 90, 100)           40800     \n",
            "                                                                 \n",
            " dropout (Dropout)           (None, 90, 100)           0         \n",
            "                                                                 \n",
            " lstm_1 (LSTM)               (None, 90, 50)            30200     \n",
            "                                                                 \n",
            " dropout_1 (Dropout)         (None, 90, 50)            0         \n",
            "                                                                 \n",
            " lstm_2 (LSTM)               (None, 90, 50)            20200     \n",
            "                                                                 \n",
            " dropout_2 (Dropout)         (None, 90, 50)            0         \n",
            "                                                                 \n",
            " lstm_3 (LSTM)               (None, 50)                20200     \n",
            "                                                                 \n",
            " dropout_3 (Dropout)         (None, 50)                0         \n",
            "                                                                 \n",
            " dense (Dense)               (None, 1)                 51        \n",
            "                                                                 \n",
            "=================================================================\n",
            "Total params: 111451 (435.36 KB)\n",
            "Trainable params: 111451 (435.36 KB)\n",
            "Non-trainable params: 0 (0.00 Byte)\n",
            "_________________________________________________________________\n"
          ]
        }
      ]
    },
    {
      "cell_type": "code",
      "source": [
        "regressor.compile(optimizer = 'rmsprop', loss = 'mean_squared_error', metrics = ['mean_absolute_error'])"
      ],
      "metadata": {
        "id": "zBKZsXN9uIeh"
      },
      "execution_count": null,
      "outputs": []
    },
    {
      "cell_type": "code",
      "source": [
        "regressor.fit(X, y, epochs = 100, batch_size = 32)"
      ],
      "metadata": {
        "colab": {
          "base_uri": "https://localhost:8080/"
        },
        "id": "UBglcR5vuadC",
        "outputId": "e7cb1859-0ce4-41da-98f0-d098e2ad5055"
      },
      "execution_count": null,
      "outputs": [
        {
          "output_type": "stream",
          "name": "stdout",
          "text": [
            "Epoch 1/100\n",
            "36/36 [==============================] - 13s 150ms/step - loss: 0.0297 - mean_absolute_error: 0.1320\n",
            "Epoch 2/100\n",
            "36/36 [==============================] - 7s 184ms/step - loss: 0.0147 - mean_absolute_error: 0.0949\n",
            "Epoch 3/100\n",
            "36/36 [==============================] - 5s 149ms/step - loss: 0.0131 - mean_absolute_error: 0.0906\n",
            "Epoch 4/100\n",
            "36/36 [==============================] - 6s 172ms/step - loss: 0.0098 - mean_absolute_error: 0.0766\n",
            "Epoch 5/100\n",
            "36/36 [==============================] - 6s 163ms/step - loss: 0.0107 - mean_absolute_error: 0.0784\n",
            "Epoch 6/100\n",
            "36/36 [==============================] - 5s 151ms/step - loss: 0.0094 - mean_absolute_error: 0.0755\n",
            "Epoch 7/100\n",
            "36/36 [==============================] - 7s 187ms/step - loss: 0.0089 - mean_absolute_error: 0.0731\n",
            "Epoch 8/100\n",
            "36/36 [==============================] - 5s 152ms/step - loss: 0.0083 - mean_absolute_error: 0.0689\n",
            "Epoch 9/100\n",
            "36/36 [==============================] - 7s 202ms/step - loss: 0.0076 - mean_absolute_error: 0.0656\n",
            "Epoch 10/100\n",
            "36/36 [==============================] - 6s 154ms/step - loss: 0.0076 - mean_absolute_error: 0.0677\n",
            "Epoch 11/100\n",
            "36/36 [==============================] - 7s 188ms/step - loss: 0.0066 - mean_absolute_error: 0.0622\n",
            "Epoch 12/100\n",
            "36/36 [==============================] - 5s 151ms/step - loss: 0.0064 - mean_absolute_error: 0.0613\n",
            "Epoch 13/100\n",
            "36/36 [==============================] - 8s 215ms/step - loss: 0.0063 - mean_absolute_error: 0.0606\n",
            "Epoch 14/100\n",
            "36/36 [==============================] - 5s 152ms/step - loss: 0.0062 - mean_absolute_error: 0.0601\n",
            "Epoch 15/100\n",
            "36/36 [==============================] - 7s 188ms/step - loss: 0.0061 - mean_absolute_error: 0.0599\n",
            "Epoch 16/100\n",
            "36/36 [==============================] - 5s 151ms/step - loss: 0.0053 - mean_absolute_error: 0.0563\n",
            "Epoch 17/100\n",
            "36/36 [==============================] - 6s 171ms/step - loss: 0.0054 - mean_absolute_error: 0.0564\n",
            "Epoch 18/100\n",
            "36/36 [==============================] - 6s 167ms/step - loss: 0.0051 - mean_absolute_error: 0.0549\n",
            "Epoch 19/100\n",
            "36/36 [==============================] - 6s 154ms/step - loss: 0.0048 - mean_absolute_error: 0.0527\n",
            "Epoch 20/100\n",
            "36/36 [==============================] - 7s 188ms/step - loss: 0.0052 - mean_absolute_error: 0.0550\n",
            "Epoch 21/100\n",
            "36/36 [==============================] - 6s 153ms/step - loss: 0.0049 - mean_absolute_error: 0.0533\n",
            "Epoch 22/100\n",
            "36/36 [==============================] - 7s 191ms/step - loss: 0.0044 - mean_absolute_error: 0.0503\n",
            "Epoch 23/100\n",
            "36/36 [==============================] - 5s 152ms/step - loss: 0.0042 - mean_absolute_error: 0.0500\n",
            "Epoch 24/100\n",
            "36/36 [==============================] - 7s 191ms/step - loss: 0.0044 - mean_absolute_error: 0.0498\n",
            "Epoch 25/100\n",
            "36/36 [==============================] - 5s 153ms/step - loss: 0.0042 - mean_absolute_error: 0.0493\n",
            "Epoch 26/100\n",
            "36/36 [==============================] - 7s 182ms/step - loss: 0.0043 - mean_absolute_error: 0.0492\n",
            "Epoch 27/100\n",
            "36/36 [==============================] - 6s 156ms/step - loss: 0.0040 - mean_absolute_error: 0.0480\n",
            "Epoch 28/100\n",
            "36/36 [==============================] - 6s 165ms/step - loss: 0.0042 - mean_absolute_error: 0.0496\n",
            "Epoch 29/100\n",
            "36/36 [==============================] - 7s 181ms/step - loss: 0.0037 - mean_absolute_error: 0.0466\n",
            "Epoch 30/100\n",
            "36/36 [==============================] - 5s 153ms/step - loss: 0.0042 - mean_absolute_error: 0.0479\n",
            "Epoch 31/100\n",
            "36/36 [==============================] - 7s 190ms/step - loss: 0.0036 - mean_absolute_error: 0.0452\n",
            "Epoch 32/100\n",
            "36/36 [==============================] - 5s 151ms/step - loss: 0.0038 - mean_absolute_error: 0.0467\n",
            "Epoch 33/100\n",
            "36/36 [==============================] - 7s 193ms/step - loss: 0.0036 - mean_absolute_error: 0.0462\n",
            "Epoch 34/100\n",
            "36/36 [==============================] - 5s 153ms/step - loss: 0.0038 - mean_absolute_error: 0.0465\n",
            "Epoch 35/100\n",
            "36/36 [==============================] - 7s 192ms/step - loss: 0.0035 - mean_absolute_error: 0.0451\n",
            "Epoch 36/100\n",
            "36/36 [==============================] - 5s 152ms/step - loss: 0.0032 - mean_absolute_error: 0.0423\n",
            "Epoch 37/100\n",
            "36/36 [==============================] - 6s 169ms/step - loss: 0.0035 - mean_absolute_error: 0.0438\n",
            "Epoch 38/100\n",
            "36/36 [==============================] - 6s 166ms/step - loss: 0.0031 - mean_absolute_error: 0.0423\n",
            "Epoch 39/100\n",
            "36/36 [==============================] - 5s 150ms/step - loss: 0.0033 - mean_absolute_error: 0.0431\n",
            "Epoch 40/100\n",
            "36/36 [==============================] - 7s 189ms/step - loss: 0.0033 - mean_absolute_error: 0.0445\n",
            "Epoch 41/100\n",
            "36/36 [==============================] - 5s 150ms/step - loss: 0.0030 - mean_absolute_error: 0.0421\n",
            "Epoch 42/100\n",
            "36/36 [==============================] - 7s 187ms/step - loss: 0.0032 - mean_absolute_error: 0.0423\n",
            "Epoch 43/100\n",
            "36/36 [==============================] - 5s 151ms/step - loss: 0.0030 - mean_absolute_error: 0.0426\n",
            "Epoch 44/100\n",
            "36/36 [==============================] - 7s 191ms/step - loss: 0.0028 - mean_absolute_error: 0.0411\n",
            "Epoch 45/100\n",
            "36/36 [==============================] - 5s 152ms/step - loss: 0.0027 - mean_absolute_error: 0.0395\n",
            "Epoch 46/100\n",
            "36/36 [==============================] - 6s 174ms/step - loss: 0.0028 - mean_absolute_error: 0.0398\n",
            "Epoch 47/100\n",
            "36/36 [==============================] - 6s 167ms/step - loss: 0.0028 - mean_absolute_error: 0.0405\n",
            "Epoch 48/100\n",
            "36/36 [==============================] - 5s 153ms/step - loss: 0.0029 - mean_absolute_error: 0.0405\n",
            "Epoch 49/100\n",
            "36/36 [==============================] - 7s 184ms/step - loss: 0.0027 - mean_absolute_error: 0.0397\n",
            "Epoch 50/100\n",
            "36/36 [==============================] - 6s 154ms/step - loss: 0.0027 - mean_absolute_error: 0.0400\n",
            "Epoch 51/100\n",
            "36/36 [==============================] - 7s 192ms/step - loss: 0.0030 - mean_absolute_error: 0.0414\n",
            "Epoch 52/100\n",
            "36/36 [==============================] - 5s 151ms/step - loss: 0.0026 - mean_absolute_error: 0.0383\n",
            "Epoch 53/100\n",
            "36/36 [==============================] - 7s 191ms/step - loss: 0.0026 - mean_absolute_error: 0.0388\n",
            "Epoch 54/100\n",
            "36/36 [==============================] - 5s 152ms/step - loss: 0.0025 - mean_absolute_error: 0.0381\n",
            "Epoch 55/100\n",
            "36/36 [==============================] - 6s 181ms/step - loss: 0.0027 - mean_absolute_error: 0.0392\n",
            "Epoch 56/100\n",
            "36/36 [==============================] - 6s 154ms/step - loss: 0.0025 - mean_absolute_error: 0.0373\n",
            "Epoch 57/100\n",
            "36/36 [==============================] - 6s 160ms/step - loss: 0.0027 - mean_absolute_error: 0.0396\n",
            "Epoch 58/100\n",
            "36/36 [==============================] - 7s 181ms/step - loss: 0.0025 - mean_absolute_error: 0.0383\n",
            "Epoch 59/100\n",
            "36/36 [==============================] - 5s 150ms/step - loss: 0.0023 - mean_absolute_error: 0.0365\n",
            "Epoch 60/100\n",
            "36/36 [==============================] - 7s 188ms/step - loss: 0.0024 - mean_absolute_error: 0.0375\n",
            "Epoch 61/100\n",
            "36/36 [==============================] - 5s 151ms/step - loss: 0.0023 - mean_absolute_error: 0.0361\n",
            "Epoch 62/100\n",
            "36/36 [==============================] - 7s 193ms/step - loss: 0.0026 - mean_absolute_error: 0.0389\n",
            "Epoch 63/100\n",
            "36/36 [==============================] - 6s 153ms/step - loss: 0.0024 - mean_absolute_error: 0.0373\n",
            "Epoch 64/100\n",
            "36/36 [==============================] - 7s 191ms/step - loss: 0.0026 - mean_absolute_error: 0.0390\n",
            "Epoch 65/100\n",
            "36/36 [==============================] - 6s 154ms/step - loss: 0.0025 - mean_absolute_error: 0.0379\n",
            "Epoch 66/100\n",
            "36/36 [==============================] - 6s 174ms/step - loss: 0.0022 - mean_absolute_error: 0.0358\n",
            "Epoch 67/100\n",
            "36/36 [==============================] - 7s 193ms/step - loss: 0.0022 - mean_absolute_error: 0.0362\n",
            "Epoch 68/100\n",
            "36/36 [==============================] - 6s 170ms/step - loss: 0.0024 - mean_absolute_error: 0.0372\n",
            "Epoch 69/100\n",
            "36/36 [==============================] - 6s 175ms/step - loss: 0.0021 - mean_absolute_error: 0.0347\n",
            "Epoch 70/100\n",
            "36/36 [==============================] - 5s 152ms/step - loss: 0.0023 - mean_absolute_error: 0.0362\n",
            "Epoch 71/100\n",
            "36/36 [==============================] - 7s 192ms/step - loss: 0.0022 - mean_absolute_error: 0.0360\n",
            "Epoch 72/100\n",
            "36/36 [==============================] - 5s 151ms/step - loss: 0.0023 - mean_absolute_error: 0.0358\n",
            "Epoch 73/100\n",
            "36/36 [==============================] - 7s 193ms/step - loss: 0.0022 - mean_absolute_error: 0.0351\n",
            "Epoch 74/100\n",
            "36/36 [==============================] - 5s 151ms/step - loss: 0.0020 - mean_absolute_error: 0.0337\n",
            "Epoch 75/100\n",
            "36/36 [==============================] - 7s 193ms/step - loss: 0.0022 - mean_absolute_error: 0.0355\n",
            "Epoch 76/100\n",
            "36/36 [==============================] - 5s 152ms/step - loss: 0.0021 - mean_absolute_error: 0.0344\n",
            "Epoch 77/100\n",
            "36/36 [==============================] - 6s 175ms/step - loss: 0.0021 - mean_absolute_error: 0.0345\n",
            "Epoch 78/100\n",
            "36/36 [==============================] - 6s 168ms/step - loss: 0.0021 - mean_absolute_error: 0.0351\n",
            "Epoch 79/100\n",
            "36/36 [==============================] - 5s 151ms/step - loss: 0.0021 - mean_absolute_error: 0.0347\n",
            "Epoch 80/100\n",
            "36/36 [==============================] - 7s 191ms/step - loss: 0.0021 - mean_absolute_error: 0.0340\n",
            "Epoch 81/100\n",
            "36/36 [==============================] - 5s 152ms/step - loss: 0.0021 - mean_absolute_error: 0.0346\n",
            "Epoch 82/100\n",
            "36/36 [==============================] - 7s 190ms/step - loss: 0.0021 - mean_absolute_error: 0.0343\n",
            "Epoch 83/100\n",
            "36/36 [==============================] - 5s 153ms/step - loss: 0.0021 - mean_absolute_error: 0.0350\n",
            "Epoch 84/100\n",
            "36/36 [==============================] - 7s 193ms/step - loss: 0.0021 - mean_absolute_error: 0.0340\n",
            "Epoch 85/100\n",
            "36/36 [==============================] - 5s 152ms/step - loss: 0.0023 - mean_absolute_error: 0.0359\n",
            "Epoch 86/100\n",
            "36/36 [==============================] - 6s 173ms/step - loss: 0.0022 - mean_absolute_error: 0.0341\n",
            "Epoch 87/100\n",
            "36/36 [==============================] - 6s 166ms/step - loss: 0.0021 - mean_absolute_error: 0.0347\n",
            "Epoch 88/100\n",
            "36/36 [==============================] - 5s 152ms/step - loss: 0.0020 - mean_absolute_error: 0.0340\n",
            "Epoch 89/100\n",
            "36/36 [==============================] - 7s 193ms/step - loss: 0.0020 - mean_absolute_error: 0.0338\n",
            "Epoch 90/100\n",
            "36/36 [==============================] - 5s 152ms/step - loss: 0.0018 - mean_absolute_error: 0.0325\n",
            "Epoch 91/100\n",
            "36/36 [==============================] - 7s 193ms/step - loss: 0.0019 - mean_absolute_error: 0.0337\n",
            "Epoch 92/100\n",
            "36/36 [==============================] - 5s 152ms/step - loss: 0.0019 - mean_absolute_error: 0.0329\n",
            "Epoch 93/100\n",
            "36/36 [==============================] - 7s 189ms/step - loss: 0.0020 - mean_absolute_error: 0.0337\n",
            "Epoch 94/100\n",
            "36/36 [==============================] - 6s 154ms/step - loss: 0.0019 - mean_absolute_error: 0.0328\n",
            "Epoch 95/100\n",
            "36/36 [==============================] - 7s 186ms/step - loss: 0.0020 - mean_absolute_error: 0.0339\n",
            "Epoch 96/100\n",
            "36/36 [==============================] - 6s 156ms/step - loss: 0.0019 - mean_absolute_error: 0.0329\n",
            "Epoch 97/100\n",
            "36/36 [==============================] - 6s 167ms/step - loss: 0.0020 - mean_absolute_error: 0.0336\n",
            "Epoch 98/100\n",
            "36/36 [==============================] - 6s 176ms/step - loss: 0.0019 - mean_absolute_error: 0.0335\n",
            "Epoch 99/100\n",
            "36/36 [==============================] - 6s 154ms/step - loss: 0.0018 - mean_absolute_error: 0.0327\n",
            "Epoch 100/100\n",
            "36/36 [==============================] - 7s 186ms/step - loss: 0.0019 - mean_absolute_error: 0.0328\n"
          ]
        },
        {
          "output_type": "execute_result",
          "data": {
            "text/plain": [
              "<keras.src.callbacks.History at 0x7fd212bd0a00>"
            ]
          },
          "metadata": {},
          "execution_count": 23
        }
      ]
    },
    {
      "cell_type": "code",
      "source": [
        "base_teste = pd.read_csv('petr4_teste.csv')\n",
        "base_teste"
      ],
      "metadata": {
        "colab": {
          "base_uri": "https://localhost:8080/",
          "height": 747
        },
        "id": "76l2ClCsxtsG",
        "outputId": "2f6613c5-4633-41df-c1db-d2f1f8ea806a"
      },
      "execution_count": null,
      "outputs": [
        {
          "output_type": "execute_result",
          "data": {
            "text/plain": [
              "          Date       Open       High        Low      Close  Adj Close  \\\n",
              "0   2018-01-02  16.190001  16.549999  16.190001  16.549999  16.516966   \n",
              "1   2018-01-03  16.490000  16.719999  16.370001  16.700001  16.666668   \n",
              "2   2018-01-04  16.780001  16.959999  16.620001  16.730000  16.696608   \n",
              "3   2018-01-05  16.700001  16.860001  16.570000  16.830000  16.796408   \n",
              "4   2018-01-08  16.740000  17.030001  16.709999  17.030001  16.996010   \n",
              "5   2018-01-09  17.030001  17.160000  16.959999  17.030001  16.996010   \n",
              "6   2018-01-10  16.920000  17.049999  16.770000  16.799999  16.766466   \n",
              "7   2018-01-11  16.879999  17.299999  16.840000  17.250000  17.215569   \n",
              "8   2018-01-12  17.040001  17.410000  17.020000  17.299999  17.265469   \n",
              "9   2018-01-15  17.320000  17.440001  17.150000  17.350000  17.315371   \n",
              "10  2018-01-16  17.350000  17.840000  17.299999  17.650000  17.614771   \n",
              "11  2018-01-17  17.920000  18.360001  17.809999  18.360001  18.323355   \n",
              "12  2018-01-18  18.350000  18.530001  17.930000  18.219999  18.183632   \n",
              "13  2018-01-19  18.309999  18.420000  18.030001  18.260000  18.223553   \n",
              "14  2018-01-22  18.260000  18.469999  18.090000  18.469999  18.433134   \n",
              "15  2018-01-23  18.400000  18.459999  18.000000  18.240000  18.203592   \n",
              "16  2018-01-24  18.420000  19.629999  18.420000  19.340000  19.301397   \n",
              "17  2018-01-25  19.340000  19.340000  19.340000  19.340000  19.301397   \n",
              "18  2018-01-26  19.620001  19.980000  19.100000  19.930000  19.890221   \n",
              "19  2018-01-29  19.670000  20.049999  19.570000  19.850000  19.810381   \n",
              "20  2018-01-30  19.770000  19.770000  19.360001  19.490000  19.451097   \n",
              "21  2018-01-31  19.740000  19.930000  19.680000  19.700001  19.660681   \n",
              "\n",
              "      Volume  \n",
              "0   33461800  \n",
              "1   55940900  \n",
              "2   37064900  \n",
              "3   26958200  \n",
              "4   28400000  \n",
              "5   35070900  \n",
              "6   28547700  \n",
              "7   37921500  \n",
              "8   45912100  \n",
              "9   28945400  \n",
              "10  58618300  \n",
              "11  58488900  \n",
              "12  48575800  \n",
              "13  33470200  \n",
              "14  33920000  \n",
              "15  35567700  \n",
              "16  89768200  \n",
              "17         0  \n",
              "18  81989500  \n",
              "19  55726200  \n",
              "20  46203000  \n",
              "21  41576600  "
            ],
            "text/html": [
              "\n",
              "  <div id=\"df-d86a147e-102e-42fd-a155-e62a92cdeebb\" class=\"colab-df-container\">\n",
              "    <div>\n",
              "<style scoped>\n",
              "    .dataframe tbody tr th:only-of-type {\n",
              "        vertical-align: middle;\n",
              "    }\n",
              "\n",
              "    .dataframe tbody tr th {\n",
              "        vertical-align: top;\n",
              "    }\n",
              "\n",
              "    .dataframe thead th {\n",
              "        text-align: right;\n",
              "    }\n",
              "</style>\n",
              "<table border=\"1\" class=\"dataframe\">\n",
              "  <thead>\n",
              "    <tr style=\"text-align: right;\">\n",
              "      <th></th>\n",
              "      <th>Date</th>\n",
              "      <th>Open</th>\n",
              "      <th>High</th>\n",
              "      <th>Low</th>\n",
              "      <th>Close</th>\n",
              "      <th>Adj Close</th>\n",
              "      <th>Volume</th>\n",
              "    </tr>\n",
              "  </thead>\n",
              "  <tbody>\n",
              "    <tr>\n",
              "      <th>0</th>\n",
              "      <td>2018-01-02</td>\n",
              "      <td>16.190001</td>\n",
              "      <td>16.549999</td>\n",
              "      <td>16.190001</td>\n",
              "      <td>16.549999</td>\n",
              "      <td>16.516966</td>\n",
              "      <td>33461800</td>\n",
              "    </tr>\n",
              "    <tr>\n",
              "      <th>1</th>\n",
              "      <td>2018-01-03</td>\n",
              "      <td>16.490000</td>\n",
              "      <td>16.719999</td>\n",
              "      <td>16.370001</td>\n",
              "      <td>16.700001</td>\n",
              "      <td>16.666668</td>\n",
              "      <td>55940900</td>\n",
              "    </tr>\n",
              "    <tr>\n",
              "      <th>2</th>\n",
              "      <td>2018-01-04</td>\n",
              "      <td>16.780001</td>\n",
              "      <td>16.959999</td>\n",
              "      <td>16.620001</td>\n",
              "      <td>16.730000</td>\n",
              "      <td>16.696608</td>\n",
              "      <td>37064900</td>\n",
              "    </tr>\n",
              "    <tr>\n",
              "      <th>3</th>\n",
              "      <td>2018-01-05</td>\n",
              "      <td>16.700001</td>\n",
              "      <td>16.860001</td>\n",
              "      <td>16.570000</td>\n",
              "      <td>16.830000</td>\n",
              "      <td>16.796408</td>\n",
              "      <td>26958200</td>\n",
              "    </tr>\n",
              "    <tr>\n",
              "      <th>4</th>\n",
              "      <td>2018-01-08</td>\n",
              "      <td>16.740000</td>\n",
              "      <td>17.030001</td>\n",
              "      <td>16.709999</td>\n",
              "      <td>17.030001</td>\n",
              "      <td>16.996010</td>\n",
              "      <td>28400000</td>\n",
              "    </tr>\n",
              "    <tr>\n",
              "      <th>5</th>\n",
              "      <td>2018-01-09</td>\n",
              "      <td>17.030001</td>\n",
              "      <td>17.160000</td>\n",
              "      <td>16.959999</td>\n",
              "      <td>17.030001</td>\n",
              "      <td>16.996010</td>\n",
              "      <td>35070900</td>\n",
              "    </tr>\n",
              "    <tr>\n",
              "      <th>6</th>\n",
              "      <td>2018-01-10</td>\n",
              "      <td>16.920000</td>\n",
              "      <td>17.049999</td>\n",
              "      <td>16.770000</td>\n",
              "      <td>16.799999</td>\n",
              "      <td>16.766466</td>\n",
              "      <td>28547700</td>\n",
              "    </tr>\n",
              "    <tr>\n",
              "      <th>7</th>\n",
              "      <td>2018-01-11</td>\n",
              "      <td>16.879999</td>\n",
              "      <td>17.299999</td>\n",
              "      <td>16.840000</td>\n",
              "      <td>17.250000</td>\n",
              "      <td>17.215569</td>\n",
              "      <td>37921500</td>\n",
              "    </tr>\n",
              "    <tr>\n",
              "      <th>8</th>\n",
              "      <td>2018-01-12</td>\n",
              "      <td>17.040001</td>\n",
              "      <td>17.410000</td>\n",
              "      <td>17.020000</td>\n",
              "      <td>17.299999</td>\n",
              "      <td>17.265469</td>\n",
              "      <td>45912100</td>\n",
              "    </tr>\n",
              "    <tr>\n",
              "      <th>9</th>\n",
              "      <td>2018-01-15</td>\n",
              "      <td>17.320000</td>\n",
              "      <td>17.440001</td>\n",
              "      <td>17.150000</td>\n",
              "      <td>17.350000</td>\n",
              "      <td>17.315371</td>\n",
              "      <td>28945400</td>\n",
              "    </tr>\n",
              "    <tr>\n",
              "      <th>10</th>\n",
              "      <td>2018-01-16</td>\n",
              "      <td>17.350000</td>\n",
              "      <td>17.840000</td>\n",
              "      <td>17.299999</td>\n",
              "      <td>17.650000</td>\n",
              "      <td>17.614771</td>\n",
              "      <td>58618300</td>\n",
              "    </tr>\n",
              "    <tr>\n",
              "      <th>11</th>\n",
              "      <td>2018-01-17</td>\n",
              "      <td>17.920000</td>\n",
              "      <td>18.360001</td>\n",
              "      <td>17.809999</td>\n",
              "      <td>18.360001</td>\n",
              "      <td>18.323355</td>\n",
              "      <td>58488900</td>\n",
              "    </tr>\n",
              "    <tr>\n",
              "      <th>12</th>\n",
              "      <td>2018-01-18</td>\n",
              "      <td>18.350000</td>\n",
              "      <td>18.530001</td>\n",
              "      <td>17.930000</td>\n",
              "      <td>18.219999</td>\n",
              "      <td>18.183632</td>\n",
              "      <td>48575800</td>\n",
              "    </tr>\n",
              "    <tr>\n",
              "      <th>13</th>\n",
              "      <td>2018-01-19</td>\n",
              "      <td>18.309999</td>\n",
              "      <td>18.420000</td>\n",
              "      <td>18.030001</td>\n",
              "      <td>18.260000</td>\n",
              "      <td>18.223553</td>\n",
              "      <td>33470200</td>\n",
              "    </tr>\n",
              "    <tr>\n",
              "      <th>14</th>\n",
              "      <td>2018-01-22</td>\n",
              "      <td>18.260000</td>\n",
              "      <td>18.469999</td>\n",
              "      <td>18.090000</td>\n",
              "      <td>18.469999</td>\n",
              "      <td>18.433134</td>\n",
              "      <td>33920000</td>\n",
              "    </tr>\n",
              "    <tr>\n",
              "      <th>15</th>\n",
              "      <td>2018-01-23</td>\n",
              "      <td>18.400000</td>\n",
              "      <td>18.459999</td>\n",
              "      <td>18.000000</td>\n",
              "      <td>18.240000</td>\n",
              "      <td>18.203592</td>\n",
              "      <td>35567700</td>\n",
              "    </tr>\n",
              "    <tr>\n",
              "      <th>16</th>\n",
              "      <td>2018-01-24</td>\n",
              "      <td>18.420000</td>\n",
              "      <td>19.629999</td>\n",
              "      <td>18.420000</td>\n",
              "      <td>19.340000</td>\n",
              "      <td>19.301397</td>\n",
              "      <td>89768200</td>\n",
              "    </tr>\n",
              "    <tr>\n",
              "      <th>17</th>\n",
              "      <td>2018-01-25</td>\n",
              "      <td>19.340000</td>\n",
              "      <td>19.340000</td>\n",
              "      <td>19.340000</td>\n",
              "      <td>19.340000</td>\n",
              "      <td>19.301397</td>\n",
              "      <td>0</td>\n",
              "    </tr>\n",
              "    <tr>\n",
              "      <th>18</th>\n",
              "      <td>2018-01-26</td>\n",
              "      <td>19.620001</td>\n",
              "      <td>19.980000</td>\n",
              "      <td>19.100000</td>\n",
              "      <td>19.930000</td>\n",
              "      <td>19.890221</td>\n",
              "      <td>81989500</td>\n",
              "    </tr>\n",
              "    <tr>\n",
              "      <th>19</th>\n",
              "      <td>2018-01-29</td>\n",
              "      <td>19.670000</td>\n",
              "      <td>20.049999</td>\n",
              "      <td>19.570000</td>\n",
              "      <td>19.850000</td>\n",
              "      <td>19.810381</td>\n",
              "      <td>55726200</td>\n",
              "    </tr>\n",
              "    <tr>\n",
              "      <th>20</th>\n",
              "      <td>2018-01-30</td>\n",
              "      <td>19.770000</td>\n",
              "      <td>19.770000</td>\n",
              "      <td>19.360001</td>\n",
              "      <td>19.490000</td>\n",
              "      <td>19.451097</td>\n",
              "      <td>46203000</td>\n",
              "    </tr>\n",
              "    <tr>\n",
              "      <th>21</th>\n",
              "      <td>2018-01-31</td>\n",
              "      <td>19.740000</td>\n",
              "      <td>19.930000</td>\n",
              "      <td>19.680000</td>\n",
              "      <td>19.700001</td>\n",
              "      <td>19.660681</td>\n",
              "      <td>41576600</td>\n",
              "    </tr>\n",
              "  </tbody>\n",
              "</table>\n",
              "</div>\n",
              "    <div class=\"colab-df-buttons\">\n",
              "\n",
              "  <div class=\"colab-df-container\">\n",
              "    <button class=\"colab-df-convert\" onclick=\"convertToInteractive('df-d86a147e-102e-42fd-a155-e62a92cdeebb')\"\n",
              "            title=\"Convert this dataframe to an interactive table.\"\n",
              "            style=\"display:none;\">\n",
              "\n",
              "  <svg xmlns=\"http://www.w3.org/2000/svg\" height=\"24px\" viewBox=\"0 -960 960 960\">\n",
              "    <path d=\"M120-120v-720h720v720H120Zm60-500h600v-160H180v160Zm220 220h160v-160H400v160Zm0 220h160v-160H400v160ZM180-400h160v-160H180v160Zm440 0h160v-160H620v160ZM180-180h160v-160H180v160Zm440 0h160v-160H620v160Z\"/>\n",
              "  </svg>\n",
              "    </button>\n",
              "\n",
              "  <style>\n",
              "    .colab-df-container {\n",
              "      display:flex;\n",
              "      gap: 12px;\n",
              "    }\n",
              "\n",
              "    .colab-df-convert {\n",
              "      background-color: #E8F0FE;\n",
              "      border: none;\n",
              "      border-radius: 50%;\n",
              "      cursor: pointer;\n",
              "      display: none;\n",
              "      fill: #1967D2;\n",
              "      height: 32px;\n",
              "      padding: 0 0 0 0;\n",
              "      width: 32px;\n",
              "    }\n",
              "\n",
              "    .colab-df-convert:hover {\n",
              "      background-color: #E2EBFA;\n",
              "      box-shadow: 0px 1px 2px rgba(60, 64, 67, 0.3), 0px 1px 3px 1px rgba(60, 64, 67, 0.15);\n",
              "      fill: #174EA6;\n",
              "    }\n",
              "\n",
              "    .colab-df-buttons div {\n",
              "      margin-bottom: 4px;\n",
              "    }\n",
              "\n",
              "    [theme=dark] .colab-df-convert {\n",
              "      background-color: #3B4455;\n",
              "      fill: #D2E3FC;\n",
              "    }\n",
              "\n",
              "    [theme=dark] .colab-df-convert:hover {\n",
              "      background-color: #434B5C;\n",
              "      box-shadow: 0px 1px 3px 1px rgba(0, 0, 0, 0.15);\n",
              "      filter: drop-shadow(0px 1px 2px rgba(0, 0, 0, 0.3));\n",
              "      fill: #FFFFFF;\n",
              "    }\n",
              "  </style>\n",
              "\n",
              "    <script>\n",
              "      const buttonEl =\n",
              "        document.querySelector('#df-d86a147e-102e-42fd-a155-e62a92cdeebb button.colab-df-convert');\n",
              "      buttonEl.style.display =\n",
              "        google.colab.kernel.accessAllowed ? 'block' : 'none';\n",
              "\n",
              "      async function convertToInteractive(key) {\n",
              "        const element = document.querySelector('#df-d86a147e-102e-42fd-a155-e62a92cdeebb');\n",
              "        const dataTable =\n",
              "          await google.colab.kernel.invokeFunction('convertToInteractive',\n",
              "                                                    [key], {});\n",
              "        if (!dataTable) return;\n",
              "\n",
              "        const docLinkHtml = 'Like what you see? Visit the ' +\n",
              "          '<a target=\"_blank\" href=https://colab.research.google.com/notebooks/data_table.ipynb>data table notebook</a>'\n",
              "          + ' to learn more about interactive tables.';\n",
              "        element.innerHTML = '';\n",
              "        dataTable['output_type'] = 'display_data';\n",
              "        await google.colab.output.renderOutput(dataTable, element);\n",
              "        const docLink = document.createElement('div');\n",
              "        docLink.innerHTML = docLinkHtml;\n",
              "        element.appendChild(docLink);\n",
              "      }\n",
              "    </script>\n",
              "  </div>\n",
              "\n",
              "\n",
              "<div id=\"df-d94b502d-a3e1-4151-8c60-f449dd0a167e\">\n",
              "  <button class=\"colab-df-quickchart\" onclick=\"quickchart('df-d94b502d-a3e1-4151-8c60-f449dd0a167e')\"\n",
              "            title=\"Suggest charts\"\n",
              "            style=\"display:none;\">\n",
              "\n",
              "<svg xmlns=\"http://www.w3.org/2000/svg\" height=\"24px\"viewBox=\"0 0 24 24\"\n",
              "     width=\"24px\">\n",
              "    <g>\n",
              "        <path d=\"M19 3H5c-1.1 0-2 .9-2 2v14c0 1.1.9 2 2 2h14c1.1 0 2-.9 2-2V5c0-1.1-.9-2-2-2zM9 17H7v-7h2v7zm4 0h-2V7h2v10zm4 0h-2v-4h2v4z\"/>\n",
              "    </g>\n",
              "</svg>\n",
              "  </button>\n",
              "\n",
              "<style>\n",
              "  .colab-df-quickchart {\n",
              "      --bg-color: #E8F0FE;\n",
              "      --fill-color: #1967D2;\n",
              "      --hover-bg-color: #E2EBFA;\n",
              "      --hover-fill-color: #174EA6;\n",
              "      --disabled-fill-color: #AAA;\n",
              "      --disabled-bg-color: #DDD;\n",
              "  }\n",
              "\n",
              "  [theme=dark] .colab-df-quickchart {\n",
              "      --bg-color: #3B4455;\n",
              "      --fill-color: #D2E3FC;\n",
              "      --hover-bg-color: #434B5C;\n",
              "      --hover-fill-color: #FFFFFF;\n",
              "      --disabled-bg-color: #3B4455;\n",
              "      --disabled-fill-color: #666;\n",
              "  }\n",
              "\n",
              "  .colab-df-quickchart {\n",
              "    background-color: var(--bg-color);\n",
              "    border: none;\n",
              "    border-radius: 50%;\n",
              "    cursor: pointer;\n",
              "    display: none;\n",
              "    fill: var(--fill-color);\n",
              "    height: 32px;\n",
              "    padding: 0;\n",
              "    width: 32px;\n",
              "  }\n",
              "\n",
              "  .colab-df-quickchart:hover {\n",
              "    background-color: var(--hover-bg-color);\n",
              "    box-shadow: 0 1px 2px rgba(60, 64, 67, 0.3), 0 1px 3px 1px rgba(60, 64, 67, 0.15);\n",
              "    fill: var(--button-hover-fill-color);\n",
              "  }\n",
              "\n",
              "  .colab-df-quickchart-complete:disabled,\n",
              "  .colab-df-quickchart-complete:disabled:hover {\n",
              "    background-color: var(--disabled-bg-color);\n",
              "    fill: var(--disabled-fill-color);\n",
              "    box-shadow: none;\n",
              "  }\n",
              "\n",
              "  .colab-df-spinner {\n",
              "    border: 2px solid var(--fill-color);\n",
              "    border-color: transparent;\n",
              "    border-bottom-color: var(--fill-color);\n",
              "    animation:\n",
              "      spin 1s steps(1) infinite;\n",
              "  }\n",
              "\n",
              "  @keyframes spin {\n",
              "    0% {\n",
              "      border-color: transparent;\n",
              "      border-bottom-color: var(--fill-color);\n",
              "      border-left-color: var(--fill-color);\n",
              "    }\n",
              "    20% {\n",
              "      border-color: transparent;\n",
              "      border-left-color: var(--fill-color);\n",
              "      border-top-color: var(--fill-color);\n",
              "    }\n",
              "    30% {\n",
              "      border-color: transparent;\n",
              "      border-left-color: var(--fill-color);\n",
              "      border-top-color: var(--fill-color);\n",
              "      border-right-color: var(--fill-color);\n",
              "    }\n",
              "    40% {\n",
              "      border-color: transparent;\n",
              "      border-right-color: var(--fill-color);\n",
              "      border-top-color: var(--fill-color);\n",
              "    }\n",
              "    60% {\n",
              "      border-color: transparent;\n",
              "      border-right-color: var(--fill-color);\n",
              "    }\n",
              "    80% {\n",
              "      border-color: transparent;\n",
              "      border-right-color: var(--fill-color);\n",
              "      border-bottom-color: var(--fill-color);\n",
              "    }\n",
              "    90% {\n",
              "      border-color: transparent;\n",
              "      border-bottom-color: var(--fill-color);\n",
              "    }\n",
              "  }\n",
              "</style>\n",
              "\n",
              "  <script>\n",
              "    async function quickchart(key) {\n",
              "      const quickchartButtonEl =\n",
              "        document.querySelector('#' + key + ' button');\n",
              "      quickchartButtonEl.disabled = true;  // To prevent multiple clicks.\n",
              "      quickchartButtonEl.classList.add('colab-df-spinner');\n",
              "      try {\n",
              "        const charts = await google.colab.kernel.invokeFunction(\n",
              "            'suggestCharts', [key], {});\n",
              "      } catch (error) {\n",
              "        console.error('Error during call to suggestCharts:', error);\n",
              "      }\n",
              "      quickchartButtonEl.classList.remove('colab-df-spinner');\n",
              "      quickchartButtonEl.classList.add('colab-df-quickchart-complete');\n",
              "    }\n",
              "    (() => {\n",
              "      let quickchartButtonEl =\n",
              "        document.querySelector('#df-d94b502d-a3e1-4151-8c60-f449dd0a167e button');\n",
              "      quickchartButtonEl.style.display =\n",
              "        google.colab.kernel.accessAllowed ? 'block' : 'none';\n",
              "    })();\n",
              "  </script>\n",
              "</div>\n",
              "\n",
              "  <div id=\"id_241042ad-ef5e-41fa-bcf9-33b69b227077\">\n",
              "    <style>\n",
              "      .colab-df-generate {\n",
              "        background-color: #E8F0FE;\n",
              "        border: none;\n",
              "        border-radius: 50%;\n",
              "        cursor: pointer;\n",
              "        display: none;\n",
              "        fill: #1967D2;\n",
              "        height: 32px;\n",
              "        padding: 0 0 0 0;\n",
              "        width: 32px;\n",
              "      }\n",
              "\n",
              "      .colab-df-generate:hover {\n",
              "        background-color: #E2EBFA;\n",
              "        box-shadow: 0px 1px 2px rgba(60, 64, 67, 0.3), 0px 1px 3px 1px rgba(60, 64, 67, 0.15);\n",
              "        fill: #174EA6;\n",
              "      }\n",
              "\n",
              "      [theme=dark] .colab-df-generate {\n",
              "        background-color: #3B4455;\n",
              "        fill: #D2E3FC;\n",
              "      }\n",
              "\n",
              "      [theme=dark] .colab-df-generate:hover {\n",
              "        background-color: #434B5C;\n",
              "        box-shadow: 0px 1px 3px 1px rgba(0, 0, 0, 0.15);\n",
              "        filter: drop-shadow(0px 1px 2px rgba(0, 0, 0, 0.3));\n",
              "        fill: #FFFFFF;\n",
              "      }\n",
              "    </style>\n",
              "    <button class=\"colab-df-generate\" onclick=\"generateWithVariable('base_teste')\"\n",
              "            title=\"Generate code using this dataframe.\"\n",
              "            style=\"display:none;\">\n",
              "\n",
              "  <svg xmlns=\"http://www.w3.org/2000/svg\" height=\"24px\"viewBox=\"0 0 24 24\"\n",
              "       width=\"24px\">\n",
              "    <path d=\"M7,19H8.4L18.45,9,17,7.55,7,17.6ZM5,21V16.75L18.45,3.32a2,2,0,0,1,2.83,0l1.4,1.43a1.91,1.91,0,0,1,.58,1.4,1.91,1.91,0,0,1-.58,1.4L9.25,21ZM18.45,9,17,7.55Zm-12,3A5.31,5.31,0,0,0,4.9,8.1,5.31,5.31,0,0,0,1,6.5,5.31,5.31,0,0,0,4.9,4.9,5.31,5.31,0,0,0,6.5,1,5.31,5.31,0,0,0,8.1,4.9,5.31,5.31,0,0,0,12,6.5,5.46,5.46,0,0,0,6.5,12Z\"/>\n",
              "  </svg>\n",
              "    </button>\n",
              "    <script>\n",
              "      (() => {\n",
              "      const buttonEl =\n",
              "        document.querySelector('#id_241042ad-ef5e-41fa-bcf9-33b69b227077 button.colab-df-generate');\n",
              "      buttonEl.style.display =\n",
              "        google.colab.kernel.accessAllowed ? 'block' : 'none';\n",
              "\n",
              "      buttonEl.onclick = () => {\n",
              "        google.colab.notebook.generateWithVariable('base_teste');\n",
              "      }\n",
              "      })();\n",
              "    </script>\n",
              "  </div>\n",
              "\n",
              "    </div>\n",
              "  </div>\n"
            ],
            "application/vnd.google.colaboratory.intrinsic+json": {
              "type": "dataframe",
              "variable_name": "base_teste",
              "summary": "{\n  \"name\": \"base_teste\",\n  \"rows\": 22,\n  \"fields\": [\n    {\n      \"column\": \"Date\",\n      \"properties\": {\n        \"dtype\": \"object\",\n        \"num_unique_values\": 22,\n        \"samples\": [\n          \"2018-01-02\",\n          \"2018-01-19\",\n          \"2018-01-12\"\n        ],\n        \"semantic_type\": \"\",\n        \"description\": \"\"\n      }\n    },\n    {\n      \"column\": \"Open\",\n      \"properties\": {\n        \"dtype\": \"number\",\n        \"std\": 1.1780237445700783,\n        \"min\": 16.190001,\n        \"max\": 19.77,\n        \"num_unique_values\": 22,\n        \"samples\": [\n          16.190001,\n          18.309999,\n          17.040001\n        ],\n        \"semantic_type\": \"\",\n        \"description\": \"\"\n      }\n    },\n    {\n      \"column\": \"High\",\n      \"properties\": {\n        \"dtype\": \"number\",\n        \"std\": 1.1915960988402048,\n        \"min\": 16.549999,\n        \"max\": 20.049999,\n        \"num_unique_values\": 22,\n        \"samples\": [\n          16.549999,\n          18.42,\n          17.41\n        ],\n        \"semantic_type\": \"\",\n        \"description\": \"\"\n      }\n    },\n    {\n      \"column\": \"Low\",\n      \"properties\": {\n        \"dtype\": \"number\",\n        \"std\": 1.1190535030288409,\n        \"min\": 16.190001,\n        \"max\": 19.68,\n        \"num_unique_values\": 22,\n        \"samples\": [\n          16.190001,\n          18.030001,\n          17.02\n        ],\n        \"semantic_type\": \"\",\n        \"description\": \"\"\n      }\n    },\n    {\n      \"column\": \"Close\",\n      \"properties\": {\n        \"dtype\": \"number\",\n        \"std\": 1.155903785298014,\n        \"min\": 16.549999,\n        \"max\": 19.93,\n        \"num_unique_values\": 20,\n        \"samples\": [\n          16.549999,\n          19.85,\n          19.34\n        ],\n        \"semantic_type\": \"\",\n        \"description\": \"\"\n      }\n    },\n    {\n      \"column\": \"Adj Close\",\n      \"properties\": {\n        \"dtype\": \"number\",\n        \"std\": 1.1535965436817561,\n        \"min\": 16.516966,\n        \"max\": 19.890221,\n        \"num_unique_values\": 20,\n        \"samples\": [\n          16.516966,\n          19.810381,\n          19.301397\n        ],\n        \"semantic_type\": \"\",\n        \"description\": \"\"\n      }\n    },\n    {\n      \"column\": \"Volume\",\n      \"properties\": {\n        \"dtype\": \"number\",\n        \"std\": 19199636,\n        \"min\": 0,\n        \"max\": 89768200,\n        \"num_unique_values\": 22,\n        \"samples\": [\n          33461800,\n          33470200,\n          45912100\n        ],\n        \"semantic_type\": \"\",\n        \"description\": \"\"\n      }\n    }\n  ]\n}"
            }
          },
          "metadata": {},
          "execution_count": 24
        }
      ]
    },
    {
      "cell_type": "code",
      "source": [
        "base_teste.shape"
      ],
      "metadata": {
        "colab": {
          "base_uri": "https://localhost:8080/"
        },
        "id": "GFMO1nQTx1cw",
        "outputId": "c36894c0-9fae-4367-9319-c669590bc7c3"
      },
      "execution_count": null,
      "outputs": [
        {
          "output_type": "execute_result",
          "data": {
            "text/plain": [
              "(22, 7)"
            ]
          },
          "metadata": {},
          "execution_count": 25
        }
      ]
    },
    {
      "cell_type": "code",
      "source": [
        "y_teste = base_teste.iloc[:, 1:2].values"
      ],
      "metadata": {
        "id": "SORJqePTyB78"
      },
      "execution_count": null,
      "outputs": []
    },
    {
      "cell_type": "code",
      "source": [
        "y_teste"
      ],
      "metadata": {
        "colab": {
          "base_uri": "https://localhost:8080/"
        },
        "id": "gFpnoWsvyQme",
        "outputId": "1151fcda-b99b-4000-c382-bd317de9c664"
      },
      "execution_count": null,
      "outputs": [
        {
          "output_type": "execute_result",
          "data": {
            "text/plain": [
              "array([[16.190001],\n",
              "       [16.49    ],\n",
              "       [16.780001],\n",
              "       [16.700001],\n",
              "       [16.74    ],\n",
              "       [17.030001],\n",
              "       [16.92    ],\n",
              "       [16.879999],\n",
              "       [17.040001],\n",
              "       [17.32    ],\n",
              "       [17.35    ],\n",
              "       [17.92    ],\n",
              "       [18.35    ],\n",
              "       [18.309999],\n",
              "       [18.26    ],\n",
              "       [18.4     ],\n",
              "       [18.42    ],\n",
              "       [19.34    ],\n",
              "       [19.620001],\n",
              "       [19.67    ],\n",
              "       [19.77    ],\n",
              "       [19.74    ]])"
            ]
          },
          "metadata": {},
          "execution_count": 27
        }
      ]
    },
    {
      "cell_type": "code",
      "source": [
        "base.shape"
      ],
      "metadata": {
        "colab": {
          "base_uri": "https://localhost:8080/"
        },
        "id": "cpVGYPmfydim",
        "outputId": "523f6111-2f34-4fd2-ffcb-88e5c1351a35"
      },
      "execution_count": null,
      "outputs": [
        {
          "output_type": "execute_result",
          "data": {
            "text/plain": [
              "(1242, 7)"
            ]
          },
          "metadata": {},
          "execution_count": 28
        }
      ]
    },
    {
      "cell_type": "code",
      "source": [
        "base_completa = pd.concat((base['Open'], base_teste['Open']), axis = 0)"
      ],
      "metadata": {
        "id": "XcZMFRktyYJj"
      },
      "execution_count": null,
      "outputs": []
    },
    {
      "cell_type": "code",
      "source": [
        "1242 + 22"
      ],
      "metadata": {
        "colab": {
          "base_uri": "https://localhost:8080/"
        },
        "id": "KvqIsZQSyp7j",
        "outputId": "30362baf-98f1-4cfd-c9ea-62c95a9cab1b"
      },
      "execution_count": null,
      "outputs": [
        {
          "output_type": "execute_result",
          "data": {
            "text/plain": [
              "1264"
            ]
          },
          "metadata": {},
          "execution_count": 32
        }
      ]
    },
    {
      "cell_type": "code",
      "source": [
        "base_completa.shape"
      ],
      "metadata": {
        "colab": {
          "base_uri": "https://localhost:8080/"
        },
        "id": "RAitQmF9ylXY",
        "outputId": "9b60242c-317c-4e65-8c1f-a13ea7357a83"
      },
      "execution_count": null,
      "outputs": [
        {
          "output_type": "execute_result",
          "data": {
            "text/plain": [
              "(1264,)"
            ]
          },
          "metadata": {},
          "execution_count": 31
        }
      ]
    },
    {
      "cell_type": "code",
      "source": [
        "base_completa"
      ],
      "metadata": {
        "colab": {
          "base_uri": "https://localhost:8080/"
        },
        "id": "njCLV0eTyvcM",
        "outputId": "67b1e7d4-d019-4bda-d83d-7c004c76d7c7"
      },
      "execution_count": null,
      "outputs": [
        {
          "output_type": "execute_result",
          "data": {
            "text/plain": [
              "0     19.990000\n",
              "1     19.809999\n",
              "2     20.330000\n",
              "3     20.480000\n",
              "4     20.110001\n",
              "        ...    \n",
              "17    19.340000\n",
              "18    19.620001\n",
              "19    19.670000\n",
              "20    19.770000\n",
              "21    19.740000\n",
              "Name: Open, Length: 1264, dtype: float64"
            ]
          },
          "metadata": {},
          "execution_count": 33
        }
      ]
    },
    {
      "cell_type": "code",
      "source": [
        "len(base_completa), len(base_teste), 1264 - 22 - 90"
      ],
      "metadata": {
        "colab": {
          "base_uri": "https://localhost:8080/"
        },
        "id": "71fnj6G-zHSO",
        "outputId": "c07c373a-f33f-421e-b687-38c02bfde14d"
      },
      "execution_count": null,
      "outputs": [
        {
          "output_type": "execute_result",
          "data": {
            "text/plain": [
              "(1264, 22, 1152)"
            ]
          },
          "metadata": {},
          "execution_count": 37
        }
      ]
    },
    {
      "cell_type": "code",
      "source": [
        "112 - 90"
      ],
      "metadata": {
        "colab": {
          "base_uri": "https://localhost:8080/"
        },
        "id": "3mzHTS1v1K9e",
        "outputId": "0ab26ab9-e485-4773-959d-a4adceb52123"
      },
      "execution_count": null,
      "outputs": [
        {
          "output_type": "execute_result",
          "data": {
            "text/plain": [
              "22"
            ]
          },
          "metadata": {},
          "execution_count": 43
        }
      ]
    },
    {
      "cell_type": "code",
      "source": [
        "base_completa[1152:]"
      ],
      "metadata": {
        "colab": {
          "base_uri": "https://localhost:8080/"
        },
        "id": "Ym-Fb33UzuFE",
        "outputId": "fe215e16-4622-4e31-c46d-e0999513db1f"
      },
      "execution_count": null,
      "outputs": [
        {
          "output_type": "execute_result",
          "data": {
            "text/plain": [
              "1155    13.930000\n",
              "1156    13.760000\n",
              "1157    13.790000\n",
              "1158    13.530000\n",
              "1159    13.850000\n",
              "          ...    \n",
              "17      19.340000\n",
              "18      19.620001\n",
              "19      19.670000\n",
              "20      19.770000\n",
              "21      19.740000\n",
              "Name: Open, Length: 112, dtype: float64"
            ]
          },
          "metadata": {},
          "execution_count": 41
        }
      ]
    },
    {
      "cell_type": "code",
      "source": [
        "entradas = base_completa[len(base_completa) - len(base_teste) - 90:].values"
      ],
      "metadata": {
        "id": "SkOYRXdJy_fB"
      },
      "execution_count": null,
      "outputs": []
    },
    {
      "cell_type": "code",
      "source": [
        "entradas"
      ],
      "metadata": {
        "colab": {
          "base_uri": "https://localhost:8080/"
        },
        "id": "YxxkMLJU1U7N",
        "outputId": "b35c4c49-d230-476e-8b6b-1294fea7e03a"
      },
      "execution_count": null,
      "outputs": [
        {
          "output_type": "execute_result",
          "data": {
            "text/plain": [
              "array([13.93    , 13.76    , 13.79    , 13.53    , 13.85    , 13.96    ,\n",
              "       14.57    , 14.65    , 15.02    , 15.1     , 14.88    , 14.98    ,\n",
              "       14.94    , 15.03    , 15.07    , 15.02    , 15.1     , 15.25    ,\n",
              "       15.85    , 15.6     , 15.79    , 15.86    , 15.7     , 15.37    ,\n",
              "       15.5     , 15.19    , 15.6     , 15.9     , 15.88    , 15.66    ,\n",
              "       15.61    , 16.129999, 16.17    , 16.08    , 16.23    , 16.16    ,\n",
              "       16.139999, 16.219999, 16.      , 16.190001, 16.290001, 16.290001,\n",
              "       16.530001, 16.780001, 16.77    , 16.969999, 16.9     , 16.99    ,\n",
              "       16.9     , 16.959999, 17.049999, 17.309999, 16.690001, 16.889999,\n",
              "       16.709999, 16.690001, 16.639999, 15.35    , 15.62    , 15.92    ,\n",
              "       16.02    , 16.15    , 16.09    , 15.98    , 16.25    , 16.01    ,\n",
              "       15.93    , 15.87    , 15.3     , 15.34    , 15.65    , 15.5     ,\n",
              "       15.22    , 15.3     , 15.51    , 15.48    , 15.36    , 15.65    ,\n",
              "       15.1     , 15.05    , 15.16    , 15.18    , 15.21    , 15.31    ,\n",
              "       15.75    , 15.75    , 15.75    , 15.99    , 16.1     , 16.1     ,\n",
              "       16.190001, 16.49    , 16.780001, 16.700001, 16.74    , 17.030001,\n",
              "       16.92    , 16.879999, 17.040001, 17.32    , 17.35    , 17.92    ,\n",
              "       18.35    , 18.309999, 18.26    , 18.4     , 18.42    , 19.34    ,\n",
              "       19.620001, 19.67    , 19.77    , 19.74    ])"
            ]
          },
          "metadata": {},
          "execution_count": 45
        }
      ]
    },
    {
      "cell_type": "code",
      "source": [
        "entradas.shape"
      ],
      "metadata": {
        "colab": {
          "base_uri": "https://localhost:8080/"
        },
        "id": "XBqEm6hN1c-E",
        "outputId": "ffbe4027-1eef-4a17-f667-ce7ca84edae0"
      },
      "execution_count": null,
      "outputs": [
        {
          "output_type": "execute_result",
          "data": {
            "text/plain": [
              "(112,)"
            ]
          },
          "metadata": {},
          "execution_count": 46
        }
      ]
    },
    {
      "cell_type": "code",
      "source": [
        "entradas = entradas.reshape(-1, 1)\n",
        "entradas.shape"
      ],
      "metadata": {
        "colab": {
          "base_uri": "https://localhost:8080/"
        },
        "id": "sMTuVljk1fP6",
        "outputId": "86357626-99fc-488c-e643-1f6d365de4e2"
      },
      "execution_count": null,
      "outputs": [
        {
          "output_type": "execute_result",
          "data": {
            "text/plain": [
              "(112, 1)"
            ]
          },
          "metadata": {},
          "execution_count": 47
        }
      ]
    },
    {
      "cell_type": "code",
      "source": [
        "entradas"
      ],
      "metadata": {
        "colab": {
          "base_uri": "https://localhost:8080/"
        },
        "id": "JDo4LVIP1oAn",
        "outputId": "eabc269c-45c3-49f1-98c1-8756f063e81f"
      },
      "execution_count": null,
      "outputs": [
        {
          "output_type": "execute_result",
          "data": {
            "text/plain": [
              "array([[13.93    ],\n",
              "       [13.76    ],\n",
              "       [13.79    ],\n",
              "       [13.53    ],\n",
              "       [13.85    ],\n",
              "       [13.96    ],\n",
              "       [14.57    ],\n",
              "       [14.65    ],\n",
              "       [15.02    ],\n",
              "       [15.1     ],\n",
              "       [14.88    ],\n",
              "       [14.98    ],\n",
              "       [14.94    ],\n",
              "       [15.03    ],\n",
              "       [15.07    ],\n",
              "       [15.02    ],\n",
              "       [15.1     ],\n",
              "       [15.25    ],\n",
              "       [15.85    ],\n",
              "       [15.6     ],\n",
              "       [15.79    ],\n",
              "       [15.86    ],\n",
              "       [15.7     ],\n",
              "       [15.37    ],\n",
              "       [15.5     ],\n",
              "       [15.19    ],\n",
              "       [15.6     ],\n",
              "       [15.9     ],\n",
              "       [15.88    ],\n",
              "       [15.66    ],\n",
              "       [15.61    ],\n",
              "       [16.129999],\n",
              "       [16.17    ],\n",
              "       [16.08    ],\n",
              "       [16.23    ],\n",
              "       [16.16    ],\n",
              "       [16.139999],\n",
              "       [16.219999],\n",
              "       [16.      ],\n",
              "       [16.190001],\n",
              "       [16.290001],\n",
              "       [16.290001],\n",
              "       [16.530001],\n",
              "       [16.780001],\n",
              "       [16.77    ],\n",
              "       [16.969999],\n",
              "       [16.9     ],\n",
              "       [16.99    ],\n",
              "       [16.9     ],\n",
              "       [16.959999],\n",
              "       [17.049999],\n",
              "       [17.309999],\n",
              "       [16.690001],\n",
              "       [16.889999],\n",
              "       [16.709999],\n",
              "       [16.690001],\n",
              "       [16.639999],\n",
              "       [15.35    ],\n",
              "       [15.62    ],\n",
              "       [15.92    ],\n",
              "       [16.02    ],\n",
              "       [16.15    ],\n",
              "       [16.09    ],\n",
              "       [15.98    ],\n",
              "       [16.25    ],\n",
              "       [16.01    ],\n",
              "       [15.93    ],\n",
              "       [15.87    ],\n",
              "       [15.3     ],\n",
              "       [15.34    ],\n",
              "       [15.65    ],\n",
              "       [15.5     ],\n",
              "       [15.22    ],\n",
              "       [15.3     ],\n",
              "       [15.51    ],\n",
              "       [15.48    ],\n",
              "       [15.36    ],\n",
              "       [15.65    ],\n",
              "       [15.1     ],\n",
              "       [15.05    ],\n",
              "       [15.16    ],\n",
              "       [15.18    ],\n",
              "       [15.21    ],\n",
              "       [15.31    ],\n",
              "       [15.75    ],\n",
              "       [15.75    ],\n",
              "       [15.75    ],\n",
              "       [15.99    ],\n",
              "       [16.1     ],\n",
              "       [16.1     ],\n",
              "       [16.190001],\n",
              "       [16.49    ],\n",
              "       [16.780001],\n",
              "       [16.700001],\n",
              "       [16.74    ],\n",
              "       [17.030001],\n",
              "       [16.92    ],\n",
              "       [16.879999],\n",
              "       [17.040001],\n",
              "       [17.32    ],\n",
              "       [17.35    ],\n",
              "       [17.92    ],\n",
              "       [18.35    ],\n",
              "       [18.309999],\n",
              "       [18.26    ],\n",
              "       [18.4     ],\n",
              "       [18.42    ],\n",
              "       [19.34    ],\n",
              "       [19.620001],\n",
              "       [19.67    ],\n",
              "       [19.77    ],\n",
              "       [19.74    ]])"
            ]
          },
          "metadata": {},
          "execution_count": 48
        }
      ]
    },
    {
      "cell_type": "code",
      "source": [
        "entradas = normalizador.transform(entradas)"
      ],
      "metadata": {
        "id": "5o47Hhqt1zsy"
      },
      "execution_count": null,
      "outputs": []
    },
    {
      "cell_type": "code",
      "source": [
        "entradas"
      ],
      "metadata": {
        "colab": {
          "base_uri": "https://localhost:8080/"
        },
        "id": "8b9FmqMj12_t",
        "outputId": "67a9d4b3-970d-431e-d613-c0b4cb03ed3d"
      },
      "execution_count": null,
      "outputs": [
        {
          "output_type": "execute_result",
          "data": {
            "text/plain": [
              "array([[0.47141473],\n",
              "       [0.46317829],\n",
              "       [0.46463178],\n",
              "       [0.45203488],\n",
              "       [0.46753876],\n",
              "       [0.47286822],\n",
              "       [0.50242248],\n",
              "       [0.50629845],\n",
              "       [0.52422481],\n",
              "       [0.52810078],\n",
              "       [0.51744186],\n",
              "       [0.52228682],\n",
              "       [0.52034884],\n",
              "       [0.5247093 ],\n",
              "       [0.52664729],\n",
              "       [0.52422481],\n",
              "       [0.52810078],\n",
              "       [0.53536822],\n",
              "       [0.56443798],\n",
              "       [0.55232558],\n",
              "       [0.56153101],\n",
              "       [0.56492248],\n",
              "       [0.55717054],\n",
              "       [0.54118217],\n",
              "       [0.54748062],\n",
              "       [0.53246124],\n",
              "       [0.55232558],\n",
              "       [0.56686047],\n",
              "       [0.56589147],\n",
              "       [0.55523256],\n",
              "       [0.55281008],\n",
              "       [0.57800383],\n",
              "       [0.57994186],\n",
              "       [0.5755814 ],\n",
              "       [0.58284884],\n",
              "       [0.57945736],\n",
              "       [0.57848832],\n",
              "       [0.58236429],\n",
              "       [0.57170543],\n",
              "       [0.5809109 ],\n",
              "       [0.58575586],\n",
              "       [0.58575586],\n",
              "       [0.59738377],\n",
              "       [0.60949617],\n",
              "       [0.60901163],\n",
              "       [0.6187015 ],\n",
              "       [0.61531008],\n",
              "       [0.61967054],\n",
              "       [0.61531008],\n",
              "       [0.61821701],\n",
              "       [0.62257747],\n",
              "       [0.63517437],\n",
              "       [0.60513571],\n",
              "       [0.61482553],\n",
              "       [0.6061046 ],\n",
              "       [0.60513571],\n",
              "       [0.60271313],\n",
              "       [0.54021318],\n",
              "       [0.55329457],\n",
              "       [0.56782946],\n",
              "       [0.57267442],\n",
              "       [0.57897287],\n",
              "       [0.57606589],\n",
              "       [0.57073643],\n",
              "       [0.58381783],\n",
              "       [0.57218992],\n",
              "       [0.56831395],\n",
              "       [0.56540698],\n",
              "       [0.5377907 ],\n",
              "       [0.53972868],\n",
              "       [0.55474806],\n",
              "       [0.54748062],\n",
              "       [0.53391473],\n",
              "       [0.5377907 ],\n",
              "       [0.54796512],\n",
              "       [0.54651163],\n",
              "       [0.54069767],\n",
              "       [0.55474806],\n",
              "       [0.52810078],\n",
              "       [0.52567829],\n",
              "       [0.53100775],\n",
              "       [0.53197674],\n",
              "       [0.53343023],\n",
              "       [0.53827519],\n",
              "       [0.55959302],\n",
              "       [0.55959302],\n",
              "       [0.55959302],\n",
              "       [0.57122093],\n",
              "       [0.57655039],\n",
              "       [0.57655039],\n",
              "       [0.5809109 ],\n",
              "       [0.59544574],\n",
              "       [0.60949617],\n",
              "       [0.6056202 ],\n",
              "       [0.60755814],\n",
              "       [0.62160858],\n",
              "       [0.61627907],\n",
              "       [0.61434104],\n",
              "       [0.62209307],\n",
              "       [0.63565891],\n",
              "       [0.6371124 ],\n",
              "       [0.66472868],\n",
              "       [0.68556202],\n",
              "       [0.68362398],\n",
              "       [0.68120155],\n",
              "       [0.6879845 ],\n",
              "       [0.68895349],\n",
              "       [0.73352713],\n",
              "       [0.74709307],\n",
              "       [0.7495155 ],\n",
              "       [0.75436047],\n",
              "       [0.75290698]])"
            ]
          },
          "metadata": {},
          "execution_count": 50
        }
      ]
    },
    {
      "cell_type": "code",
      "source": [
        "X_teste = []\n",
        "for i in range(90, 112):\n",
        "  #print(i)\n",
        "  X_teste.append(entradas[i - 90:i, 0])"
      ],
      "metadata": {
        "id": "3Akzz4jC2CUb"
      },
      "execution_count": null,
      "outputs": []
    },
    {
      "cell_type": "code",
      "source": [
        "X_teste"
      ],
      "metadata": {
        "colab": {
          "base_uri": "https://localhost:8080/"
        },
        "id": "OTVS-H9X2YCD",
        "outputId": "8fc0cfb1-a1b1-4534-b995-d868e57e90ee"
      },
      "execution_count": null,
      "outputs": [
        {
          "output_type": "execute_result",
          "data": {
            "text/plain": [
              "[array([0.47141473, 0.46317829, 0.46463178, 0.45203488, 0.46753876,\n",
              "        0.47286822, 0.50242248, 0.50629845, 0.52422481, 0.52810078,\n",
              "        0.51744186, 0.52228682, 0.52034884, 0.5247093 , 0.52664729,\n",
              "        0.52422481, 0.52810078, 0.53536822, 0.56443798, 0.55232558,\n",
              "        0.56153101, 0.56492248, 0.55717054, 0.54118217, 0.54748062,\n",
              "        0.53246124, 0.55232558, 0.56686047, 0.56589147, 0.55523256,\n",
              "        0.55281008, 0.57800383, 0.57994186, 0.5755814 , 0.58284884,\n",
              "        0.57945736, 0.57848832, 0.58236429, 0.57170543, 0.5809109 ,\n",
              "        0.58575586, 0.58575586, 0.59738377, 0.60949617, 0.60901163,\n",
              "        0.6187015 , 0.61531008, 0.61967054, 0.61531008, 0.61821701,\n",
              "        0.62257747, 0.63517437, 0.60513571, 0.61482553, 0.6061046 ,\n",
              "        0.60513571, 0.60271313, 0.54021318, 0.55329457, 0.56782946,\n",
              "        0.57267442, 0.57897287, 0.57606589, 0.57073643, 0.58381783,\n",
              "        0.57218992, 0.56831395, 0.56540698, 0.5377907 , 0.53972868,\n",
              "        0.55474806, 0.54748062, 0.53391473, 0.5377907 , 0.54796512,\n",
              "        0.54651163, 0.54069767, 0.55474806, 0.52810078, 0.52567829,\n",
              "        0.53100775, 0.53197674, 0.53343023, 0.53827519, 0.55959302,\n",
              "        0.55959302, 0.55959302, 0.57122093, 0.57655039, 0.57655039]),\n",
              " array([0.46317829, 0.46463178, 0.45203488, 0.46753876, 0.47286822,\n",
              "        0.50242248, 0.50629845, 0.52422481, 0.52810078, 0.51744186,\n",
              "        0.52228682, 0.52034884, 0.5247093 , 0.52664729, 0.52422481,\n",
              "        0.52810078, 0.53536822, 0.56443798, 0.55232558, 0.56153101,\n",
              "        0.56492248, 0.55717054, 0.54118217, 0.54748062, 0.53246124,\n",
              "        0.55232558, 0.56686047, 0.56589147, 0.55523256, 0.55281008,\n",
              "        0.57800383, 0.57994186, 0.5755814 , 0.58284884, 0.57945736,\n",
              "        0.57848832, 0.58236429, 0.57170543, 0.5809109 , 0.58575586,\n",
              "        0.58575586, 0.59738377, 0.60949617, 0.60901163, 0.6187015 ,\n",
              "        0.61531008, 0.61967054, 0.61531008, 0.61821701, 0.62257747,\n",
              "        0.63517437, 0.60513571, 0.61482553, 0.6061046 , 0.60513571,\n",
              "        0.60271313, 0.54021318, 0.55329457, 0.56782946, 0.57267442,\n",
              "        0.57897287, 0.57606589, 0.57073643, 0.58381783, 0.57218992,\n",
              "        0.56831395, 0.56540698, 0.5377907 , 0.53972868, 0.55474806,\n",
              "        0.54748062, 0.53391473, 0.5377907 , 0.54796512, 0.54651163,\n",
              "        0.54069767, 0.55474806, 0.52810078, 0.52567829, 0.53100775,\n",
              "        0.53197674, 0.53343023, 0.53827519, 0.55959302, 0.55959302,\n",
              "        0.55959302, 0.57122093, 0.57655039, 0.57655039, 0.5809109 ]),\n",
              " array([0.46463178, 0.45203488, 0.46753876, 0.47286822, 0.50242248,\n",
              "        0.50629845, 0.52422481, 0.52810078, 0.51744186, 0.52228682,\n",
              "        0.52034884, 0.5247093 , 0.52664729, 0.52422481, 0.52810078,\n",
              "        0.53536822, 0.56443798, 0.55232558, 0.56153101, 0.56492248,\n",
              "        0.55717054, 0.54118217, 0.54748062, 0.53246124, 0.55232558,\n",
              "        0.56686047, 0.56589147, 0.55523256, 0.55281008, 0.57800383,\n",
              "        0.57994186, 0.5755814 , 0.58284884, 0.57945736, 0.57848832,\n",
              "        0.58236429, 0.57170543, 0.5809109 , 0.58575586, 0.58575586,\n",
              "        0.59738377, 0.60949617, 0.60901163, 0.6187015 , 0.61531008,\n",
              "        0.61967054, 0.61531008, 0.61821701, 0.62257747, 0.63517437,\n",
              "        0.60513571, 0.61482553, 0.6061046 , 0.60513571, 0.60271313,\n",
              "        0.54021318, 0.55329457, 0.56782946, 0.57267442, 0.57897287,\n",
              "        0.57606589, 0.57073643, 0.58381783, 0.57218992, 0.56831395,\n",
              "        0.56540698, 0.5377907 , 0.53972868, 0.55474806, 0.54748062,\n",
              "        0.53391473, 0.5377907 , 0.54796512, 0.54651163, 0.54069767,\n",
              "        0.55474806, 0.52810078, 0.52567829, 0.53100775, 0.53197674,\n",
              "        0.53343023, 0.53827519, 0.55959302, 0.55959302, 0.55959302,\n",
              "        0.57122093, 0.57655039, 0.57655039, 0.5809109 , 0.59544574]),\n",
              " array([0.45203488, 0.46753876, 0.47286822, 0.50242248, 0.50629845,\n",
              "        0.52422481, 0.52810078, 0.51744186, 0.52228682, 0.52034884,\n",
              "        0.5247093 , 0.52664729, 0.52422481, 0.52810078, 0.53536822,\n",
              "        0.56443798, 0.55232558, 0.56153101, 0.56492248, 0.55717054,\n",
              "        0.54118217, 0.54748062, 0.53246124, 0.55232558, 0.56686047,\n",
              "        0.56589147, 0.55523256, 0.55281008, 0.57800383, 0.57994186,\n",
              "        0.5755814 , 0.58284884, 0.57945736, 0.57848832, 0.58236429,\n",
              "        0.57170543, 0.5809109 , 0.58575586, 0.58575586, 0.59738377,\n",
              "        0.60949617, 0.60901163, 0.6187015 , 0.61531008, 0.61967054,\n",
              "        0.61531008, 0.61821701, 0.62257747, 0.63517437, 0.60513571,\n",
              "        0.61482553, 0.6061046 , 0.60513571, 0.60271313, 0.54021318,\n",
              "        0.55329457, 0.56782946, 0.57267442, 0.57897287, 0.57606589,\n",
              "        0.57073643, 0.58381783, 0.57218992, 0.56831395, 0.56540698,\n",
              "        0.5377907 , 0.53972868, 0.55474806, 0.54748062, 0.53391473,\n",
              "        0.5377907 , 0.54796512, 0.54651163, 0.54069767, 0.55474806,\n",
              "        0.52810078, 0.52567829, 0.53100775, 0.53197674, 0.53343023,\n",
              "        0.53827519, 0.55959302, 0.55959302, 0.55959302, 0.57122093,\n",
              "        0.57655039, 0.57655039, 0.5809109 , 0.59544574, 0.60949617]),\n",
              " array([0.46753876, 0.47286822, 0.50242248, 0.50629845, 0.52422481,\n",
              "        0.52810078, 0.51744186, 0.52228682, 0.52034884, 0.5247093 ,\n",
              "        0.52664729, 0.52422481, 0.52810078, 0.53536822, 0.56443798,\n",
              "        0.55232558, 0.56153101, 0.56492248, 0.55717054, 0.54118217,\n",
              "        0.54748062, 0.53246124, 0.55232558, 0.56686047, 0.56589147,\n",
              "        0.55523256, 0.55281008, 0.57800383, 0.57994186, 0.5755814 ,\n",
              "        0.58284884, 0.57945736, 0.57848832, 0.58236429, 0.57170543,\n",
              "        0.5809109 , 0.58575586, 0.58575586, 0.59738377, 0.60949617,\n",
              "        0.60901163, 0.6187015 , 0.61531008, 0.61967054, 0.61531008,\n",
              "        0.61821701, 0.62257747, 0.63517437, 0.60513571, 0.61482553,\n",
              "        0.6061046 , 0.60513571, 0.60271313, 0.54021318, 0.55329457,\n",
              "        0.56782946, 0.57267442, 0.57897287, 0.57606589, 0.57073643,\n",
              "        0.58381783, 0.57218992, 0.56831395, 0.56540698, 0.5377907 ,\n",
              "        0.53972868, 0.55474806, 0.54748062, 0.53391473, 0.5377907 ,\n",
              "        0.54796512, 0.54651163, 0.54069767, 0.55474806, 0.52810078,\n",
              "        0.52567829, 0.53100775, 0.53197674, 0.53343023, 0.53827519,\n",
              "        0.55959302, 0.55959302, 0.55959302, 0.57122093, 0.57655039,\n",
              "        0.57655039, 0.5809109 , 0.59544574, 0.60949617, 0.6056202 ]),\n",
              " array([0.47286822, 0.50242248, 0.50629845, 0.52422481, 0.52810078,\n",
              "        0.51744186, 0.52228682, 0.52034884, 0.5247093 , 0.52664729,\n",
              "        0.52422481, 0.52810078, 0.53536822, 0.56443798, 0.55232558,\n",
              "        0.56153101, 0.56492248, 0.55717054, 0.54118217, 0.54748062,\n",
              "        0.53246124, 0.55232558, 0.56686047, 0.56589147, 0.55523256,\n",
              "        0.55281008, 0.57800383, 0.57994186, 0.5755814 , 0.58284884,\n",
              "        0.57945736, 0.57848832, 0.58236429, 0.57170543, 0.5809109 ,\n",
              "        0.58575586, 0.58575586, 0.59738377, 0.60949617, 0.60901163,\n",
              "        0.6187015 , 0.61531008, 0.61967054, 0.61531008, 0.61821701,\n",
              "        0.62257747, 0.63517437, 0.60513571, 0.61482553, 0.6061046 ,\n",
              "        0.60513571, 0.60271313, 0.54021318, 0.55329457, 0.56782946,\n",
              "        0.57267442, 0.57897287, 0.57606589, 0.57073643, 0.58381783,\n",
              "        0.57218992, 0.56831395, 0.56540698, 0.5377907 , 0.53972868,\n",
              "        0.55474806, 0.54748062, 0.53391473, 0.5377907 , 0.54796512,\n",
              "        0.54651163, 0.54069767, 0.55474806, 0.52810078, 0.52567829,\n",
              "        0.53100775, 0.53197674, 0.53343023, 0.53827519, 0.55959302,\n",
              "        0.55959302, 0.55959302, 0.57122093, 0.57655039, 0.57655039,\n",
              "        0.5809109 , 0.59544574, 0.60949617, 0.6056202 , 0.60755814]),\n",
              " array([0.50242248, 0.50629845, 0.52422481, 0.52810078, 0.51744186,\n",
              "        0.52228682, 0.52034884, 0.5247093 , 0.52664729, 0.52422481,\n",
              "        0.52810078, 0.53536822, 0.56443798, 0.55232558, 0.56153101,\n",
              "        0.56492248, 0.55717054, 0.54118217, 0.54748062, 0.53246124,\n",
              "        0.55232558, 0.56686047, 0.56589147, 0.55523256, 0.55281008,\n",
              "        0.57800383, 0.57994186, 0.5755814 , 0.58284884, 0.57945736,\n",
              "        0.57848832, 0.58236429, 0.57170543, 0.5809109 , 0.58575586,\n",
              "        0.58575586, 0.59738377, 0.60949617, 0.60901163, 0.6187015 ,\n",
              "        0.61531008, 0.61967054, 0.61531008, 0.61821701, 0.62257747,\n",
              "        0.63517437, 0.60513571, 0.61482553, 0.6061046 , 0.60513571,\n",
              "        0.60271313, 0.54021318, 0.55329457, 0.56782946, 0.57267442,\n",
              "        0.57897287, 0.57606589, 0.57073643, 0.58381783, 0.57218992,\n",
              "        0.56831395, 0.56540698, 0.5377907 , 0.53972868, 0.55474806,\n",
              "        0.54748062, 0.53391473, 0.5377907 , 0.54796512, 0.54651163,\n",
              "        0.54069767, 0.55474806, 0.52810078, 0.52567829, 0.53100775,\n",
              "        0.53197674, 0.53343023, 0.53827519, 0.55959302, 0.55959302,\n",
              "        0.55959302, 0.57122093, 0.57655039, 0.57655039, 0.5809109 ,\n",
              "        0.59544574, 0.60949617, 0.6056202 , 0.60755814, 0.62160858]),\n",
              " array([0.50629845, 0.52422481, 0.52810078, 0.51744186, 0.52228682,\n",
              "        0.52034884, 0.5247093 , 0.52664729, 0.52422481, 0.52810078,\n",
              "        0.53536822, 0.56443798, 0.55232558, 0.56153101, 0.56492248,\n",
              "        0.55717054, 0.54118217, 0.54748062, 0.53246124, 0.55232558,\n",
              "        0.56686047, 0.56589147, 0.55523256, 0.55281008, 0.57800383,\n",
              "        0.57994186, 0.5755814 , 0.58284884, 0.57945736, 0.57848832,\n",
              "        0.58236429, 0.57170543, 0.5809109 , 0.58575586, 0.58575586,\n",
              "        0.59738377, 0.60949617, 0.60901163, 0.6187015 , 0.61531008,\n",
              "        0.61967054, 0.61531008, 0.61821701, 0.62257747, 0.63517437,\n",
              "        0.60513571, 0.61482553, 0.6061046 , 0.60513571, 0.60271313,\n",
              "        0.54021318, 0.55329457, 0.56782946, 0.57267442, 0.57897287,\n",
              "        0.57606589, 0.57073643, 0.58381783, 0.57218992, 0.56831395,\n",
              "        0.56540698, 0.5377907 , 0.53972868, 0.55474806, 0.54748062,\n",
              "        0.53391473, 0.5377907 , 0.54796512, 0.54651163, 0.54069767,\n",
              "        0.55474806, 0.52810078, 0.52567829, 0.53100775, 0.53197674,\n",
              "        0.53343023, 0.53827519, 0.55959302, 0.55959302, 0.55959302,\n",
              "        0.57122093, 0.57655039, 0.57655039, 0.5809109 , 0.59544574,\n",
              "        0.60949617, 0.6056202 , 0.60755814, 0.62160858, 0.61627907]),\n",
              " array([0.52422481, 0.52810078, 0.51744186, 0.52228682, 0.52034884,\n",
              "        0.5247093 , 0.52664729, 0.52422481, 0.52810078, 0.53536822,\n",
              "        0.56443798, 0.55232558, 0.56153101, 0.56492248, 0.55717054,\n",
              "        0.54118217, 0.54748062, 0.53246124, 0.55232558, 0.56686047,\n",
              "        0.56589147, 0.55523256, 0.55281008, 0.57800383, 0.57994186,\n",
              "        0.5755814 , 0.58284884, 0.57945736, 0.57848832, 0.58236429,\n",
              "        0.57170543, 0.5809109 , 0.58575586, 0.58575586, 0.59738377,\n",
              "        0.60949617, 0.60901163, 0.6187015 , 0.61531008, 0.61967054,\n",
              "        0.61531008, 0.61821701, 0.62257747, 0.63517437, 0.60513571,\n",
              "        0.61482553, 0.6061046 , 0.60513571, 0.60271313, 0.54021318,\n",
              "        0.55329457, 0.56782946, 0.57267442, 0.57897287, 0.57606589,\n",
              "        0.57073643, 0.58381783, 0.57218992, 0.56831395, 0.56540698,\n",
              "        0.5377907 , 0.53972868, 0.55474806, 0.54748062, 0.53391473,\n",
              "        0.5377907 , 0.54796512, 0.54651163, 0.54069767, 0.55474806,\n",
              "        0.52810078, 0.52567829, 0.53100775, 0.53197674, 0.53343023,\n",
              "        0.53827519, 0.55959302, 0.55959302, 0.55959302, 0.57122093,\n",
              "        0.57655039, 0.57655039, 0.5809109 , 0.59544574, 0.60949617,\n",
              "        0.6056202 , 0.60755814, 0.62160858, 0.61627907, 0.61434104]),\n",
              " array([0.52810078, 0.51744186, 0.52228682, 0.52034884, 0.5247093 ,\n",
              "        0.52664729, 0.52422481, 0.52810078, 0.53536822, 0.56443798,\n",
              "        0.55232558, 0.56153101, 0.56492248, 0.55717054, 0.54118217,\n",
              "        0.54748062, 0.53246124, 0.55232558, 0.56686047, 0.56589147,\n",
              "        0.55523256, 0.55281008, 0.57800383, 0.57994186, 0.5755814 ,\n",
              "        0.58284884, 0.57945736, 0.57848832, 0.58236429, 0.57170543,\n",
              "        0.5809109 , 0.58575586, 0.58575586, 0.59738377, 0.60949617,\n",
              "        0.60901163, 0.6187015 , 0.61531008, 0.61967054, 0.61531008,\n",
              "        0.61821701, 0.62257747, 0.63517437, 0.60513571, 0.61482553,\n",
              "        0.6061046 , 0.60513571, 0.60271313, 0.54021318, 0.55329457,\n",
              "        0.56782946, 0.57267442, 0.57897287, 0.57606589, 0.57073643,\n",
              "        0.58381783, 0.57218992, 0.56831395, 0.56540698, 0.5377907 ,\n",
              "        0.53972868, 0.55474806, 0.54748062, 0.53391473, 0.5377907 ,\n",
              "        0.54796512, 0.54651163, 0.54069767, 0.55474806, 0.52810078,\n",
              "        0.52567829, 0.53100775, 0.53197674, 0.53343023, 0.53827519,\n",
              "        0.55959302, 0.55959302, 0.55959302, 0.57122093, 0.57655039,\n",
              "        0.57655039, 0.5809109 , 0.59544574, 0.60949617, 0.6056202 ,\n",
              "        0.60755814, 0.62160858, 0.61627907, 0.61434104, 0.62209307]),\n",
              " array([0.51744186, 0.52228682, 0.52034884, 0.5247093 , 0.52664729,\n",
              "        0.52422481, 0.52810078, 0.53536822, 0.56443798, 0.55232558,\n",
              "        0.56153101, 0.56492248, 0.55717054, 0.54118217, 0.54748062,\n",
              "        0.53246124, 0.55232558, 0.56686047, 0.56589147, 0.55523256,\n",
              "        0.55281008, 0.57800383, 0.57994186, 0.5755814 , 0.58284884,\n",
              "        0.57945736, 0.57848832, 0.58236429, 0.57170543, 0.5809109 ,\n",
              "        0.58575586, 0.58575586, 0.59738377, 0.60949617, 0.60901163,\n",
              "        0.6187015 , 0.61531008, 0.61967054, 0.61531008, 0.61821701,\n",
              "        0.62257747, 0.63517437, 0.60513571, 0.61482553, 0.6061046 ,\n",
              "        0.60513571, 0.60271313, 0.54021318, 0.55329457, 0.56782946,\n",
              "        0.57267442, 0.57897287, 0.57606589, 0.57073643, 0.58381783,\n",
              "        0.57218992, 0.56831395, 0.56540698, 0.5377907 , 0.53972868,\n",
              "        0.55474806, 0.54748062, 0.53391473, 0.5377907 , 0.54796512,\n",
              "        0.54651163, 0.54069767, 0.55474806, 0.52810078, 0.52567829,\n",
              "        0.53100775, 0.53197674, 0.53343023, 0.53827519, 0.55959302,\n",
              "        0.55959302, 0.55959302, 0.57122093, 0.57655039, 0.57655039,\n",
              "        0.5809109 , 0.59544574, 0.60949617, 0.6056202 , 0.60755814,\n",
              "        0.62160858, 0.61627907, 0.61434104, 0.62209307, 0.63565891]),\n",
              " array([0.52228682, 0.52034884, 0.5247093 , 0.52664729, 0.52422481,\n",
              "        0.52810078, 0.53536822, 0.56443798, 0.55232558, 0.56153101,\n",
              "        0.56492248, 0.55717054, 0.54118217, 0.54748062, 0.53246124,\n",
              "        0.55232558, 0.56686047, 0.56589147, 0.55523256, 0.55281008,\n",
              "        0.57800383, 0.57994186, 0.5755814 , 0.58284884, 0.57945736,\n",
              "        0.57848832, 0.58236429, 0.57170543, 0.5809109 , 0.58575586,\n",
              "        0.58575586, 0.59738377, 0.60949617, 0.60901163, 0.6187015 ,\n",
              "        0.61531008, 0.61967054, 0.61531008, 0.61821701, 0.62257747,\n",
              "        0.63517437, 0.60513571, 0.61482553, 0.6061046 , 0.60513571,\n",
              "        0.60271313, 0.54021318, 0.55329457, 0.56782946, 0.57267442,\n",
              "        0.57897287, 0.57606589, 0.57073643, 0.58381783, 0.57218992,\n",
              "        0.56831395, 0.56540698, 0.5377907 , 0.53972868, 0.55474806,\n",
              "        0.54748062, 0.53391473, 0.5377907 , 0.54796512, 0.54651163,\n",
              "        0.54069767, 0.55474806, 0.52810078, 0.52567829, 0.53100775,\n",
              "        0.53197674, 0.53343023, 0.53827519, 0.55959302, 0.55959302,\n",
              "        0.55959302, 0.57122093, 0.57655039, 0.57655039, 0.5809109 ,\n",
              "        0.59544574, 0.60949617, 0.6056202 , 0.60755814, 0.62160858,\n",
              "        0.61627907, 0.61434104, 0.62209307, 0.63565891, 0.6371124 ]),\n",
              " array([0.52034884, 0.5247093 , 0.52664729, 0.52422481, 0.52810078,\n",
              "        0.53536822, 0.56443798, 0.55232558, 0.56153101, 0.56492248,\n",
              "        0.55717054, 0.54118217, 0.54748062, 0.53246124, 0.55232558,\n",
              "        0.56686047, 0.56589147, 0.55523256, 0.55281008, 0.57800383,\n",
              "        0.57994186, 0.5755814 , 0.58284884, 0.57945736, 0.57848832,\n",
              "        0.58236429, 0.57170543, 0.5809109 , 0.58575586, 0.58575586,\n",
              "        0.59738377, 0.60949617, 0.60901163, 0.6187015 , 0.61531008,\n",
              "        0.61967054, 0.61531008, 0.61821701, 0.62257747, 0.63517437,\n",
              "        0.60513571, 0.61482553, 0.6061046 , 0.60513571, 0.60271313,\n",
              "        0.54021318, 0.55329457, 0.56782946, 0.57267442, 0.57897287,\n",
              "        0.57606589, 0.57073643, 0.58381783, 0.57218992, 0.56831395,\n",
              "        0.56540698, 0.5377907 , 0.53972868, 0.55474806, 0.54748062,\n",
              "        0.53391473, 0.5377907 , 0.54796512, 0.54651163, 0.54069767,\n",
              "        0.55474806, 0.52810078, 0.52567829, 0.53100775, 0.53197674,\n",
              "        0.53343023, 0.53827519, 0.55959302, 0.55959302, 0.55959302,\n",
              "        0.57122093, 0.57655039, 0.57655039, 0.5809109 , 0.59544574,\n",
              "        0.60949617, 0.6056202 , 0.60755814, 0.62160858, 0.61627907,\n",
              "        0.61434104, 0.62209307, 0.63565891, 0.6371124 , 0.66472868]),\n",
              " array([0.5247093 , 0.52664729, 0.52422481, 0.52810078, 0.53536822,\n",
              "        0.56443798, 0.55232558, 0.56153101, 0.56492248, 0.55717054,\n",
              "        0.54118217, 0.54748062, 0.53246124, 0.55232558, 0.56686047,\n",
              "        0.56589147, 0.55523256, 0.55281008, 0.57800383, 0.57994186,\n",
              "        0.5755814 , 0.58284884, 0.57945736, 0.57848832, 0.58236429,\n",
              "        0.57170543, 0.5809109 , 0.58575586, 0.58575586, 0.59738377,\n",
              "        0.60949617, 0.60901163, 0.6187015 , 0.61531008, 0.61967054,\n",
              "        0.61531008, 0.61821701, 0.62257747, 0.63517437, 0.60513571,\n",
              "        0.61482553, 0.6061046 , 0.60513571, 0.60271313, 0.54021318,\n",
              "        0.55329457, 0.56782946, 0.57267442, 0.57897287, 0.57606589,\n",
              "        0.57073643, 0.58381783, 0.57218992, 0.56831395, 0.56540698,\n",
              "        0.5377907 , 0.53972868, 0.55474806, 0.54748062, 0.53391473,\n",
              "        0.5377907 , 0.54796512, 0.54651163, 0.54069767, 0.55474806,\n",
              "        0.52810078, 0.52567829, 0.53100775, 0.53197674, 0.53343023,\n",
              "        0.53827519, 0.55959302, 0.55959302, 0.55959302, 0.57122093,\n",
              "        0.57655039, 0.57655039, 0.5809109 , 0.59544574, 0.60949617,\n",
              "        0.6056202 , 0.60755814, 0.62160858, 0.61627907, 0.61434104,\n",
              "        0.62209307, 0.63565891, 0.6371124 , 0.66472868, 0.68556202]),\n",
              " array([0.52664729, 0.52422481, 0.52810078, 0.53536822, 0.56443798,\n",
              "        0.55232558, 0.56153101, 0.56492248, 0.55717054, 0.54118217,\n",
              "        0.54748062, 0.53246124, 0.55232558, 0.56686047, 0.56589147,\n",
              "        0.55523256, 0.55281008, 0.57800383, 0.57994186, 0.5755814 ,\n",
              "        0.58284884, 0.57945736, 0.57848832, 0.58236429, 0.57170543,\n",
              "        0.5809109 , 0.58575586, 0.58575586, 0.59738377, 0.60949617,\n",
              "        0.60901163, 0.6187015 , 0.61531008, 0.61967054, 0.61531008,\n",
              "        0.61821701, 0.62257747, 0.63517437, 0.60513571, 0.61482553,\n",
              "        0.6061046 , 0.60513571, 0.60271313, 0.54021318, 0.55329457,\n",
              "        0.56782946, 0.57267442, 0.57897287, 0.57606589, 0.57073643,\n",
              "        0.58381783, 0.57218992, 0.56831395, 0.56540698, 0.5377907 ,\n",
              "        0.53972868, 0.55474806, 0.54748062, 0.53391473, 0.5377907 ,\n",
              "        0.54796512, 0.54651163, 0.54069767, 0.55474806, 0.52810078,\n",
              "        0.52567829, 0.53100775, 0.53197674, 0.53343023, 0.53827519,\n",
              "        0.55959302, 0.55959302, 0.55959302, 0.57122093, 0.57655039,\n",
              "        0.57655039, 0.5809109 , 0.59544574, 0.60949617, 0.6056202 ,\n",
              "        0.60755814, 0.62160858, 0.61627907, 0.61434104, 0.62209307,\n",
              "        0.63565891, 0.6371124 , 0.66472868, 0.68556202, 0.68362398]),\n",
              " array([0.52422481, 0.52810078, 0.53536822, 0.56443798, 0.55232558,\n",
              "        0.56153101, 0.56492248, 0.55717054, 0.54118217, 0.54748062,\n",
              "        0.53246124, 0.55232558, 0.56686047, 0.56589147, 0.55523256,\n",
              "        0.55281008, 0.57800383, 0.57994186, 0.5755814 , 0.58284884,\n",
              "        0.57945736, 0.57848832, 0.58236429, 0.57170543, 0.5809109 ,\n",
              "        0.58575586, 0.58575586, 0.59738377, 0.60949617, 0.60901163,\n",
              "        0.6187015 , 0.61531008, 0.61967054, 0.61531008, 0.61821701,\n",
              "        0.62257747, 0.63517437, 0.60513571, 0.61482553, 0.6061046 ,\n",
              "        0.60513571, 0.60271313, 0.54021318, 0.55329457, 0.56782946,\n",
              "        0.57267442, 0.57897287, 0.57606589, 0.57073643, 0.58381783,\n",
              "        0.57218992, 0.56831395, 0.56540698, 0.5377907 , 0.53972868,\n",
              "        0.55474806, 0.54748062, 0.53391473, 0.5377907 , 0.54796512,\n",
              "        0.54651163, 0.54069767, 0.55474806, 0.52810078, 0.52567829,\n",
              "        0.53100775, 0.53197674, 0.53343023, 0.53827519, 0.55959302,\n",
              "        0.55959302, 0.55959302, 0.57122093, 0.57655039, 0.57655039,\n",
              "        0.5809109 , 0.59544574, 0.60949617, 0.6056202 , 0.60755814,\n",
              "        0.62160858, 0.61627907, 0.61434104, 0.62209307, 0.63565891,\n",
              "        0.6371124 , 0.66472868, 0.68556202, 0.68362398, 0.68120155]),\n",
              " array([0.52810078, 0.53536822, 0.56443798, 0.55232558, 0.56153101,\n",
              "        0.56492248, 0.55717054, 0.54118217, 0.54748062, 0.53246124,\n",
              "        0.55232558, 0.56686047, 0.56589147, 0.55523256, 0.55281008,\n",
              "        0.57800383, 0.57994186, 0.5755814 , 0.58284884, 0.57945736,\n",
              "        0.57848832, 0.58236429, 0.57170543, 0.5809109 , 0.58575586,\n",
              "        0.58575586, 0.59738377, 0.60949617, 0.60901163, 0.6187015 ,\n",
              "        0.61531008, 0.61967054, 0.61531008, 0.61821701, 0.62257747,\n",
              "        0.63517437, 0.60513571, 0.61482553, 0.6061046 , 0.60513571,\n",
              "        0.60271313, 0.54021318, 0.55329457, 0.56782946, 0.57267442,\n",
              "        0.57897287, 0.57606589, 0.57073643, 0.58381783, 0.57218992,\n",
              "        0.56831395, 0.56540698, 0.5377907 , 0.53972868, 0.55474806,\n",
              "        0.54748062, 0.53391473, 0.5377907 , 0.54796512, 0.54651163,\n",
              "        0.54069767, 0.55474806, 0.52810078, 0.52567829, 0.53100775,\n",
              "        0.53197674, 0.53343023, 0.53827519, 0.55959302, 0.55959302,\n",
              "        0.55959302, 0.57122093, 0.57655039, 0.57655039, 0.5809109 ,\n",
              "        0.59544574, 0.60949617, 0.6056202 , 0.60755814, 0.62160858,\n",
              "        0.61627907, 0.61434104, 0.62209307, 0.63565891, 0.6371124 ,\n",
              "        0.66472868, 0.68556202, 0.68362398, 0.68120155, 0.6879845 ]),\n",
              " array([0.53536822, 0.56443798, 0.55232558, 0.56153101, 0.56492248,\n",
              "        0.55717054, 0.54118217, 0.54748062, 0.53246124, 0.55232558,\n",
              "        0.56686047, 0.56589147, 0.55523256, 0.55281008, 0.57800383,\n",
              "        0.57994186, 0.5755814 , 0.58284884, 0.57945736, 0.57848832,\n",
              "        0.58236429, 0.57170543, 0.5809109 , 0.58575586, 0.58575586,\n",
              "        0.59738377, 0.60949617, 0.60901163, 0.6187015 , 0.61531008,\n",
              "        0.61967054, 0.61531008, 0.61821701, 0.62257747, 0.63517437,\n",
              "        0.60513571, 0.61482553, 0.6061046 , 0.60513571, 0.60271313,\n",
              "        0.54021318, 0.55329457, 0.56782946, 0.57267442, 0.57897287,\n",
              "        0.57606589, 0.57073643, 0.58381783, 0.57218992, 0.56831395,\n",
              "        0.56540698, 0.5377907 , 0.53972868, 0.55474806, 0.54748062,\n",
              "        0.53391473, 0.5377907 , 0.54796512, 0.54651163, 0.54069767,\n",
              "        0.55474806, 0.52810078, 0.52567829, 0.53100775, 0.53197674,\n",
              "        0.53343023, 0.53827519, 0.55959302, 0.55959302, 0.55959302,\n",
              "        0.57122093, 0.57655039, 0.57655039, 0.5809109 , 0.59544574,\n",
              "        0.60949617, 0.6056202 , 0.60755814, 0.62160858, 0.61627907,\n",
              "        0.61434104, 0.62209307, 0.63565891, 0.6371124 , 0.66472868,\n",
              "        0.68556202, 0.68362398, 0.68120155, 0.6879845 , 0.68895349]),\n",
              " array([0.56443798, 0.55232558, 0.56153101, 0.56492248, 0.55717054,\n",
              "        0.54118217, 0.54748062, 0.53246124, 0.55232558, 0.56686047,\n",
              "        0.56589147, 0.55523256, 0.55281008, 0.57800383, 0.57994186,\n",
              "        0.5755814 , 0.58284884, 0.57945736, 0.57848832, 0.58236429,\n",
              "        0.57170543, 0.5809109 , 0.58575586, 0.58575586, 0.59738377,\n",
              "        0.60949617, 0.60901163, 0.6187015 , 0.61531008, 0.61967054,\n",
              "        0.61531008, 0.61821701, 0.62257747, 0.63517437, 0.60513571,\n",
              "        0.61482553, 0.6061046 , 0.60513571, 0.60271313, 0.54021318,\n",
              "        0.55329457, 0.56782946, 0.57267442, 0.57897287, 0.57606589,\n",
              "        0.57073643, 0.58381783, 0.57218992, 0.56831395, 0.56540698,\n",
              "        0.5377907 , 0.53972868, 0.55474806, 0.54748062, 0.53391473,\n",
              "        0.5377907 , 0.54796512, 0.54651163, 0.54069767, 0.55474806,\n",
              "        0.52810078, 0.52567829, 0.53100775, 0.53197674, 0.53343023,\n",
              "        0.53827519, 0.55959302, 0.55959302, 0.55959302, 0.57122093,\n",
              "        0.57655039, 0.57655039, 0.5809109 , 0.59544574, 0.60949617,\n",
              "        0.6056202 , 0.60755814, 0.62160858, 0.61627907, 0.61434104,\n",
              "        0.62209307, 0.63565891, 0.6371124 , 0.66472868, 0.68556202,\n",
              "        0.68362398, 0.68120155, 0.6879845 , 0.68895349, 0.73352713]),\n",
              " array([0.55232558, 0.56153101, 0.56492248, 0.55717054, 0.54118217,\n",
              "        0.54748062, 0.53246124, 0.55232558, 0.56686047, 0.56589147,\n",
              "        0.55523256, 0.55281008, 0.57800383, 0.57994186, 0.5755814 ,\n",
              "        0.58284884, 0.57945736, 0.57848832, 0.58236429, 0.57170543,\n",
              "        0.5809109 , 0.58575586, 0.58575586, 0.59738377, 0.60949617,\n",
              "        0.60901163, 0.6187015 , 0.61531008, 0.61967054, 0.61531008,\n",
              "        0.61821701, 0.62257747, 0.63517437, 0.60513571, 0.61482553,\n",
              "        0.6061046 , 0.60513571, 0.60271313, 0.54021318, 0.55329457,\n",
              "        0.56782946, 0.57267442, 0.57897287, 0.57606589, 0.57073643,\n",
              "        0.58381783, 0.57218992, 0.56831395, 0.56540698, 0.5377907 ,\n",
              "        0.53972868, 0.55474806, 0.54748062, 0.53391473, 0.5377907 ,\n",
              "        0.54796512, 0.54651163, 0.54069767, 0.55474806, 0.52810078,\n",
              "        0.52567829, 0.53100775, 0.53197674, 0.53343023, 0.53827519,\n",
              "        0.55959302, 0.55959302, 0.55959302, 0.57122093, 0.57655039,\n",
              "        0.57655039, 0.5809109 , 0.59544574, 0.60949617, 0.6056202 ,\n",
              "        0.60755814, 0.62160858, 0.61627907, 0.61434104, 0.62209307,\n",
              "        0.63565891, 0.6371124 , 0.66472868, 0.68556202, 0.68362398,\n",
              "        0.68120155, 0.6879845 , 0.68895349, 0.73352713, 0.74709307]),\n",
              " array([0.56153101, 0.56492248, 0.55717054, 0.54118217, 0.54748062,\n",
              "        0.53246124, 0.55232558, 0.56686047, 0.56589147, 0.55523256,\n",
              "        0.55281008, 0.57800383, 0.57994186, 0.5755814 , 0.58284884,\n",
              "        0.57945736, 0.57848832, 0.58236429, 0.57170543, 0.5809109 ,\n",
              "        0.58575586, 0.58575586, 0.59738377, 0.60949617, 0.60901163,\n",
              "        0.6187015 , 0.61531008, 0.61967054, 0.61531008, 0.61821701,\n",
              "        0.62257747, 0.63517437, 0.60513571, 0.61482553, 0.6061046 ,\n",
              "        0.60513571, 0.60271313, 0.54021318, 0.55329457, 0.56782946,\n",
              "        0.57267442, 0.57897287, 0.57606589, 0.57073643, 0.58381783,\n",
              "        0.57218992, 0.56831395, 0.56540698, 0.5377907 , 0.53972868,\n",
              "        0.55474806, 0.54748062, 0.53391473, 0.5377907 , 0.54796512,\n",
              "        0.54651163, 0.54069767, 0.55474806, 0.52810078, 0.52567829,\n",
              "        0.53100775, 0.53197674, 0.53343023, 0.53827519, 0.55959302,\n",
              "        0.55959302, 0.55959302, 0.57122093, 0.57655039, 0.57655039,\n",
              "        0.5809109 , 0.59544574, 0.60949617, 0.6056202 , 0.60755814,\n",
              "        0.62160858, 0.61627907, 0.61434104, 0.62209307, 0.63565891,\n",
              "        0.6371124 , 0.66472868, 0.68556202, 0.68362398, 0.68120155,\n",
              "        0.6879845 , 0.68895349, 0.73352713, 0.74709307, 0.7495155 ]),\n",
              " array([0.56492248, 0.55717054, 0.54118217, 0.54748062, 0.53246124,\n",
              "        0.55232558, 0.56686047, 0.56589147, 0.55523256, 0.55281008,\n",
              "        0.57800383, 0.57994186, 0.5755814 , 0.58284884, 0.57945736,\n",
              "        0.57848832, 0.58236429, 0.57170543, 0.5809109 , 0.58575586,\n",
              "        0.58575586, 0.59738377, 0.60949617, 0.60901163, 0.6187015 ,\n",
              "        0.61531008, 0.61967054, 0.61531008, 0.61821701, 0.62257747,\n",
              "        0.63517437, 0.60513571, 0.61482553, 0.6061046 , 0.60513571,\n",
              "        0.60271313, 0.54021318, 0.55329457, 0.56782946, 0.57267442,\n",
              "        0.57897287, 0.57606589, 0.57073643, 0.58381783, 0.57218992,\n",
              "        0.56831395, 0.56540698, 0.5377907 , 0.53972868, 0.55474806,\n",
              "        0.54748062, 0.53391473, 0.5377907 , 0.54796512, 0.54651163,\n",
              "        0.54069767, 0.55474806, 0.52810078, 0.52567829, 0.53100775,\n",
              "        0.53197674, 0.53343023, 0.53827519, 0.55959302, 0.55959302,\n",
              "        0.55959302, 0.57122093, 0.57655039, 0.57655039, 0.5809109 ,\n",
              "        0.59544574, 0.60949617, 0.6056202 , 0.60755814, 0.62160858,\n",
              "        0.61627907, 0.61434104, 0.62209307, 0.63565891, 0.6371124 ,\n",
              "        0.66472868, 0.68556202, 0.68362398, 0.68120155, 0.6879845 ,\n",
              "        0.68895349, 0.73352713, 0.74709307, 0.7495155 , 0.75436047])]"
            ]
          },
          "metadata": {},
          "execution_count": 53
        }
      ]
    },
    {
      "cell_type": "code",
      "source": [
        "X_teste = np.array(X_teste)\n",
        "X_teste = np.reshape(X_teste, (X_teste.shape[0], X_teste.shape[1], 1))"
      ],
      "metadata": {
        "id": "g1HXJKfB2tmz"
      },
      "execution_count": null,
      "outputs": []
    },
    {
      "cell_type": "code",
      "source": [
        "X_teste.shape"
      ],
      "metadata": {
        "colab": {
          "base_uri": "https://localhost:8080/"
        },
        "id": "igPFGTTL2485",
        "outputId": "9d078667-cff3-468d-b320-906cfa3084e2"
      },
      "execution_count": null,
      "outputs": [
        {
          "output_type": "execute_result",
          "data": {
            "text/plain": [
              "(22, 90, 1)"
            ]
          },
          "metadata": {},
          "execution_count": 55
        }
      ]
    },
    {
      "cell_type": "code",
      "source": [
        "previsoes = regressor.predict(X_teste)"
      ],
      "metadata": {
        "colab": {
          "base_uri": "https://localhost:8080/"
        },
        "id": "-7FGBgFN3F4h",
        "outputId": "42a0e9ec-dbb6-457e-f185-94eae66de8a6"
      },
      "execution_count": null,
      "outputs": [
        {
          "output_type": "stream",
          "name": "stdout",
          "text": [
            "1/1 [==============================] - 2s 2s/step\n"
          ]
        }
      ]
    },
    {
      "cell_type": "code",
      "source": [
        "previsoes"
      ],
      "metadata": {
        "colab": {
          "base_uri": "https://localhost:8080/"
        },
        "id": "Rz4FEcI03KbI",
        "outputId": "eabf6ce1-35ef-499d-c463-4b3a4cf8f79e"
      },
      "execution_count": null,
      "outputs": [
        {
          "output_type": "execute_result",
          "data": {
            "text/plain": [
              "array([[0.56865054],\n",
              "       [0.5728247 ],\n",
              "       [0.57729113],\n",
              "       [0.5838025 ],\n",
              "       [0.590801  ],\n",
              "       [0.59666747],\n",
              "       [0.60226315],\n",
              "       [0.606683  ],\n",
              "       [0.6090539 ],\n",
              "       [0.61045355],\n",
              "       [0.61322165],\n",
              "       [0.61752146],\n",
              "       [0.62567353],\n",
              "       [0.63881934],\n",
              "       [0.6535044 ],\n",
              "       [0.66550416],\n",
              "       [0.67360723],\n",
              "       [0.67798316],\n",
              "       [0.685097  ],\n",
              "       [0.69716394],\n",
              "       [0.71147203],\n",
              "       [0.7246899 ]], dtype=float32)"
            ]
          },
          "metadata": {},
          "execution_count": 57
        }
      ]
    },
    {
      "cell_type": "code",
      "source": [
        "previsoes = normalizador.inverse_transform(previsoes)"
      ],
      "metadata": {
        "id": "XDpRnNbn3Pzb"
      },
      "execution_count": null,
      "outputs": []
    },
    {
      "cell_type": "code",
      "source": [
        "previsoes"
      ],
      "metadata": {
        "colab": {
          "base_uri": "https://localhost:8080/"
        },
        "id": "CLJMYQ6W3VxK",
        "outputId": "840430ac-1397-490c-a481-e4660e10a0d1"
      },
      "execution_count": null,
      "outputs": [
        {
          "output_type": "execute_result",
          "data": {
            "text/plain": [
              "array([[15.936947],\n",
              "       [16.023102],\n",
              "       [16.115288],\n",
              "       [16.249683],\n",
              "       [16.394133],\n",
              "       [16.515217],\n",
              "       [16.63071 ],\n",
              "       [16.721937],\n",
              "       [16.770872],\n",
              "       [16.79976 ],\n",
              "       [16.856894],\n",
              "       [16.945642],\n",
              "       [17.113901],\n",
              "       [17.385231],\n",
              "       [17.68833 ],\n",
              "       [17.936005],\n",
              "       [18.103252],\n",
              "       [18.193573],\n",
              "       [18.3404  ],\n",
              "       [18.589464],\n",
              "       [18.884783],\n",
              "       [19.157598]], dtype=float32)"
            ]
          },
          "metadata": {},
          "execution_count": 59
        }
      ]
    },
    {
      "cell_type": "code",
      "source": [
        "y_teste"
      ],
      "metadata": {
        "colab": {
          "base_uri": "https://localhost:8080/"
        },
        "id": "itjBhto93d2N",
        "outputId": "c74f813f-1f02-4d1c-c5b2-9b4540dcd0b0"
      },
      "execution_count": null,
      "outputs": [
        {
          "output_type": "execute_result",
          "data": {
            "text/plain": [
              "array([[16.190001],\n",
              "       [16.49    ],\n",
              "       [16.780001],\n",
              "       [16.700001],\n",
              "       [16.74    ],\n",
              "       [17.030001],\n",
              "       [16.92    ],\n",
              "       [16.879999],\n",
              "       [17.040001],\n",
              "       [17.32    ],\n",
              "       [17.35    ],\n",
              "       [17.92    ],\n",
              "       [18.35    ],\n",
              "       [18.309999],\n",
              "       [18.26    ],\n",
              "       [18.4     ],\n",
              "       [18.42    ],\n",
              "       [19.34    ],\n",
              "       [19.620001],\n",
              "       [19.67    ],\n",
              "       [19.77    ],\n",
              "       [19.74    ]])"
            ]
          },
          "metadata": {},
          "execution_count": 60
        }
      ]
    },
    {
      "cell_type": "code",
      "source": [
        "previsoes.mean()"
      ],
      "metadata": {
        "colab": {
          "base_uri": "https://localhost:8080/"
        },
        "id": "q2CkXQSu3oxI",
        "outputId": "0c8e4470-0858-47d6-ee17-f256007b7401"
      },
      "execution_count": null,
      "outputs": [
        {
          "output_type": "execute_result",
          "data": {
            "text/plain": [
              "17.243305"
            ]
          },
          "metadata": {},
          "execution_count": 61
        }
      ]
    },
    {
      "cell_type": "code",
      "source": [
        "y_teste.mean()"
      ],
      "metadata": {
        "colab": {
          "base_uri": "https://localhost:8080/"
        },
        "id": "DCOiJyvw3qcZ",
        "outputId": "e9a18e23-f8ca-4c81-ee87-0193d46df036"
      },
      "execution_count": null,
      "outputs": [
        {
          "output_type": "execute_result",
          "data": {
            "text/plain": [
              "17.87454563636364"
            ]
          },
          "metadata": {},
          "execution_count": 62
        }
      ]
    },
    {
      "cell_type": "code",
      "source": [
        "from sklearn.metrics import mean_absolute_error\n",
        "mean_absolute_error(y_teste, previsoes)"
      ],
      "metadata": {
        "colab": {
          "base_uri": "https://localhost:8080/"
        },
        "id": "jvQjFZPs3ulh",
        "outputId": "6921ea27-fa4b-462d-a026-5cdd383cf507"
      },
      "execution_count": null,
      "outputs": [
        {
          "output_type": "execute_result",
          "data": {
            "text/plain": [
              "0.6312399965764827"
            ]
          },
          "metadata": {},
          "execution_count": 64
        }
      ]
    },
    {
      "cell_type": "code",
      "source": [
        "plt.plot(y_teste, color = \"red\", label = \"Preço real\")\n",
        "plt.plot(previsoes, color = \"blue\", label = \"Previsões\")\n",
        "plt.title(\"Previsão do preço das ações\")\n",
        "plt.xlabel(\"Tempo\")\n",
        "plt.ylabel(\"Valor\")\n",
        "plt.legend();"
      ],
      "metadata": {
        "colab": {
          "base_uri": "https://localhost:8080/",
          "height": 492
        },
        "id": "cJ1Z6kWL36yz",
        "outputId": "a493b47c-ff70-4706-d4c9-7336b8b6e519"
      },
      "execution_count": null,
      "outputs": [
        {
          "output_type": "display_data",
          "data": {
            "text/plain": [
              "<Figure size 640x480 with 1 Axes>"
            ],
            "image/png": "[encoded data removed]"
          },
          "metadata": {}
        }
      ]
    }
  ]
}
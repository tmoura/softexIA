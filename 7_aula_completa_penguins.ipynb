{
  "nbformat": 4,
  "nbformat_minor": 0,
  "metadata": {
    "colab": {
      "provenance": [],
      "authorship_tag": "ABX9TyP9xY2Xp+Hu4fL84Am+LoCu",
      "include_colab_link": true
    },
    "kernelspec": {
      "name": "python3",
      "display_name": "Python 3"
    },
    "language_info": {
      "name": "python"
    }
  },
  "cells": [
    {
      "cell_type": "markdown",
      "metadata": {
        "id": "view-in-github",
        "colab_type": "text"
      },
      "source": [
        "<a href=\"https://colab.research.google.com/github/tmoura/softexIA/blob/main/7_aula_completa_penguins.ipynb\" target=\"_parent\"><img src=\"https://colab.research.google.com/assets/colab-badge.svg\" alt=\"Open In Colab\"/></a>"
      ]
    },
    {
      "cell_type": "markdown",
      "source": [
        "### Carregamento do Dataset"
      ],
      "metadata": {
        "id": "twN5Pl6GGMvk"
      }
    },
    {
      "cell_type": "code",
      "execution_count": 2,
      "metadata": {
        "id": "OyeQuZTyW4o9"
      },
      "outputs": [],
      "source": [
        "import pandas as pd\n",
        "from seaborn import load_dataset\n",
        "\n",
        "# Carregar base de dados\n",
        "df = load_dataset('penguins')"
      ]
    },
    {
      "cell_type": "markdown",
      "source": [
        "### Analisando as informações do dataset"
      ],
      "metadata": {
        "id": "hSmiI70xVRT0"
      }
    },
    {
      "cell_type": "code",
      "source": [
        "df.info()\n",
        "\n",
        "print('--------------')\n",
        "print('Shape-->',df.shape)\n",
        "print('--------------')\n",
        "\n",
        "df.describe()"
      ],
      "metadata": {
        "id": "Zomn3ezpVdvF"
      },
      "execution_count": null,
      "outputs": []
    },
    {
      "cell_type": "markdown",
      "source": [
        "### Remover o NaN"
      ],
      "metadata": {
        "id": "JP_7irL2Xuq5"
      }
    },
    {
      "cell_type": "code",
      "source": [
        "# Por padrão o dropna() remove linhas que tenham NaN. É possível remover uma coluna inteira trocando o valor do parâmetro 'axis' para 1\n",
        "# Exemplo: df = df.dropna(axis=1)\n",
        "\n",
        "df = df.dropna()"
      ],
      "metadata": {
        "id": "dKGRRyroynNG"
      },
      "execution_count": 4,
      "outputs": []
    },
    {
      "cell_type": "markdown",
      "source": [
        "### Converter Coluna 'island' e 'sex' usando ONE-HOT Encoding"
      ],
      "metadata": {
        "id": "W6ZCOTkdZ25d"
      }
    },
    {
      "cell_type": "code",
      "source": [
        "from sklearn.preprocessing import OneHotEncoder\n",
        "from sklearn.compose import make_column_transformer\n",
        "\n",
        "column_transformer = make_column_transformer((OneHotEncoder(), ['island','sex']), remainder='passthrough')\n",
        "\n",
        "df = column_transformer.fit_transform(df)\n",
        "\n",
        "df = pd.DataFrame(data=df)\n",
        "\n",
        "df"
      ],
      "metadata": {
        "id": "r5KZBQ-TZ2I5"
      },
      "execution_count": null,
      "outputs": []
    },
    {
      "cell_type": "markdown",
      "source": [
        "### Converter a classe com LabelEncoding"
      ],
      "metadata": {
        "id": "DCC6bMQogzxJ"
      }
    },
    {
      "cell_type": "code",
      "source": [
        "from sklearn import preprocessing\n",
        "\n",
        "label_encoder = preprocessing.LabelEncoder()\n",
        "\n",
        "df[5]= label_encoder.fit_transform(df[5])\n",
        "\n",
        "df"
      ],
      "metadata": {
        "id": "urK8N4tUg3Qr"
      },
      "execution_count": null,
      "outputs": []
    },
    {
      "cell_type": "markdown",
      "source": [
        "### Separar y e X"
      ],
      "metadata": {
        "id": "wr4GG_1aZBea"
      }
    },
    {
      "cell_type": "code",
      "source": [
        "y = df[5]\n",
        "\n",
        "X = df.drop(5,axis=1)"
      ],
      "metadata": {
        "id": "WsQ9hclTZE2x"
      },
      "execution_count": 7,
      "outputs": []
    },
    {
      "cell_type": "markdown",
      "source": [
        "### Separar dados para treinamento e teste"
      ],
      "metadata": {
        "id": "MzorjMVYa_-o"
      }
    },
    {
      "cell_type": "code",
      "source": [
        "from sklearn.model_selection import train_test_split\n",
        "\n",
        "X_train, X_test, y_train, y_test = train_test_split(X, y, test_size=0.2, random_state=None, stratify=y) # 80% treino e 20% teste"
      ],
      "metadata": {
        "id": "KVdGFFYXbE3D"
      },
      "execution_count": 10,
      "outputs": []
    },
    {
      "cell_type": "markdown",
      "source": [
        "### Treinar Modelos"
      ],
      "metadata": {
        "id": "dn5jXoTsbss7"
      }
    },
    {
      "cell_type": "code",
      "source": [
        "from sklearn.neighbors import KNeighborsClassifier\n",
        "from sklearn.tree import DecisionTreeClassifier\n",
        "\n",
        "model1 = DecisionTreeClassifier(criterion=\"entropy\")\n",
        "model2 = KNeighborsClassifier(n_neighbors=7, metric='euclidean', algorithm='brute')\n",
        "model3 = DecisionTreeClassifier(criterion=\"entropy\", max_depth=2)\n",
        "\n",
        "model1.fit(X_train, y_train)\n",
        "model2.fit(X_train, y_train)\n",
        "model3.fit(X_train, y_train)"
      ],
      "metadata": {
        "id": "1nlebFM-bwEA"
      },
      "execution_count": null,
      "outputs": []
    },
    {
      "cell_type": "markdown",
      "source": [
        "### Medir o Desempenho"
      ],
      "metadata": {
        "id": "zgznx4MRcY__"
      }
    },
    {
      "cell_type": "code",
      "source": [
        "from sklearn import metrics\n",
        "\n",
        "result1 = model1.predict(X_test)\n",
        "result2 = model2.predict(X_test)\n",
        "result3 = model3.predict(X_test)\n",
        "\n",
        "acc1 = metrics.accuracy_score(result1, y_test)\n",
        "show1 = round(acc1 * 100)\n",
        "print(\"{}%\".format(show1))\n",
        "\n",
        "acc2 = metrics.accuracy_score(result2, y_test)\n",
        "show2 = round(acc2 * 100)\n",
        "print(\"{}%\".format(show2))\n",
        "\n",
        "acc3 = metrics.accuracy_score(result3, y_test)\n",
        "show3 = round(acc3 * 100)\n",
        "print(\"{}%\".format(show3))"
      ],
      "metadata": {
        "id": "T1dAQFsTcblJ"
      },
      "execution_count": null,
      "outputs": []
    }
  ]
}
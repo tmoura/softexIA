{
  "nbformat": 4,
  "nbformat_minor": 0,
  "metadata": {
    "colab": {
      "provenance": [],
      "authorship_tag": "ABX9TyMQeXoChLhFZt2jkSg7BiIm",
      "include_colab_link": true
    },
    "kernelspec": {
      "name": "python3",
      "display_name": "Python 3"
    },
    "language_info": {
      "name": "python"
    }
  },
  "cells": [
    {
      "cell_type": "markdown",
      "metadata": {
        "id": "view-in-github",
        "colab_type": "text"
      },
      "source": [
        "<a href=\"https://colab.research.google.com/github/tmoura/softexIA/blob/main/MLflow-6-Registry.ipynb\" target=\"_parent\"><img src=\"https://colab.research.google.com/assets/colab-badge.svg\" alt=\"Open In Colab\"/></a>"
      ]
    },
    {
      "cell_type": "code",
      "execution_count": null,
      "metadata": {
        "id": "C1lnvxoBG0Lk"
      },
      "outputs": [],
      "source": [
        "!pip install mlflow --quiet\n",
        "!pip install pyngrok --quiet"
      ]
    },
    {
      "cell_type": "code",
      "source": [
        "from sklearn import tree\n",
        "from sklearn.neighbors import KNeighborsClassifier\n",
        "from sklearn.model_selection import train_test_split\n",
        "from sklearn import metrics\n",
        "\n",
        "import pandas as pd\n",
        "\n",
        "url = \"https://raw.githubusercontent.com/tmoura/machinelearning/master/datasets/iris.data\"\n",
        "\n",
        "# Carregar base de dados\n",
        "# DataFrame\n",
        "dataset = pd.read_csv(url, header=None)\n",
        "\n",
        "columns = len(dataset.columns)\n",
        "\n",
        "y = dataset[0] # extrai a primeira coluna, que é o label\n",
        "X = dataset.loc[:,1:columns-1]"
      ],
      "metadata": {
        "id": "L3ug1Ev3GGGh"
      },
      "execution_count": null,
      "outputs": []
    },
    {
      "cell_type": "code",
      "source": [
        "X_train, X_test, y_train, y_test = train_test_split(X, y, test_size=0.2, random_state=None, stratify=y) # 80% treino e 20% teste"
      ],
      "metadata": {
        "id": "MqrVWFk0GWcF"
      },
      "execution_count": null,
      "outputs": []
    },
    {
      "cell_type": "markdown",
      "source": [
        "# *Model Sklearn*"
      ],
      "metadata": {
        "id": "h5pAh4NtAf2C"
      }
    },
    {
      "cell_type": "code",
      "source": [
        "import mlflow\n",
        "\n",
        "mlflow.end_run()\n",
        "\n",
        "exp1 = mlflow.set_experiment(experiment_name=\"experimento_registrymodel\")\n",
        "\n",
        "mlflow.start_run(run_name=\"Run1.1\",experiment_id=exp1.experiment_id)\n",
        "model = tree.DecisionTreeClassifier()\n",
        "model = model.fit(X_train, y_train)\n",
        "\n",
        "result = model.predict(X_test)\n",
        "acc = metrics.accuracy_score(result, y_test)\n",
        "\n",
        "mlflow.log_param(\"Criterion\", \"entropy\")\n",
        "mlflow.log_param(\"MAX_DEPTH\", 2)\n",
        "mlflow.log_metric(\"Acurácia\", acc)\n",
        "mlflow.sklearn.log_model(model, \"treemodelENTROPY\")\n",
        "\n",
        "mlflow.register_model(\n",
        "      model_uri='runs:/{}/model'.format(run.info.run_id),\n",
        "      name='elastic-api-2'\n",
        ")\n",
        "\n",
        "##### Informações sobre o experimento\n",
        "\n",
        "print(\"Nome: {}\".format(exp1.name))\n",
        "print(\"ID do experimento: {}\".format(exp1.experiment_id))\n",
        "print(\"Local dos Artefatos: {}\".format(exp1.artifact_location))\n",
        "print(\"Tags: {}\".format(exp1.tags))\n",
        "print(\"Estágio do Ciclo de Vida: {}\".format(exp1.lifecycle_stage))\n",
        "print(\"Tempo de criação: {}\".format(exp1.creation_time))\n",
        "\n",
        "mlflow.end_run()\n",
        "\n",
        "get_ipython().system_raw(\"mlflow ui --port 5000 &\") # run tracking UI in the background"
      ],
      "metadata": {
        "id": "1wbEg3wGAe-Y"
      },
      "execution_count": null,
      "outputs": []
    },
    {
      "cell_type": "markdown",
      "source": [
        "# *Load Model SkLearn*"
      ],
      "metadata": {
        "id": "hmI4cEII-oow"
      }
    },
    {
      "cell_type": "code",
      "source": [
        "# LOAD MODEL SkLEARN\n",
        "\n",
        "modelNEW = mlflow.sklearn.load_model(model_uri=\"models:/elastic-api-2/1\")\n",
        "\n",
        "result = modelNEW.predict(X_test)\n",
        "acc = metrics.accuracy_score(result, y_test)\n",
        "\n",
        "show = round(acc * 100)\n",
        "\n",
        "print(\"Acurácia de: {}%\".format(show))"
      ],
      "metadata": {
        "id": "pWhHBUQr-oIX"
      },
      "execution_count": null,
      "outputs": []
    },
    {
      "cell_type": "markdown",
      "source": [
        "# Uso do NGROK\n",
        "\n",
        "O Ngrok é uma ferramenta que permite criar um túnel seguro para conectar um servidor local a um servidor remoto, tornando possível expor uma aplicação local para a Internet. Essa ferramenta é muito útil para desenvolvedores que precisam testar suas aplicações localmente antes de colocá-las em produção."
      ],
      "metadata": {
        "id": "VxBlqfz-Mn7U"
      }
    },
    {
      "cell_type": "code",
      "source": [
        "from pyngrok import ngrok\n",
        "\n",
        "# Terminate open tunnels if exist\n",
        "ngrok.kill()\n",
        "\n",
        "# Setting the authtoken (optional)\n",
        "# Get your authtoken from https://dashboard.ngrok.com/auth\n",
        "NGROK_AUTH_TOKEN = \"2fbGojiXWPL7flUUKztsxbdTdrP_3DXnMDuQVRd5G5n6Fhr6A\"\n",
        "ngrok.set_auth_token(NGROK_AUTH_TOKEN)\n",
        "\n",
        "# Open an HTTPs tunnel on port 5000 for http://localhost:5000\n",
        "ngrok_tunnel = ngrok.connect(addr=\"5000\", proto=\"http\", bind_tls=True)\n",
        "print(\"Endereço do MLflow:\", ngrok_tunnel.public_url)"
      ],
      "metadata": {
        "id": "DhomQ6ZuMaT8",
        "outputId": "9e9ac5b0-6ad9-4c82-9fc0-94bc1fe307ce",
        "colab": {
          "base_uri": "https://localhost:8080/"
        }
      },
      "execution_count": null,
      "outputs": [
        {
          "output_type": "stream",
          "name": "stdout",
          "text": [
            "Endereço do MLflow: https://4cca-34-106-112-134.ngrok-free.app\n"
          ]
        }
      ]
    }
  ]
}
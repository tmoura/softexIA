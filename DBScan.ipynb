{
  "nbformat": 4,
  "nbformat_minor": 0,
  "metadata": {
    "colab": {
      "provenance": [],
      "include_colab_link": true
    },
    "kernelspec": {
      "name": "python3",
      "display_name": "Python 3"
    },
    "language_info": {
      "name": "python"
    }
  },
  "cells": [
    {
      "cell_type": "markdown",
      "metadata": {
        "id": "view-in-github",
        "colab_type": "text"
      },
      "source": [
        "<a href=\"https://colab.research.google.com/github/tmoura/softexIA/blob/main/DBScan.ipynb\" target=\"_parent\"><img src=\"https://colab.research.google.com/assets/colab-badge.svg\" alt=\"Open In Colab\"/></a>"
      ]
    },
    {
      "cell_type": "code",
      "metadata": {
        "id": "lQ5-M9xVCprq"
      },
      "source": [
        "import numpy as np\n",
        "\n",
        "from sklearn.cluster import DBSCAN\n",
        "from sklearn import metrics\n",
        "from sklearn.datasets import make_blobs"
      ],
      "execution_count": 2,
      "outputs": []
    },
    {
      "cell_type": "markdown",
      "source": [
        "### Gerando artificialmente um dataset para Clustering"
      ],
      "metadata": {
        "id": "LhIEoPlRNLWu"
      }
    },
    {
      "cell_type": "code",
      "metadata": {
        "id": "FP9Y-H8UDcAX"
      },
      "source": [
        "# dataset gerado automaticamente com 2 features\n",
        "\n",
        "X, y = make_blobs(n_samples=750, centers=3, cluster_std=0.5, random_state=0)"
      ],
      "execution_count": null,
      "outputs": []
    },
    {
      "cell_type": "markdown",
      "source": [
        "### Treinamento do DBScan"
      ],
      "metadata": {
        "id": "3rrL_85zQXMm"
      }
    },
    {
      "cell_type": "code",
      "metadata": {
        "id": "R4JsN9A4DdJa"
      },
      "source": [
        "# Instância do DBSCAN e aprendizado\n",
        "db = DBSCAN(eps=0.3, min_samples=10).fit(X)\n",
        "core_samples_mask = np.zeros_like(db.labels_, dtype=bool) # Cria matriz de valores False\n",
        "core_samples_mask[db.core_sample_indices_] = True # db.core_sample_indices_ são os índices dos dados que pretencem a algum cluster\n",
        "labels = db.labels_ # Clusters ao qual pertencem os dados"
      ],
      "execution_count": null,
      "outputs": []
    },
    {
      "cell_type": "code",
      "source": [
        "# labels (rótulos de grupos)\n",
        "np.unique(labels)"
      ],
      "metadata": {
        "id": "7eFtGLJVqbpE"
      },
      "execution_count": null,
      "outputs": []
    },
    {
      "cell_type": "code",
      "metadata": {
        "id": "3T4XhHRHHFbU"
      },
      "source": [
        "# Número de clusters\n",
        "n_clusters_ = len(set(labels)) - (1 if -1 in labels else 0)\n",
        "n_noise_ = list(labels).count(-1)\n",
        "\n",
        "print(\"Número estimado de clusters: %d\" % n_clusters_)\n",
        "print(\"Número estimado de outliers ou ruídos: %d\" % n_noise_) # dados que não pertencem a nunhum cluster\n",
        "print(\"Índice Silhouette: %0.3f\" % metrics.silhouette_score(X, labels)) # retorna a média do índice de silhouette para todos os exemplos\n"
      ],
      "execution_count": null,
      "outputs": []
    },
    {
      "cell_type": "code",
      "metadata": {
        "id": "XMpImmhqDeB-"
      },
      "source": [
        "# Plotando resultados\n",
        "import matplotlib.pyplot as plt\n",
        "\n",
        "# a cor preta será usada para identificar os ruídos\n",
        "unique_labels = set(labels)\n",
        "colors = [plt.cm.Spectral(each) for each in np.linspace(0, 1, len(unique_labels))]\n",
        "for k, col in zip(unique_labels, colors):\n",
        "    if k == -1:\n",
        "        # preto para outliers\n",
        "        col = [0, 0, 0, 1]\n",
        "\n",
        "    class_member_mask = labels == k\n",
        "\n",
        "    xy = X[class_member_mask & core_samples_mask]\n",
        "    plt.plot(\n",
        "        xy[:, 0],\n",
        "        xy[:, 1],\n",
        "        \"o\",\n",
        "        markerfacecolor=tuple(col),\n",
        "        markeredgecolor=\"k\",\n",
        "        markersize=14,\n",
        "    )\n",
        "\n",
        "    xy = X[class_member_mask & ~core_samples_mask]\n",
        "    plt.plot(\n",
        "        xy[:, 0],\n",
        "        xy[:, 1],\n",
        "        \"o\",\n",
        "        markerfacecolor=tuple(col),\n",
        "        markeredgecolor=\"k\",\n",
        "        markersize=6,\n",
        "    )\n",
        "\n",
        "plt.title(\"Número estimado de clusters: %d\" % n_clusters_)\n",
        "plt.show()"
      ],
      "execution_count": null,
      "outputs": []
    }
  ]
}
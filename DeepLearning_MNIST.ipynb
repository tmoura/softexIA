{
  "nbformat": 4,
  "nbformat_minor": 0,
  "metadata": {
    "colab": {
      "provenance": [],
      "authorship_tag": "ABX9TyML9SlJwLR6GX7dXAGTWZax",
      "include_colab_link": true
    },
    "kernelspec": {
      "name": "python3",
      "display_name": "Python 3"
    },
    "language_info": {
      "name": "python"
    }
  },
  "cells": [
    {
      "cell_type": "markdown",
      "metadata": {
        "id": "view-in-github",
        "colab_type": "text"
      },
      "source": [
        "<a href=\"https://colab.research.google.com/github/tmoura/softexIA/blob/main/DeepLearning_MNIST.ipynb\" target=\"_parent\"><img src=\"https://colab.research.google.com/assets/colab-badge.svg\" alt=\"Open In Colab\"/></a>"
      ]
    },
    {
      "cell_type": "markdown",
      "source": [
        "### Deep Learning com a base MNIST"
      ],
      "metadata": {
        "id": "IbRnQRrtqhYU"
      }
    },
    {
      "cell_type": "code",
      "source": [
        "import tensorflow as tf\n",
        "import keras\n",
        "import matplotlib\n",
        "import numpy as np"
      ],
      "metadata": {
        "id": "lRJ_-V6wqm5K"
      },
      "execution_count": 18,
      "outputs": []
    },
    {
      "cell_type": "code",
      "source": [
        "from tensorflow.keras.datasets import mnist\n",
        "from tensorflow.keras.models import Sequential\n",
        "from tensorflow.keras.layers import InputLayer, Dense, Flatten, Conv2D, MaxPooling2D\n",
        "from tensorflow.keras import utils as np_utils\n",
        "import matplotlib.pyplot as plt"
      ],
      "metadata": {
        "id": "oqbwCdQrtkYb"
      },
      "execution_count": 19,
      "outputs": []
    },
    {
      "cell_type": "code",
      "source": [
        "(X_treinamento, y_treinamento), (X_teste, y_teste) = mnist.load_data()"
      ],
      "metadata": {
        "id": "Hxeh-7_9uK87"
      },
      "execution_count": 20,
      "outputs": []
    },
    {
      "cell_type": "code",
      "source": [
        "X_treinamento.shape, X_teste.shape"
      ],
      "metadata": {
        "id": "zuC341m3uVVf"
      },
      "execution_count": null,
      "outputs": []
    },
    {
      "cell_type": "code",
      "source": [
        "28 * 28 * 1"
      ],
      "metadata": {
        "id": "IaQooOGwufNy"
      },
      "execution_count": null,
      "outputs": []
    },
    {
      "cell_type": "code",
      "source": [
        "X_treinamento[0]"
      ],
      "metadata": {
        "id": "sxKcVWyTSzRQ"
      },
      "execution_count": null,
      "outputs": []
    },
    {
      "cell_type": "code",
      "source": [
        "X_treinamento.max()"
      ],
      "metadata": {
        "id": "nKCCGaUbuuyL"
      },
      "execution_count": null,
      "outputs": []
    },
    {
      "cell_type": "code",
      "source": [
        "y_treinamento"
      ],
      "metadata": {
        "id": "_Iqem3L6vsI7"
      },
      "execution_count": null,
      "outputs": []
    },
    {
      "cell_type": "code",
      "source": [
        "plt.imshow(X_treinamento[5342], cmap='gray')\n",
        "plt.title('Classe ' + str(y_treinamento[5342]))"
      ],
      "metadata": {
        "id": "of8y8i0RwGjE"
      },
      "execution_count": null,
      "outputs": []
    },
    {
      "cell_type": "code",
      "source": [
        "X_treinamento.shape[0]"
      ],
      "metadata": {
        "id": "InDOdmYLw55c"
      },
      "execution_count": null,
      "outputs": []
    },
    {
      "cell_type": "code",
      "source": [
        "# 28 x 28 x 1 (número de canais)\n",
        "\n",
        "X_treinamento = X_treinamento.reshape(X_treinamento.shape[0], 28, 28, 1)"
      ],
      "metadata": {
        "id": "cT-IW2dowxjq"
      },
      "execution_count": 37,
      "outputs": []
    },
    {
      "cell_type": "code",
      "source": [
        "X_treinamento.shape"
      ],
      "metadata": {
        "id": "ZGN4E_pnTJD-"
      },
      "execution_count": null,
      "outputs": []
    },
    {
      "cell_type": "code",
      "source": [
        "X_teste = X_teste.reshape(X_teste.shape[0], 28, 28, 1)"
      ],
      "metadata": {
        "id": "tN-9q66pyCfR"
      },
      "execution_count": 40,
      "outputs": []
    },
    {
      "cell_type": "code",
      "source": [
        "X_teste.shape"
      ],
      "metadata": {
        "id": "mxFSNXAdyI1G"
      },
      "execution_count": null,
      "outputs": []
    },
    {
      "cell_type": "code",
      "source": [
        "X_treinamento.shape, X_teste.shape"
      ],
      "metadata": {
        "id": "bXvzNA67xlal"
      },
      "execution_count": null,
      "outputs": []
    },
    {
      "cell_type": "code",
      "source": [
        "X_treinamento = X_treinamento.astype('float32')"
      ],
      "metadata": {
        "id": "GH-uOyQexq5H"
      },
      "execution_count": 43,
      "outputs": []
    },
    {
      "cell_type": "code",
      "source": [
        "X_teste = X_teste.astype('float32')"
      ],
      "metadata": {
        "id": "zAqh3mrHyMTo"
      },
      "execution_count": 44,
      "outputs": []
    },
    {
      "cell_type": "code",
      "source": [
        "X_treinamento /= 255\n",
        "X_teste /= 255"
      ],
      "metadata": {
        "id": "OsTnKxd7xzWw"
      },
      "execution_count": 45,
      "outputs": []
    },
    {
      "cell_type": "code",
      "source": [
        "X_treinamento.max(), X_treinamento.min()"
      ],
      "metadata": {
        "id": "sqHDR_8TyR3m"
      },
      "execution_count": null,
      "outputs": []
    },
    {
      "cell_type": "code",
      "source": [
        "y_treinamento"
      ],
      "metadata": {
        "id": "_7eVO2QSyajE"
      },
      "execution_count": null,
      "outputs": []
    },
    {
      "cell_type": "code",
      "source": [
        "y_treinamento = np_utils.to_categorical(y_treinamento, 10)\n",
        "y_teste = np_utils.to_categorical(y_teste, 10)"
      ],
      "metadata": {
        "id": "0kXvgYvhykLw"
      },
      "execution_count": 50,
      "outputs": []
    },
    {
      "cell_type": "code",
      "source": [
        "y_treinamento[3452]"
      ],
      "metadata": {
        "id": "x22qypZfytcL"
      },
      "execution_count": null,
      "outputs": []
    },
    {
      "cell_type": "code",
      "source": [
        "y_treinamento[2]"
      ],
      "metadata": {
        "id": "sBJ5LAtKyx1d"
      },
      "execution_count": null,
      "outputs": []
    },
    {
      "cell_type": "code",
      "source": [
        "rede_neural = Sequential()\n",
        "\n",
        "rede_neural.add(InputLayer(shape =(28, 28, 1)))\n",
        "rede_neural.add(Conv2D(filters = 32, kernel_size = (3, 3), activation = 'relu'))\n",
        "rede_neural.add(MaxPooling2D(pool_size = (2, 2)))\n",
        "rede_neural.add(Flatten())\n",
        "rede_neural.add(Dense(units = 128, activation = 'relu'))\n",
        "rede_neural.add(Dense(units = 10, activation = 'softmax'))"
      ],
      "metadata": {
        "id": "Kk5eX96jkRXb"
      },
      "execution_count": 54,
      "outputs": []
    },
    {
      "cell_type": "code",
      "source": [
        "rede_neural.summary()"
      ],
      "metadata": {
        "id": "m2JNn-lOmtl4"
      },
      "execution_count": null,
      "outputs": []
    },
    {
      "cell_type": "code",
      "source": [
        "rede_neural.compile(loss = 'categorical_crossentropy', optimizer = 'adam', metrics = ['accuracy'])"
      ],
      "metadata": {
        "id": "6Yh9RjIFn5Kn"
      },
      "execution_count": 56,
      "outputs": []
    },
    {
      "cell_type": "code",
      "source": [
        "rede_neural.fit(X_treinamento, y_treinamento, batch_size = 128, epochs = 5)"
      ],
      "metadata": {
        "id": "7iDhBEzNoGdV"
      },
      "execution_count": null,
      "outputs": []
    },
    {
      "cell_type": "code",
      "source": [
        "resultado = rede_neural.evaluate(X_teste, y_teste)"
      ],
      "metadata": {
        "id": "NwURSPBepXuX"
      },
      "execution_count": null,
      "outputs": []
    },
    {
      "cell_type": "code",
      "source": [
        "resultado"
      ],
      "metadata": {
        "id": "PL4DjapqUfJx"
      },
      "execution_count": null,
      "outputs": []
    },
    {
      "cell_type": "code",
      "source": [
        "resultado[1] * 100"
      ],
      "metadata": {
        "id": "NInweXeX1hBf"
      },
      "execution_count": null,
      "outputs": []
    }
  ]
}
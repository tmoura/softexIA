{
  "nbformat": 4,
  "nbformat_minor": 0,
  "metadata": {
    "colab": {
      "provenance": [],
      "include_colab_link": true
    },
    "kernelspec": {
      "name": "python3",
      "display_name": "Python 3"
    },
    "language_info": {
      "name": "python"
    }
  },
  "cells": [
    {
      "cell_type": "markdown",
      "metadata": {
        "id": "view-in-github",
        "colab_type": "text"
      },
      "source": [
        "<a href=\"https://colab.research.google.com/github/tmoura/softexIA/blob/main/Atividade2-Ciclo2.ipynb\" target=\"_parent\"><img src=\"https://colab.research.google.com/assets/colab-badge.svg\" alt=\"Open In Colab\"/></a>"
      ]
    },
    {
      "cell_type": "markdown",
      "source": [],
      "metadata": {
        "id": "THZAd6mxdfXN"
      }
    },
    {
      "cell_type": "code",
      "source": [
        "## Exercício 1 - Dataset Breast Cancer do sklearn\n",
        "\n",
        "# Acesso: https://scikit-learn.org/stable/modules/generated/sklearn.datasets.load_breast_cancer.html#sklearn.datasets.load_breast_cancer\n",
        "\n",
        "# 1) Importar o pacote \"sklearn.datasets\" e o \"load_breast_cancer\"\n",
        "# 2) Carregar o dataset através do método: load_breast_cancer()\n",
        "# 3) A chave \"data\" são as features e a chave \"target\" é o y. Separe os dados em 2 variáveis diferentes\n",
        "# O dataset possui 30 features. Vamos aplicar métodos de seleção de features analisando se o desempenho é melhorado!\n",
        "# 4) Transformar os dados em um dataframe pandas:\n",
        "\n",
        "# df = pd.DataFrame(data.data, columns=data.feature_names)\n",
        "# df['target'] = data.target\n",
        "\n",
        "# 5) Separe o conjunto de dados em treinamento e teste usando o método: \"train_test_split\" (80% - 20%)\n",
        "# 6) Treinar uma árvores de decisão, fazer a predição e calcular a taxa de acerto\n",
        "\n",
        "# SelectKBest para classificação:\n",
        "\n",
        "# 7) Usar o SelectKBest com a função: f_classif para selecionar as 10 melhores features do conjunto total: (X,y)\n",
        "# 8) Filtrar as colunas selecionadas do conjunto X_train e X_test\n",
        "# 9) Treinar uma nova árvore de decisão com as features filtradas\n",
        "# 10) Fazer a predição e calcular a taxa de acerto\n",
        "\n",
        "# Recursive Filter Elimination (RFE) - método wrapper\n",
        "\n",
        "# 11) Usar o RFE com árvore de decisão para selecionar as 10 melhores features do conjunto total: (X,y)\n",
        "# 12) Filtrar as colunas selecionadas do conjunto X_train e X_test\n",
        "# 13) Treinar uma nova árvore de decisão com as features filtradas\n",
        "# 14) Fazer a predição e calcular a taxa de acerto"
      ],
      "metadata": {
        "id": "gRhhyaY3PJd0"
      },
      "execution_count": null,
      "outputs": []
    }
  ]
}
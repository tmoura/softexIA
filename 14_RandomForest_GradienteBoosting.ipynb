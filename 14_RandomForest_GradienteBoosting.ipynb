{
  "nbformat": 4,
  "nbformat_minor": 0,
  "metadata": {
    "colab": {
      "provenance": [],
      "authorship_tag": "ABX9TyN4ct8ovdi0wB4YdtMSlLuG",
      "include_colab_link": true
    },
    "kernelspec": {
      "name": "python3",
      "display_name": "Python 3"
    },
    "language_info": {
      "name": "python"
    }
  },
  "cells": [
    {
      "cell_type": "markdown",
      "metadata": {
        "id": "view-in-github",
        "colab_type": "text"
      },
      "source": [
        "<a href=\"https://colab.research.google.com/github/tmoura/softexIA/blob/main/14_RandomForest_GradienteBoosting.ipynb\" target=\"_parent\"><img src=\"https://colab.research.google.com/assets/colab-badge.svg\" alt=\"Open In Colab\"/></a>"
      ]
    },
    {
      "cell_type": "code",
      "execution_count": null,
      "metadata": {
        "id": "1RrsFmSzb6Q5"
      },
      "outputs": [],
      "source": [
        "from sklearn.datasets import load_breast_cancer\n",
        "from sklearn.ensemble import GradientBoostingClassifier\n",
        "from sklearn.ensemble import RandomForestClassifier\n",
        "from sklearn.model_selection import train_test_split\n",
        "from sklearn import metrics\n",
        "\n",
        "dataset = load_breast_cancer()\n",
        "\n",
        "X = dataset.data\n",
        "y = dataset.target\n",
        "\n",
        "X_train, X_test, y_train, y_test = train_test_split(X, y, test_size=0.2, random_state=None, stratify=y)\n",
        "\n",
        "modelGB = GradientBoostingClassifier()\n",
        "modelGB.fit(X_train, y_train)\n",
        "\n",
        "modelRF = RandomForestClassifier()\n",
        "modelRF.fit(X_train, y_train)\n",
        "\n",
        "resultGB = modelGB.predict(X_test)\n",
        "resultRF = modelRF.predict(X_test)\n",
        "\n",
        "accGB = metrics.accuracy_score(resultGB, y_test)\n",
        "accRF = metrics.accuracy_score(resultRF, y_test)\n",
        "\n",
        "showGB = round(accGB * 100)\n",
        "print(\"{}%\".format(showGB))\n",
        "\n",
        "showRF = round(accRF * 100)\n",
        "print(\"{}%\".format(showRF))"
      ]
    }
  ]
}
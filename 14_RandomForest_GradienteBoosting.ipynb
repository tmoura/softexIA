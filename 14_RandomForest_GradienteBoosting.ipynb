{
  "nbformat": 4,
  "nbformat_minor": 0,
  "metadata": {
    "colab": {
      "provenance": [],
      "authorship_tag": "ABX9TyNgbS0hTSDE6kgj7mnY0JsI",
      "include_colab_link": true
    },
    "kernelspec": {
      "name": "python3",
      "display_name": "Python 3"
    },
    "language_info": {
      "name": "python"
    }
  },
  "cells": [
    {
      "cell_type": "markdown",
      "metadata": {
        "id": "view-in-github",
        "colab_type": "text"
      },
      "source": [
        "<a href=\"https://colab.research.google.com/github/tmoura/softexIA/blob/main/14_RandomForest_GradienteBoosting.ipynb\" target=\"_parent\"><img src=\"https://colab.research.google.com/assets/colab-badge.svg\" alt=\"Open In Colab\"/></a>"
      ]
    },
    {
      "cell_type": "code",
      "execution_count": 1,
      "metadata": {
        "id": "1RrsFmSzb6Q5"
      },
      "outputs": [],
      "source": [
        "from sklearn.datasets import load_breast_cancer\n",
        "from sklearn.model_selection import train_test_split\n",
        "from sklearn import metrics\n",
        "\n",
        "dataset = load_breast_cancer()\n",
        "\n",
        "X = dataset.data\n",
        "y = dataset.target\n",
        "\n",
        "X_train, X_test, y_train, y_test = train_test_split(X, y, test_size=0.2, random_state=None, stratify=y)"
      ]
    },
    {
      "cell_type": "markdown",
      "source": [
        "### Bagging e Boosting"
      ],
      "metadata": {
        "id": "0yB329SCxwWO"
      }
    },
    {
      "cell_type": "code",
      "source": [
        "from sklearn.ensemble import BaggingClassifier\n",
        "from sklearn.ensemble import AdaBoostClassifier\n",
        "\n",
        "modelBag = BaggingClassifier()\n",
        "modelBag.fit(X_train, y_train)\n",
        "\n",
        "modelAda = AdaBoostClassifier()\n",
        "modelAda.fit(X_train, y_train)\n",
        "\n",
        "resultBag = modelBag.predict(X_test)\n",
        "resultAda = modelAda.predict(X_test)\n",
        "\n",
        "accBag = metrics.accuracy_score(resultBag, y_test)\n",
        "accAda = metrics.accuracy_score(resultAda, y_test)\n",
        "\n",
        "showBag = round(accBag * 100)\n",
        "print(\"Bagging: {}%\".format(showBag))\n",
        "\n",
        "showAda = round(accAda * 100)\n",
        "print(\"AdaBoosting: {}%\".format(showAda))"
      ],
      "metadata": {
        "id": "SlbF5XfcxzI5",
        "outputId": "80b65509-b1fc-4dd3-9c01-b81878770e75",
        "colab": {
          "base_uri": "https://localhost:8080/"
        }
      },
      "execution_count": 2,
      "outputs": [
        {
          "output_type": "stream",
          "name": "stdout",
          "text": [
            "Bagging: 95%\n",
            "AdaBoosting: 95%\n"
          ]
        }
      ]
    },
    {
      "cell_type": "markdown",
      "source": [
        "### RandomForest"
      ],
      "metadata": {
        "id": "8WgnIi5CxHR6"
      }
    },
    {
      "cell_type": "code",
      "source": [
        "from sklearn.ensemble import RandomForestClassifier\n",
        "\n",
        "modelRF = RandomForestClassifier()\n",
        "modelRF.fit(X_train, y_train)\n",
        "\n",
        "resultRF = modelRF.predict(X_test)\n",
        "\n",
        "accRF = metrics.accuracy_score(resultRF, y_test)\n",
        "\n",
        "showRF = round(accRF * 100)\n",
        "print(\"RandomForest: {}%\".format(showRF))"
      ],
      "metadata": {
        "id": "vdaI-sXexKMF",
        "outputId": "1c367bef-e345-43a9-93d1-7c6be2c3f2ff",
        "colab": {
          "base_uri": "https://localhost:8080/"
        }
      },
      "execution_count": 3,
      "outputs": [
        {
          "output_type": "stream",
          "name": "stdout",
          "text": [
            "RandomForest: 96%\n"
          ]
        }
      ]
    },
    {
      "cell_type": "markdown",
      "source": [
        "### GradientBoosting"
      ],
      "metadata": {
        "id": "tW7VGaToxaeL"
      }
    },
    {
      "cell_type": "code",
      "source": [
        "from sklearn.ensemble import GradientBoostingClassifier\n",
        "\n",
        "modelGB = GradientBoostingClassifier()\n",
        "modelGB.fit(X_train, y_train)\n",
        "\n",
        "resultGB = modelGB.predict(X_test)\n",
        "\n",
        "accGB = metrics.accuracy_score(resultGB, y_test)\n",
        "\n",
        "showGB = round(accGB * 100)\n",
        "print(\"GradientBoosting: {}%\".format(showGB))"
      ],
      "metadata": {
        "id": "7UeOd-WyxSk9",
        "outputId": "aad67a4f-d732-454f-f902-90ead77b9ff4",
        "colab": {
          "base_uri": "https://localhost:8080/"
        }
      },
      "execution_count": 4,
      "outputs": [
        {
          "output_type": "stream",
          "name": "stdout",
          "text": [
            "GradientBoosting: 96%\n"
          ]
        }
      ]
    },
    {
      "cell_type": "markdown",
      "source": [
        "### XGBoost"
      ],
      "metadata": {
        "id": "XlKG8-Quoil8"
      }
    },
    {
      "cell_type": "code",
      "source": [
        "#!pip install xgboost\n",
        "\n",
        "import xgboost as xgb\n",
        "\n",
        "modelXG = xgb.XGBClassifier()\n",
        "modelXG.fit(X_train, y_train)\n",
        "\n",
        "resultXG = modelXG.predict(X_test)\n",
        "\n",
        "accXG = metrics.accuracy_score(resultXG, y_test)\n",
        "\n",
        "showXG = round(accRF * 100)\n",
        "print(\"XGBoost: {}%\".format(showXG))"
      ],
      "metadata": {
        "id": "ezpdAv6WlmCH",
        "outputId": "915499fc-31d1-4df7-e645-0158cfa82e28",
        "colab": {
          "base_uri": "https://localhost:8080/"
        }
      },
      "execution_count": 5,
      "outputs": [
        {
          "output_type": "stream",
          "name": "stdout",
          "text": [
            "XGBoost: 96%\n"
          ]
        }
      ]
    },
    {
      "cell_type": "markdown",
      "source": [
        "### LightGBM"
      ],
      "metadata": {
        "id": "-626O_r9omkP"
      }
    },
    {
      "cell_type": "code",
      "source": [
        "#!pip install lightgbm\n",
        "\n",
        "import lightgbm as lgb\n",
        "\n",
        "modelLGBM = lgb.LGBMClassifier()\n",
        "modelLGBM.fit(X_train, y_train)\n",
        "\n",
        "resultLGBM = modelLGBM.predict(X_test)\n",
        "\n",
        "accLGBM = metrics.accuracy_score(resultLGBM, y_test)\n",
        "\n",
        "showLGBM = round(accLGBM * 100)\n",
        "print(\"LightGBM: {}%\".format(showLGBM))"
      ],
      "metadata": {
        "id": "sBSnofxPoqIT"
      },
      "execution_count": null,
      "outputs": []
    },
    {
      "cell_type": "markdown",
      "source": [
        "### CatBoost"
      ],
      "metadata": {
        "id": "5i_DxDI89bsq"
      }
    },
    {
      "cell_type": "code",
      "source": [
        "!pip install catboost\n",
        "\n",
        "import catboost as cat\n",
        "\n",
        "modelCAT = cat.CatBoostClassifier()\n",
        "modelCAT.fit(X_train, y_train)\n",
        "\n",
        "resultCAT = modelCAT.predict(X_test)\n",
        "\n",
        "accCAT = metrics.accuracy_score(resultCAT, y_test)\n",
        "\n",
        "showCAT = round(accCAT * 100)\n",
        "print(\"CatBoost: {}%\".format(showCAT))"
      ],
      "metadata": {
        "id": "g2H9fmSE8q-A"
      },
      "execution_count": null,
      "outputs": []
    }
  ]
}
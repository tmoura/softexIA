{
  "nbformat": 4,
  "nbformat_minor": 0,
  "metadata": {
    "colab": {
      "provenance": [],
      "authorship_tag": "ABX9TyNFwBgdct9UQRkQ8koMCrgS",
      "include_colab_link": true
    },
    "kernelspec": {
      "name": "python3",
      "display_name": "Python 3"
    },
    "language_info": {
      "name": "python"
    }
  },
  "cells": [
    {
      "cell_type": "markdown",
      "metadata": {
        "id": "view-in-github",
        "colab_type": "text"
      },
      "source": [
        "<a href=\"https://colab.research.google.com/github/tmoura/softexIA/blob/main/MLflow-1.ipynb\" target=\"_parent\"><img src=\"https://colab.research.google.com/assets/colab-badge.svg\" alt=\"Open In Colab\"/></a>"
      ]
    },
    {
      "cell_type": "code",
      "execution_count": null,
      "metadata": {
        "id": "C1lnvxoBG0Lk"
      },
      "outputs": [],
      "source": [
        "!pip install mlflow --quiet\n",
        "!pip install pyngrok --quiet"
      ]
    },
    {
      "cell_type": "markdown",
      "source": [
        "# Exemplo 1"
      ],
      "metadata": {
        "id": "79an-G31FJ8R"
      }
    },
    {
      "cell_type": "code",
      "source": [
        "from sklearn import tree\n",
        "from sklearn.model_selection import train_test_split\n",
        "from sklearn import metrics\n",
        "\n",
        "import pandas as pd\n",
        "\n",
        "url = \"https://raw.githubusercontent.com/tmoura/machinelearning/master/datasets/parkinsons.data\"\n",
        "\n",
        "# Carregar base de dados\n",
        "# DataFrame\n",
        "dataset = pd.read_csv(url, header=None)\n",
        "\n",
        "columns = len(dataset.columns)\n",
        "\n",
        "y = dataset[0] # extrai a primeira coluna, que é o label\n",
        "X = dataset.loc[:,1:columns-1]"
      ],
      "metadata": {
        "id": "L3ug1Ev3GGGh"
      },
      "execution_count": 7,
      "outputs": []
    },
    {
      "cell_type": "code",
      "source": [
        "X_train, X_test, y_train, y_test = train_test_split(X, y, test_size=0.2, random_state=None, stratify=y) # 80% treino e 20% teste"
      ],
      "metadata": {
        "id": "MqrVWFk0GWcF"
      },
      "execution_count": 8,
      "outputs": []
    },
    {
      "cell_type": "code",
      "source": [
        "from sklearn.metrics import confusion_matrix\n",
        "import mlflow\n",
        "import mlflow.sklearn\n",
        "\n",
        "exp = mlflow.set_experiment(experiment_name=\"experimento_1\")\n",
        "\n",
        "with mlflow.start_run(experiment_id=exp.experiment_id):\n",
        "    model = tree.DecisionTreeClassifier(criterion=\"entropy\",max_depth=4)\n",
        "    model = model.fit(X_train, y_train)\n",
        "\n",
        "    result = model.predict(X_test)\n",
        "    tn, fp, fn, tp = confusion_matrix(result, y_test).ravel()\n",
        "\n",
        "    acc = metrics.accuracy_score(result, y_test)\n",
        "    precision = tp / (tp+fp)\n",
        "    recall = tp / (tp+fn)\n",
        "    specificity = tn / (tn+fp)\n",
        "    f1_score = (2 * (precision * recall)) / (precision + recall)\n",
        "\n",
        "    print(\"Acurácia: %s\" % acc)\n",
        "\n",
        "    mlflow.log_param(\"Criterion\", \"entropy\")\n",
        "    mlflow.log_param(\"MAX_DEPTH\", 4)\n",
        "\n",
        "    mlflow.log_metric(\"Acurácia\", acc)\n",
        "    mlflow.log_metric(\"Precision\", precision)\n",
        "    mlflow.log_metric(\"Recall\", recall)\n",
        "    mlflow.log_metric(\"Specificity\", specificity)\n",
        "    mlflow.log_metric(\"F1-Score\", f1_score)\n",
        "\n",
        "    mlflow.sklearn.log_model(model, \"tree\")\n",
        "\n",
        "    get_ipython().system_raw(\"mlflow ui --port 5000 &\") # run tracking UI in the background"
      ],
      "metadata": {
        "id": "f-qklekKHBGW"
      },
      "execution_count": null,
      "outputs": []
    },
    {
      "cell_type": "markdown",
      "source": [
        "# Uso do NGROK\n",
        "\n",
        "O Ngrok é uma ferramenta que permite criar um túnel seguro para conectar um servidor local a um servidor remoto, tornando possível expor uma aplicação local para a Internet. Essa ferramenta é muito útil para desenvolvedores que precisam testar suas aplicações localmente antes de colocá-las em produção."
      ],
      "metadata": {
        "id": "VxBlqfz-Mn7U"
      }
    },
    {
      "cell_type": "code",
      "source": [
        "from pyngrok import ngrok\n",
        "\n",
        "# Terminate open tunnels if exist\n",
        "ngrok.kill()\n",
        "\n",
        "# Setting the authtoken (optional)\n",
        "# Get your authtoken from https://dashboard.ngrok.com/auth\n",
        "NGROK_AUTH_TOKEN = \"2fTc6xBFGHTFjXcla4jSNCgSzt4_78Y6vhwwzuAdc7WFxhTfu\"\n",
        "ngrok.set_auth_token(NGROK_AUTH_TOKEN)\n",
        "\n",
        "# Open an HTTPs tunnel on port 5000 for http://localhost:5000\n",
        "ngrok_tunnel = ngrok.connect(addr=\"5000\", proto=\"http\", bind_tls=True)\n",
        "print(\"Endereço do MLflow:\", ngrok_tunnel.public_url)"
      ],
      "metadata": {
        "id": "DhomQ6ZuMaT8"
      },
      "execution_count": null,
      "outputs": []
    }
  ]
}
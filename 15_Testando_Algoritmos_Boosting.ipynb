{
  "nbformat": 4,
  "nbformat_minor": 0,
  "metadata": {
    "colab": {
      "provenance": [],
      "authorship_tag": "ABX9TyPcZyEITZBk4r0fc55aBd5N",
      "include_colab_link": true
    },
    "kernelspec": {
      "name": "python3",
      "display_name": "Python 3"
    },
    "language_info": {
      "name": "python"
    }
  },
  "cells": [
    {
      "cell_type": "markdown",
      "metadata": {
        "id": "view-in-github",
        "colab_type": "text"
      },
      "source": [
        "<a href=\"https://colab.research.google.com/github/tmoura/softexIA/blob/main/15_Testando_Algoritmos_Boosting.ipynb\" target=\"_parent\"><img src=\"https://colab.research.google.com/assets/colab-badge.svg\" alt=\"Open In Colab\"/></a>"
      ]
    },
    {
      "cell_type": "code",
      "source": [
        "# Carregar o dataset de classificação \"ionosphere\"\n",
        "\n",
        "# url = \"https://raw.githubusercontent.com/tmoura/machinelearning/master/ionosphere.data\"\n",
        "\n",
        "from sklearn.model_selection import train_test_split\n",
        "from sklearn import metrics\n",
        "import pandas as pd\n",
        "from sklearn.neural_network import MLPClassifier\n",
        "from sklearn.tree import DecisionTreeClassifier\n",
        "from sklearn.neighbors import KNeighborsClassifier\n",
        "from sklearn.ensemble import GradientBoostingClassifier\n",
        "from sklearn.ensemble import RandomForestClassifier\n",
        "from sklearn.preprocessing import MinMaxScaler\n",
        "import numpy as np\n",
        "\n",
        "url = \"https://raw.githubusercontent.com/tmoura/machinelearning/master/ionosphere.data\"\n",
        "\n",
        "# Carregar base de dados\n",
        "dataset = pd.read_csv(url, header=None)\n",
        "\n",
        "columns = len(dataset.columns)\n",
        "\n",
        "y = dataset[0] # extrai a primeira coluna, que é o label\n",
        "X = dataset.loc[:,1:columns-1]\n",
        "\n",
        "## Mormalização dos atributos\n",
        "df = X.values\n",
        "min_max_scaler = MinMaxScaler()\n",
        "x_scaled = min_max_scaler.fit_transform(df)\n",
        "X = pd.DataFrame(x_scaled)\n",
        "\n",
        "X_train, X_test, y_train, y_test = train_test_split(X, y, test_size=0.2, stratify=y) # 80% treino e 20% teste\n",
        "\n",
        "model1 = MLPClassifier(max_iter=1000)\n",
        "model1 = model1.fit(X_train, y_train)\n",
        "\n",
        "model2 = DecisionTreeClassifier()\n",
        "model2 = model2.fit(X_train, y_train)\n",
        "\n",
        "model3 = KNeighborsClassifier()\n",
        "model3 = model3.fit(X_train, y_train)\n",
        "\n",
        "model4 = RandomForestClassifier()\n",
        "model4 = model4.fit(X_train, y_train)\n",
        "\n",
        "model5 = GradientBoostingClassifier()\n",
        "model5 = model5.fit(X_train, y_train)\n",
        "\n",
        "result1 = model1.predict(X_test)\n",
        "result2 = model2.predict(X_test)\n",
        "result3 = model3.predict(X_test)\n",
        "result4 = model4.predict(X_test)\n",
        "result5 = model5.predict(X_test)\n",
        "\n",
        "acc1 = metrics.accuracy_score(result1, y_test)\n",
        "acc2 = metrics.accuracy_score(result2, y_test)\n",
        "acc3 = metrics.accuracy_score(result3, y_test)\n",
        "acc4 = metrics.accuracy_score(result4, y_test)\n",
        "acc5 = metrics.accuracy_score(result5, y_test)\n",
        "\n",
        "show1 = round(acc1 * 100)\n",
        "print(\"MLP: {}%\".format(show1))\n",
        "\n",
        "show2 = round(acc2 * 100)\n",
        "print(\"Árvore de Decisão: {}%\".format(show2))\n",
        "\n",
        "show3 = round(acc3 * 100)\n",
        "print(\"KNN: {}%\".format(show3))\n",
        "\n",
        "show4 = round(acc4 * 100)\n",
        "print(\"Random Forest: {}%\".format(show4))\n",
        "\n",
        "show5 = round(acc5 * 100)\n",
        "print(\"Gradient Boosting: {}%\".format(show5))"
      ],
      "metadata": {
        "id": "j3GlZXkdcFWF",
        "outputId": "3f4fffc2-f49a-4f91-a976-70d5db3f8591",
        "colab": {
          "base_uri": "https://localhost:8080/"
        }
      },
      "execution_count": 7,
      "outputs": [
        {
          "output_type": "stream",
          "name": "stdout",
          "text": [
            "MLP: 89%\n",
            "Árvore de Decisão: 87%\n",
            "KNN: 89%\n",
            "Random Forest: 92%\n",
            "Gradient Boosting: 90%\n"
          ]
        }
      ]
    }
  ]
}
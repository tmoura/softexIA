{
  "nbformat": 4,
  "nbformat_minor": 0,
  "metadata": {
    "colab": {
      "provenance": [],
      "authorship_tag": "ABX9TyPa1nRKBeNdUoY0ZEB22VKg",
      "include_colab_link": true
    },
    "kernelspec": {
      "name": "python3",
      "display_name": "Python 3"
    },
    "language_info": {
      "name": "python"
    }
  },
  "cells": [
    {
      "cell_type": "markdown",
      "metadata": {
        "id": "view-in-github",
        "colab_type": "text"
      },
      "source": [
        "<a href=\"https://colab.research.google.com/github/tmoura/softexIA/blob/main/15_Testando_Algoritmos_Boosting.ipynb\" target=\"_parent\"><img src=\"https://colab.research.google.com/assets/colab-badge.svg\" alt=\"Open In Colab\"/></a>"
      ]
    },
    {
      "cell_type": "code",
      "source": [
        "# 1) Carregar o dataset de classificação \"ionosphere\"\n",
        "\n",
        "# url = \"https://raw.githubusercontent.com/tmoura/machinelearning/master/ionosphere.data\"\n",
        "\n",
        "# Coluna 0 (zero) é a coluna do Target\n",
        "\n",
        "# 2) Separar o dataset na matriz X e vetor y\n",
        "# 3) Normalizar todo o dataset na escala 0..1\n",
        "# 4) Separar em treinamento e teste: 80% e 20%\n",
        "# 5) Treinar uma Árvore de Decisão\n",
        "# 6) Treinar uma rede MLP (aumentar o número de ciclos máximo)\n",
        "# 7) Treinar um KNN\n",
        "# 8) Treinar um Random Forest\n",
        "# 9) Treinar um GradientBoosting\n",
        "# 10) Calcular as predições e apresentar os valores em percentual de acerto"
      ],
      "metadata": {
        "id": "j3GlZXkdcFWF"
      },
      "execution_count": null,
      "outputs": []
    }
  ]
}
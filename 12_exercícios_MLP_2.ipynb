{
  "nbformat": 4,
  "nbformat_minor": 0,
  "metadata": {
    "colab": {
      "provenance": [],
      "authorship_tag": "ABX9TyMe/aKEegg8l+GZEudG8ygH",
      "include_colab_link": true
    },
    "kernelspec": {
      "name": "python3",
      "display_name": "Python 3"
    },
    "language_info": {
      "name": "python"
    }
  },
  "cells": [
    {
      "cell_type": "markdown",
      "metadata": {
        "id": "view-in-github",
        "colab_type": "text"
      },
      "source": [
        "<a href=\"https://colab.research.google.com/github/tmoura/softexIA/blob/main/12_exerc%C3%ADcios_MLP_2.ipynb\" target=\"_parent\"><img src=\"https://colab.research.google.com/assets/colab-badge.svg\" alt=\"Open In Colab\"/></a>"
      ]
    },
    {
      "cell_type": "code",
      "execution_count": null,
      "metadata": {
        "id": "UiwNFZi0EwsL"
      },
      "outputs": [],
      "source": [
        "## Exercício 1 - Dataset Digits do sklearn\n",
        "\n",
        "# Acesso: https://scikit-learn.org/stable/modules/generated/sklearn.datasets.load_digits.html#sklearn.datasets.load_digits\n",
        "\n",
        "# 1) Importar o pacote \"sklearn.datasets\" e o \"load_digits\"\n",
        "# 2) Carregar o dataset através do método: load_digits()\n",
        "# 3) Observe as keys do dataset usando o método \"keys\"\n",
        "# 4) A chave \"data\" são as features e a chave \"target\" é o y. Separe os dados em 2 variáveis diferentes\n",
        "# 5) Verificar a dimensionalidade das features através da variável shape\n",
        "# 6) Separe o conjunto de dados em treinamento e teste usando o método: \"train_test_split\"\n",
        "# 7) Treinar MLP (2 topologias diferentes)\n",
        "# 8) Treinar Árvore de Decisão (com Entropia e Gini)\n",
        "# 9) Treinar Árvore de Decisão com Max_Length = 2\n",
        "# 10) Treinar KNN (com duas características diferentes)\n",
        "# 11) Mostrar a taxa de acerto de todos os modelos"
      ]
    },
    {
      "cell_type": "code",
      "source": [
        "## Exercício 2 - Dataset Diabetes do sklearn (Base de Dados de Regressão)\n",
        "\n",
        "# Acesso: https://scikit-learn.org/stable/modules/generated/sklearn.datasets.load_diabetes.html#sklearn.datasets.load_diabetes\n",
        "\n",
        "# 1) Importar o pacote \"sklearn.datasets\" e o \"load_diabetes\"\n",
        "# 2) Carregar o dataset através do método: load_digits()\n",
        "# 3) Observe as keys do dataset usando o método \"keys\"\n",
        "# 4) A chave \"data\" são as features e a chave \"target\" é o y. Separe os dados em 2 variáveis diferentes\n",
        "# 5) Verificar a dimensionalidade das features através da variável shape\n",
        "# 6) Separe o conjunto de dados em treinamento e teste usando o método: \"train_test_split\"\n",
        "# 7) Treinar MLP (2 topologias diferentes) - MLPRegressor()\n",
        "# 8) Treinar Árvore de Decisão - DecisionTreeRegressor()\n",
        "# 9) Treinar Árvore de Decisão com Max_Length = 2 - DecisionTreeRegressor()\n",
        "# 10) Treinar KNN (com duas características diferentes) - KNeighborsRegressor()\n",
        "# 11) Treinar o modelo de Regressão Linear - LinearRegression()"
      ],
      "metadata": {
        "id": "_362ExMzHvvB"
      },
      "execution_count": null,
      "outputs": []
    }
  ]
}
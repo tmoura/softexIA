{
  "nbformat": 4,
  "nbformat_minor": 0,
  "metadata": {
    "colab": {
      "provenance": [],
      "include_colab_link": true
    },
    "kernelspec": {
      "name": "python3",
      "display_name": "Python 3"
    },
    "language_info": {
      "name": "python"
    }
  },
  "cells": [
    {
      "cell_type": "markdown",
      "metadata": {
        "id": "view-in-github",
        "colab_type": "text"
      },
      "source": [
        "<a href=\"https://colab.research.google.com/github/tmoura/softexIA/blob/main/MLP_Convolucional_Gatos_e_cachorros.ipynb\" target=\"_parent\"><img src=\"https://colab.research.google.com/assets/colab-badge.svg\" alt=\"Open In Colab\"/></a>"
      ]
    },
    {
      "cell_type": "markdown",
      "source": [
        "# Deep Learning A Z Convolucional - Gatos e cachorros"
      ],
      "metadata": {
        "id": "sFk7eEtpABcj"
      }
    },
    {
      "cell_type": "code",
      "execution_count": null,
      "metadata": {
        "id": "bYzhPV0U_7wt"
      },
      "outputs": [],
      "source": [
        "!pip install tensorflow==2.16.1"
      ]
    },
    {
      "cell_type": "code",
      "source": [
        "import numpy as np\n",
        "import tensorflow as tf"
      ],
      "metadata": {
        "id": "gkCUqvKJAG-6"
      },
      "execution_count": 30,
      "outputs": []
    },
    {
      "cell_type": "code",
      "source": [
        "np.__version__, tf.__version__"
      ],
      "metadata": {
        "id": "c9JmrOf8AIuo"
      },
      "execution_count": null,
      "outputs": []
    },
    {
      "cell_type": "code",
      "source": [
        "import tempfile\n",
        "import zipfile\n",
        "\n",
        "temp_dir = tempfile.TemporaryDirectory()\n",
        "print(temp_dir)"
      ],
      "metadata": {
        "colab": {
          "base_uri": "https://localhost:8080/"
        },
        "id": "P31sLXEVDa7-",
        "outputId": "f0498005-6b50-47ca-ca6d-51b71ea3e0ac"
      },
      "execution_count": 31,
      "outputs": [
        {
          "output_type": "stream",
          "name": "stdout",
          "text": [
            "<TemporaryDirectory '/tmp/tmpebdrs4x1'>\n"
          ]
        }
      ]
    },
    {
      "cell_type": "code",
      "source": [
        "with zipfile.ZipFile('dataset.zip', 'r') as zip:\n",
        "  zip.extractall(temp_dir.name)"
      ],
      "metadata": {
        "id": "kOi1B6kdDqHl"
      },
      "execution_count": 32,
      "outputs": []
    },
    {
      "cell_type": "code",
      "source": [
        "from tensorflow.keras.models import Sequential\n",
        "from tensorflow.keras.layers import InputLayer, Conv2D, MaxPooling2D, Flatten, Dense, Dropout, BatchNormalization\n",
        "from tensorflow.keras.preprocessing import image\n",
        "from tensorflow.keras.preprocessing.image import ImageDataGenerator"
      ],
      "metadata": {
        "id": "Fb4ui66mEfIS"
      },
      "execution_count": 33,
      "outputs": []
    },
    {
      "cell_type": "code",
      "source": [
        "classificador = Sequential()\n",
        "classificador.add(InputLayer(shape = (64, 64, 3)))\n",
        "\n",
        "classificador.add(Conv2D(32, (3, 3), activation='relu'))\n",
        "classificador.add(MaxPooling2D(pool_size=(2, 2)))\n",
        "classificador.add(Conv2D(32, (3, 3), activation='relu'))\n",
        "classificador.add(MaxPooling2D(pool_size=(2, 2)))\n",
        "classificador.add(Flatten())\n",
        "classificador.add(Dense(units=128, activation='relu'))\n",
        "classificador.add(Dense(units=128, activation='relu'))\n",
        "classificador.add(Dense(units = 1, activation='sigmoid'))"
      ],
      "metadata": {
        "id": "258XdUvsEqvv"
      },
      "execution_count": 34,
      "outputs": []
    },
    {
      "cell_type": "code",
      "source": [
        "classificador.summary()"
      ],
      "metadata": {
        "id": "cpOr6wkjFgs1"
      },
      "execution_count": null,
      "outputs": []
    },
    {
      "cell_type": "code",
      "source": [
        "classificador.compile(optimizer='adam', loss = 'binary_crossentropy', metrics = ['accuracy'])"
      ],
      "metadata": {
        "id": "xGitVwN-F2VN"
      },
      "execution_count": 36,
      "outputs": []
    },
    {
      "cell_type": "code",
      "source": [
        "# gerador_treinamento = ImageDataGenerator(rescale=1./255, rotation_range=7,\n",
        "#                                          horizontal_flip = True, shear_range=0.2,\n",
        "#                                          height_shift_range = 0.07, zoom_range=0.2)\n",
        "\n",
        "gerador_treinamento = ImageDataGenerator(rescale=1./255)"
      ],
      "metadata": {
        "id": "MMx2QODPQW1M"
      },
      "execution_count": 37,
      "outputs": []
    },
    {
      "cell_type": "code",
      "source": [
        "gerador_teste = ImageDataGenerator(rescale=1./255)"
      ],
      "metadata": {
        "id": "JAy8wK1KQ2QH"
      },
      "execution_count": 38,
      "outputs": []
    },
    {
      "cell_type": "code",
      "source": [
        "base_treinamento = gerador_treinamento.flow_from_directory(f'{temp_dir.name}/dataset/training_set',\n",
        "                                                           target_size = (64, 64),\n",
        "                                                           class_mode='binary')"
      ],
      "metadata": {
        "id": "8K0yJ_6AQ7Q7"
      },
      "execution_count": null,
      "outputs": []
    },
    {
      "cell_type": "code",
      "source": [
        "base_teste = gerador_teste.flow_from_directory(f'{temp_dir.name}/dataset/test_set',\n",
        "                                               target_size = (64, 64),\n",
        "                                               class_mode='binary')"
      ],
      "metadata": {
        "colab": {
          "base_uri": "https://localhost:8080/"
        },
        "id": "F7kVi2RWRm8i",
        "outputId": "9a2ad87a-5889-4325-d5fc-a6cd27dc4f0f"
      },
      "execution_count": 42,
      "outputs": [
        {
          "output_type": "stream",
          "name": "stdout",
          "text": [
            "Found 1000 images belonging to 2 classes.\n"
          ]
        }
      ]
    },
    {
      "cell_type": "code",
      "source": [
        "classificador.fit(base_treinamento, epochs = 10)"
      ],
      "metadata": {
        "id": "UfijkOBCRzPQ"
      },
      "execution_count": null,
      "outputs": []
    },
    {
      "cell_type": "code",
      "source": [
        "imagem_teste = image.load_img(f'{temp_dir.name}/dataset/test_set/cachorro/dog.3500.jpg', target_size=(64,64))"
      ],
      "metadata": {
        "id": "vY3dheCNVQ6z"
      },
      "execution_count": 44,
      "outputs": []
    },
    {
      "cell_type": "code",
      "source": [
        "imagem_teste"
      ],
      "metadata": {
        "colab": {
          "base_uri": "https://localhost:8080/",
          "height": 81
        },
        "id": "2nTM53WuVsUv",
        "outputId": "90943dca-3b3d-4357-ba8d-3303821f3556"
      },
      "execution_count": 45,
      "outputs": [
        {
          "output_type": "execute_result",
          "data": {
            "text/plain": [
              "<PIL.Image.Image image mode=RGB size=64x64>"
            ],
            "image/png": "[encoded data removed]",
            "image/jpeg": "[encoded data removed]"
          },
          "metadata": {},
          "execution_count": 45
        }
      ]
    },
    {
      "cell_type": "code",
      "source": [
        "type(imagem_teste)"
      ],
      "metadata": {
        "id": "ykRE1nEAVwNa"
      },
      "execution_count": null,
      "outputs": []
    },
    {
      "cell_type": "code",
      "source": [
        "imagem_teste = image.img_to_array(imagem_teste)"
      ],
      "metadata": {
        "id": "USCDJSPeV0F4"
      },
      "execution_count": 48,
      "outputs": []
    },
    {
      "cell_type": "code",
      "source": [
        "imagem_teste"
      ],
      "metadata": {
        "id": "iC4-lxyDV6XA"
      },
      "execution_count": null,
      "outputs": []
    },
    {
      "cell_type": "code",
      "source": [
        "imagem_teste /= 255"
      ],
      "metadata": {
        "id": "dc3HlEdXV_pn"
      },
      "execution_count": 50,
      "outputs": []
    },
    {
      "cell_type": "code",
      "source": [
        "imagem_teste"
      ],
      "metadata": {
        "id": "g5PPAEICWCq6"
      },
      "execution_count": null,
      "outputs": []
    },
    {
      "cell_type": "code",
      "source": [
        "imagem_teste.shape"
      ],
      "metadata": {
        "id": "vnpT9nFFWIQd"
      },
      "execution_count": null,
      "outputs": []
    },
    {
      "cell_type": "code",
      "source": [
        "imagem_teste = np.expand_dims(imagem_teste, axis = 0)"
      ],
      "metadata": {
        "id": "WewSagf2WMYx"
      },
      "execution_count": 52,
      "outputs": []
    },
    {
      "cell_type": "code",
      "source": [
        "imagem_teste.shape"
      ],
      "metadata": {
        "id": "HyC3_1EvWTEq"
      },
      "execution_count": null,
      "outputs": []
    },
    {
      "cell_type": "code",
      "source": [
        "previsao = classificador.predict(imagem_teste)"
      ],
      "metadata": {
        "id": "4v45PeAgWZTW"
      },
      "execution_count": null,
      "outputs": []
    },
    {
      "cell_type": "code",
      "source": [
        "previsao"
      ],
      "metadata": {
        "id": "_0KCDfAyWdPr"
      },
      "execution_count": null,
      "outputs": []
    },
    {
      "cell_type": "code",
      "source": [
        "previsao = previsao > 0.5"
      ],
      "metadata": {
        "id": "BuV3XgFZWiuN"
      },
      "execution_count": 56,
      "outputs": []
    },
    {
      "cell_type": "code",
      "source": [
        "previsao"
      ],
      "metadata": {
        "id": "LVwRAbRxWnms"
      },
      "execution_count": null,
      "outputs": []
    },
    {
      "cell_type": "code",
      "source": [
        "base_treinamento.class_indices"
      ],
      "metadata": {
        "id": "jsU9KtRDWqln"
      },
      "execution_count": null,
      "outputs": []
    }
  ]
}
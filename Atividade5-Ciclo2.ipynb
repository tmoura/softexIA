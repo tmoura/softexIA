{
  "nbformat": 4,
  "nbformat_minor": 0,
  "metadata": {
    "colab": {
      "provenance": [],
      "authorship_tag": "ABX9TyP7ctQAint5lq7gdmWBcbAW",
      "include_colab_link": true
    },
    "kernelspec": {
      "name": "python3",
      "display_name": "Python 3"
    },
    "language_info": {
      "name": "python"
    }
  },
  "cells": [
    {
      "cell_type": "markdown",
      "metadata": {
        "id": "view-in-github",
        "colab_type": "text"
      },
      "source": [
        "<a href=\"https://colab.research.google.com/github/tmoura/softexIA/blob/main/Atividade5-Ciclo2.ipynb\" target=\"_parent\"><img src=\"https://colab.research.google.com/assets/colab-badge.svg\" alt=\"Open In Colab\"/></a>"
      ]
    },
    {
      "cell_type": "code",
      "execution_count": null,
      "metadata": {
        "id": "eazlorS_d_jW"
      },
      "outputs": [],
      "source": [
        "# 1) Instalar os pacotes do PIP do mlflow e pyngrok"
      ]
    },
    {
      "cell_type": "code",
      "source": [
        "# 2) Carregar o dataset: \"Car Crashes\" do Seaborn\n",
        "\n",
        "import seaborn as sns\n",
        "\n",
        "data = sns.load_dataset(\"car_crashes\")\n",
        "\n",
        "# 3) Drop a coluna 'abbrev'\n",
        "# 4) A coluna 'total' é a coluna target (objetivo)\n",
        "# 5) As features são as colunas de 1 a 6\n",
        "# 6) Normalizar as seguintes colunas:\n",
        "\n",
        "# 'speeding'\n",
        "# 'alcohol'\n",
        "# 'not_distracted'\n",
        "# 'no_previous'\n",
        "# 'ins_premium'\n",
        "\n",
        "# 7) Separar os dados em treinamento (80%) e teste (20%)"
      ],
      "metadata": {
        "id": "qsn2saBIeIVk"
      },
      "execution_count": null,
      "outputs": []
    }
  ]
}
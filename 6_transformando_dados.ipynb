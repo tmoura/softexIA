{
  "nbformat": 4,
  "nbformat_minor": 0,
  "metadata": {
    "colab": {
      "provenance": [],
      "authorship_tag": "ABX9TyNOrVFJoMovdLgfPRCoIyGb",
      "include_colab_link": true
    },
    "kernelspec": {
      "name": "python3",
      "display_name": "Python 3"
    },
    "language_info": {
      "name": "python"
    }
  },
  "cells": [
    {
      "cell_type": "markdown",
      "metadata": {
        "id": "view-in-github",
        "colab_type": "text"
      },
      "source": [
        "<a href=\"https://colab.research.google.com/github/tmoura/softexIA/blob/main/6_transformando_dados.ipynb\" target=\"_parent\"><img src=\"https://colab.research.google.com/assets/colab-badge.svg\" alt=\"Open In Colab\"/></a>"
      ]
    },
    {
      "cell_type": "markdown",
      "source": [
        "### One-Hot Encoding"
      ],
      "metadata": {
        "id": "TpYy9-RIA02L"
      }
    },
    {
      "cell_type": "code",
      "execution_count": null,
      "metadata": {
        "id": "mti2SqVbAtzN"
      },
      "outputs": [],
      "source": [
        "import pandas as pd\n",
        "from sklearn.preprocessing import OneHotEncoder\n",
        "from sklearn.compose import make_column_transformer\n",
        "\n",
        "## Gerar Dataset ######\n",
        "data = {\n",
        "'País': ['Bélgica', 'Índia', 'Brasil'],\n",
        "'Capital': ['Bruxelas', 'Nova Delhi', 'Brasília'],\n",
        "'População': [123465, 456789, 987654]\n",
        "}\n",
        "\n",
        "df = pd.DataFrame(data, columns=['País','Capital','População'])\n",
        "#######################\n",
        "\n",
        "column_transformer = make_column_transformer((OneHotEncoder(), ['País','Capital']), remainder='passthrough')\n",
        "\n",
        "df = column_transformer.fit_transform(df)\n",
        "\n",
        "columns_names = column_transformer.get_feature_names_out()\n",
        "\n",
        "df = pd.DataFrame(data=df, columns=columns_names)\n",
        "\n",
        "df"
      ]
    },
    {
      "cell_type": "markdown",
      "source": [
        "### Integer Encoding (Label Encoding)\n",
        "\n"
      ],
      "metadata": {
        "id": "ZZHXjXNXrMuE"
      }
    },
    {
      "cell_type": "code",
      "source": [
        "import pandas as pd\n",
        "from sklearn.preprocessing import StandardScaler\n",
        "from sklearn.compose import make_column_transformer\n",
        "\n",
        "## Gerar Dataset ######\n",
        "data = {\n",
        "'País': ['Bélgica', 'Índia', 'Brasil','Índia'],\n",
        "'Capital': ['Bruxelas', 'Nova Delhi', 'Brasília','Mumbai'],\n",
        "'População': [123465, 456789, 987654,878787]\n",
        "}\n",
        "\n",
        "df = pd.DataFrame(data, columns=['País','Capital','População'])\n",
        "#######################\n",
        "\n",
        "df.info()\n",
        "\n",
        "df['País'] = df['País'].astype('category')\n",
        "\n",
        "df.info()\n",
        "\n",
        "df['País'] = df['País'].cat.codes\n",
        "\n",
        "df"
      ],
      "metadata": {
        "id": "PRKX8xQ8rPsV"
      },
      "execution_count": null,
      "outputs": []
    }
  ]
}
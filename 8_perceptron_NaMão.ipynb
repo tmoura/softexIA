{
  "nbformat": 4,
  "nbformat_minor": 0,
  "metadata": {
    "colab": {
      "name": "perceptron-NaMão.ipynb",
      "provenance": [],
      "include_colab_link": true
    },
    "kernelspec": {
      "name": "python3",
      "display_name": "Python 3"
    }
  },
  "cells": [
    {
      "cell_type": "markdown",
      "metadata": {
        "id": "view-in-github",
        "colab_type": "text"
      },
      "source": [
        "<a href=\"https://colab.research.google.com/github/tmoura/softexIA/blob/main/8_perceptron_NaMa%CC%83o.ipynb\" target=\"_parent\"><img src=\"https://colab.research.google.com/assets/colab-badge.svg\" alt=\"Open In Colab\"/></a>"
      ]
    },
    {
      "cell_type": "code",
      "metadata": {
        "id": "AduYJt5SlAtT"
      },
      "source": [
        "#############\n",
        "#\n",
        "# Implementação do Perceptron para reconhecimento dos padrões H e T\n",
        "#\n",
        "#############\n",
        "from sklearn.model_selection import train_test_split\n",
        "from sklearn import metrics\n",
        "import pandas as pd\n",
        "import numpy as np\n",
        "\n",
        "url = \"https://raw.githubusercontent.com/tmoura/machinelearning/master/irisPerceptron.data\"\n",
        "\n",
        "# Carregar base de dados\n",
        "dataset = pd.read_csv(url, header=None)\n",
        "\n",
        "columns = len(dataset.columns)\n",
        "\n",
        "y = dataset[0] # extrai a primeira coluna, que é o label\n",
        "X = dataset.loc[:,1:columns-1]\n",
        "\n",
        "# Remove as colunas 2 e 4 da base\n",
        "X.drop([2,4], axis=1, inplace=True)"
      ],
      "execution_count": 1,
      "outputs": []
    },
    {
      "cell_type": "code",
      "metadata": {
        "id": "8GzNbCmOdEf9"
      },
      "source": [
        "X_train, X_test, y_train, y_test = train_test_split(X, y, test_size=0.2, random_state=None, stratify=y) # 80% treino e 20% teste\n",
        "\n",
        "### Tranforma os dados em listas\n",
        "\n",
        "train_x = X_train.values.tolist()\n",
        "train_y = y_train.values.tolist()\n",
        "\n",
        "test_x = X_test.values.tolist()\n",
        "test_y = y_test.values.tolist()"
      ],
      "execution_count": 2,
      "outputs": []
    },
    {
      "cell_type": "code",
      "metadata": {
        "id": "Odi04B0CfO69"
      },
      "source": [
        "######\n",
        "#\n",
        "# Classe Perceptron\n",
        "#\n",
        "######\n",
        "class Perceptron:\n",
        "\n",
        "  def __init__(self):\n",
        "\n",
        "    self.teta = 0\n",
        "    self.w = [0,0]\n",
        "    self.n = 0.05\n",
        "\n",
        "  def train_perceptron(self,train_x,train_y):\n",
        "\n",
        "    for i in range(100):\n",
        "      for j in range(len(train_x)):\n",
        "\n",
        "        u = sum(np.array(self.w) * np.array(train_x[j])) - self.teta # Função de Ativação\n",
        "\n",
        "        y = 1 if u >= 0 else -1 # Função de Saída\n",
        "\n",
        "        erro = train_y[j] - y\n",
        "\n",
        "        self.w = list(np.array(self.w) + (self.n * np.array(train_x[j]) * erro))\n",
        "\n",
        "        self.teta = self.teta + (self.n * -1 * erro)\n",
        "\n",
        "  def predict_perceptron(self,test_x):\n",
        "\n",
        "    results = []\n",
        "\n",
        "    for i in range(len(test_x)):\n",
        "\n",
        "        u = sum(np.array(self.w) * np.array(test_x[i])) - self.teta\n",
        "\n",
        "        r = 1 if u >= 0 else -1\n",
        "        results.append(r)\n",
        "\n",
        "    return results"
      ],
      "execution_count": 7,
      "outputs": []
    },
    {
      "cell_type": "code",
      "metadata": {
        "id": "CT3eMaO-fSwB",
        "colab": {
          "base_uri": "https://localhost:8080/"
        },
        "outputId": "9bd713e7-2fdd-470f-95cc-cd9b5e68a07a"
      },
      "source": [
        "######\n",
        "#\n",
        "# Cálculo da Acurácia\n",
        "#\n",
        "######\n",
        "model = Perceptron()\n",
        "model.train_perceptron(train_x,train_y)\n",
        "\n",
        "result = model.predict_perceptron(test_x)\n",
        "\n",
        "acc = metrics.accuracy_score(result, test_y)\n",
        "show = round(acc * 100)\n",
        "print(\"{}%\".format(show))\n"
      ],
      "execution_count": 8,
      "outputs": [
        {
          "output_type": "stream",
          "name": "stdout",
          "text": [
            "100%\n"
          ]
        }
      ]
    },
    {
      "cell_type": "markdown",
      "metadata": {
        "id": "30odcYEtGWQk"
      },
      "source": [
        "## Plotagem do Cojunto de Treinamento"
      ]
    },
    {
      "cell_type": "code",
      "metadata": {
        "id": "0DJpAguXGc3z"
      },
      "source": [
        "import matplotlib.pyplot as plt\n",
        "import pandas as pd\n",
        "\n",
        "url = \"https://raw.githubusercontent.com/tmoura/machinelearning/master/irisPerceptron.data\"\n",
        "\n",
        "col_names = ['label', 'x1', 'x2','x3','x4']\n",
        "\n",
        "# Carregar base de dados\n",
        "dataset = pd.read_csv(url, header=None, names=col_names)\n",
        "\n",
        "dataset.pop('x2') # Remove coluna x2\n",
        "dataset.pop('x4') # Remove coluna x2\n",
        "\n",
        "df1 = dataset.loc[dataset['label'] == -1]\n",
        "df2 = dataset.loc[dataset['label'] == 1]\n",
        "\n",
        "plt.figure(figsize=(10,7))\n",
        "plt.plot(df1['x1'],df1['x3'],'o', color='blue', label='Classe -1')\n",
        "plt.plot(df2['x1'],df2['x3'],'o', color='red', label='Classe 1')\n",
        "plt.legend(loc=\"lower right\", fontsize=16)\n",
        "\n",
        "plt.xlabel('Atributo X1',fontsize=16)\n",
        "plt.ylabel('Atributo X3',fontsize=16)"
      ],
      "execution_count": null,
      "outputs": []
    }
  ]
}
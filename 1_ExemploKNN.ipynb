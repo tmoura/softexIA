{
  "nbformat": 4,
  "nbformat_minor": 0,
  "metadata": {
    "colab": {
      "provenance": [],
      "authorship_tag": "ABX9TyPau91LHFbEOenYwmMwu/P8",
      "include_colab_link": true
    },
    "kernelspec": {
      "name": "python3",
      "display_name": "Python 3"
    },
    "language_info": {
      "name": "python"
    }
  },
  "cells": [
    {
      "cell_type": "markdown",
      "metadata": {
        "id": "view-in-github",
        "colab_type": "text"
      },
      "source": [
        "<a href=\"https://colab.research.google.com/github/tmoura/softexIA/blob/main/1_ExemploKNN.ipynb\" target=\"_parent\"><img src=\"https://colab.research.google.com/assets/colab-badge.svg\" alt=\"Open In Colab\"/></a>"
      ]
    },
    {
      "cell_type": "markdown",
      "source": [
        "### Carregamento da Base de Dados"
      ],
      "metadata": {
        "id": "ztVlbnvSTJZD"
      }
    },
    {
      "cell_type": "code",
      "execution_count": 2,
      "metadata": {
        "id": "qqM_9bepS6io"
      },
      "outputs": [],
      "source": [
        "from sklearn.model_selection import train_test_split\n",
        "from sklearn import metrics\n",
        "import pandas as pd\n",
        "from sklearn.neighbors import KNeighborsClassifier\n",
        "\n",
        "url = \"https://raw.githubusercontent.com/tmoura/softexIA/main/datasets/iris.data\"\n",
        "\n",
        "# Carregar base de dados\n",
        "dataset = pd.read_csv(url, header=None)\n",
        "\n",
        "columns = len(dataset.columns)\n",
        "\n",
        "y = dataset[0] # extrai a primeira coluna, que é o rótulo\n",
        "X = dataset.loc[:,1:columns-1]"
      ]
    },
    {
      "cell_type": "markdown",
      "source": [
        "### **Treinamento do Modelo**"
      ],
      "metadata": {
        "id": "zFgbRZwCTUP-"
      }
    },
    {
      "cell_type": "code",
      "source": [
        "X_train, X_test, y_train, y_test = train_test_split(X, y, test_size=0.2, stratify=y) # 80% treino e 20% teste\n",
        "\n",
        "k = 5   # Quantidade de vizinhos mais próximos\n",
        "\n",
        "model = KNeighborsClassifier(n_neighbors=k, metric='euclidean', algorithm='brute')\n",
        "model = model.fit(X_train, y_train)"
      ],
      "metadata": {
        "id": "3GG4Kl9JTXuv"
      },
      "execution_count": 3,
      "outputs": []
    },
    {
      "cell_type": "markdown",
      "source": [
        "### **Verificação dos Resultados**"
      ],
      "metadata": {
        "id": "62oZc66OTeNA"
      }
    },
    {
      "cell_type": "code",
      "source": [
        "result = model.predict(X_test)\n",
        "acc = metrics.accuracy_score(result, y_test)\n",
        "show = round(acc * 100)\n",
        "print(\"{}%\".format(show))\n",
        "\n",
        "print(list(result))\n",
        "print(list(y_test))"
      ],
      "metadata": {
        "id": "BcsttXhZTfMS"
      },
      "execution_count": null,
      "outputs": []
    }
  ]
}
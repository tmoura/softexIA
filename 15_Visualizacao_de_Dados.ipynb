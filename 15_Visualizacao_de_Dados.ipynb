{
  "nbformat": 4,
  "nbformat_minor": 0,
  "metadata": {
    "colab": {
      "provenance": [],
      "authorship_tag": "ABX9TyPxXR82OSSypMEPiamsQ0re",
      "include_colab_link": true
    },
    "kernelspec": {
      "name": "python3",
      "display_name": "Python 3"
    },
    "language_info": {
      "name": "python"
    }
  },
  "cells": [
    {
      "cell_type": "markdown",
      "metadata": {
        "id": "view-in-github",
        "colab_type": "text"
      },
      "source": [
        "<a href=\"https://colab.research.google.com/github/tmoura/softexIA/blob/main/15_Visualizacao_de_Dados.ipynb\" target=\"_parent\"><img src=\"https://colab.research.google.com/assets/colab-badge.svg\" alt=\"Open In Colab\"/></a>"
      ]
    },
    {
      "cell_type": "code",
      "execution_count": null,
      "metadata": {
        "id": "QtZDZLu9Tiwd"
      },
      "outputs": [],
      "source": [
        "import matplotlib.pyplot as plt\n",
        "import seaborn as sns\n",
        "\n",
        "import numpy as np\n",
        "import pandas as pd"
      ]
    },
    {
      "cell_type": "markdown",
      "source": [
        "### Gráfico de Linha"
      ],
      "metadata": {
        "id": "MVP4MjQrUFDC"
      }
    },
    {
      "cell_type": "code",
      "source": [
        "anos = [2009, 2010, 2011, 2012, 2013, 2014, 2015, 2016, 2017]\n",
        "divorcios = [171747, 239070, 347583, 341600, 324921, 341181, 328960, 344526, 373216]\n",
        "\n",
        "plt.plot(anos, divorcios)\n",
        "\n",
        "plt.title('Divórcios consensuais concedidos em 1ª instância ou por escritura', fontsize=14)\n",
        "plt.xlabel('Anos', fontsize=12)\n",
        "plt.ylabel('Quantidade de divórcios', fontsize=12)\n",
        "\n",
        "plt.tick_params(axis='both', labelsize=10)"
      ],
      "metadata": {
        "id": "Tuh6m2M9UApz"
      },
      "execution_count": null,
      "outputs": []
    },
    {
      "cell_type": "markdown",
      "source": [
        "### Gráfico de Barras"
      ],
      "metadata": {
        "id": "RrdqLrGHU2SW"
      }
    },
    {
      "cell_type": "code",
      "source": [
        "anos = [2009, 2010, 2011, 2012, 2013, 2014, 2015, 2016, 2017]\n",
        "divorcios = [171747, 239070, 347583, 341600, 324921, 341181, 328960, 344526, 373216]\n",
        "\n",
        "plt.bar(anos, divorcios, label='Total',color='red')\n",
        "\n",
        "plt.title('Divórcios consensuais concedidos em 1ª instância ou por escritura', fontsize=14)\n",
        "plt.xlabel('Anos', fontsize=12)\n",
        "plt.ylabel('Quantidade de divórcios', fontsize=12)\n",
        "plt.legend()\n",
        "\n",
        "plt.tick_params(axis='both', labelsize=10)"
      ],
      "metadata": {
        "id": "ujdRHVcgU5xD"
      },
      "execution_count": null,
      "outputs": []
    },
    {
      "cell_type": "code",
      "source": [
        "x = [2, 4, 6, 8, 10]\n",
        "y = [6, 7, 8, 2, 4]\n",
        "\n",
        "x2 = [1, 3, 5, 7, 9]\n",
        "y2 = [7, 8, 2, 4, 2]\n",
        "\n",
        "# Criando um gráfico\n",
        "plt.bar(x, y, label = 'Barrar1', color = 'r')\n",
        "plt.bar(x2, y2, label = 'Barras2', color = 'y')\n",
        "plt.legend()\n",
        "\n",
        "plt.show()"
      ],
      "metadata": {
        "id": "D7u0TQZsMHns"
      },
      "execution_count": null,
      "outputs": []
    },
    {
      "cell_type": "markdown",
      "source": [
        "### Histograma"
      ],
      "metadata": {
        "id": "MSBYNOj6Wjme"
      }
    },
    {
      "cell_type": "code",
      "source": [
        "np.random.seed(29)\n",
        "amostra_normal = np.random.normal(size=100)\n",
        "\n",
        "amostra_normal[:10]\n",
        "\n",
        "plt.hist(amostra_normal,color=\"g\",density=True) # Matplolib\n",
        "sns.displot(amostra_normal, kde=True) # Seaborn\n",
        "plt.show()"
      ],
      "metadata": {
        "id": "ceS8alKAWmoz"
      },
      "execution_count": null,
      "outputs": []
    },
    {
      "cell_type": "markdown",
      "source": [
        "### Gráfico de Setores"
      ],
      "metadata": {
        "id": "VHwoc4WcbFfX"
      }
    },
    {
      "cell_type": "code",
      "source": [
        "labels = ['A', 'B']           # Criando rótulos de dois grupos.\n",
        "contagem = [87.8, 12.2]       # Lista com as proporções.\n",
        "\n",
        "fig1, ax1 = plt.subplots()    # Criando uma área \"plotável\"\n",
        "ax1.pie(contagem, labels=labels, autopct='%1.1f%%')    # O argumento `autopct` mostra a formatação do texto com as proporções.\n",
        "\n",
        "ax1.axis('equal')\n",
        "plt.show()"
      ],
      "metadata": {
        "id": "OOjNa-oibI9l"
      },
      "execution_count": null,
      "outputs": []
    },
    {
      "cell_type": "code",
      "source": [
        "labels = ['A', 'B']\n",
        "contagem = [51.3, 48.7]\n",
        "\n",
        "fig1, ax1 = plt.subplots()\n",
        "ax1.pie(contagem,\n",
        "        labels=labels,\n",
        "        autopct='%1.1f%%')\n",
        "\n",
        "ax1.axis('equal')\n",
        "plt.show()"
      ],
      "metadata": {
        "id": "H0vELRRGbUZf"
      },
      "execution_count": null,
      "outputs": []
    },
    {
      "cell_type": "markdown",
      "source": [
        "### Boxplot"
      ],
      "metadata": {
        "id": "ZR-cJE31baFi"
      }
    },
    {
      "cell_type": "code",
      "source": [
        "np.random.seed(1337)\n",
        "amostra_qui_quadrado = np.random.chisquare(10, 1000)\n",
        "\n",
        "sns.boxplot(y=amostra_qui_quadrado)\n",
        "\n",
        "plt.title('Boxplot simples')         # Veja que podemos utilizar Latex no título.\n",
        "plt.show()"
      ],
      "metadata": {
        "id": "9cAPQdEdbdL9",
        "colab": {
          "base_uri": "https://localhost:8080/",
          "height": 433
        },
        "outputId": "16a3d812-743d-44ef-d989-9428e1fc5fb2"
      },
      "execution_count": 26,
      "outputs": [
        {
          "output_type": "display_data",
          "data": {
            "text/plain": [
              "<Figure size 640x480 with 1 Axes>"
            ],
            "image/png": "[encoded data removed]"
          },
          "metadata": {}
        }
      ]
    },
    {
      "cell_type": "code",
      "source": [
        "fig1, ax1 = plt.subplots()\n",
        "ax1.set_title('Boxplot simples')\n",
        "ax1.boxplot(amostra_qui_quadrado)"
      ],
      "metadata": {
        "id": "Vjuhz1Q3bi84"
      },
      "execution_count": null,
      "outputs": []
    },
    {
      "cell_type": "markdown",
      "source": [
        "### Gráfico de Dispersão"
      ],
      "metadata": {
        "id": "uzsifdf6f3-H"
      }
    },
    {
      "cell_type": "code",
      "source": [
        "anos = [2009, 2010, 2011, 2012, 2013, 2014, 2015, 2016, 2017]\n",
        "divorcios = [171747, 239070, 347583, 341600, 324921, 341181, 328960, 344526, 373216]\n",
        "\n",
        "plt.scatter(anos, divorcios, label='Total')\n",
        "#plt.plot(anos, divorcios)\n",
        "\n",
        "plt.title('Divórcios consensuais concedidos em 1ª instância ou por escritura', fontsize=14)\n",
        "plt.xlabel('Anos', fontsize=12)\n",
        "plt.ylabel('Quantidade de divórcios', fontsize=12)\n",
        "plt.legend()\n",
        "\n",
        "plt.tick_params(axis='both', labelsize=10)"
      ],
      "metadata": {
        "id": "Frdq0L_Af7Yc"
      },
      "execution_count": null,
      "outputs": []
    },
    {
      "cell_type": "markdown",
      "source": [
        "Gráfico de dispersão com reta de regressão"
      ],
      "metadata": {
        "id": "veCPbJcwgpjK"
      }
    },
    {
      "cell_type": "code",
      "source": [
        "import matplotlib.pyplot as plt\n",
        "import numpy as np\n",
        "\n",
        "from sklearn import datasets, linear_model\n",
        "from sklearn.metrics import mean_squared_error, r2_score\n",
        "from sklearn.model_selection import train_test_split\n",
        "\n",
        "diabetes = datasets.load_diabetes()\n",
        "\n",
        "X = diabetes.data\n",
        "y = diabetes.target\n",
        "\n",
        "res = train_test_split(X, y, train_size=0.8, test_size=0.2, random_state=None)\n",
        "train_data, test_data, train_labels, test_labels = res\n",
        "\n",
        "regr = linear_model.LinearRegression()\n",
        "regr.fit(train_data, train_labels)\n",
        "\n",
        "b = regr.intercept_\n",
        "m = regr.coef_[0]\n",
        "\n",
        "plt.scatter(train_data[:,4],train_labels)\n",
        "plt.axline(xy1=(0, b), slope=m, label=f'$y = {m:.1f}x {b:+.1f}$')\n",
        "\n",
        "plt.show()"
      ],
      "metadata": {
        "id": "YPI2tPhugt5l"
      },
      "execution_count": null,
      "outputs": []
    },
    {
      "cell_type": "markdown",
      "source": [
        "### Seaborn"
      ],
      "metadata": {
        "id": "Uq0Nk0nWMskz"
      }
    },
    {
      "cell_type": "code",
      "source": [
        "import pandas as pd\n",
        "import seaborn as sns # API de visualização\n",
        "\n",
        "url = \"https://raw.githubusercontent.com/tmoura/machinelearning/master/iris.data\"\n",
        "\n",
        "dataIRIS = pd.read_csv(url, header=None)\n",
        "\n",
        "dataPENGUINS = sns.load_dataset(\"penguins\")"
      ],
      "metadata": {
        "id": "is48GQI1Ob_x"
      },
      "execution_count": 31,
      "outputs": []
    },
    {
      "cell_type": "markdown",
      "source": [
        "Pair Plot"
      ],
      "metadata": {
        "id": "4CeqiJ3KOMZj"
      }
    },
    {
      "cell_type": "code",
      "source": [
        "sns.pairplot(data=dataIRIS, hue=0 )"
      ],
      "metadata": {
        "id": "hV5qN5NDMwWm"
      },
      "execution_count": null,
      "outputs": []
    },
    {
      "cell_type": "markdown",
      "source": [
        "Scatter Plot"
      ],
      "metadata": {
        "id": "_bHEbOiCOQBu"
      }
    },
    {
      "cell_type": "code",
      "source": [
        "sns.scatterplot( x = \"bill_length_mm\",\n",
        "                 y = \"bill_depth_mm\",\n",
        "                 data = dataPENGUINS,\n",
        "                 hue = \"species\")"
      ],
      "metadata": {
        "id": "g0DLd3_EOWAv"
      },
      "execution_count": null,
      "outputs": []
    },
    {
      "cell_type": "markdown",
      "source": [
        "Histograma"
      ],
      "metadata": {
        "id": "kb5hINvpO5fB"
      }
    },
    {
      "cell_type": "code",
      "source": [
        "sns.histplot(x = \"flipper_length_mm\", data = dataPENGUINS, kde=True)"
      ],
      "metadata": {
        "id": "5EjaOHmrO6zg"
      },
      "execution_count": null,
      "outputs": []
    },
    {
      "cell_type": "code",
      "source": [
        "sns.histplot(data = dataPENGUINS, x=\"flipper_length_mm\", hue=\"species\")"
      ],
      "metadata": {
        "id": "8UyeTpJWPNRr"
      },
      "execution_count": null,
      "outputs": []
    },
    {
      "cell_type": "markdown",
      "source": [
        "Gráfico de Barras"
      ],
      "metadata": {
        "id": "gg5dDkhZPWKR"
      }
    },
    {
      "cell_type": "code",
      "source": [
        "sns.barplot(x = \"species\", y = \"flipper_length_mm\", data = dataPENGUINS)"
      ],
      "metadata": {
        "id": "Quba2cv_PX5I"
      },
      "execution_count": null,
      "outputs": []
    },
    {
      "cell_type": "code",
      "source": [
        "sns.barplot(x = \"species\",\n",
        "            y = \"flipper_length_mm\",\n",
        "            data = dataPENGUINS,\n",
        "            hue = \"sex\")"
      ],
      "metadata": {
        "id": "yaAi4GCnPgOt"
      },
      "execution_count": null,
      "outputs": []
    },
    {
      "cell_type": "markdown",
      "source": [
        "Box Plot"
      ],
      "metadata": {
        "id": "dbZcMUjeQkMU"
      }
    },
    {
      "cell_type": "code",
      "source": [
        "sns.boxplot(x = \"species\", y = \"flipper_length_mm\", data = dataPENGUINS)"
      ],
      "metadata": {
        "id": "rn4WIECgQe0r"
      },
      "execution_count": null,
      "outputs": []
    },
    {
      "cell_type": "code",
      "source": [
        "sns.boxplot(x = \"species\",\n",
        "            y = \"flipper_length_mm\",\n",
        "            data = data,\n",
        "            hue = \"sex\")"
      ],
      "metadata": {
        "id": "dp1ePPibQpBG"
      },
      "execution_count": null,
      "outputs": []
    },
    {
      "cell_type": "markdown",
      "source": [
        "Facet Grid"
      ],
      "metadata": {
        "id": "cUQKOUHVQmmY"
      }
    },
    {
      "cell_type": "code",
      "source": [
        "sns.FacetGrid(dataPENGUINS, col=\"island\", row=\"sex\").map(sns.histplot, \"flipper_length_mm\")"
      ],
      "metadata": {
        "id": "7oM11hP2Qx51"
      },
      "execution_count": null,
      "outputs": []
    },
    {
      "cell_type": "markdown",
      "source": [
        "Pair Plot"
      ],
      "metadata": {
        "id": "fhIv7kXGRFyY"
      }
    },
    {
      "cell_type": "code",
      "source": [
        "sns.pairplot(dataPENGUINS, hue=\"species\")"
      ],
      "metadata": {
        "id": "1qQvvaQaRHXd"
      },
      "execution_count": null,
      "outputs": []
    },
    {
      "cell_type": "code",
      "source": [
        "sns.pairplot(dataPENGUINS, hue=\"species\", diag_kind=\"hist\")"
      ],
      "metadata": {
        "id": "L4H6ObLPResj"
      },
      "execution_count": null,
      "outputs": []
    },
    {
      "cell_type": "markdown",
      "source": [
        "HeatMap"
      ],
      "metadata": {
        "id": "_NySHPqIRiMg"
      }
    },
    {
      "cell_type": "code",
      "source": [
        "sns.heatmap(dataPENGUINS.corr(), annot=True)"
      ],
      "metadata": {
        "id": "Xvz_HFj-Rj2v"
      },
      "execution_count": null,
      "outputs": []
    }
  ]
}
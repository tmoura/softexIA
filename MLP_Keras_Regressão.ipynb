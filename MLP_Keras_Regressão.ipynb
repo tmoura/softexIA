{
  "nbformat": 4,
  "nbformat_minor": 0,
  "metadata": {
    "colab": {
      "provenance": [],
      "authorship_tag": "ABX9TyMyYYrHwd4YlOAxo2a85Tdi",
      "include_colab_link": true
    },
    "kernelspec": {
      "name": "python3",
      "display_name": "Python 3"
    },
    "language_info": {
      "name": "python"
    }
  },
  "cells": [
    {
      "cell_type": "markdown",
      "metadata": {
        "id": "view-in-github",
        "colab_type": "text"
      },
      "source": [
        "<a href=\"https://colab.research.google.com/github/tmoura/softexIA/blob/main/MLP_Keras_Regress%C3%A3o.ipynb\" target=\"_parent\"><img src=\"https://colab.research.google.com/assets/colab-badge.svg\" alt=\"Open In Colab\"/></a>"
      ]
    },
    {
      "cell_type": "code",
      "execution_count": null,
      "metadata": {
        "id": "ZMEWUfXjQ2VD"
      },
      "outputs": [],
      "source": [
        "import seaborn as sns\n",
        "from sklearn import datasets, linear_model\n",
        "from sklearn.tree import DecisionTreeRegressor\n",
        "from sklearn.neighbors import KNeighborsRegressor\n",
        "from sklearn.metrics import mean_squared_error, r2_score\n",
        "from sklearn.model_selection import train_test_split\n",
        "\n",
        "data = sns.load_dataset(\"car_crashes\")\n",
        "\n",
        "data = data.drop(['abbrev'],axis=1)\n",
        "\n",
        "y = data['total'].copy()\n",
        "X = data.iloc[:,1:6].copy()\n",
        "\n",
        "from sklearn.preprocessing import MinMaxScaler\n",
        "import numpy as np\n",
        "\n",
        "X['speeding'] = MinMaxScaler().fit_transform(np.array(X['speeding']).reshape(-1,1))\n",
        "X['alcohol'] = MinMaxScaler().fit_transform(np.array(X['alcohol']).reshape(-1,1))\n",
        "X['not_distracted'] = MinMaxScaler().fit_transform(np.array(X['not_distracted']).reshape(-1,1))\n",
        "X['no_previous'] = MinMaxScaler().fit_transform(np.array(X['no_previous']).reshape(-1,1))\n",
        "X['ins_premium'] = MinMaxScaler().fit_transform(np.array(X['ins_premium']).reshape(-1,1))\n",
        "\n",
        "display(X.shape)\n",
        "\n",
        "res = train_test_split(X, y, train_size=0.8, test_size=0.2, random_state=None)\n",
        "train_data, test_data, train_labels, test_labels = res"
      ]
    },
    {
      "cell_type": "code",
      "source": [
        "import tensorflow as tf\n",
        "from tensorflow.keras.models import Sequential\n",
        "from tensorflow.keras.layers import Dense\n",
        "\n",
        "regressor = Sequential([\n",
        "    tf.keras.layers.InputLayer(shape = (5,)),\n",
        "    tf.keras.layers.Dense(units = 3, activation = 'relu'),\n",
        "    tf.keras.layers.Dense(units = 3, activation = 'relu'),\n",
        "    tf.keras.layers.Dense(units = 1, activation = 'linear')\n",
        "])"
      ],
      "metadata": {
        "id": "f-Arw84MRCY4"
      },
      "execution_count": 12,
      "outputs": []
    },
    {
      "cell_type": "code",
      "source": [
        "regressor.summary()"
      ],
      "metadata": {
        "id": "rSgMCgGNTRNw"
      },
      "execution_count": null,
      "outputs": []
    },
    {
      "cell_type": "code",
      "source": [
        "regressor.compile(loss = 'mean_squared_error', optimizer = 'adam', metrics = ['mean_squared_error'])"
      ],
      "metadata": {
        "id": "2MM6jyNSTVPg"
      },
      "execution_count": 13,
      "outputs": []
    },
    {
      "cell_type": "code",
      "source": [
        "regressor.fit(train_data, train_labels, epochs = 500)"
      ],
      "metadata": {
        "id": "zkf1lvYPTa-I"
      },
      "execution_count": null,
      "outputs": []
    },
    {
      "cell_type": "code",
      "source": [
        "previsoes = regressor.predict(test_data)"
      ],
      "metadata": {
        "id": "rTfmtsp7Tr5K"
      },
      "execution_count": null,
      "outputs": []
    },
    {
      "cell_type": "code",
      "source": [
        "previsoes.mean()"
      ],
      "metadata": {
        "id": "_AjvhXBPTxVC"
      },
      "execution_count": null,
      "outputs": []
    },
    {
      "cell_type": "code",
      "source": [
        "test_labels.mean()"
      ],
      "metadata": {
        "id": "3O3q06q6T9iN"
      },
      "execution_count": null,
      "outputs": []
    },
    {
      "cell_type": "code",
      "source": [
        "[previsoes,test_labels]"
      ],
      "metadata": {
        "id": "RAlHNAisUabX"
      },
      "execution_count": null,
      "outputs": []
    }
  ]
}
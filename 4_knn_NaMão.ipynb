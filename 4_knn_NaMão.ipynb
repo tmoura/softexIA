{
  "nbformat": 4,
  "nbformat_minor": 0,
  "metadata": {
    "colab": {
      "name": "knn-NaMão.ipynb",
      "provenance": [],
      "include_colab_link": true
    },
    "kernelspec": {
      "name": "python3",
      "display_name": "Python 3"
    }
  },
  "cells": [
    {
      "cell_type": "markdown",
      "metadata": {
        "id": "view-in-github",
        "colab_type": "text"
      },
      "source": [
        "<a href=\"https://colab.research.google.com/github/tmoura/softexIA/blob/main/4_knn_NaM%C3%A3o.ipynb\" target=\"_parent\"><img src=\"https://colab.research.google.com/assets/colab-badge.svg\" alt=\"Open In Colab\"/></a>"
      ]
    },
    {
      "cell_type": "code",
      "metadata": {
        "id": "I5l8G_DmDevq"
      },
      "source": [
        "from sklearn.model_selection import train_test_split\n",
        "from sklearn import metrics\n",
        "import pandas as pd\n",
        "from sklearn.neighbors import KNeighborsClassifier\n",
        "import math\n",
        "import statistics\n",
        "import numpy\n",
        "from collections import Counter\n",
        "\n",
        "url = \"https://raw.githubusercontent.com/tmoura/machinelearning/master/iris.data\"\n",
        "\n",
        "# Carregar base de dados\n",
        "dataset = pd.read_csv(url, header=None)\n",
        "\n",
        "columns = len(dataset.columns)\n",
        "\n",
        "y = dataset[0] # extrai a primeira coluna, que é o label\n",
        "X = dataset.loc[:,1:columns-1]"
      ],
      "execution_count": null,
      "outputs": []
    },
    {
      "cell_type": "code",
      "metadata": {
        "id": "H_Ewx-4BDm1a"
      },
      "source": [
        "X_train, X_test, y_train, y_test = train_test_split(X, y, test_size=0.2, random_state=None, stratify=y) # 80% treino e 20% teste\n",
        "\n",
        "K = 5   # Quantidade de vizinhos mais próximos\n",
        "\n",
        "### Tranforma os dados em listas\n",
        "\n",
        "train_x = X_train.values.tolist()\n",
        "train_y = y_train.values.tolist()\n",
        "\n",
        "test_x = X_test.values.tolist()\n",
        "test_y = y_test.values.tolist()"
      ],
      "execution_count": null,
      "outputs": []
    },
    {
      "cell_type": "code",
      "metadata": {
        "id": "5wbjEejMHPhE"
      },
      "source": [
        "def knn(train_x, train_y, test, k):\n",
        "  results = []\n",
        "\n",
        "  for i in range(0,len(train_x)):\n",
        "    r = 0\n",
        "\n",
        "    for j in range(0,len(test)):\n",
        "      r += (test[j] - train_x[i][j]) ** 2 # Distância Euclidiana\n",
        "\n",
        "    results.append(math.sqrt(r)) # Distância Euclidiana\n",
        "\n",
        "  indexes = numpy.argsort(results) # retorna os índices ordenados\n",
        "\n",
        "  indexes = indexes[0:k] # Pega os k índices mais próximos\n",
        "\n",
        "  res = [train_y[i] for i in indexes] # Retorna a classe de cada um dos vizinhos\n",
        "\n",
        "  final = Counter(res)\n",
        "\n",
        "  return final.most_common(1)[0][0] # retorna a classe com maior frequência"
      ],
      "execution_count": null,
      "outputs": []
    },
    {
      "cell_type": "code",
      "metadata": {
        "id": "9qbsaEG_Kwqb"
      },
      "source": [
        "resultKNN = []\n",
        "\n",
        "for i in range(0,len(test_x)):\n",
        "\n",
        "  classe = knn(train_x, train_y, test_x[i], K)\n",
        "  resultKNN.append(classe)\n",
        "\n",
        "acc = metrics.accuracy_score(resultKNN, test_y)\n",
        "show = round(acc * 100)\n",
        "print(\"{}%\".format(show))\n",
        "\n",
        "print(resultKNN)\n",
        "print(test_y)"
      ],
      "execution_count": null,
      "outputs": []
    }
  ]
}
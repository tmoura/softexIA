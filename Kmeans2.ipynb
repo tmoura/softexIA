{
  "nbformat": 4,
  "nbformat_minor": 0,
  "metadata": {
    "colab": {
      "provenance": [],
      "include_colab_link": true
    },
    "kernelspec": {
      "name": "python3",
      "display_name": "Python 3"
    },
    "language_info": {
      "name": "python"
    }
  },
  "cells": [
    {
      "cell_type": "markdown",
      "metadata": {
        "id": "view-in-github",
        "colab_type": "text"
      },
      "source": [
        "<a href=\"https://colab.research.google.com/github/tmoura/softexIA/blob/main/Kmeans2.ipynb\" target=\"_parent\"><img src=\"https://colab.research.google.com/assets/colab-badge.svg\" alt=\"Open In Colab\"/></a>"
      ]
    },
    {
      "cell_type": "code",
      "metadata": {
        "id": "n5yGdAyTmkZp"
      },
      "source": [
        "from sklearn import datasets\n",
        "from sklearn.cluster import KMeans\n",
        "from sklearn.metrics import silhouette_score\n",
        "import matplotlib.pyplot as plt"
      ],
      "execution_count": 2,
      "outputs": []
    },
    {
      "cell_type": "code",
      "metadata": {
        "id": "Cf3xpsdgmnv6"
      },
      "source": [
        "# Carregando o dataset IRIS\n",
        "#\n",
        "iris = datasets.load_iris()\n",
        "X = iris.data\n",
        "y = iris.target"
      ],
      "execution_count": 3,
      "outputs": []
    },
    {
      "cell_type": "code",
      "metadata": {
        "id": "rJUw8b7BmqwN"
      },
      "source": [
        "# Instanciando o modelo Kmeans\n",
        "#\n",
        "km = KMeans(n_clusters=2)"
      ],
      "execution_count": 4,
      "outputs": []
    },
    {
      "cell_type": "code",
      "metadata": {
        "id": "IjqHDlr8m7EI"
      },
      "source": [
        "# Treinando e obtendo os labels de grupos\n",
        "#\n",
        "km.fit_predict(X)"
      ],
      "execution_count": null,
      "outputs": []
    },
    {
      "cell_type": "code",
      "metadata": {
        "id": "h5U6gtZPs6Tg"
      },
      "source": [
        "# Mostrando a variação da inércia para o método do cotovelo\n",
        "\n",
        "sse = {}\n",
        "for k in range(1, 10):\n",
        "    kmeans = KMeans(n_clusters=k, max_iter=1000).fit(X)\n",
        "    sse[k] = kmeans.inertia_ # Inertia: soma das distâncias das instâncias ao centroide mais próximo\n",
        "    print(sse[k])\n",
        "\n",
        "plt.figure()\n",
        "plt.plot(list(sse.keys()), list(sse.values()))\n",
        "plt.xlabel(\"Número de clusters\")\n",
        "plt.ylabel(\"SSE\")\n",
        "plt.show()"
      ],
      "execution_count": null,
      "outputs": []
    },
    {
      "cell_type": "code",
      "metadata": {
        "id": "6twVCwrHpNCV"
      },
      "source": [
        "# Calculando o índice de Silhoutte\n",
        "#\n",
        "score = silhouette_score(X, km.labels_, metric='euclidean')\n",
        "#\n",
        "# Mostrando o valor\n",
        "#\n",
        "print('Valor do coeficiente de Silhouetter: %.3f' % score)"
      ],
      "execution_count": null,
      "outputs": []
    }
  ]
}
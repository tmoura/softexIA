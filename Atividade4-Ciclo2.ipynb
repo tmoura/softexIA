{
  "nbformat": 4,
  "nbformat_minor": 0,
  "metadata": {
    "colab": {
      "provenance": [],
      "authorship_tag": "ABX9TyMxS/ylCi9Bt4hZWaDAjfEG",
      "include_colab_link": true
    },
    "kernelspec": {
      "name": "python3",
      "display_name": "Python 3"
    },
    "language_info": {
      "name": "python"
    }
  },
  "cells": [
    {
      "cell_type": "markdown",
      "metadata": {
        "id": "view-in-github",
        "colab_type": "text"
      },
      "source": [
        "<a href=\"https://colab.research.google.com/github/tmoura/softexIA/blob/main/Atividade4-Ciclo2.ipynb\" target=\"_parent\"><img src=\"https://colab.research.google.com/assets/colab-badge.svg\" alt=\"Open In Colab\"/></a>"
      ]
    },
    {
      "cell_type": "code",
      "execution_count": null,
      "metadata": {
        "id": "gyZJR6oA5Of4"
      },
      "outputs": [],
      "source": [
        "!pip install deslib"
      ]
    },
    {
      "cell_type": "code",
      "source": [
        "from sklearn.tree import DecisionTreeClassifier\n",
        "from sklearn.model_selection import train_test_split\n",
        "from sklearn import metrics\n",
        "from sklearn.metrics import confusion_matrix\n",
        "import pandas as pd\n",
        "import numpy as np\n",
        "from deslib.dcs import OLA\n",
        "from deslib.dcs import LCA\n",
        "from deslib.dcs import MCB\n",
        "from deslib.des import KNORAE\n",
        "from deslib.des import KNORAU\n",
        "from sklearn.ensemble import BaggingClassifier\n",
        "\n",
        "from sklearn.ensemble import RandomForestClassifier\n",
        "\n",
        "url = \"https://raw.githubusercontent.com/tmoura/machinelearning/master/datasets/ionosphere.data\"\n",
        "\n",
        "# Carregar base de dados\n",
        "# DataFrame\n",
        "dataset = pd.read_csv(url, header=None)\n",
        "\n",
        "columns = len(dataset.columns)\n",
        "\n",
        "y = dataset[0] # extrai a primeira coluna, que é o label\n",
        "X = dataset.loc[:,1:columns-1]\n",
        "\n",
        "# Transforma para Array NumPy\n",
        "X = np.array(X)\n",
        "y = np.array(y)"
      ],
      "metadata": {
        "id": "HMndtF92hIK6"
      },
      "execution_count": null,
      "outputs": []
    },
    {
      "cell_type": "code",
      "source": [
        "# 1) Usar o dataset gerado na célula acima para criar 10 folds estratificados de Treinamento e Teste"
      ],
      "metadata": {
        "id": "tMTEOim8PJLA"
      },
      "execution_count": null,
      "outputs": []
    },
    {
      "cell_type": "code",
      "source": [
        "# 2) Treinar 10 Árvores de Decisão e 10 RandomForest (com 50 árvores) utilizando os conjuntos de Treinamentos gerados na célula anterior\n",
        "# 3) Calcular os 10 resultados das acurácias nos 10 conjuntos de Teste\n",
        "# 4) Printar o resultado da média das 10 acurácias para as Árvores e os RandomForest"
      ],
      "metadata": {
        "id": "p_cWYRvOiJop"
      },
      "execution_count": null,
      "outputs": []
    },
    {
      "cell_type": "code",
      "source": [
        "# 5) Treinar:\n",
        "  # 10 Modelos Bagging (com 50 árvores) - O Bagging do SkLearn já utiliza Árvores de Decisão como modelo padrão do Ensemble\n",
        "  # 10 KNORA-U\n",
        "  # 10 KNORA-E\n",
        "  # 10 LCA\n",
        "  # 10 OLA\n",
        "  # 10 MCB\n",
        "\n",
        "  # Usar nos modelos de seleção dinâmica as árvores geradas pelo Bagging\n",
        "\n",
        "# 6) Calcular os 10 resultados das acurácias nos 10 conjuntos de Teste para todos os modelos\n",
        "# 7) Printar o resultado da média das 10 acurácias para todos os modelos"
      ],
      "metadata": {
        "id": "hJiBkaitzF0q"
      },
      "execution_count": null,
      "outputs": []
    }
  ]
}